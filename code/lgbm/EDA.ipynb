{
 "cells": [
  {
   "cell_type": "code",
   "execution_count": 2,
   "id": "ef92e4c4-0449-45cb-a579-c851b0229ee6",
   "metadata": {},
   "outputs": [],
   "source": [
    "import numpy as np\n",
    "import pandas as pd\n",
    "import os"
   ]
  },
  {
   "cell_type": "code",
   "execution_count": 60,
   "id": "7cd5e587-2fcb-466f-b1a7-e2a10dd4e7c0",
   "metadata": {},
   "outputs": [],
   "source": [
    "import seaborn as sns"
   ]
  },
  {
   "cell_type": "code",
   "execution_count": 3,
   "id": "abbebc4f-001a-472b-a686-fbf9dffad9e1",
   "metadata": {},
   "outputs": [
    {
     "ename": "FileNotFoundError",
     "evalue": "[Errno 2] No such file or directory: 'train_data.csv'",
     "output_type": "error",
     "traceback": [
      "\u001b[0;31m---------------------------------------------------------------------------\u001b[0m",
      "\u001b[0;31mFileNotFoundError\u001b[0m                         Traceback (most recent call last)",
      "Cell \u001b[0;32mIn [3], line 1\u001b[0m\n\u001b[0;32m----> 1\u001b[0m train_data \u001b[38;5;241m=\u001b[39m \u001b[43mpd\u001b[49m\u001b[38;5;241;43m.\u001b[39;49m\u001b[43mread_csv\u001b[49m\u001b[43m(\u001b[49m\u001b[43mos\u001b[49m\u001b[38;5;241;43m.\u001b[39;49m\u001b[43mpath\u001b[49m\u001b[38;5;241;43m.\u001b[39;49m\u001b[43mjoin\u001b[49m\u001b[43m(\u001b[49m\u001b[38;5;124;43m'\u001b[39;49m\u001b[38;5;124;43mtrain_data.csv\u001b[39;49m\u001b[38;5;124;43m'\u001b[39;49m\u001b[43m)\u001b[49m\u001b[43m)\u001b[49m\n\u001b[1;32m      2\u001b[0m test_data \u001b[38;5;241m=\u001b[39m pd\u001b[38;5;241m.\u001b[39mread_csv(os\u001b[38;5;241m.\u001b[39mpath\u001b[38;5;241m.\u001b[39mjoin(\u001b[38;5;124m'\u001b[39m\u001b[38;5;124mtest_data.csv\u001b[39m\u001b[38;5;124m'\u001b[39m))\n\u001b[1;32m      3\u001b[0m sample_sub \u001b[38;5;241m=\u001b[39m pd\u001b[38;5;241m.\u001b[39mread_csv(os\u001b[38;5;241m.\u001b[39mpath\u001b[38;5;241m.\u001b[39mjoin(\u001b[38;5;124m'\u001b[39m\u001b[38;5;124msample_submission.csv\u001b[39m\u001b[38;5;124m'\u001b[39m))\n",
      "File \u001b[0;32m/opt/conda/lib/python3.8/site-packages/pandas/util/_decorators.py:211\u001b[0m, in \u001b[0;36mdeprecate_kwarg.<locals>._deprecate_kwarg.<locals>.wrapper\u001b[0;34m(*args, **kwargs)\u001b[0m\n\u001b[1;32m    209\u001b[0m     \u001b[38;5;28;01melse\u001b[39;00m:\n\u001b[1;32m    210\u001b[0m         kwargs[new_arg_name] \u001b[38;5;241m=\u001b[39m new_arg_value\n\u001b[0;32m--> 211\u001b[0m \u001b[38;5;28;01mreturn\u001b[39;00m \u001b[43mfunc\u001b[49m\u001b[43m(\u001b[49m\u001b[38;5;241;43m*\u001b[39;49m\u001b[43margs\u001b[49m\u001b[43m,\u001b[49m\u001b[43m \u001b[49m\u001b[38;5;241;43m*\u001b[39;49m\u001b[38;5;241;43m*\u001b[39;49m\u001b[43mkwargs\u001b[49m\u001b[43m)\u001b[49m\n",
      "File \u001b[0;32m/opt/conda/lib/python3.8/site-packages/pandas/util/_decorators.py:331\u001b[0m, in \u001b[0;36mdeprecate_nonkeyword_arguments.<locals>.decorate.<locals>.wrapper\u001b[0;34m(*args, **kwargs)\u001b[0m\n\u001b[1;32m    325\u001b[0m \u001b[38;5;28;01mif\u001b[39;00m \u001b[38;5;28mlen\u001b[39m(args) \u001b[38;5;241m>\u001b[39m num_allow_args:\n\u001b[1;32m    326\u001b[0m     warnings\u001b[38;5;241m.\u001b[39mwarn(\n\u001b[1;32m    327\u001b[0m         msg\u001b[38;5;241m.\u001b[39mformat(arguments\u001b[38;5;241m=\u001b[39m_format_argument_list(allow_args)),\n\u001b[1;32m    328\u001b[0m         \u001b[38;5;167;01mFutureWarning\u001b[39;00m,\n\u001b[1;32m    329\u001b[0m         stacklevel\u001b[38;5;241m=\u001b[39mfind_stack_level(),\n\u001b[1;32m    330\u001b[0m     )\n\u001b[0;32m--> 331\u001b[0m \u001b[38;5;28;01mreturn\u001b[39;00m \u001b[43mfunc\u001b[49m\u001b[43m(\u001b[49m\u001b[38;5;241;43m*\u001b[39;49m\u001b[43margs\u001b[49m\u001b[43m,\u001b[49m\u001b[43m \u001b[49m\u001b[38;5;241;43m*\u001b[39;49m\u001b[38;5;241;43m*\u001b[39;49m\u001b[43mkwargs\u001b[49m\u001b[43m)\u001b[49m\n",
      "File \u001b[0;32m/opt/conda/lib/python3.8/site-packages/pandas/io/parsers/readers.py:950\u001b[0m, in \u001b[0;36mread_csv\u001b[0;34m(filepath_or_buffer, sep, delimiter, header, names, index_col, usecols, squeeze, prefix, mangle_dupe_cols, dtype, engine, converters, true_values, false_values, skipinitialspace, skiprows, skipfooter, nrows, na_values, keep_default_na, na_filter, verbose, skip_blank_lines, parse_dates, infer_datetime_format, keep_date_col, date_parser, dayfirst, cache_dates, iterator, chunksize, compression, thousands, decimal, lineterminator, quotechar, quoting, doublequote, escapechar, comment, encoding, encoding_errors, dialect, error_bad_lines, warn_bad_lines, on_bad_lines, delim_whitespace, low_memory, memory_map, float_precision, storage_options)\u001b[0m\n\u001b[1;32m    935\u001b[0m kwds_defaults \u001b[38;5;241m=\u001b[39m _refine_defaults_read(\n\u001b[1;32m    936\u001b[0m     dialect,\n\u001b[1;32m    937\u001b[0m     delimiter,\n\u001b[0;32m   (...)\u001b[0m\n\u001b[1;32m    946\u001b[0m     defaults\u001b[38;5;241m=\u001b[39m{\u001b[38;5;124m\"\u001b[39m\u001b[38;5;124mdelimiter\u001b[39m\u001b[38;5;124m\"\u001b[39m: \u001b[38;5;124m\"\u001b[39m\u001b[38;5;124m,\u001b[39m\u001b[38;5;124m\"\u001b[39m},\n\u001b[1;32m    947\u001b[0m )\n\u001b[1;32m    948\u001b[0m kwds\u001b[38;5;241m.\u001b[39mupdate(kwds_defaults)\n\u001b[0;32m--> 950\u001b[0m \u001b[38;5;28;01mreturn\u001b[39;00m \u001b[43m_read\u001b[49m\u001b[43m(\u001b[49m\u001b[43mfilepath_or_buffer\u001b[49m\u001b[43m,\u001b[49m\u001b[43m \u001b[49m\u001b[43mkwds\u001b[49m\u001b[43m)\u001b[49m\n",
      "File \u001b[0;32m/opt/conda/lib/python3.8/site-packages/pandas/io/parsers/readers.py:605\u001b[0m, in \u001b[0;36m_read\u001b[0;34m(filepath_or_buffer, kwds)\u001b[0m\n\u001b[1;32m    602\u001b[0m _validate_names(kwds\u001b[38;5;241m.\u001b[39mget(\u001b[38;5;124m\"\u001b[39m\u001b[38;5;124mnames\u001b[39m\u001b[38;5;124m\"\u001b[39m, \u001b[38;5;28;01mNone\u001b[39;00m))\n\u001b[1;32m    604\u001b[0m \u001b[38;5;66;03m# Create the parser.\u001b[39;00m\n\u001b[0;32m--> 605\u001b[0m parser \u001b[38;5;241m=\u001b[39m \u001b[43mTextFileReader\u001b[49m\u001b[43m(\u001b[49m\u001b[43mfilepath_or_buffer\u001b[49m\u001b[43m,\u001b[49m\u001b[43m \u001b[49m\u001b[38;5;241;43m*\u001b[39;49m\u001b[38;5;241;43m*\u001b[39;49m\u001b[43mkwds\u001b[49m\u001b[43m)\u001b[49m\n\u001b[1;32m    607\u001b[0m \u001b[38;5;28;01mif\u001b[39;00m chunksize \u001b[38;5;129;01mor\u001b[39;00m iterator:\n\u001b[1;32m    608\u001b[0m     \u001b[38;5;28;01mreturn\u001b[39;00m parser\n",
      "File \u001b[0;32m/opt/conda/lib/python3.8/site-packages/pandas/io/parsers/readers.py:1442\u001b[0m, in \u001b[0;36mTextFileReader.__init__\u001b[0;34m(self, f, engine, **kwds)\u001b[0m\n\u001b[1;32m   1439\u001b[0m     \u001b[38;5;28mself\u001b[39m\u001b[38;5;241m.\u001b[39moptions[\u001b[38;5;124m\"\u001b[39m\u001b[38;5;124mhas_index_names\u001b[39m\u001b[38;5;124m\"\u001b[39m] \u001b[38;5;241m=\u001b[39m kwds[\u001b[38;5;124m\"\u001b[39m\u001b[38;5;124mhas_index_names\u001b[39m\u001b[38;5;124m\"\u001b[39m]\n\u001b[1;32m   1441\u001b[0m \u001b[38;5;28mself\u001b[39m\u001b[38;5;241m.\u001b[39mhandles: IOHandles \u001b[38;5;241m|\u001b[39m \u001b[38;5;28;01mNone\u001b[39;00m \u001b[38;5;241m=\u001b[39m \u001b[38;5;28;01mNone\u001b[39;00m\n\u001b[0;32m-> 1442\u001b[0m \u001b[38;5;28mself\u001b[39m\u001b[38;5;241m.\u001b[39m_engine \u001b[38;5;241m=\u001b[39m \u001b[38;5;28;43mself\u001b[39;49m\u001b[38;5;241;43m.\u001b[39;49m\u001b[43m_make_engine\u001b[49m\u001b[43m(\u001b[49m\u001b[43mf\u001b[49m\u001b[43m,\u001b[49m\u001b[43m \u001b[49m\u001b[38;5;28;43mself\u001b[39;49m\u001b[38;5;241;43m.\u001b[39;49m\u001b[43mengine\u001b[49m\u001b[43m)\u001b[49m\n",
      "File \u001b[0;32m/opt/conda/lib/python3.8/site-packages/pandas/io/parsers/readers.py:1735\u001b[0m, in \u001b[0;36mTextFileReader._make_engine\u001b[0;34m(self, f, engine)\u001b[0m\n\u001b[1;32m   1733\u001b[0m     \u001b[38;5;28;01mif\u001b[39;00m \u001b[38;5;124m\"\u001b[39m\u001b[38;5;124mb\u001b[39m\u001b[38;5;124m\"\u001b[39m \u001b[38;5;129;01mnot\u001b[39;00m \u001b[38;5;129;01min\u001b[39;00m mode:\n\u001b[1;32m   1734\u001b[0m         mode \u001b[38;5;241m+\u001b[39m\u001b[38;5;241m=\u001b[39m \u001b[38;5;124m\"\u001b[39m\u001b[38;5;124mb\u001b[39m\u001b[38;5;124m\"\u001b[39m\n\u001b[0;32m-> 1735\u001b[0m \u001b[38;5;28mself\u001b[39m\u001b[38;5;241m.\u001b[39mhandles \u001b[38;5;241m=\u001b[39m \u001b[43mget_handle\u001b[49m\u001b[43m(\u001b[49m\n\u001b[1;32m   1736\u001b[0m \u001b[43m    \u001b[49m\u001b[43mf\u001b[49m\u001b[43m,\u001b[49m\n\u001b[1;32m   1737\u001b[0m \u001b[43m    \u001b[49m\u001b[43mmode\u001b[49m\u001b[43m,\u001b[49m\n\u001b[1;32m   1738\u001b[0m \u001b[43m    \u001b[49m\u001b[43mencoding\u001b[49m\u001b[38;5;241;43m=\u001b[39;49m\u001b[38;5;28;43mself\u001b[39;49m\u001b[38;5;241;43m.\u001b[39;49m\u001b[43moptions\u001b[49m\u001b[38;5;241;43m.\u001b[39;49m\u001b[43mget\u001b[49m\u001b[43m(\u001b[49m\u001b[38;5;124;43m\"\u001b[39;49m\u001b[38;5;124;43mencoding\u001b[39;49m\u001b[38;5;124;43m\"\u001b[39;49m\u001b[43m,\u001b[49m\u001b[43m \u001b[49m\u001b[38;5;28;43;01mNone\u001b[39;49;00m\u001b[43m)\u001b[49m\u001b[43m,\u001b[49m\n\u001b[1;32m   1739\u001b[0m \u001b[43m    \u001b[49m\u001b[43mcompression\u001b[49m\u001b[38;5;241;43m=\u001b[39;49m\u001b[38;5;28;43mself\u001b[39;49m\u001b[38;5;241;43m.\u001b[39;49m\u001b[43moptions\u001b[49m\u001b[38;5;241;43m.\u001b[39;49m\u001b[43mget\u001b[49m\u001b[43m(\u001b[49m\u001b[38;5;124;43m\"\u001b[39;49m\u001b[38;5;124;43mcompression\u001b[39;49m\u001b[38;5;124;43m\"\u001b[39;49m\u001b[43m,\u001b[49m\u001b[43m \u001b[49m\u001b[38;5;28;43;01mNone\u001b[39;49;00m\u001b[43m)\u001b[49m\u001b[43m,\u001b[49m\n\u001b[1;32m   1740\u001b[0m \u001b[43m    \u001b[49m\u001b[43mmemory_map\u001b[49m\u001b[38;5;241;43m=\u001b[39;49m\u001b[38;5;28;43mself\u001b[39;49m\u001b[38;5;241;43m.\u001b[39;49m\u001b[43moptions\u001b[49m\u001b[38;5;241;43m.\u001b[39;49m\u001b[43mget\u001b[49m\u001b[43m(\u001b[49m\u001b[38;5;124;43m\"\u001b[39;49m\u001b[38;5;124;43mmemory_map\u001b[39;49m\u001b[38;5;124;43m\"\u001b[39;49m\u001b[43m,\u001b[49m\u001b[43m \u001b[49m\u001b[38;5;28;43;01mFalse\u001b[39;49;00m\u001b[43m)\u001b[49m\u001b[43m,\u001b[49m\n\u001b[1;32m   1741\u001b[0m \u001b[43m    \u001b[49m\u001b[43mis_text\u001b[49m\u001b[38;5;241;43m=\u001b[39;49m\u001b[43mis_text\u001b[49m\u001b[43m,\u001b[49m\n\u001b[1;32m   1742\u001b[0m \u001b[43m    \u001b[49m\u001b[43merrors\u001b[49m\u001b[38;5;241;43m=\u001b[39;49m\u001b[38;5;28;43mself\u001b[39;49m\u001b[38;5;241;43m.\u001b[39;49m\u001b[43moptions\u001b[49m\u001b[38;5;241;43m.\u001b[39;49m\u001b[43mget\u001b[49m\u001b[43m(\u001b[49m\u001b[38;5;124;43m\"\u001b[39;49m\u001b[38;5;124;43mencoding_errors\u001b[39;49m\u001b[38;5;124;43m\"\u001b[39;49m\u001b[43m,\u001b[49m\u001b[43m \u001b[49m\u001b[38;5;124;43m\"\u001b[39;49m\u001b[38;5;124;43mstrict\u001b[39;49m\u001b[38;5;124;43m\"\u001b[39;49m\u001b[43m)\u001b[49m\u001b[43m,\u001b[49m\n\u001b[1;32m   1743\u001b[0m \u001b[43m    \u001b[49m\u001b[43mstorage_options\u001b[49m\u001b[38;5;241;43m=\u001b[39;49m\u001b[38;5;28;43mself\u001b[39;49m\u001b[38;5;241;43m.\u001b[39;49m\u001b[43moptions\u001b[49m\u001b[38;5;241;43m.\u001b[39;49m\u001b[43mget\u001b[49m\u001b[43m(\u001b[49m\u001b[38;5;124;43m\"\u001b[39;49m\u001b[38;5;124;43mstorage_options\u001b[39;49m\u001b[38;5;124;43m\"\u001b[39;49m\u001b[43m,\u001b[49m\u001b[43m \u001b[49m\u001b[38;5;28;43;01mNone\u001b[39;49;00m\u001b[43m)\u001b[49m\u001b[43m,\u001b[49m\n\u001b[1;32m   1744\u001b[0m \u001b[43m\u001b[49m\u001b[43m)\u001b[49m\n\u001b[1;32m   1745\u001b[0m \u001b[38;5;28;01massert\u001b[39;00m \u001b[38;5;28mself\u001b[39m\u001b[38;5;241m.\u001b[39mhandles \u001b[38;5;129;01mis\u001b[39;00m \u001b[38;5;129;01mnot\u001b[39;00m \u001b[38;5;28;01mNone\u001b[39;00m\n\u001b[1;32m   1746\u001b[0m f \u001b[38;5;241m=\u001b[39m \u001b[38;5;28mself\u001b[39m\u001b[38;5;241m.\u001b[39mhandles\u001b[38;5;241m.\u001b[39mhandle\n",
      "File \u001b[0;32m/opt/conda/lib/python3.8/site-packages/pandas/io/common.py:856\u001b[0m, in \u001b[0;36mget_handle\u001b[0;34m(path_or_buf, mode, encoding, compression, memory_map, is_text, errors, storage_options)\u001b[0m\n\u001b[1;32m    851\u001b[0m \u001b[38;5;28;01melif\u001b[39;00m \u001b[38;5;28misinstance\u001b[39m(handle, \u001b[38;5;28mstr\u001b[39m):\n\u001b[1;32m    852\u001b[0m     \u001b[38;5;66;03m# Check whether the filename is to be opened in binary mode.\u001b[39;00m\n\u001b[1;32m    853\u001b[0m     \u001b[38;5;66;03m# Binary mode does not support 'encoding' and 'newline'.\u001b[39;00m\n\u001b[1;32m    854\u001b[0m     \u001b[38;5;28;01mif\u001b[39;00m ioargs\u001b[38;5;241m.\u001b[39mencoding \u001b[38;5;129;01mand\u001b[39;00m \u001b[38;5;124m\"\u001b[39m\u001b[38;5;124mb\u001b[39m\u001b[38;5;124m\"\u001b[39m \u001b[38;5;129;01mnot\u001b[39;00m \u001b[38;5;129;01min\u001b[39;00m ioargs\u001b[38;5;241m.\u001b[39mmode:\n\u001b[1;32m    855\u001b[0m         \u001b[38;5;66;03m# Encoding\u001b[39;00m\n\u001b[0;32m--> 856\u001b[0m         handle \u001b[38;5;241m=\u001b[39m \u001b[38;5;28;43mopen\u001b[39;49m\u001b[43m(\u001b[49m\n\u001b[1;32m    857\u001b[0m \u001b[43m            \u001b[49m\u001b[43mhandle\u001b[49m\u001b[43m,\u001b[49m\n\u001b[1;32m    858\u001b[0m \u001b[43m            \u001b[49m\u001b[43mioargs\u001b[49m\u001b[38;5;241;43m.\u001b[39;49m\u001b[43mmode\u001b[49m\u001b[43m,\u001b[49m\n\u001b[1;32m    859\u001b[0m \u001b[43m            \u001b[49m\u001b[43mencoding\u001b[49m\u001b[38;5;241;43m=\u001b[39;49m\u001b[43mioargs\u001b[49m\u001b[38;5;241;43m.\u001b[39;49m\u001b[43mencoding\u001b[49m\u001b[43m,\u001b[49m\n\u001b[1;32m    860\u001b[0m \u001b[43m            \u001b[49m\u001b[43merrors\u001b[49m\u001b[38;5;241;43m=\u001b[39;49m\u001b[43merrors\u001b[49m\u001b[43m,\u001b[49m\n\u001b[1;32m    861\u001b[0m \u001b[43m            \u001b[49m\u001b[43mnewline\u001b[49m\u001b[38;5;241;43m=\u001b[39;49m\u001b[38;5;124;43m\"\u001b[39;49m\u001b[38;5;124;43m\"\u001b[39;49m\u001b[43m,\u001b[49m\n\u001b[1;32m    862\u001b[0m \u001b[43m        \u001b[49m\u001b[43m)\u001b[49m\n\u001b[1;32m    863\u001b[0m     \u001b[38;5;28;01melse\u001b[39;00m:\n\u001b[1;32m    864\u001b[0m         \u001b[38;5;66;03m# Binary mode\u001b[39;00m\n\u001b[1;32m    865\u001b[0m         handle \u001b[38;5;241m=\u001b[39m \u001b[38;5;28mopen\u001b[39m(handle, ioargs\u001b[38;5;241m.\u001b[39mmode)\n",
      "\u001b[0;31mFileNotFoundError\u001b[0m: [Errno 2] No such file or directory: 'train_data.csv'"
     ]
    }
   ],
   "source": [
    "train_data = pd.read_csv(os.path.join('train_data.csv'))\n",
    "test_data = pd.read_csv(os.path.join('test_data.csv'))\n",
    "sample_sub = pd.read_csv(os.path.join('sample_submission.csv'))"
   ]
  },
  {
   "cell_type": "code",
   "execution_count": 32,
   "id": "c1220b56-ff7e-4473-880e-9010e8697f03",
   "metadata": {},
   "outputs": [
    {
     "data": {
      "text/html": [
       "<div>\n",
       "<style scoped>\n",
       "    .dataframe tbody tr th:only-of-type {\n",
       "        vertical-align: middle;\n",
       "    }\n",
       "\n",
       "    .dataframe tbody tr th {\n",
       "        vertical-align: top;\n",
       "    }\n",
       "\n",
       "    .dataframe thead th {\n",
       "        text-align: right;\n",
       "    }\n",
       "</style>\n",
       "<table border=\"1\" class=\"dataframe\">\n",
       "  <thead>\n",
       "    <tr style=\"text-align: right;\">\n",
       "      <th></th>\n",
       "      <th>userID</th>\n",
       "      <th>assessmentItemID</th>\n",
       "      <th>testId</th>\n",
       "      <th>answerCode</th>\n",
       "      <th>Timestamp</th>\n",
       "      <th>KnowledgeTag</th>\n",
       "    </tr>\n",
       "  </thead>\n",
       "  <tbody>\n",
       "    <tr>\n",
       "      <th>0</th>\n",
       "      <td>0</td>\n",
       "      <td>A060001001</td>\n",
       "      <td>A060000001</td>\n",
       "      <td>1</td>\n",
       "      <td>2020-03-24 00:17:11</td>\n",
       "      <td>7224</td>\n",
       "    </tr>\n",
       "    <tr>\n",
       "      <th>1</th>\n",
       "      <td>0</td>\n",
       "      <td>A060001002</td>\n",
       "      <td>A060000001</td>\n",
       "      <td>1</td>\n",
       "      <td>2020-03-24 00:17:14</td>\n",
       "      <td>7225</td>\n",
       "    </tr>\n",
       "    <tr>\n",
       "      <th>2</th>\n",
       "      <td>0</td>\n",
       "      <td>A060001003</td>\n",
       "      <td>A060000001</td>\n",
       "      <td>1</td>\n",
       "      <td>2020-03-24 00:17:22</td>\n",
       "      <td>7225</td>\n",
       "    </tr>\n",
       "    <tr>\n",
       "      <th>3</th>\n",
       "      <td>0</td>\n",
       "      <td>A060001004</td>\n",
       "      <td>A060000001</td>\n",
       "      <td>1</td>\n",
       "      <td>2020-03-24 00:17:29</td>\n",
       "      <td>7225</td>\n",
       "    </tr>\n",
       "    <tr>\n",
       "      <th>4</th>\n",
       "      <td>0</td>\n",
       "      <td>A060001005</td>\n",
       "      <td>A060000001</td>\n",
       "      <td>1</td>\n",
       "      <td>2020-03-24 00:17:36</td>\n",
       "      <td>7225</td>\n",
       "    </tr>\n",
       "    <tr>\n",
       "      <th>...</th>\n",
       "      <td>...</td>\n",
       "      <td>...</td>\n",
       "      <td>...</td>\n",
       "      <td>...</td>\n",
       "      <td>...</td>\n",
       "      <td>...</td>\n",
       "    </tr>\n",
       "    <tr>\n",
       "      <th>2266581</th>\n",
       "      <td>7441</td>\n",
       "      <td>A030071005</td>\n",
       "      <td>A030000071</td>\n",
       "      <td>0</td>\n",
       "      <td>2020-06-05 06:50:21</td>\n",
       "      <td>438</td>\n",
       "    </tr>\n",
       "    <tr>\n",
       "      <th>2266582</th>\n",
       "      <td>7441</td>\n",
       "      <td>A040165001</td>\n",
       "      <td>A040000165</td>\n",
       "      <td>1</td>\n",
       "      <td>2020-08-21 01:06:39</td>\n",
       "      <td>8836</td>\n",
       "    </tr>\n",
       "    <tr>\n",
       "      <th>2266583</th>\n",
       "      <td>7441</td>\n",
       "      <td>A040165002</td>\n",
       "      <td>A040000165</td>\n",
       "      <td>1</td>\n",
       "      <td>2020-08-21 01:06:50</td>\n",
       "      <td>8836</td>\n",
       "    </tr>\n",
       "    <tr>\n",
       "      <th>2266584</th>\n",
       "      <td>7441</td>\n",
       "      <td>A040165003</td>\n",
       "      <td>A040000165</td>\n",
       "      <td>1</td>\n",
       "      <td>2020-08-21 01:07:36</td>\n",
       "      <td>8836</td>\n",
       "    </tr>\n",
       "    <tr>\n",
       "      <th>2266585</th>\n",
       "      <td>7441</td>\n",
       "      <td>A040165004</td>\n",
       "      <td>A040000165</td>\n",
       "      <td>1</td>\n",
       "      <td>2020-08-21 01:08:49</td>\n",
       "      <td>8836</td>\n",
       "    </tr>\n",
       "  </tbody>\n",
       "</table>\n",
       "<p>2266586 rows × 6 columns</p>\n",
       "</div>"
      ],
      "text/plain": [
       "         userID assessmentItemID      testId  answerCode            Timestamp  \\\n",
       "0             0       A060001001  A060000001           1  2020-03-24 00:17:11   \n",
       "1             0       A060001002  A060000001           1  2020-03-24 00:17:14   \n",
       "2             0       A060001003  A060000001           1  2020-03-24 00:17:22   \n",
       "3             0       A060001004  A060000001           1  2020-03-24 00:17:29   \n",
       "4             0       A060001005  A060000001           1  2020-03-24 00:17:36   \n",
       "...         ...              ...         ...         ...                  ...   \n",
       "2266581    7441       A030071005  A030000071           0  2020-06-05 06:50:21   \n",
       "2266582    7441       A040165001  A040000165           1  2020-08-21 01:06:39   \n",
       "2266583    7441       A040165002  A040000165           1  2020-08-21 01:06:50   \n",
       "2266584    7441       A040165003  A040000165           1  2020-08-21 01:07:36   \n",
       "2266585    7441       A040165004  A040000165           1  2020-08-21 01:08:49   \n",
       "\n",
       "         KnowledgeTag  \n",
       "0                7224  \n",
       "1                7225  \n",
       "2                7225  \n",
       "3                7225  \n",
       "4                7225  \n",
       "...               ...  \n",
       "2266581           438  \n",
       "2266582          8836  \n",
       "2266583          8836  \n",
       "2266584          8836  \n",
       "2266585          8836  \n",
       "\n",
       "[2266586 rows x 6 columns]"
      ]
     },
     "execution_count": 32,
     "metadata": {},
     "output_type": "execute_result"
    }
   ],
   "source": [
    "train_data\n",
    "# userID : 사용자의 고유번호\n",
    "# assessmentItemID : 문항의 고유번호\n",
    "# testId : 시험지의 고유번호\n",
    "# answerCode : 정답 여부 \n",
    "# Timestamp : 문제 시작 시간\n",
    "# KnowledgeTag : 문제 태그"
   ]
  },
  {
   "cell_type": "code",
   "execution_count": 269,
   "id": "13297e5f-166e-4613-97f4-3ab5b9f14cf6",
   "metadata": {},
   "outputs": [
    {
     "data": {
      "text/plain": [
       "array([ 1,  0, -1])"
      ]
     },
     "execution_count": 269,
     "metadata": {},
     "output_type": "execute_result"
    }
   ],
   "source": [
    "test_data['answerCode'].unique()"
   ]
  },
  {
   "cell_type": "code",
   "execution_count": 24,
   "id": "84dff39e-1730-432f-88b8-03b065cf75a1",
   "metadata": {},
   "outputs": [
    {
     "name": "stdout",
     "output_type": "stream",
     "text": [
      "<class 'pandas.core.frame.DataFrame'>\n",
      "RangeIndex: 2266586 entries, 0 to 2266585\n",
      "Data columns (total 6 columns):\n",
      " #   Column            Dtype \n",
      "---  ------            ----- \n",
      " 0   userID            int64 \n",
      " 1   assessmentItemID  object\n",
      " 2   testId            object\n",
      " 3   answerCode        int64 \n",
      " 4   Timestamp         object\n",
      " 5   KnowledgeTag      int64 \n",
      "dtypes: int64(3), object(3)\n",
      "memory usage: 103.8+ MB\n"
     ]
    }
   ],
   "source": [
    "train_data.info()"
   ]
  },
  {
   "cell_type": "code",
   "execution_count": 30,
   "id": "b1f65151-99f7-4fb0-aeb7-35b2597a643b",
   "metadata": {},
   "outputs": [
    {
     "data": {
      "text/plain": [
       "6698"
      ]
     },
     "execution_count": 30,
     "metadata": {},
     "output_type": "execute_result"
    }
   ],
   "source": [
    "len(train_data['userID'].unique())"
   ]
  },
  {
   "cell_type": "code",
   "execution_count": 65,
   "id": "d5367ec2-6806-463e-ae27-88d1b5e8f83e",
   "metadata": {},
   "outputs": [
    {
     "data": {
      "text/plain": [
       "userID\n",
       "0       0.630872\n",
       "1       0.853162\n",
       "2       0.612319\n",
       "5       0.795918\n",
       "6       0.442997\n",
       "          ...   \n",
       "7436    0.466667\n",
       "7437    0.375000\n",
       "7438    0.750000\n",
       "7440    0.400000\n",
       "7441    0.555556\n",
       "Name: answerCode, Length: 6698, dtype: float64"
      ]
     },
     "execution_count": 65,
     "metadata": {},
     "output_type": "execute_result"
    }
   ],
   "source": [
    "#유저별 평균 평점 \n",
    "train_data.groupby('userID')['answerCode'].mean()"
   ]
  },
  {
   "cell_type": "code",
   "execution_count": 34,
   "id": "92b7eca8-c18b-4ca5-b8f1-0574764d3b38",
   "metadata": {},
   "outputs": [
    {
     "data": {
      "text/plain": [
       "array(['A'], dtype=object)"
      ]
     },
     "execution_count": 34,
     "metadata": {},
     "output_type": "execute_result"
    }
   ],
   "source": [
    "train_data['assessmentItemID'].apply(lambda x : x[0]).unique()"
   ]
  },
  {
   "cell_type": "code",
   "execution_count": 273,
   "id": "c28d3abb-c03f-4e73-9065-c6690284bae0",
   "metadata": {},
   "outputs": [
    {
     "data": {
      "text/plain": [
       "assessmentItemID\n",
       "A010001001    93.059937\n",
       "A010001002    95.899054\n",
       "A010001003    90.536278\n",
       "A010001004    94.952681\n",
       "A010001005    88.643533\n",
       "                ...    \n",
       "A090074002    44.444444\n",
       "A090074003    57.777778\n",
       "A090074004    33.333333\n",
       "A090074005    40.000000\n",
       "A090074006    46.666667\n",
       "Name: answerCode, Length: 9454, dtype: float64"
      ]
     },
     "execution_count": 273,
     "metadata": {},
     "output_type": "execute_result"
    }
   ],
   "source": [
    "#문항 별 평균 정답률\n",
    "train_data.groupby('assessmentItemID')['answerCode'].mean() * 100"
   ]
  },
  {
   "cell_type": "code",
   "execution_count": 73,
   "id": "04775281-d9e6-4708-83b0-e8c607627b82",
   "metadata": {},
   "outputs": [
    {
     "data": {
      "text/plain": [
       "array(['6', '8', '2', '4', '9', '3', '5', '1', '7'], dtype=object)"
      ]
     },
     "execution_count": 73,
     "metadata": {},
     "output_type": "execute_result"
    }
   ],
   "source": [
    "train_data['assessmentItemID'].apply(lambda x : x[2]).unique()"
   ]
  },
  {
   "cell_type": "code",
   "execution_count": 177,
   "id": "7978d5a1-cc7a-4fad-a2f0-484cf13397d0",
   "metadata": {},
   "outputs": [
    {
     "data": {
      "text/plain": [
       "assessment_2\n",
       "1    0.800876\n",
       "2    0.737593\n",
       "3    0.702238\n",
       "4    0.684056\n",
       "5    0.658208\n",
       "6    0.709232\n",
       "7    0.521876\n",
       "8    0.502598\n",
       "9    0.449948\n",
       "Name: answerCode, dtype: float64"
      ]
     },
     "execution_count": 177,
     "metadata": {},
     "output_type": "execute_result"
    }
   ],
   "source": [
    "#index 2번 난이도 파악\n",
    "train_data['assessment_2'] = train_data['assessmentItemID'].str[2]  #index2 만 추출\n",
    "train_data.groupby('assessment_2')['answerCode'].mean()#.hist()"
   ]
  },
  {
   "cell_type": "code",
   "execution_count": 78,
   "id": "9692ce08-df9e-4e2a-afce-eb4584213084",
   "metadata": {},
   "outputs": [
    {
     "data": {
      "text/plain": [
       "array(['0', '1'], dtype=object)"
      ]
     },
     "execution_count": 78,
     "metadata": {},
     "output_type": "execute_result"
    }
   ],
   "source": [
    "train_data['assessmentItemID'].apply(lambda x : x[4:5]).unique()"
   ]
  },
  {
   "cell_type": "code",
   "execution_count": 79,
   "id": "1659e136-ea19-42c1-9339-449d07ae7caa",
   "metadata": {},
   "outputs": [
    {
     "data": {
      "text/plain": [
       "assessment_4\n",
       "0    0.635048\n",
       "1    0.682091\n",
       "Name: answerCode, dtype: float64"
      ]
     },
     "execution_count": 79,
     "metadata": {},
     "output_type": "execute_result"
    }
   ],
   "source": [
    "train_data['assessment_4'] = train_data['assessmentItemID'].str[4]  #index4만 추출\n",
    "train_data.groupby('assessment_4')['answerCode'].mean()"
   ]
  },
  {
   "cell_type": "code",
   "execution_count": 80,
   "id": "3ee34d84-31af-4d08-bb54-46e029a39f3c",
   "metadata": {},
   "outputs": [],
   "source": [
    "train_data = train_data.drop(columns = ['assessment_4'])"
   ]
  },
  {
   "cell_type": "code",
   "execution_count": 196,
   "id": "e9b11d23-e63b-4ce9-921c-7adbb0f54bca",
   "metadata": {},
   "outputs": [
    {
     "data": {
      "text/plain": [
       "assessmentItemID\n",
       "A010001001    0.930599\n",
       "A010001002    0.958991\n",
       "A010001003    0.905363\n",
       "A010001004    0.949527\n",
       "A010001005    0.886435\n",
       "                ...   \n",
       "A090074002    0.444444\n",
       "A090074003    0.577778\n",
       "A090074004    0.333333\n",
       "A090074005    0.400000\n",
       "A090074006    0.466667\n",
       "Name: answerCode, Length: 9454, dtype: float64"
      ]
     },
     "execution_count": 196,
     "metadata": {},
     "output_type": "execute_result"
    }
   ],
   "source": [
    "train_data.groupby('assessmentItemID')['answerCode'].mean()"
   ]
  },
  {
   "cell_type": "code",
   "execution_count": 197,
   "id": "a67dcb3d-2ca2-4d5b-9779-acf9ea1fde6f",
   "metadata": {},
   "outputs": [
    {
     "data": {
      "text/plain": [
       "assessmentItemID\n",
       "A010001001    317\n",
       "A010001002    317\n",
       "A010001003    317\n",
       "A010001004    317\n",
       "A010001005    317\n",
       "             ... \n",
       "A090074002     45\n",
       "A090074003     45\n",
       "A090074004     45\n",
       "A090074005     45\n",
       "A090074006     45\n",
       "Name: answerCode, Length: 9454, dtype: int64"
      ]
     },
     "execution_count": 197,
     "metadata": {},
     "output_type": "execute_result"
    }
   ],
   "source": [
    "train_data.groupby('assessmentItemID')['answerCode'].count()"
   ]
  },
  {
   "cell_type": "code",
   "execution_count": null,
   "id": "5550a87d-e307-41f0-80d9-dfba2c12073d",
   "metadata": {},
   "outputs": [],
   "source": [
    "# assessmentItemID -> index 2 -> 문제의 난이도\n",
    "#"
   ]
  },
  {
   "cell_type": "code",
   "execution_count": null,
   "id": "32634619-6a57-46f3-9543-42dd64836fb6",
   "metadata": {},
   "outputs": [],
   "source": []
  },
  {
   "cell_type": "code",
   "execution_count": 51,
   "id": "e9caadc3-f9b0-4c6c-b8c6-4cd59b506d18",
   "metadata": {},
   "outputs": [
    {
     "data": {
      "text/plain": [
       "1537"
      ]
     },
     "execution_count": 51,
     "metadata": {},
     "output_type": "execute_result"
    }
   ],
   "source": [
    "len(train_data['testId'].unique())"
   ]
  },
  {
   "cell_type": "code",
   "execution_count": 82,
   "id": "f542ad05-7248-4c79-ad46-87a09733a001",
   "metadata": {},
   "outputs": [
    {
     "data": {
      "text/plain": [
       "testId\n",
       "A010000001    0.926183\n",
       "A010000002    0.931613\n",
       "A010000003    0.846440\n",
       "A010000004    0.883117\n",
       "A010000005    0.855172\n",
       "                ...   \n",
       "A090000070    0.418605\n",
       "A090000071    0.336111\n",
       "A090000072    0.418519\n",
       "A090000073    0.529630\n",
       "A090000074    0.425926\n",
       "Name: answerCode, Length: 1537, dtype: float64"
      ]
     },
     "execution_count": 82,
     "metadata": {},
     "output_type": "execute_result"
    }
   ],
   "source": [
    "train_data.groupby('testId')['answerCode'].mean()"
   ]
  },
  {
   "cell_type": "code",
   "execution_count": 173,
   "id": "1112ea08-6694-4523-ac11-ae1d092fdb1f",
   "metadata": {},
   "outputs": [],
   "source": [
    "train_data['testId_2'] = train_data['testId'].str[2]"
   ]
  },
  {
   "cell_type": "code",
   "execution_count": 174,
   "id": "95f4d093-77a4-4957-afff-e72ad32d4d89",
   "metadata": {},
   "outputs": [
    {
     "data": {
      "text/plain": [
       "testId_2\n",
       "1    0.800876\n",
       "2    0.737593\n",
       "3    0.702238\n",
       "4    0.684056\n",
       "5    0.658208\n",
       "6    0.709232\n",
       "7    0.521876\n",
       "8    0.502598\n",
       "9    0.449948\n",
       "Name: answerCode, dtype: float64"
      ]
     },
     "execution_count": 174,
     "metadata": {},
     "output_type": "execute_result"
    }
   ],
   "source": [
    "train_data.groupby('testId_2')['answerCode'].mean()"
   ]
  },
  {
   "cell_type": "code",
   "execution_count": 87,
   "id": "591b5202-cae7-41bd-8fc8-ee5d13fe088b",
   "metadata": {},
   "outputs": [
    {
     "data": {
      "text/plain": [
       "array(['A0'], dtype=object)"
      ]
     },
     "execution_count": 87,
     "metadata": {},
     "output_type": "execute_result"
    }
   ],
   "source": [
    "train_data['testId'].apply(lambda x : x[0:2]).unique()"
   ]
  },
  {
   "cell_type": "code",
   "execution_count": 86,
   "id": "5dbabd4c-3f7f-408c-bff4-3dab47e0f597",
   "metadata": {},
   "outputs": [
    {
     "data": {
      "text/plain": [
       "array(['0000'], dtype=object)"
      ]
     },
     "execution_count": 86,
     "metadata": {},
     "output_type": "execute_result"
    }
   ],
   "source": [
    "train_data['testId'].apply(lambda x : x[3:7]).unique()"
   ]
  },
  {
   "cell_type": "code",
   "execution_count": 100,
   "id": "711f2ee3-23f9-4cdb-95b7-d414822c165b",
   "metadata": {},
   "outputs": [
    {
     "data": {
      "text/plain": [
       "array(['0', '1'], dtype=object)"
      ]
     },
     "execution_count": 100,
     "metadata": {},
     "output_type": "execute_result"
    }
   ],
   "source": [
    "train_data['testId'].apply(lambda x : x[7]).unique()"
   ]
  },
  {
   "cell_type": "code",
   "execution_count": 101,
   "id": "055e2527-8f48-4da1-b606-2eae611b67c6",
   "metadata": {},
   "outputs": [],
   "source": [
    "train_data['test_2_7'] = train_data['testId'].str[2] + train_data['testId'].str[7:]"
   ]
  },
  {
   "cell_type": "code",
   "execution_count": 172,
   "id": "df70e935-a961-4db8-9290-d856d493c343",
   "metadata": {},
   "outputs": [
    {
     "data": {
      "text/plain": [
       "test_2_7\n",
       "9035    0.327186\n",
       "9071    0.336111\n",
       "8047    0.344178\n",
       "8071    0.350895\n",
       "7075    0.352535\n",
       "          ...   \n",
       "4188    0.940647\n",
       "6002    0.945205\n",
       "6001    0.947683\n",
       "1145    0.952077\n",
       "4187    0.955474\n",
       "Name: answerCode, Length: 1537, dtype: float64"
      ]
     },
     "execution_count": 172,
     "metadata": {},
     "output_type": "execute_result"
    }
   ],
   "source": [
    "train_data.groupby('test_2_7')['answerCode'].mean().sort_values()"
   ]
  },
  {
   "cell_type": "code",
   "execution_count": 97,
   "id": "5cc61323-9074-41a9-8281-de618c492172",
   "metadata": {},
   "outputs": [
    {
     "data": {
      "text/plain": [
       "array(['0'], dtype=object)"
      ]
     },
     "execution_count": 97,
     "metadata": {},
     "output_type": "execute_result"
    }
   ],
   "source": [
    "train_data['testId'].apply(lambda x : x[1]).unique()"
   ]
  },
  {
   "cell_type": "code",
   "execution_count": null,
   "id": "e88928b5-5a35-4302-9e89-999956f14b93",
   "metadata": {},
   "outputs": [],
   "source": [
    "# testId도 assessmentItemID처럼 index 2번이 난이도를 어느정도 결정 "
   ]
  },
  {
   "cell_type": "code",
   "execution_count": 45,
   "id": "c0af2836-9634-4e31-bb93-1d5d92bc3c46",
   "metadata": {},
   "outputs": [
    {
     "name": "stdout",
     "output_type": "stream",
     "text": [
      "전체 시험 평균 :  65.4378435232548\n"
     ]
    }
   ],
   "source": [
    "print('전체 시험 평균 : ' , train_data['answerCode'].mean() * 100)"
   ]
  },
  {
   "cell_type": "code",
   "execution_count": 162,
   "id": "1f45e542-b1e2-4f92-81b1-b9605b44ded5",
   "metadata": {},
   "outputs": [
    {
     "data": {
      "text/plain": [
       "0          0.0\n",
       "1          1.0\n",
       "2          2.0\n",
       "3          3.0\n",
       "4          4.0\n",
       "          ... \n",
       "2266581    1.0\n",
       "2266582    1.0\n",
       "2266583    2.0\n",
       "2266584    3.0\n",
       "2266585    4.0\n",
       "Name: past_correct, Length: 2266586, dtype: float64"
      ]
     },
     "execution_count": 162,
     "metadata": {},
     "output_type": "execute_result"
    }
   ],
   "source": [
    "train_data['shift'] = train_data.groupby('userID')['answerCode'].shift().fillna(0)\n",
    "train_data['past_correct'] = train_data.groupby('userID')['shift'].cumsum()\n",
    "train_data['past_correct']"
   ]
  },
  {
   "cell_type": "code",
   "execution_count": 108,
   "id": "2ba63174-dced-460c-87b3-0564f2abffb8",
   "metadata": {},
   "outputs": [],
   "source": [
    "train_data['Timestamp'] = train_data['Timestamp'].str.replace(pat=r'[^A-Za-z0-9]', repl=r'', regex=True) # 특수문자 제거"
   ]
  },
  {
   "cell_type": "code",
   "execution_count": 109,
   "id": "cb9da019-97ee-4864-aeec-b86916bd6f19",
   "metadata": {},
   "outputs": [
    {
     "data": {
      "text/plain": [
       "0          20200324001711\n",
       "1          20200324001714\n",
       "2          20200324001722\n",
       "3          20200324001729\n",
       "4          20200324001736\n",
       "                ...      \n",
       "2266581    20200605065021\n",
       "2266582    20200821010639\n",
       "2266583    20200821010650\n",
       "2266584    20200821010736\n",
       "2266585    20200821010849\n",
       "Name: Timestamp, Length: 2266586, dtype: object"
      ]
     },
     "execution_count": 109,
     "metadata": {},
     "output_type": "execute_result"
    }
   ],
   "source": [
    "train_data['Timestamp']"
   ]
  },
  {
   "cell_type": "code",
   "execution_count": 144,
   "id": "cbb6172b-a426-4db4-bd75-7abb877c3302",
   "metadata": {},
   "outputs": [],
   "source": [
    "train_data['Timestamp_month'] = train_data['Timestamp'].str[4:6]"
   ]
  },
  {
   "cell_type": "code",
   "execution_count": 157,
   "id": "924d7b9c-5bce-4848-89ef-54eaf996008e",
   "metadata": {},
   "outputs": [
    {
     "data": {
      "text/html": [
       "<div>\n",
       "<style scoped>\n",
       "    .dataframe tbody tr th:only-of-type {\n",
       "        vertical-align: middle;\n",
       "    }\n",
       "\n",
       "    .dataframe tbody tr th {\n",
       "        vertical-align: top;\n",
       "    }\n",
       "\n",
       "    .dataframe thead th {\n",
       "        text-align: right;\n",
       "    }\n",
       "</style>\n",
       "<table border=\"1\" class=\"dataframe\">\n",
       "  <thead>\n",
       "    <tr style=\"text-align: right;\">\n",
       "      <th></th>\n",
       "      <th>answerCode</th>\n",
       "    </tr>\n",
       "    <tr>\n",
       "      <th>Timestamp_month</th>\n",
       "      <th></th>\n",
       "    </tr>\n",
       "  </thead>\n",
       "  <tbody>\n",
       "    <tr>\n",
       "      <th>01</th>\n",
       "      <td>0.712199</td>\n",
       "    </tr>\n",
       "    <tr>\n",
       "      <th>02</th>\n",
       "      <td>0.687222</td>\n",
       "    </tr>\n",
       "    <tr>\n",
       "      <th>03</th>\n",
       "      <td>0.682643</td>\n",
       "    </tr>\n",
       "    <tr>\n",
       "      <th>04</th>\n",
       "      <td>0.649545</td>\n",
       "    </tr>\n",
       "    <tr>\n",
       "      <th>05</th>\n",
       "      <td>0.643317</td>\n",
       "    </tr>\n",
       "    <tr>\n",
       "      <th>06</th>\n",
       "      <td>0.651967</td>\n",
       "    </tr>\n",
       "    <tr>\n",
       "      <th>07</th>\n",
       "      <td>0.665650</td>\n",
       "    </tr>\n",
       "    <tr>\n",
       "      <th>08</th>\n",
       "      <td>0.657599</td>\n",
       "    </tr>\n",
       "    <tr>\n",
       "      <th>09</th>\n",
       "      <td>0.668872</td>\n",
       "    </tr>\n",
       "    <tr>\n",
       "      <th>10</th>\n",
       "      <td>0.670372</td>\n",
       "    </tr>\n",
       "    <tr>\n",
       "      <th>11</th>\n",
       "      <td>0.505544</td>\n",
       "    </tr>\n",
       "    <tr>\n",
       "      <th>12</th>\n",
       "      <td>0.496304</td>\n",
       "    </tr>\n",
       "  </tbody>\n",
       "</table>\n",
       "</div>"
      ],
      "text/plain": [
       "                 answerCode\n",
       "Timestamp_month            \n",
       "01                 0.712199\n",
       "02                 0.687222\n",
       "03                 0.682643\n",
       "04                 0.649545\n",
       "05                 0.643317\n",
       "06                 0.651967\n",
       "07                 0.665650\n",
       "08                 0.657599\n",
       "09                 0.668872\n",
       "10                 0.670372\n",
       "11                 0.505544\n",
       "12                 0.496304"
      ]
     },
     "execution_count": 157,
     "metadata": {},
     "output_type": "execute_result"
    }
   ],
   "source": [
    "month = pd.DataFrame(train_data.groupby('Timestamp_month')['answerCode'].mean())\n",
    "month"
   ]
  },
  {
   "cell_type": "code",
   "execution_count": 168,
   "id": "4041f236-8541-4c37-818f-a0ebc651f3cc",
   "metadata": {},
   "outputs": [
    {
     "data": {
      "text/plain": [
       "array(['2020', '2019'], dtype=object)"
      ]
     },
     "execution_count": 168,
     "metadata": {},
     "output_type": "execute_result"
    }
   ],
   "source": [
    "train_data['Timestamp'].apply(lambda x : x[:4]).unique()"
   ]
  },
  {
   "cell_type": "code",
   "execution_count": 178,
   "id": "49fdfe23-4767-43ad-8fa8-9d35ac8998dd",
   "metadata": {},
   "outputs": [],
   "source": [
    "time_df = train_data.copy()"
   ]
  },
  {
   "cell_type": "code",
   "execution_count": 179,
   "id": "328ec671-09c6-438c-a65c-4c9242bf5537",
   "metadata": {},
   "outputs": [],
   "source": [
    "time_df['day'] = time_df['Timestamp'].str[:8]"
   ]
  },
  {
   "cell_type": "code",
   "execution_count": 199,
   "id": "5c423228-e7c0-49b6-87f3-b544385a89fd",
   "metadata": {},
   "outputs": [
    {
     "data": {
      "text/plain": [
       "0          20200324\n",
       "1          20200324\n",
       "2          20200324\n",
       "3          20200324\n",
       "4          20200324\n",
       "             ...   \n",
       "2266581    20200605\n",
       "2266582    20200821\n",
       "2266583    20200821\n",
       "2266584    20200821\n",
       "2266585    20200821\n",
       "Name: day, Length: 2266586, dtype: object"
      ]
     },
     "execution_count": 199,
     "metadata": {},
     "output_type": "execute_result"
    }
   ],
   "source": [
    "time_df['day']"
   ]
  },
  {
   "cell_type": "code",
   "execution_count": 200,
   "id": "90b96aa4-8b2a-48f3-bc2b-e062e4517147",
   "metadata": {},
   "outputs": [
    {
     "data": {
      "text/html": [
       "<div>\n",
       "<style scoped>\n",
       "    .dataframe tbody tr th:only-of-type {\n",
       "        vertical-align: middle;\n",
       "    }\n",
       "\n",
       "    .dataframe tbody tr th {\n",
       "        vertical-align: top;\n",
       "    }\n",
       "\n",
       "    .dataframe thead th {\n",
       "        text-align: right;\n",
       "    }\n",
       "</style>\n",
       "<table border=\"1\" class=\"dataframe\">\n",
       "  <thead>\n",
       "    <tr style=\"text-align: right;\">\n",
       "      <th></th>\n",
       "      <th>userID</th>\n",
       "      <th>assessmentItemID</th>\n",
       "      <th>testId</th>\n",
       "      <th>answerCode</th>\n",
       "      <th>Timestamp</th>\n",
       "      <th>KnowledgeTag</th>\n",
       "      <th>assessment_2</th>\n",
       "      <th>test_2_7</th>\n",
       "      <th>Timestamp_month</th>\n",
       "      <th>shift</th>\n",
       "      <th>past_correct</th>\n",
       "      <th>testId_2</th>\n",
       "      <th>day</th>\n",
       "    </tr>\n",
       "  </thead>\n",
       "  <tbody>\n",
       "    <tr>\n",
       "      <th>0</th>\n",
       "      <td>0</td>\n",
       "      <td>A060001001</td>\n",
       "      <td>A060000001</td>\n",
       "      <td>1</td>\n",
       "      <td>20200324001711</td>\n",
       "      <td>7224</td>\n",
       "      <td>6</td>\n",
       "      <td>6001</td>\n",
       "      <td>03</td>\n",
       "      <td>0.0</td>\n",
       "      <td>0.0</td>\n",
       "      <td>6</td>\n",
       "      <td>20200324</td>\n",
       "    </tr>\n",
       "    <tr>\n",
       "      <th>1</th>\n",
       "      <td>0</td>\n",
       "      <td>A060001002</td>\n",
       "      <td>A060000001</td>\n",
       "      <td>1</td>\n",
       "      <td>20200324001714</td>\n",
       "      <td>7225</td>\n",
       "      <td>6</td>\n",
       "      <td>6001</td>\n",
       "      <td>03</td>\n",
       "      <td>1.0</td>\n",
       "      <td>1.0</td>\n",
       "      <td>6</td>\n",
       "      <td>20200324</td>\n",
       "    </tr>\n",
       "    <tr>\n",
       "      <th>2</th>\n",
       "      <td>0</td>\n",
       "      <td>A060001003</td>\n",
       "      <td>A060000001</td>\n",
       "      <td>1</td>\n",
       "      <td>20200324001722</td>\n",
       "      <td>7225</td>\n",
       "      <td>6</td>\n",
       "      <td>6001</td>\n",
       "      <td>03</td>\n",
       "      <td>1.0</td>\n",
       "      <td>2.0</td>\n",
       "      <td>6</td>\n",
       "      <td>20200324</td>\n",
       "    </tr>\n",
       "    <tr>\n",
       "      <th>3</th>\n",
       "      <td>0</td>\n",
       "      <td>A060001004</td>\n",
       "      <td>A060000001</td>\n",
       "      <td>1</td>\n",
       "      <td>20200324001729</td>\n",
       "      <td>7225</td>\n",
       "      <td>6</td>\n",
       "      <td>6001</td>\n",
       "      <td>03</td>\n",
       "      <td>1.0</td>\n",
       "      <td>3.0</td>\n",
       "      <td>6</td>\n",
       "      <td>20200324</td>\n",
       "    </tr>\n",
       "    <tr>\n",
       "      <th>4</th>\n",
       "      <td>0</td>\n",
       "      <td>A060001005</td>\n",
       "      <td>A060000001</td>\n",
       "      <td>1</td>\n",
       "      <td>20200324001736</td>\n",
       "      <td>7225</td>\n",
       "      <td>6</td>\n",
       "      <td>6001</td>\n",
       "      <td>03</td>\n",
       "      <td>1.0</td>\n",
       "      <td>4.0</td>\n",
       "      <td>6</td>\n",
       "      <td>20200324</td>\n",
       "    </tr>\n",
       "    <tr>\n",
       "      <th>...</th>\n",
       "      <td>...</td>\n",
       "      <td>...</td>\n",
       "      <td>...</td>\n",
       "      <td>...</td>\n",
       "      <td>...</td>\n",
       "      <td>...</td>\n",
       "      <td>...</td>\n",
       "      <td>...</td>\n",
       "      <td>...</td>\n",
       "      <td>...</td>\n",
       "      <td>...</td>\n",
       "      <td>...</td>\n",
       "      <td>...</td>\n",
       "    </tr>\n",
       "    <tr>\n",
       "      <th>2266581</th>\n",
       "      <td>7441</td>\n",
       "      <td>A030071005</td>\n",
       "      <td>A030000071</td>\n",
       "      <td>0</td>\n",
       "      <td>20200605065021</td>\n",
       "      <td>438</td>\n",
       "      <td>3</td>\n",
       "      <td>3071</td>\n",
       "      <td>06</td>\n",
       "      <td>0.0</td>\n",
       "      <td>1.0</td>\n",
       "      <td>3</td>\n",
       "      <td>20200605</td>\n",
       "    </tr>\n",
       "    <tr>\n",
       "      <th>2266582</th>\n",
       "      <td>7441</td>\n",
       "      <td>A040165001</td>\n",
       "      <td>A040000165</td>\n",
       "      <td>1</td>\n",
       "      <td>20200821010639</td>\n",
       "      <td>8836</td>\n",
       "      <td>4</td>\n",
       "      <td>4165</td>\n",
       "      <td>08</td>\n",
       "      <td>0.0</td>\n",
       "      <td>1.0</td>\n",
       "      <td>4</td>\n",
       "      <td>20200821</td>\n",
       "    </tr>\n",
       "    <tr>\n",
       "      <th>2266583</th>\n",
       "      <td>7441</td>\n",
       "      <td>A040165002</td>\n",
       "      <td>A040000165</td>\n",
       "      <td>1</td>\n",
       "      <td>20200821010650</td>\n",
       "      <td>8836</td>\n",
       "      <td>4</td>\n",
       "      <td>4165</td>\n",
       "      <td>08</td>\n",
       "      <td>1.0</td>\n",
       "      <td>2.0</td>\n",
       "      <td>4</td>\n",
       "      <td>20200821</td>\n",
       "    </tr>\n",
       "    <tr>\n",
       "      <th>2266584</th>\n",
       "      <td>7441</td>\n",
       "      <td>A040165003</td>\n",
       "      <td>A040000165</td>\n",
       "      <td>1</td>\n",
       "      <td>20200821010736</td>\n",
       "      <td>8836</td>\n",
       "      <td>4</td>\n",
       "      <td>4165</td>\n",
       "      <td>08</td>\n",
       "      <td>1.0</td>\n",
       "      <td>3.0</td>\n",
       "      <td>4</td>\n",
       "      <td>20200821</td>\n",
       "    </tr>\n",
       "    <tr>\n",
       "      <th>2266585</th>\n",
       "      <td>7441</td>\n",
       "      <td>A040165004</td>\n",
       "      <td>A040000165</td>\n",
       "      <td>1</td>\n",
       "      <td>20200821010849</td>\n",
       "      <td>8836</td>\n",
       "      <td>4</td>\n",
       "      <td>4165</td>\n",
       "      <td>08</td>\n",
       "      <td>1.0</td>\n",
       "      <td>4.0</td>\n",
       "      <td>4</td>\n",
       "      <td>20200821</td>\n",
       "    </tr>\n",
       "  </tbody>\n",
       "</table>\n",
       "<p>2266586 rows × 13 columns</p>\n",
       "</div>"
      ],
      "text/plain": [
       "         userID assessmentItemID      testId  answerCode       Timestamp  \\\n",
       "0             0       A060001001  A060000001           1  20200324001711   \n",
       "1             0       A060001002  A060000001           1  20200324001714   \n",
       "2             0       A060001003  A060000001           1  20200324001722   \n",
       "3             0       A060001004  A060000001           1  20200324001729   \n",
       "4             0       A060001005  A060000001           1  20200324001736   \n",
       "...         ...              ...         ...         ...             ...   \n",
       "2266581    7441       A030071005  A030000071           0  20200605065021   \n",
       "2266582    7441       A040165001  A040000165           1  20200821010639   \n",
       "2266583    7441       A040165002  A040000165           1  20200821010650   \n",
       "2266584    7441       A040165003  A040000165           1  20200821010736   \n",
       "2266585    7441       A040165004  A040000165           1  20200821010849   \n",
       "\n",
       "         KnowledgeTag assessment_2 test_2_7 Timestamp_month  shift  \\\n",
       "0                7224            6     6001              03    0.0   \n",
       "1                7225            6     6001              03    1.0   \n",
       "2                7225            6     6001              03    1.0   \n",
       "3                7225            6     6001              03    1.0   \n",
       "4                7225            6     6001              03    1.0   \n",
       "...               ...          ...      ...             ...    ...   \n",
       "2266581           438            3     3071              06    0.0   \n",
       "2266582          8836            4     4165              08    0.0   \n",
       "2266583          8836            4     4165              08    1.0   \n",
       "2266584          8836            4     4165              08    1.0   \n",
       "2266585          8836            4     4165              08    1.0   \n",
       "\n",
       "         past_correct testId_2       day  \n",
       "0                 0.0        6  20200324  \n",
       "1                 1.0        6  20200324  \n",
       "2                 2.0        6  20200324  \n",
       "3                 3.0        6  20200324  \n",
       "4                 4.0        6  20200324  \n",
       "...               ...      ...       ...  \n",
       "2266581           1.0        3  20200605  \n",
       "2266582           1.0        4  20200821  \n",
       "2266583           2.0        4  20200821  \n",
       "2266584           3.0        4  20200821  \n",
       "2266585           4.0        4  20200821  \n",
       "\n",
       "[2266586 rows x 13 columns]"
      ]
     },
     "execution_count": 200,
     "metadata": {},
     "output_type": "execute_result"
    }
   ],
   "source": [
    "time_df"
   ]
  },
  {
   "cell_type": "code",
   "execution_count": 215,
   "id": "a7f73e18-bce9-4a7c-966c-8433a0a60277",
   "metadata": {},
   "outputs": [],
   "source": [
    "time_df['Timestamp'] = time_df['Timestamp'].astype('int')"
   ]
  },
  {
   "cell_type": "code",
   "execution_count": 251,
   "id": "4bf4a5b0-e9bb-4e0e-8a26-a7bd884ba7e4",
   "metadata": {},
   "outputs": [],
   "source": [
    "time_df['diff'] = time_df['Timestamp'].shift(-1) - time_df['Timestamp']"
   ]
  },
  {
   "cell_type": "code",
   "execution_count": 240,
   "id": "bef13b8f-ba8a-4f7d-aed8-7f9949ff0fc7",
   "metadata": {},
   "outputs": [
    {
     "data": {
      "text/plain": [
       "6648"
      ]
     },
     "execution_count": 240,
     "metadata": {},
     "output_type": "execute_result"
    }
   ],
   "source": [
    "(time_df['diff'] < 0).sum()"
   ]
  },
  {
   "cell_type": "code",
   "execution_count": 252,
   "id": "ae9b1114-f447-4aad-8b6e-f5361ea5dca4",
   "metadata": {},
   "outputs": [],
   "source": [
    "def time_zero(value):\n",
    "    if value < 0:\n",
    "        return 0\n",
    "    if value > 3600:\n",
    "        return 3600\n",
    "    else:\n",
    "        return value\n"
   ]
  },
  {
   "cell_type": "code",
   "execution_count": 253,
   "id": "b9936ede-af9e-4072-a3d8-3ff4fa41442a",
   "metadata": {},
   "outputs": [],
   "source": [
    "time_df['diff'] = time_df['diff'].apply(time_zero)\n"
   ]
  },
  {
   "cell_type": "code",
   "execution_count": 264,
   "id": "fa4d5f77-3b05-4a8d-a0df-87cd34b075f2",
   "metadata": {},
   "outputs": [
    {
     "data": {
      "text/plain": [
       "diff\n",
       "0.0    0.460394\n",
       "1.0    0.254947\n",
       "2.0    0.238749\n",
       "3.0    0.258542\n",
       "4.0    0.289358\n",
       "5.0    0.371769\n",
       "6.0    0.480111\n",
       "7.0    0.579067\n",
       "8.0    0.642580\n",
       "9.0    0.690276\n",
       "Name: answerCode, dtype: float64"
      ]
     },
     "execution_count": 264,
     "metadata": {},
     "output_type": "execute_result"
    }
   ],
   "source": [
    "time_df[time_df['diff'] < 10 ].groupby('diff')['answerCode'].mean()\n",
    "#한 푼 시간 4초 까지는 찍은 점수 취급 가능\n",
    "#단 0초의 경우 푼 시간 측정 할 때 0초 보다 낮은 값을 0초로 주어 주의 필요\n",
    "#0초보다 낮은 값은 문항의 평균 시간으로 줘도 괜찮을듯"
   ]
  },
  {
   "cell_type": "code",
   "execution_count": 193,
   "id": "0b66d238-ec4e-483d-a452-f2a7b26d4045",
   "metadata": {},
   "outputs": [],
   "source": [
    "a = time_df.groupby(['userID','day'])['Timestamp']"
   ]
  },
  {
   "cell_type": "code",
   "execution_count": 266,
   "id": "e809d97f-96c4-4dcc-90cd-3d0c8d237bab",
   "metadata": {},
   "outputs": [
    {
     "name": "stdout",
     "output_type": "stream",
     "text": [
      "((0, '20200324'), 0    20200324001711\n",
      "1    20200324001714\n",
      "2    20200324001722\n",
      "3    20200324001729\n",
      "4    20200324001736\n",
      "5    20200324001747\n",
      "Name: Timestamp, dtype: object)\n",
      "((0, '20200326'), 6     20200326055203\n",
      "7     20200326055210\n",
      "8     20200326055314\n",
      "9     20200326055329\n",
      "10    20200326055348\n",
      "11    20200326055355\n",
      "12    20200326055411\n",
      "Name: Timestamp, dtype: object)\n",
      "((0, '20200331'), 13    20200331050252\n",
      "14    20200331050304\n",
      "15    20200331050311\n",
      "16    20200331050326\n",
      "17    20200331050336\n",
      "18    20200331050514\n",
      "19    20200331050548\n",
      "Name: Timestamp, dtype: object)\n"
     ]
    }
   ],
   "source": [
    "# 하루동안 푼 문제 수\n",
    "cnt = 0\n",
    "for i in a:\n",
    "    print(i)\n",
    "    cnt += 1\n",
    "    if cnt == 3:\n",
    "        break\n",
    "        \n",
    "#평균 하루에 5~7문항 품 \n",
    "# 하루에 한 문제지를 풀었다고 볼 수 있음"
   ]
  },
  {
   "cell_type": "code",
   "execution_count": null,
   "id": "046d87f7-5d27-4dc6-ae57-7beaf1385bf8",
   "metadata": {},
   "outputs": [],
   "source": []
  },
  {
   "cell_type": "code",
   "execution_count": null,
   "id": "c278aaff-619c-40cb-bc3e-2f464b1402cb",
   "metadata": {},
   "outputs": [],
   "source": [
    "time_df['diff'] = time_df['num'].shift(-1) - df['num']"
   ]
  },
  {
   "cell_type": "code",
   "execution_count": 49,
   "id": "af9e894f-a717-48d1-9d10-ab900c4aa747",
   "metadata": {},
   "outputs": [
    {
     "data": {
      "text/plain": [
       "912"
      ]
     },
     "execution_count": 49,
     "metadata": {},
     "output_type": "execute_result"
    }
   ],
   "source": [
    "len(train_data['KnowledgeTag'].unique())"
   ]
  },
  {
   "cell_type": "code",
   "execution_count": 169,
   "id": "ee7d41d2-9244-4940-a61b-e199880e3416",
   "metadata": {},
   "outputs": [
    {
     "data": {
      "text/plain": [
       "KnowledgeTag\n",
       "8911     0.188940\n",
       "10332    0.250000\n",
       "9125     0.257009\n",
       "10590    0.268139\n",
       "5763     0.278027\n",
       "           ...   \n",
       "1580     0.941896\n",
       "1582     0.949280\n",
       "1577     0.950461\n",
       "7224     0.955022\n",
       "1878     0.977778\n",
       "Name: answerCode, Length: 912, dtype: float64"
      ]
     },
     "execution_count": 169,
     "metadata": {},
     "output_type": "execute_result"
    }
   ],
   "source": [
    "train_data.groupby('KnowledgeTag')['answerCode'].mean().sort_values()"
   ]
  }
 ],
 "metadata": {
  "kernelspec": {
   "display_name": "dkt",
   "language": "python",
   "name": "dkt"
  },
  "language_info": {
   "codemirror_mode": {
    "name": "ipython",
    "version": 3
   },
   "file_extension": ".py",
   "mimetype": "text/x-python",
   "name": "python",
   "nbconvert_exporter": "python",
   "pygments_lexer": "ipython3",
   "version": "3.8.5"
  }
 },
 "nbformat": 4,
 "nbformat_minor": 5
}
