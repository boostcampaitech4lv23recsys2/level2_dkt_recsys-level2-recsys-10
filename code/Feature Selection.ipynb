{
 "cells": [
  {
   "cell_type": "markdown",
   "metadata": {
    "id": "yt7sDAqHhfQp",
    "tags": []
   },
   "source": [
    "# LGBM을 활용한 베이스라인"
   ]
  },
  {
   "cell_type": "code",
   "execution_count": 1,
   "metadata": {
    "ExecuteTime": {
     "end_time": "2021-05-24T09:49:29.375544Z",
     "start_time": "2021-05-24T09:49:28.999092Z"
    },
    "executionInfo": {
     "elapsed": 634,
     "status": "ok",
     "timestamp": 1670227103477,
     "user": {
      "displayName": "Hyein Gu",
      "userId": "17771678136426456982"
     },
     "user_tz": -540
    },
    "id": "Uq_TJqbdhfQu"
   },
   "outputs": [],
   "source": [
    "import pandas as pd\n",
    "import os\n",
    "import random\n",
    "import numpy as np\n",
    "\n",
    "import matplotlib.pyplot as plt\n",
    "import lightgbm as lgb\n",
    "from sklearn.metrics import roc_auc_score\n",
    "from sklearn.metrics import accuracy_score"
   ]
  },
  {
   "cell_type": "code",
   "execution_count": 2,
   "metadata": {
    "colab": {
     "base_uri": "https://localhost:8080/"
    },
    "executionInfo": {
     "elapsed": 2625,
     "status": "ok",
     "timestamp": 1670227106653,
     "user": {
      "displayName": "Hyein Gu",
      "userId": "17771678136426456982"
     },
     "user_tz": -540
    },
    "id": "AwmCIwzAovbB",
    "outputId": "f110766f-573b-4578-81e4-7f61ebf93e84"
   },
   "outputs": [],
   "source": [
    "# from google.colab import drive\n",
    "# drive.mount('/content/drive')"
   ]
  },
  {
   "cell_type": "markdown",
   "metadata": {
    "id": "QZlm5HSmhfQv"
   },
   "source": [
    "## 1. 데이터 로딩"
   ]
  },
  {
   "cell_type": "code",
   "execution_count": 3,
   "metadata": {
    "ExecuteTime": {
     "end_time": "2021-05-24T09:49:29.678737Z",
     "start_time": "2021-05-24T09:49:29.376581Z"
    },
    "executionInfo": {
     "elapsed": 2905,
     "status": "ok",
     "timestamp": 1670227113795,
     "user": {
      "displayName": "Hyein Gu",
      "userId": "17771678136426456982"
     },
     "user_tz": -540
    },
    "id": "s6qgJ8MLhfQw"
   },
   "outputs": [],
   "source": [
    "# data_dir = 'drive/MyDrive/Colab Notebooks/bootcamp/data/DKT' # 경로는 상황에 맞춰서 수정해주세요!\n",
    "data_dir = '../data/'\n",
    "\n",
    "# LOAD TRAINDATA\n",
    "csv_file_path = os.path.join(data_dir, 'train_data.csv') # 데이터는 대회홈페이지에서 받아주세요 :)\n",
    "train_data = pd.read_csv(csv_file_path)\n",
    "\n",
    "# LOAD TESTDATA\n",
    "test_csv_file_path = os.path.join(data_dir, 'test_data.csv')\n",
    "test_data = pd.read_csv(test_csv_file_path)\n",
    "test_data['answerCode'] = test_data['answerCode'].replace(-1, np.nan)\n",
    "\n",
    "# # LEAVE LAST INTERACTION ONLY\n",
    "# train_df = test_df[test_df['userID'] == test_df['userID'].shift(-1)]\n",
    "# test_df = test_df[test_df['userID'] != test_df['userID'].shift(-1)]\n",
    "\n",
    "# df = pd.concat([df, train_df], ignore_index=True)"
   ]
  },
  {
   "cell_type": "code",
   "execution_count": 4,
   "metadata": {},
   "outputs": [],
   "source": [
    "total = pd.read_csv('../data/total_data_hyein6.csv')\n",
    "df = total[total['train'] == 1]\n",
    "submission = total[total['train'] == 0]"
   ]
  },
  {
   "cell_type": "code",
   "execution_count": 71,
   "metadata": {},
   "outputs": [
    {
     "data": {
      "text/plain": [
       "userID                    int64\n",
       "assessmentItemID         object\n",
       "testId                   object\n",
       "answerCode              float64\n",
       "Timestamp                object\n",
       "                         ...   \n",
       "item_num                  int64\n",
       "item_seq                  int64\n",
       "elo_assessmentItemID    float64\n",
       "elo_testId              float64\n",
       "elo_KnowledgeTag        float64\n",
       "Length: 75, dtype: object"
      ]
     },
     "execution_count": 71,
     "metadata": {},
     "output_type": "execute_result"
    }
   ],
   "source": [
    "total.dtypes"
   ]
  },
  {
   "cell_type": "markdown",
   "metadata": {
    "id": "p_oCGAgEhfQw"
   },
   "source": [
    "## 2. Feature Engineering"
   ]
  },
  {
   "cell_type": "code",
   "execution_count": 25,
   "metadata": {
    "ExecuteTime": {
     "end_time": "2021-05-24T09:49:29.682739Z",
     "start_time": "2021-05-24T09:49:28.979Z"
    },
    "executionInfo": {
     "elapsed": 5,
     "status": "ok",
     "timestamp": 1670227115562,
     "user": {
      "displayName": "Hyein Gu",
      "userId": "17771678136426456982"
     },
     "user_tz": -540
    },
    "id": "URNLoukChfQx",
    "jupyter": {
     "source_hidden": true
    },
    "tags": []
   },
   "outputs": [],
   "source": [
    "def feature_engineering(train, test):\n",
    "    ## train, test data concat\n",
    "    train['train'] = 1\n",
    "    test['train'] = 0\n",
    "    total = pd.concat([train, test], ignore_index=True)\n",
    "    \n",
    "    ## 유저별 시퀀스를 고려하기 위해 아래와 같이 정렬\n",
    "    print('Timestamp')\n",
    "    total['Timestamp'] = pd.to_datetime(total['Timestamp'])\n",
    "    total.sort_values(by=['userID','Timestamp'], inplace=True)#.reset_index(drop=True)\n",
    "    \n",
    "    ############################## 1. Timestamp ##############################\n",
    "    # 1-1. hour, month\n",
    "    print('hour', 'month', 'dayofweek')\n",
    "    total['hour'] = total['Timestamp'].dt.hour\n",
    "    total['month'] = total['Timestamp'].dt.month\n",
    "    total['dayofweek'] = total['Timestamp'].dt.dayofweek\n",
    "    \n",
    "    # 1-2. 기존 elapsed\n",
    "    print('elapsed')    # 직전 문제 풀이 소요 시간\n",
    "    diff = total.loc[:, ['userID', 'Timestamp']].groupby('userID').diff().fillna(pd.Timedelta(seconds=0))\n",
    "    diff = diff.fillna(pd.Timedelta(seconds=0))\n",
    "    diff = diff['Timestamp'].apply(lambda x: x.total_seconds())\n",
    "    total['elapsed'] = diff\n",
    "    total['elapsed'] = total['elapsed'].apply(lambda x: x if x < 600 and x>=0 else 0)\n",
    "    \n",
    "    # 1-3. current elapsed\n",
    "    print('current elapsed')    # 현재 문제 풀이 소요 시간\n",
    "    diff = total.loc[:, ['userID', 'Timestamp']].groupby('userID').diff().shift(-1).fillna(method='ffill') # 마지막 문제 소요시간을 직전 문제 시간으로 채움\n",
    "    diff = diff['Timestamp'].apply(lambda x: x.total_seconds())\n",
    "    total['current_elapsed'] = diff\n",
    "    total['current_elapsed'] = total['current_elapsed'].apply(lambda x: x if x < 600 and x>=0 else np.nan)\n",
    "    total['current_elapsed'] = total['current_elapsed'].fillna(method='ffill')\n",
    "\n",
    "    # 1-4. time class\n",
    "    print('time class')\n",
    "    total['timeClass'] = total['elapsed']//5 + 1\n",
    "    \n",
    "    # 1-5. day diff\n",
    "    print('day_diff')\n",
    "    day_diff = total.loc[:,['userID','Timestamp']].groupby('userID').diff().fillna(pd.Timedelta(seconds=0))\n",
    "    day_diff = day_diff['Timestamp'].apply(lambda x: x.days)\n",
    "    total['day_diff'] = day_diff\n",
    "    total['day_diff'] = total['day_diff'].apply(lambda x: x if x < 1 and x>=0 else 1)   # 1일 이상 간격 1일로 클립\n",
    " \n",
    "    # 1-6. solved_time\n",
    "    # 같은 문제 몇번째 푸는지\n",
    "    print('same_item_cnt')\n",
    "    total['same_item_cnt'] = total.groupby(['userID', 'assessmentItemID']).cumcount() + 1\n",
    "   \n",
    "    # 유저, test, same_item_cnt 구분했을 때 **이전** 문제 푸는데 걸린 시간 > shift, fillna\n",
    "    print('solved_time_prior')\n",
    "    diff_shift = total.loc[:, ['userID', 'testId', 'Timestamp', 'same_item_cnt']].groupby(['userID', 'testId', 'same_item_cnt']).diff()#.shift(-1)\n",
    "    diff_shift = diff_shift['Timestamp'].apply(lambda x: x.total_seconds())\n",
    "    total['solved_time_prior'] = diff_shift\n",
    "    total['solved_time_prior'].fillna(0, inplace=True)\n",
    "    total['solved_time_prior'] = total['solved_time_prior'].apply(lambda x: x if x < 600 and x>=0 else 0)\n",
    "    # total['solved_time_prior'] = total.groupby(['userID', 'testId', 'same_item_cnt'])['solved_time_prior'].apply(lambda x:x.fillna(x.mean()))\n",
    "    \n",
    "    # 유저, test, same_item_cnt 구분했을 때 문제 푸는데 걸린 시간 > shift, fillna\n",
    "    print('solved_time')\n",
    "    diff_shift = total.loc[:, ['userID', 'testId', 'Timestamp', 'same_item_cnt']].groupby(['userID', 'testId', 'same_item_cnt']).diff().shift(-1)\n",
    "    diff_shift = diff_shift['Timestamp'].apply(lambda x: x.total_seconds())\n",
    "    total['solved_time'] = diff_shift\n",
    "    total['solved_time'] = total['solved_time'].apply(lambda x: x if x < 600 and x>=0 else 0)\n",
    "    total['solved_time'] = total.groupby(['userID', 'testId', 'same_item_cnt'])['solved_time'].apply(lambda x:x.fillna(x.mean()))\n",
    "    \n",
    "    \n",
    "    ############################## 2. agg값 ##############################\n",
    "    print('bigcat, smallcat')\n",
    "    total['bigcat'] = total['testId'].str[2]\n",
    "    total['smallcat'] = total['testId'].str[7:10]\n",
    "    \n",
    "    # # Bigcat_class\n",
    "    # print('Bigcat_class')\n",
    "    # total['Bigcat_class'] = round(total['Bigcat_avg']*10)\n",
    "    \n",
    "    # # 맞은 사람의 문제별 평균 풀이시간\n",
    "    # total = total.set_index('assessmentItemID')\n",
    "    # total['Item_mean_solved_time'] = total[total['answerCode'] == 1].groupby('assessmentItemID')['solved_time_shift'].mean()\n",
    "    # total = total.reset_index(drop = False)\n",
    "\n",
    "    ## 2-1. 유저/문제/시험지/카테고리/태그별 평균 정답률\n",
    "    print('avg')\n",
    "    total['user_avg'] = total.groupby('userID')['answerCode'].transform('mean')\n",
    "    total['item_avg'] = total.groupby('assessmentItemID')['answerCode'].transform('mean')\n",
    "    total['test_avg'] = total.groupby('testId')['answerCode'].transform('mean')\n",
    "    total['bigcat_avg'] = total.groupby('bigcat')['answerCode'].transform('mean')\n",
    "    total['tag_avg'] = total.groupby('KnowledgeTag')['answerCode'].transform('mean')\n",
    "\n",
    "    ## 2-2. 유저/문제/시험지/카테고리/태그별 평균 풀이시간\n",
    "    print('time_avg')\n",
    "    total['user_time_avg'] = total.groupby('userID')['solved_time'].transform('mean')\n",
    "    total['item_time_avg'] = total.groupby('assessmentItemID')['solved_time'].transform('mean')\n",
    "    total['test_time_avg'] = total.groupby('testId')['solved_time'].transform('mean')\n",
    "    total['bigcat_time_avg'] = total.groupby('bigcat')['solved_time'].transform('mean')\n",
    "    total['tag_time_avg'] = total.groupby('KnowledgeTag')['solved_time'].transform('mean')\n",
    "     \n",
    "    ## 2-3. 유저/문제/시험지/카테고리/태그별 정답률 표준편차\n",
    "    print('std')\n",
    "    total['user_std'] = total.groupby('userID')['answerCode'].transform('std')\n",
    "    total['item_std'] = total.groupby('assessmentItemID')['answerCode'].transform('std')\n",
    "    total['test_std'] = total.groupby('testId')['answerCode'].transform('std')\n",
    "    total['bigcat_std'] = total.groupby('bigcat')['answerCode'].transform('std')\n",
    "    total['tag_std'] = total.groupby('KnowledgeTag')['answerCode'].transform('std')\n",
    "    \n",
    "    ## 2-5. 유저/문제/시험지/카테고리/태그별 누적 개수\n",
    "    print('cum_cnt')\n",
    "    total['user_cum_cnt'] = total.groupby('userID')['answerCode'].cumcount() + 1\n",
    "    total['item_cum_cnt'] = total.groupby('assessmentItemID')['answerCode'].cumcount() + 1\n",
    "    total['test_cum_cnt'] = total.groupby('testId')['answerCode'].cumcount() + 1\n",
    "    total['bigcat_cum_cnt'] = total.groupby('bigcat')['answerCode'].cumcount() + 1\n",
    "    total['tag_cum_cnt'] = total.groupby('KnowledgeTag')['answerCode'].cumcount() + 1\n",
    "    \n",
    "    ## 2-6. 유저/문제/시험지/카테고리/태그별 누적정답률\n",
    "    print('cum_acc')\n",
    "    total['user_cor_cum_cnt'] = total.groupby('userID')['answerCode'].cumsum()\n",
    "    total['item_cor_cum_cnt'] = total.groupby('assessmentItemID')['answerCode'].cumsum()\n",
    "    total['test_cor_cum_cnt'] = total.groupby('testId')['answerCode'].cumsum()\n",
    "    total['bigcat_cor_cum_cnt'] = total.groupby('bigcat')['answerCode'].cumsum()\n",
    "    total['tag_cor_cum_cnt'] = total.groupby('KnowledgeTag')['answerCode'].cumsum()\n",
    "    \n",
    "    total['user_cum_acc'] = total['user_cor_cum_cnt']/total['user_cum_cnt']\n",
    "    total['item_cum_acc'] = total['item_cor_cum_cnt']/total['item_cum_cnt']\n",
    "    total['test_cum_acc'] = total['test_cor_cum_cnt']/total['test_cum_cnt']\n",
    "    total['bigcat_cum_acc'] = total['bigcat_cor_cum_cnt']/total['bigcat_cum_cnt']\n",
    "    total['tag_cum_acc'] = total['tag_cor_cum_cnt']/total['tag_cum_cnt']\n",
    "    \n",
    "    ## 2-7. 유저의 시험지/카테고리/태그별 누적 정답률\n",
    "    print('cum_acc per user')\n",
    "    total['test_cum_cnt_per_user'] = total.groupby(['userID', 'testId'])['answerCode'].cumcount() + 1\n",
    "    total['bigcat_cum_cnt_per_user'] = total.groupby(['userID', 'bigcat'])['answerCode'].cumcount() + 1\n",
    "    total['tag_cum_cnt_per_user'] = total.groupby(['userID', 'KnowledgeTag'])['answerCode'].cumcount() + 1\n",
    "    \n",
    "    total['test_cor_cum_per_user'] = total.groupby(['userID', 'testId'])['answerCode'].cumsum()\n",
    "    total['bigcat_cor_cum_per_user'] = total.groupby(['userID', 'bigcat'])['answerCode'].cumsum()\n",
    "    total['tag_cor_cum_per_user'] = total.groupby(['userID', 'KnowledgeTag'])['answerCode'].cumsum()\n",
    "    \n",
    "    total['test_cum_acc_per_user'] = total['test_cor_cum_per_user']/total['test_cum_cnt_per_user']\n",
    "    total['bigcat_cum_acc_per_user'] = total['bigcat_cor_cum_per_user']/total['bigcat_cum_cnt_per_user']\n",
    "    total['tag_cum_acc_per_user'] = total['tag_cor_cum_per_user']/total['tag_cum_cnt_per_user']\n",
    "    \n",
    "    \n",
    "    ############################## 3. current ##############################\n",
    "    ## 3-1. 유저의 해당 문제지 평균 정답률/풀이시간\n",
    "    print('current')\n",
    "    total['user_cur_avg'] = total.groupby(['userID', 'testId', 'same_item_cnt'])['answerCode'].transform('mean')\n",
    "    total['user_cur_time_avg'] = total.groupby(['userID', 'testId', 'same_item_cnt'])['solved_time'].transform('mean')\n",
    "    \n",
    "    print('user_rolling')\n",
    "    total['user_rec_avg_rolling5'] = total.groupby('userID')['answerCode'].transform(lambda x:x.rolling(5, min_periods=1).mean())\n",
    "    total['user_rec_time_avg_rolling5'] = total.groupby('userID')['solved_time'].transform(lambda x:x.rolling(5, min_periods=1).mean())\n",
    "\n",
    "    total['user_rec_avg_rolling7'] = total.groupby('userID')['answerCode'].transform(lambda x:x.rolling(7, min_periods=1).mean())\n",
    "    total['user_rec_time_avg_rolling7'] = total.groupby('userID')['solved_time'].transform(lambda x:x.rolling(7, min_periods=1).mean())\n",
    "    \n",
    "    total['user_rec_avg_rolling10'] = total.groupby('userID')['answerCode'].transform(lambda x:x.rolling(10, min_periods=1).mean())\n",
    "    total['user_rec_time_avg_rolling10'] = total.groupby('userID')['solved_time'].transform(lambda x:x.rolling(10, min_periods=1).mean())\n",
    "    \n",
    "    print('item_rolling')\n",
    "    total['item_rec_avg_rolling5'] = total.groupby('assessmentItemID')['answerCode'].transform(lambda x:x.rolling(5, min_periods=1).mean())\n",
    "    total['item_rec_time_avg_rolling5'] = total.groupby('assessmentItemID')['solved_time'].transform(lambda x:x.rolling(5, min_periods=1).mean())\n",
    "\n",
    "    total['item_rec_avg_rolling7'] = total.groupby('assessmentItemID')['answerCode'].transform(lambda x:x.rolling(7, min_periods=1).mean())\n",
    "    total['item_rec_time_avg_rolling7'] = total.groupby('assessmentItemID')['solved_time'].transform(lambda x:x.rolling(7, min_periods=1).mean())\n",
    "    \n",
    "    total['item_rec_avg_rolling10'] = total.groupby('assessmentItemID')['answerCode'].transform(lambda x:x.rolling(10, min_periods=1).mean())\n",
    "    total['item_rec_time_avg_rolling10'] = total.groupby('assessmentItemID')['solved_time'].transform(lambda x:x.rolling(10, min_periods=1).mean())\n",
    "    \n",
    "    \n",
    "#     # 2-1 유저/문제별 최근 정답횟수 \n",
    "#     print('retCount_correct_answer')\n",
    "#     total['user_retCount_correct_answer'] = total.groupby('userID')['answerCode'].transform(lambda x:x.rolling(5, min_periods=1).sum().shift(1))\n",
    "#     total['item_retCount_correct_answer'] = total.groupby('assessmentItemID')['answerCode'].transform(lambda x:x.rolling(5, min_periods=1).sum().shift(1))\n",
    "    \n",
    "\n",
    "#     # 2-1 유저/문제별 최근 정답률\n",
    "#     print('retCumacc')\n",
    "#     total['user_retCount'] = total.groupby('userID')['answerCode'].transform(lambda x:x.rolling(5, min_periods=1).count().shift(1))\n",
    "#     total['user_retCumacc'] = total['user_retCount_correct_answer']/total['user_retCount']\n",
    "\n",
    "#     total['item_retCount'] = total.groupby('assessmentItemID')['answerCode'].transform(lambda x:x.rolling(5, min_periods=1).count().shift(1))\n",
    "#     total['item_retCumacc'] = total['item_retCount_correct_answer']/total['item_retCount']\n",
    "    \n",
    "    \n",
    "    ############################## 4. etc ##############################\n",
    "    ## 문제 번호 추가\n",
    "    print('item_num')\n",
    "    total['item_num'] = total['assessmentItemID'].str[7:]\n",
    "    \n",
    "    ## 문제 푼 순서 추가 > 상대적 순서?\n",
    "    print('item_seq')\n",
    "    total['item_seq'] = total.groupby(['userID', 'testId', 'same_item_cnt']).cumcount()+1\n",
    "\n",
    "\n",
    "    ## train, test 나누어서 return\n",
    "    train_df = total[total['train']==1]\n",
    "    test_df = total[total['train']==0]\n",
    "    test_df = test_df[test_df['userID'] != test_df['userID'].shift(-1)]\n",
    "    \n",
    "    \n",
    "    return train_df, test_df"
   ]
  },
  {
   "cell_type": "code",
   "execution_count": 26,
   "metadata": {
    "ExecuteTime": {
     "end_time": "2021-05-24T09:49:29.683739Z",
     "start_time": "2021-05-24T09:49:28.981Z"
    },
    "colab": {
     "base_uri": "https://localhost:8080/"
    },
    "collapsed": true,
    "executionInfo": {
     "elapsed": 555316,
     "status": "ok",
     "timestamp": 1670227670875,
     "user": {
      "displayName": "Hyein Gu",
      "userId": "17771678136426456982"
     },
     "user_tz": -540
    },
    "id": "2vsUwksMhfQy",
    "jupyter": {
     "outputs_hidden": true
    },
    "outputId": "baec596e-3d14-4b97-d93a-661f7dc9de7f",
    "tags": []
   },
   "outputs": [
    {
     "name": "stdout",
     "output_type": "stream",
     "text": [
      "Timestamp\n",
      "hour month dayofweek\n",
      "elapsed\n",
      "current elapsed\n",
      "time class\n",
      "day_diff\n",
      "same_item_cnt\n",
      "solved_time_prior\n",
      "solved_time\n"
     ]
    },
    {
     "name": "stderr",
     "output_type": "stream",
     "text": [
      "/tmp/ipykernel_9120/589556473.py:66: FutureWarning: Not prepending group keys to the result index of transform-like apply. In the future, the group keys will be included in the index, regardless of whether the applied function returns a like-indexed object.\n",
      "To preserve the previous behavior, use\n",
      "\n",
      "\t>>> .groupby(..., group_keys=False)\n",
      "\n",
      "To adopt the future behavior and silence this warning, use \n",
      "\n",
      "\t>>> .groupby(..., group_keys=True)\n",
      "  total['solved_time'] = total.groupby(['userID', 'testId', 'same_item_cnt'])['solved_time'].apply(lambda x:x.fillna(x.mean()))\n"
     ]
    },
    {
     "name": "stdout",
     "output_type": "stream",
     "text": [
      "bigcat, smallcat\n",
      "avg\n",
      "time_avg\n",
      "std\n",
      "cum_cnt\n",
      "cum_acc\n",
      "cum_acc per user\n",
      "current\n",
      "user_rolling\n",
      "item_rolling\n",
      "item_num\n",
      "item_seq\n"
     ]
    }
   ],
   "source": [
    "# df, submission = feature_engineering(train_data, test_data)\n",
    "# display(df)\n",
    "# display(submission)"
   ]
  },
  {
   "cell_type": "code",
   "execution_count": 27,
   "metadata": {
    "colab": {
     "base_uri": "https://localhost:8080/"
    },
    "collapsed": true,
    "executionInfo": {
     "elapsed": 26,
     "status": "ok",
     "timestamp": 1670227670876,
     "user": {
      "displayName": "Hyein Gu",
      "userId": "17771678136426456982"
     },
     "user_tz": -540
    },
    "id": "EtJCkvW8oXKK",
    "jupyter": {
     "outputs_hidden": true
    },
    "outputId": "933b4685-ebbe-46da-af71-76e48eca1ea2",
    "tags": []
   },
   "outputs": [
    {
     "data": {
      "text/plain": [
       "Index(['userID', 'assessmentItemID', 'testId', 'answerCode', 'Timestamp',\n",
       "       'KnowledgeTag', 'train', 'hour', 'month', 'dayofweek', 'elapsed',\n",
       "       'current_elapsed', 'timeClass', 'day_diff', 'same_item_cnt',\n",
       "       'solved_time_prior', 'solved_time', 'bigcat', 'smallcat', 'user_avg',\n",
       "       'item_avg', 'test_avg', 'bigcat_avg', 'tag_avg', 'user_time_avg',\n",
       "       'item_time_avg', 'test_time_avg', 'bigcat_time_avg', 'tag_time_avg',\n",
       "       'user_std', 'item_std', 'test_std', 'bigcat_std', 'tag_std',\n",
       "       'user_cum_cnt', 'item_cum_cnt', 'test_cum_cnt', 'bigcat_cum_cnt',\n",
       "       'tag_cum_cnt', 'user_cor_cum_cnt', 'item_cor_cum_cnt',\n",
       "       'test_cor_cum_cnt', 'bigcat_cor_cum_cnt', 'tag_cor_cum_cnt',\n",
       "       'user_cum_acc', 'item_cum_acc', 'test_cum_acc', 'bigcat_cum_acc',\n",
       "       'tag_cum_acc', 'test_cum_cnt_per_user', 'bigcat_cum_cnt_per_user',\n",
       "       'tag_cum_cnt_per_user', 'test_cor_cum_per_user',\n",
       "       'bigcat_cor_cum_per_user', 'tag_cor_cum_per_user',\n",
       "       'test_cum_acc_per_user', 'bigcat_cum_acc_per_user',\n",
       "       'tag_cum_acc_per_user', 'user_cur_avg', 'user_cur_time_avg',\n",
       "       'user_rec_avg_rolling5', 'user_rec_time_avg_rolling5',\n",
       "       'user_rec_avg_rolling7', 'user_rec_time_avg_rolling7',\n",
       "       'user_rec_avg_rolling10', 'user_rec_time_avg_rolling10',\n",
       "       'item_rec_avg_rolling5', 'item_rec_time_avg_rolling5',\n",
       "       'item_rec_avg_rolling7', 'item_rec_time_avg_rolling7',\n",
       "       'item_rec_avg_rolling10', 'item_rec_time_avg_rolling10', 'item_num',\n",
       "       'item_seq'],\n",
       "      dtype='object')"
      ]
     },
     "execution_count": 27,
     "metadata": {},
     "output_type": "execute_result"
    }
   ],
   "source": [
    "df.columns"
   ]
  },
  {
   "cell_type": "code",
   "execution_count": 68,
   "metadata": {
    "colab": {
     "base_uri": "https://localhost:8080/"
    },
    "executionInfo": {
     "elapsed": 22,
     "status": "ok",
     "timestamp": 1670227670876,
     "user": {
      "displayName": "Hyein Gu",
      "userId": "17771678136426456982"
     },
     "user_tz": -540
    },
    "id": "xUrpMTvVoXKK",
    "outputId": "4e63a71d-de81-4e14-df29-9fa39264a6d7"
   },
   "outputs": [
    {
     "data": {
      "text/plain": [
       "test_cor_cum_per_user          float64\n",
       "bigcat_cor_cum_per_user        float64\n",
       "tag_cor_cum_per_user           float64\n",
       "test_cum_acc_per_user          float64\n",
       "bigcat_cum_acc_per_user        float64\n",
       "tag_cum_acc_per_user           float64\n",
       "user_cur_avg                   float64\n",
       "user_cur_time_avg              float64\n",
       "user_rec_avg_rolling5          float64\n",
       "user_rec_time_avg_rolling5     float64\n",
       "user_rec_avg_rolling7          float64\n",
       "user_rec_time_avg_rolling7     float64\n",
       "user_rec_avg_rolling10         float64\n",
       "user_rec_time_avg_rolling10    float64\n",
       "item_rec_avg_rolling5          float64\n",
       "item_rec_time_avg_rolling5     float64\n",
       "item_rec_avg_rolling7          float64\n",
       "item_rec_time_avg_rolling7     float64\n",
       "item_rec_avg_rolling10         float64\n",
       "item_rec_time_avg_rolling10    float64\n",
       "item_num                         int64\n",
       "item_seq                         int64\n",
       "dtype: object"
      ]
     },
     "execution_count": 68,
     "metadata": {},
     "output_type": "execute_result"
    }
   ],
   "source": [
    "df.dtypes[50:]"
   ]
  },
  {
   "cell_type": "code",
   "execution_count": 29,
   "metadata": {
    "executionInfo": {
     "elapsed": 398,
     "status": "ok",
     "timestamp": 1670222029085,
     "user": {
      "displayName": "Hyein Gu",
      "userId": "17771678136426456982"
     },
     "user_tz": -540
    },
    "id": "1yQiimkkoXKL"
   },
   "outputs": [],
   "source": [
    "# feats = ['assessmentItemID', 'testId', 'bigcat', 'smallcat', 'item_num']\n",
    "# for f in feats:\n",
    "#     df[f] = df[f].astype('category')"
   ]
  },
  {
   "cell_type": "markdown",
   "metadata": {
    "id": "5VZzei3DhfQy"
   },
   "source": [
    "## 3. Train/Test 데이터 셋 분리"
   ]
  },
  {
   "cell_type": "code",
   "execution_count": 5,
   "metadata": {
    "ExecuteTime": {
     "end_time": "2021-05-24T09:49:29.684739Z",
     "start_time": "2021-05-24T09:49:28.982Z"
    },
    "executionInfo": {
     "elapsed": 19,
     "status": "ok",
     "timestamp": 1670227670876,
     "user": {
      "displayName": "Hyein Gu",
      "userId": "17771678136426456982"
     },
     "user_tz": -540
    },
    "id": "YOPWK7ckhfQz"
   },
   "outputs": [],
   "source": [
    "# train과 test 데이터셋은 사용자 별로 묶어서 분리를 해주어야함\n",
    "random.seed(42)\n",
    "def custom_train_test_split(df, ratio=0.7, split=True):\n",
    "    \n",
    "    users = list(zip(df['userID'].value_counts().index, df['userID'].value_counts()))\n",
    "    random.shuffle(users)\n",
    "    \n",
    "    max_train_data_len = ratio*len(df)\n",
    "    sum_of_train_data = 0\n",
    "    user_ids =[]\n",
    "\n",
    "    for user_id, count in users:\n",
    "        sum_of_train_data += count\n",
    "        if max_train_data_len < sum_of_train_data:\n",
    "            break\n",
    "        user_ids.append(user_id)\n",
    "\n",
    "\n",
    "    train = df[df['userID'].isin(user_ids)]\n",
    "    test = df[df['userID'].isin(user_ids) == False]\n",
    "\n",
    "    #test데이터셋은 각 유저의 마지막 interaction만 추출\n",
    "    test = test[test['userID'] != test['userID'].shift(-1)]\n",
    "    return train, test"
   ]
  },
  {
   "cell_type": "code",
   "execution_count": 6,
   "metadata": {
    "colab": {
     "base_uri": "https://localhost:8080/"
    },
    "executionInfo": {
     "elapsed": 1232,
     "status": "ok",
     "timestamp": 1670227672091,
     "user": {
      "displayName": "Hyein Gu",
      "userId": "17771678136426456982"
     },
     "user_tz": -540
    },
    "id": "5RbrpwgNoXKM",
    "outputId": "19e7dd7c-f628-4780-a165-a1512961b9a5"
   },
   "outputs": [
    {
     "name": "stdout",
     "output_type": "stream",
     "text": [
      "Index(['userID', 'assessmentItemID', 'testId', 'answerCode', 'Timestamp',\n",
      "       'KnowledgeTag', 'train', 'hour', 'month', 'dayofweek', 'elapsed',\n",
      "       'timeClass', 'same_item_cnt', 'solved_time_prior', 'solved_time',\n",
      "       'bigcat', 'smallcat', 'user_avg', 'item_avg', 'test_avg', 'bigcat_avg',\n",
      "       'tag_avg', 'user_time_avg', 'item_time_avg', 'test_time_avg',\n",
      "       'bigcat_time_avg', 'tag_time_avg', 'user_std', 'item_std', 'test_std',\n",
      "       'bigcat_std', 'tag_std', 'user_cum_cnt', 'item_cum_cnt', 'test_cum_cnt',\n",
      "       'bigcat_cum_cnt', 'tag_cum_cnt', 'user_cor_cum_cnt', 'item_cor_cum_cnt',\n",
      "       'test_cor_cum_cnt', 'bigcat_cor_cum_cnt', 'tag_cor_cum_cnt',\n",
      "       'user_cum_acc', 'item_cum_acc', 'test_cum_acc', 'bigcat_cum_acc',\n",
      "       'tag_cum_acc', 'test_cum_cnt_per_user', 'bigcat_cum_cnt_per_user',\n",
      "       'tag_cum_cnt_per_user', 'test_cor_cum_per_user',\n",
      "       'bigcat_cor_cum_per_user', 'tag_cor_cum_per_user',\n",
      "       'test_cum_acc_per_user', 'bigcat_cum_acc_per_user',\n",
      "       'tag_cum_acc_per_user', 'user_cur_avg', 'user_cur_time_avg',\n",
      "       'user_rec_avg_rolling5', 'user_rec_time_avg_rolling5',\n",
      "       'user_rec_avg_rolling7', 'user_rec_time_avg_rolling7',\n",
      "       'user_rec_avg_rolling10', 'user_rec_time_avg_rolling10',\n",
      "       'item_rec_avg_rolling5', 'item_rec_time_avg_rolling5',\n",
      "       'item_rec_avg_rolling7', 'item_rec_time_avg_rolling7',\n",
      "       'item_rec_avg_rolling10', 'item_rec_time_avg_rolling10', 'item_num',\n",
      "       'item_seq', 'elo_assessmentItemID', 'elo_testId', 'elo_KnowledgeTag'],\n",
      "      dtype='object')\n"
     ]
    }
   ],
   "source": [
    "# 유저별 분리\n",
    "train, test = custom_train_test_split(df)\n",
    "print(train.columns)"
   ]
  },
  {
   "cell_type": "code",
   "execution_count": 7,
   "metadata": {
    "ExecuteTime": {
     "end_time": "2021-05-24T09:49:29.686739Z",
     "start_time": "2021-05-24T09:49:28.984Z"
    },
    "executionInfo": {
     "elapsed": 2,
     "status": "ok",
     "timestamp": 1670227672880,
     "user": {
      "displayName": "Hyein Gu",
      "userId": "17771678136426456982"
     },
     "user_tz": -540
    },
    "id": "i3HzdoybhfQ0"
   },
   "outputs": [],
   "source": [
    "# 사용할 Feature 설정\n",
    "# FEATS = ['KnowledgeTag', 'user_correct_answer', 'user_total_answer', \n",
    "#          'user_acc', 'test_mean', 'test_sum', 'tag_mean','tag_sum', 'elapsed','Bigcat','smallcat']\n",
    "# FEATS = ['KnowledgeTag', 'user_correct_answer', 'user_total_answer', \n",
    "#          'user_acc', 'test_mean', 'test_sum', 'tag_mean','tag_sum', 'elapsed', 'Bigcat', 'smallcat', 'item_num', 'item_seq', 'solved_time_shift']\n",
    "# FEATS = ['KnowledgeTag', 'same_item_cnt', 'user_avg', 'item_avg', 'test_avg', 'tag_avg', 'user_time_avg', 'item_time_avg',\n",
    "#        'test_time_avg', 'tag_time_avg', 'user_current_avg', 'user_current_time_avg', 'hour', 'item_num', 'Bigcat','smallcat']\n",
    "CATE_FEATS = [#'assessmentItemID', 'testId', \n",
    "              'KnowledgeTag', 'hour', 'month', 'dayofweek',\n",
    "             'timeClass', 'bigcat', 'smallcat', 'item_num']\n",
    "CONTI_FEATS = ['elapsed',\n",
    "               'same_item_cnt', 'solved_time_prior', 'solved_time',\n",
    "               'user_avg', 'item_avg', 'test_avg', 'bigcat_avg', 'tag_avg', \n",
    "               'user_time_avg', 'item_time_avg', 'test_time_avg', 'bigcat_time_avg', 'tag_time_avg',\n",
    "               'user_std', 'item_std', 'test_std', 'bigcat_std', 'tag_std',\n",
    "               'user_cum_cnt', 'item_cum_cnt', 'test_cum_cnt', 'bigcat_cum_cnt',\n",
    "               'tag_cum_cnt', 'user_cor_cum_cnt', 'item_cor_cum_cnt',\n",
    "               'test_cor_cum_cnt', 'bigcat_cor_cum_cnt', 'tag_cor_cum_cnt',\n",
    "               'user_cum_acc', 'item_cum_acc', 'test_cum_acc', 'bigcat_cum_acc',\n",
    "               'tag_cum_acc', 'test_cum_cnt_per_user', 'bigcat_cum_cnt_per_user',\n",
    "               'tag_cum_cnt_per_user', 'test_cor_cum_per_user',\n",
    "               'bigcat_cor_cum_per_user', 'tag_cor_cum_per_user',\n",
    "               'test_cum_acc_per_user', 'bigcat_cum_acc_per_user',\n",
    "               'tag_cum_acc_per_user', 'user_cur_avg', 'user_cur_time_avg',\n",
    "               'user_rec_avg_rolling5', 'user_rec_time_avg_rolling5',\n",
    "               'user_rec_avg_rolling7', 'user_rec_time_avg_rolling7',\n",
    "               'user_rec_avg_rolling10', 'user_rec_time_avg_rolling10',\n",
    "               'item_rec_avg_rolling5', 'item_rec_time_avg_rolling5',\n",
    "               'item_rec_avg_rolling7', 'item_rec_time_avg_rolling7',\n",
    "               'item_rec_avg_rolling10', 'item_rec_time_avg_rolling10', \n",
    "               'item_seq', 'elo_assessmentItemID', 'elo_testId', 'elo_KnowledgeTag']\n",
    "FEATS = CATE_FEATS + CONTI_FEATS"
   ]
  },
  {
   "cell_type": "code",
   "execution_count": 8,
   "metadata": {
    "ExecuteTime": {
     "end_time": "2021-05-24T09:49:29.686739Z",
     "start_time": "2021-05-24T09:49:28.984Z"
    },
    "executionInfo": {
     "elapsed": 2,
     "status": "ok",
     "timestamp": 1670227672880,
     "user": {
      "displayName": "Hyein Gu",
      "userId": "17771678136426456982"
     },
     "user_tz": -540
    },
    "id": "FXGdBd_VoXKM"
   },
   "outputs": [],
   "source": [
    "# X, y 값 분리\n",
    "y_train = train['answerCode']\n",
    "train = train.drop(['answerCode'], axis=1)\n",
    "\n",
    "y_test = test['answerCode']\n",
    "test = test.drop(['answerCode'], axis=1)"
   ]
  },
  {
   "cell_type": "code",
   "execution_count": 9,
   "metadata": {
    "ExecuteTime": {
     "end_time": "2021-05-24T09:49:29.688736Z",
     "start_time": "2021-05-24T09:49:28.986Z"
    },
    "executionInfo": {
     "elapsed": 3,
     "status": "ok",
     "timestamp": 1670227673406,
     "user": {
      "displayName": "Hyein Gu",
      "userId": "17771678136426456982"
     },
     "user_tz": -540
    },
    "id": "o59GhDdVhfQ1"
   },
   "outputs": [],
   "source": [
    "lgb_train = lgb.Dataset(train[FEATS], y_train)\n",
    "lgb_test = lgb.Dataset(test[FEATS], y_test)"
   ]
  },
  {
   "cell_type": "markdown",
   "metadata": {
    "id": "KiHss_BBhfQ2"
   },
   "source": [
    "## 4. 훈련 및 검증"
   ]
  },
  {
   "cell_type": "code",
   "execution_count": 10,
   "metadata": {
    "ExecuteTime": {
     "end_time": "2021-05-24T09:49:29.689738Z",
     "start_time": "2021-05-24T09:49:28.988Z"
    },
    "colab": {
     "base_uri": "https://localhost:8080/"
    },
    "executionInfo": {
     "elapsed": 618033,
     "status": "ok",
     "timestamp": 1670228291436,
     "user": {
      "displayName": "Hyein Gu",
      "userId": "17771678136426456982"
     },
     "user_tz": -540
    },
    "id": "-6FZfjA_hfQ2",
    "outputId": "f137faf2-6b0f-47f2-ef48-7b306a41f776"
   },
   "outputs": [
    {
     "name": "stdout",
     "output_type": "stream",
     "text": [
      "[LightGBM] [Info] Number of positive: 1039565, number of negative: 546592\n",
      "[LightGBM] [Warning] Auto-choosing col-wise multi-threading, the overhead of testing was 0.745736 seconds.\n",
      "You can set `force_col_wise=true` to remove the overhead.\n",
      "[LightGBM] [Info] Total Bins 12198\n",
      "[LightGBM] [Info] Number of data points in the train set: 1586157, number of used features: 69\n",
      "[LightGBM] [Info] [binary:BoostFromScore]: pavg=0.655399 -> initscore=0.642855\n",
      "[LightGBM] [Info] Start training from score 0.642855\n",
      "Training until validation scores don't improve for 100 rounds\n",
      "[100]\ttraining's binary_logloss: 0.584003\tvalid_1's binary_logloss: 0.690335\n",
      "[200]\ttraining's binary_logloss: 0.534373\tvalid_1's binary_logloss: 0.638685\n",
      "[300]\ttraining's binary_logloss: 0.492443\tvalid_1's binary_logloss: 0.595437\n",
      "[400]\ttraining's binary_logloss: 0.456567\tvalid_1's binary_logloss: 0.559116\n",
      "[500]\ttraining's binary_logloss: 0.425609\tvalid_1's binary_logloss: 0.527867\n",
      "[600]\ttraining's binary_logloss: 0.398363\tvalid_1's binary_logloss: 0.500753\n",
      "[700]\ttraining's binary_logloss: 0.374214\tvalid_1's binary_logloss: 0.476819\n",
      "[800]\ttraining's binary_logloss: 0.352996\tvalid_1's binary_logloss: 0.456034\n",
      "[900]\ttraining's binary_logloss: 0.333925\tvalid_1's binary_logloss: 0.43738\n",
      "[1000]\ttraining's binary_logloss: 0.317133\tvalid_1's binary_logloss: 0.421244\n",
      "[1100]\ttraining's binary_logloss: 0.302094\tvalid_1's binary_logloss: 0.406764\n",
      "[1200]\ttraining's binary_logloss: 0.288484\tvalid_1's binary_logloss: 0.393955\n",
      "[1300]\ttraining's binary_logloss: 0.276383\tvalid_1's binary_logloss: 0.382472\n",
      "[1400]\ttraining's binary_logloss: 0.26536\tvalid_1's binary_logloss: 0.372129\n",
      "[1500]\ttraining's binary_logloss: 0.255397\tvalid_1's binary_logloss: 0.362895\n",
      "[1600]\ttraining's binary_logloss: 0.246499\tvalid_1's binary_logloss: 0.354666\n",
      "[1700]\ttraining's binary_logloss: 0.238436\tvalid_1's binary_logloss: 0.347314\n",
      "[1800]\ttraining's binary_logloss: 0.23099\tvalid_1's binary_logloss: 0.340503\n",
      "[1900]\ttraining's binary_logloss: 0.224233\tvalid_1's binary_logloss: 0.334337\n",
      "[2000]\ttraining's binary_logloss: 0.218072\tvalid_1's binary_logloss: 0.328666\n",
      "Did not meet early stopping. Best iteration is:\n",
      "[2000]\ttraining's binary_logloss: 0.218072\tvalid_1's binary_logloss: 0.328666\n",
      "VALID AUC : 0.9461210494931425 ACC : 0.8619830592924763\n",
      "\n"
     ]
    }
   ],
   "source": [
    "model = lgb.train(\n",
    "    {'learning_rate': 0.001, \n",
    "      'objective': 'binary', \n",
    "      'metric': 'binary_logloss',\n",
    "      'sub_feature': 0.5, \n",
    "      'num_leaves': 10, \n",
    "      'min_data': 50, \n",
    "      'max_depth': 10}, \n",
    "    lgb_train,\n",
    "    valid_sets=[lgb_train, lgb_test],\n",
    "    verbose_eval=100,\n",
    "    num_boost_round=2000,\n",
    "    early_stopping_rounds=100\n",
    ")\n",
    "\n",
    "preds = model.predict(test[FEATS])\n",
    "acc = accuracy_score(y_test, np.where(preds >= 0.5, 1, 0))\n",
    "auc = roc_auc_score(y_test, preds)\n",
    "\n",
    "print(f'VALID AUC : {auc} ACC : {acc}\\n')"
   ]
  },
  {
   "cell_type": "markdown",
   "metadata": {
    "id": "oe-VRDmFoXKN"
   },
   "source": [
    "## feature selection"
   ]
  },
  {
   "cell_type": "markdown",
   "metadata": {},
   "source": [
    "### 1) VIF"
   ]
  },
  {
   "cell_type": "code",
   "execution_count": 78,
   "metadata": {
    "executionInfo": {
     "elapsed": 404,
     "status": "ok",
     "timestamp": 1670228426477,
     "user": {
      "displayName": "Hyein Gu",
      "userId": "17771678136426456982"
     },
     "user_tz": -540
    },
    "id": "RO8V2aiQoXKN"
   },
   "outputs": [],
   "source": [
    "# VIF를 이용한 분석은 라이브러리에 구현되어 있지 않다\n",
    "# 이럴 경우 직접 만들어 사용한다\n",
    "from statsmodels.stats.outliers_influence import variance_inflation_factor\n",
    "\n",
    "class VIF:\n",
    "    def __init__(self, threshold=100):\n",
    "        # 모듈 임포트\n",
    "        self.threshold = threshold\n",
    "\n",
    "    def get_support(self):\n",
    "        return np.array([True if vif < self.threshold else False for vif in self.vif_])\n",
    "\n",
    "    def fit_transform(self, X):\n",
    "        # pandas DataFrame을 numpy array로 변환\n",
    "        X = X.values\n",
    "\n",
    "        # X의 VIF 계산\n",
    "        self.vif_ = [variance_inflation_factor(X, i) for i in range(X.shape[1])]\n",
    "\n",
    "        return X[:, self.get_support()]"
   ]
  },
  {
   "cell_type": "code",
   "execution_count": 79,
   "metadata": {
    "executionInfo": {
     "elapsed": 5,
     "status": "ok",
     "timestamp": 1670228428157,
     "user": {
      "displayName": "Hyein Gu",
      "userId": "17771678136426456982"
     },
     "user_tz": -540
    },
    "id": "9CnuhoCCoXKN"
   },
   "outputs": [],
   "source": [
    "selector = VIF(threshold=100)"
   ]
  },
  {
   "cell_type": "code",
   "execution_count": 80,
   "metadata": {
    "colab": {
     "base_uri": "https://localhost:8080/"
    },
    "executionInfo": {
     "elapsed": 1134693,
     "status": "ok",
     "timestamp": 1670229663870,
     "user": {
      "displayName": "Hyein Gu",
      "userId": "17771678136426456982"
     },
     "user_tz": -540
    },
    "id": "R2G1bv31StYB",
    "outputId": "85f62293-0ed3-4165-88b8-6dadf07ef705"
   },
   "outputs": [
    {
     "data": {
      "text/plain": [
       "array([[2.04800000e+03, 8.00000000e+00, 1.00000000e+00, ...,\n",
       "        1.83000000e+02, 1.00000000e+00, 1.83000000e+02],\n",
       "       [2.04800000e+03, 8.00000000e+00, 1.00000000e+00, ...,\n",
       "        4.30000000e+01, 1.00000000e+00, 4.30000000e+01],\n",
       "       [2.04700000e+03, 8.00000000e+00, 1.00000000e+00, ...,\n",
       "        1.04000000e+02, 1.00000000e+00, 1.04000000e+02],\n",
       "       ...,\n",
       "       [1.98400000e+03, 8.00000000e+00, 1.00000000e+01, ...,\n",
       "        3.30000000e+01, 8.00000000e-01, 2.76000000e+01],\n",
       "       [1.98400000e+03, 8.00000000e+00, 1.00000000e+01, ...,\n",
       "        7.00000000e+01, 6.00000000e-01, 8.24000000e+01],\n",
       "       [1.98400000e+03, 8.00000000e+00, 1.00000000e+01, ...,\n",
       "        0.00000000e+00, 7.77777778e-01, 0.00000000e+00]])"
      ]
     },
     "execution_count": 80,
     "metadata": {},
     "output_type": "execute_result"
    }
   ],
   "source": [
    "# selector.fit_transform(np.array(train, dtype=float))\n",
    "selector.fit_transform(train[FEATS])"
   ]
  },
  {
   "cell_type": "code",
   "execution_count": 81,
   "metadata": {
    "colab": {
     "base_uri": "https://localhost:8080/",
     "height": 170
    },
    "collapsed": true,
    "executionInfo": {
     "elapsed": 380,
     "status": "error",
     "timestamp": 1670231059099,
     "user": {
      "displayName": "Hyein Gu",
      "userId": "17771678136426456982"
     },
     "user_tz": -540
    },
    "id": "7lu5gG5woXKN",
    "jupyter": {
     "outputs_hidden": true
    },
    "outputId": "9253af08-6ad4-4b64-a244-84044ca94fef",
    "tags": []
   },
   "outputs": [
    {
     "data": {
      "text/plain": [
       "[3.713026823873294,\n",
       " 2.905118244627739,\n",
       " 21.34406935225857,\n",
       " 3.161466712100607,\n",
       " 4436.408112712492,\n",
       " 35.924351167432334,\n",
       " 9.50833981098937,\n",
       " 73.91411173118931,\n",
       " 4267.138691582779,\n",
       " 943.3906009936745,\n",
       " 12.53648992849247,\n",
       " 2.9815792869147133,\n",
       " 172.01056753322638,\n",
       " 668.5888873247269,\n",
       " 1824.2187590894002,\n",
       " 2595.8677702033915,\n",
       " 1996.549551597721,\n",
       " 15.98706679101434,\n",
       " 12.471462594164553,\n",
       " 38.25793345220566,\n",
       " 355.4337320908312,\n",
       " 39.80765687623955,\n",
       " 191.80355954974655,\n",
       " 80.09943558890025,\n",
       " 672.1960908373684,\n",
       " 1518.6934087013622,\n",
       " 810.0489802926161,\n",
       " 99.96057137615709,\n",
       " 144.38701943557422,\n",
       " 224.43946096608354,\n",
       " 346.117936747564,\n",
       " 108.09099426238717,\n",
       " 92.11795784558035,\n",
       " 91.56964676608449,\n",
       " 191.52419855562965,\n",
       " 394.4823126325501,\n",
       " 112.84838016931948,\n",
       " 73.57678957084323,\n",
       " 334.7938505726652,\n",
       " 827.8929881908633,\n",
       " 2114.445844783033,\n",
       " 1151.1897296906654,\n",
       " 405.0395431580841,\n",
       " 52.3020665988259,\n",
       " 21.56185446942638,\n",
       " 27.089440534725313,\n",
       " 49.24155631111389,\n",
       " 21.18211600948146,\n",
       " 43.055630303365184,\n",
       " 39.36173755988464,\n",
       " 29.383243620433742,\n",
       " 27.624953607751575,\n",
       " 7.997251311671022,\n",
       " 63.4561784736271,\n",
       " 17.461573983224966,\n",
       " 118.42702019580095,\n",
       " 28.22151022581481,\n",
       " 69.16795524116995,\n",
       " 16.73949481403368,\n",
       " 51.20445433402239,\n",
       " 15.257793404032954,\n",
       " 113.5726538409552,\n",
       " 31.041737349899385,\n",
       " 95.91048136476824,\n",
       " 23.821393548575028,\n",
       " 427.9170864927159,\n",
       " 263.3623381322191,\n",
       " 625.0409076096915,\n",
       " 470.80416705004603]"
      ]
     },
     "execution_count": 81,
     "metadata": {},
     "output_type": "execute_result"
    }
   ],
   "source": [
    "selector.vif_"
   ]
  },
  {
   "cell_type": "code",
   "execution_count": 82,
   "metadata": {
    "colab": {
     "base_uri": "https://localhost:8080/",
     "height": 354
    },
    "executionInfo": {
     "elapsed": 375,
     "status": "error",
     "timestamp": 1670231025422,
     "user": {
      "displayName": "Hyein Gu",
      "userId": "17771678136426456982"
     },
     "user_tz": -540
    },
    "id": "gBSlIZzihFcR",
    "outputId": "0f282276-b2e9-45bf-c5fa-e7cd9404ec55"
   },
   "outputs": [],
   "source": [
    "vif = list(selector.get_support())"
   ]
  },
  {
   "cell_type": "code",
   "execution_count": 83,
   "metadata": {},
   "outputs": [
    {
     "name": "stdout",
     "output_type": "stream",
     "text": [
      "KnowledgeTag\n",
      "hour\n",
      "month\n",
      "dayofweek\n",
      "bigcat\n",
      "smallcat\n",
      "item_num\n",
      "solved_time_prior\n",
      "solved_time\n",
      "user_time_avg\n",
      "item_time_avg\n",
      "test_time_avg\n",
      "tag_time_avg\n",
      "item_std\n",
      "user_cum_cnt\n",
      "user_cor_cum_cnt\n",
      "item_cor_cum_cnt\n",
      "user_cum_acc\n",
      "bigcat_cum_cnt_per_user\n",
      "tag_cum_cnt_per_user\n",
      "test_cor_cum_per_user\n",
      "bigcat_cor_cum_per_user\n",
      "tag_cor_cum_per_user\n",
      "test_cum_acc_per_user\n",
      "bigcat_cum_acc_per_user\n",
      "tag_cum_acc_per_user\n",
      "user_cur_avg\n",
      "user_cur_time_avg\n",
      "user_rec_avg_rolling5\n",
      "user_rec_time_avg_rolling5\n",
      "user_rec_time_avg_rolling7\n",
      "user_rec_avg_rolling10\n",
      "user_rec_time_avg_rolling10\n",
      "item_rec_avg_rolling5\n",
      "item_rec_time_avg_rolling5\n",
      "item_rec_time_avg_rolling7\n",
      "item_rec_avg_rolling10\n",
      "item_rec_time_avg_rolling10\n"
     ]
    }
   ],
   "source": [
    "for i in range(len(FEATS)):\n",
    "    if vif[i]:\n",
    "        print(FEATS[i])"
   ]
  },
  {
   "cell_type": "code",
   "execution_count": null,
   "metadata": {},
   "outputs": [],
   "source": []
  },
  {
   "cell_type": "markdown",
   "metadata": {},
   "source": [
    "### 2) 카이제곱(CATE)"
   ]
  },
  {
   "cell_type": "code",
   "execution_count": 104,
   "metadata": {},
   "outputs": [
    {
     "data": {
      "text/plain": [
       "array([[2.048e+03, 1.000e+00, 1.000e+00, 4.000e+00, 1.300e+01, 1.000e+00],\n",
       "       [2.048e+03, 1.000e+00, 3.700e+01, 4.000e+00, 1.300e+01, 2.000e+00],\n",
       "       [2.047e+03, 1.000e+00, 9.000e+00, 4.000e+00, 1.300e+01, 3.000e+00],\n",
       "       ...,\n",
       "       [1.984e+03, 1.000e+01, 6.000e+00, 3.000e+00, 1.970e+02, 3.000e+00],\n",
       "       [1.984e+03, 1.000e+01, 1.000e+00, 3.000e+00, 1.970e+02, 4.000e+00],\n",
       "       [1.984e+03, 1.000e+01, 1.000e+00, 3.000e+00, 1.970e+02, 5.000e+00]])"
      ]
     },
     "execution_count": 104,
     "metadata": {},
     "output_type": "execute_result"
    }
   ],
   "source": [
    "from sklearn.feature_selection import SelectKBest\n",
    "from sklearn.feature_selection import chi2\n",
    "\n",
    "selector = SelectKBest(chi2, k=6)\n",
    "selector.fit_transform(train[CATE_FEATS], y_train)"
   ]
  },
  {
   "cell_type": "code",
   "execution_count": 105,
   "metadata": {},
   "outputs": [
    {
     "data": {
      "text/plain": [
       "array([6.79083118e+05, 2.09044730e+02, 2.30932393e+03, 1.01165891e+03,\n",
       "       1.45561705e+05, 8.37988503e+04, 1.70150587e+05, 4.95157333e+04])"
      ]
     },
     "execution_count": 105,
     "metadata": {},
     "output_type": "execute_result"
    }
   ],
   "source": [
    "# 상호 정보량\n",
    "# CATE_FEATS = ['KnowledgeTag', 'hour', 'month', 'dayofweek',\n",
    "#              'timeClass', 'bigcat', 'smallcat', 'item_num']\n",
    "selector.scores_"
   ]
  },
  {
   "cell_type": "code",
   "execution_count": 106,
   "metadata": {},
   "outputs": [
    {
     "name": "stdout",
     "output_type": "stream",
     "text": [
      "[ True False  True False  True  True  True  True]\n"
     ]
    }
   ],
   "source": [
    "# 선택된 feature의 정보\n",
    "chilist = selector.get_support()\n",
    "print(chilist)"
   ]
  },
  {
   "cell_type": "code",
   "execution_count": 107,
   "metadata": {},
   "outputs": [
    {
     "name": "stdout",
     "output_type": "stream",
     "text": [
      "KnowledgeTag\n",
      "month\n",
      "timeClass\n",
      "bigcat\n",
      "smallcat\n",
      "item_num\n"
     ]
    }
   ],
   "source": [
    "for i in range(len(CATE_FEATS)):\n",
    "    if chilist[i]:\n",
    "        print(CATE_FEATS[i])"
   ]
  },
  {
   "cell_type": "markdown",
   "metadata": {},
   "source": [
    "### 3) 피어슨(CONTI)"
   ]
  },
  {
   "cell_type": "code",
   "execution_count": 118,
   "metadata": {},
   "outputs": [],
   "source": [
    "# 피어슨 상관계수를 이용한 분석은 라이브러리에 구현되어 있지 않다\n",
    "# 이럴 경우 직접 만들어 사용한다\n",
    "class PearsonCorrelation:\n",
    "    def __init__(self, threshold=0.35):\n",
    "        self.threshold = threshold\n",
    "\n",
    "    def label_encoding(self, y):\n",
    "        from sklearn.preprocessing import LabelEncoder\n",
    "        return LabelEncoder().fit_transform(y)\n",
    "\n",
    "    def get_support(self):\n",
    "        return np.array([True if corr >= self.threshold else False for corr in self.corr_])\n",
    "\n",
    "    def fit_transform(self, X, y):\n",
    "        # pandas DataFrame을 numpy array로 변환\n",
    "        X = X.values\n",
    "        y = np.array(self.label_encoding(y))\n",
    "\n",
    "        # X의 각 feature와 y의 pearson correlation 계산\n",
    "        self.corr_ = np.corrcoef(X.T, y)[-1][:-1]\n",
    "\n",
    "        return X[:, self.get_support()]"
   ]
  },
  {
   "cell_type": "code",
   "execution_count": 119,
   "metadata": {},
   "outputs": [
    {
     "data": {
      "text/plain": [
       "array([[0.8       , 1.        , 1.        , ..., 0.96220669, 0.90667715,\n",
       "        0.89091371],\n",
       "       [0.62      , 1.        , 2.        , ..., 0.91425461, 0.90667715,\n",
       "        0.89091371],\n",
       "       [0.79333333, 1.        , 3.        , ..., 0.97054586, 0.90667715,\n",
       "        0.88513617],\n",
       "       ...,\n",
       "       [0.89333333, 0.89333333, 1.        , ..., 0.71817234, 0.47575268,\n",
       "        0.48122892],\n",
       "       [0.83666667, 0.83666667, 1.        , ..., 0.56914475, 0.47575268,\n",
       "        0.48122892],\n",
       "       [0.57575758, 0.57      , 1.        , ..., 0.28987663, 0.47575268,\n",
       "        0.48122892]])"
      ]
     },
     "execution_count": 119,
     "metadata": {},
     "output_type": "execute_result"
    }
   ],
   "source": [
    "# iris input(X), target(Y)\n",
    "selector = PearsonCorrelation()\n",
    "selector.fit_transform(train[CONTI_FEATS], y_train)"
   ]
  },
  {
   "cell_type": "code",
   "execution_count": 120,
   "metadata": {},
   "outputs": [
    {
     "data": {
      "text/plain": [
       "array([ 6.06691020e-02,  5.74702057e-04,  5.41439764e-02,  1.31418999e-01,\n",
       "        3.11905749e-01,  4.16375653e-01,  3.06086433e-01,  2.24600787e-01,\n",
       "        2.92763920e-01,  1.58151996e-01,  5.34921155e-02, -5.41241631e-02,\n",
       "        1.44298856e-01, -4.64594258e-02, -2.28135565e-01, -3.15650055e-01,\n",
       "       -2.66863588e-01, -2.08143755e-01, -2.57166366e-01,  1.22865072e-02,\n",
       "       -5.97336941e-02, -1.08618840e-01, -2.32886580e-02,  1.57920774e-02,\n",
       "        8.14943426e-02,  1.29671118e-01, -2.63959334e-03,  2.95971372e-02,\n",
       "        7.77056245e-02,  3.33609756e-01,  4.34231200e-01,  3.13104104e-01,\n",
       "        2.26846170e-01,  2.97612683e-01, -1.54566348e-01,  2.80251342e-02,\n",
       "       -1.55216551e-02,  3.53854704e-01,  1.42630674e-01,  2.79708281e-01,\n",
       "        7.64596359e-01,  4.77516856e-01,  7.63817900e-01,  6.57060645e-01,\n",
       "        1.55953417e-01,  6.28736838e-01,  1.27305519e-01,  5.74258193e-01,\n",
       "        1.33314060e-01,  5.21890802e-01,  1.33180707e-01,  5.84947566e-01,\n",
       "        7.57874339e-02,  5.44170630e-01,  7.05503870e-02,  5.12063721e-01,\n",
       "        6.62952618e-02, -1.70552299e-01,  4.75251016e-01,  3.82237253e-01,\n",
       "        3.74367373e-01])"
      ]
     },
     "execution_count": 120,
     "metadata": {},
     "output_type": "execute_result"
    }
   ],
   "source": [
    "# 피어슨 상관계수\n",
    "selector.corr_"
   ]
  },
  {
   "cell_type": "code",
   "execution_count": 121,
   "metadata": {},
   "outputs": [],
   "source": [
    "# 선택된 feature의 정보\n",
    "plist = selector.get_support()"
   ]
  },
  {
   "cell_type": "code",
   "execution_count": 122,
   "metadata": {},
   "outputs": [
    {
     "name": "stdout",
     "output_type": "stream",
     "text": [
      "[False False False False False  True False False False False False False\n",
      " False False False False False False False False False False False False\n",
      " False False False False False False  True False False False False False\n",
      " False  True False False  True  True  True  True False  True False  True\n",
      " False  True False  True False  True False  True False False  True  True\n",
      "  True]\n",
      "item_avg\n",
      "item_cum_acc\n",
      "test_cor_cum_per_user\n",
      "test_cum_acc_per_user\n",
      "bigcat_cum_acc_per_user\n",
      "tag_cum_acc_per_user\n",
      "user_cur_avg\n",
      "user_rec_avg_rolling5\n",
      "user_rec_avg_rolling7\n",
      "user_rec_avg_rolling10\n",
      "item_rec_avg_rolling5\n",
      "item_rec_avg_rolling7\n",
      "item_rec_avg_rolling10\n",
      "elo_assessmentItemID\n",
      "elo_testId\n",
      "elo_KnowledgeTag\n"
     ]
    }
   ],
   "source": [
    "print(plist)\n",
    "for i in range(len(CONTI_FEATS)):\n",
    "    if plist[i]:\n",
    "        print(CONTI_FEATS[i])"
   ]
  },
  {
   "cell_type": "markdown",
   "metadata": {},
   "source": [
    "### 4) backward elimination"
   ]
  },
  {
   "cell_type": "code",
   "execution_count": 45,
   "metadata": {
    "executionInfo": {
     "elapsed": 725,
     "status": "ok",
     "timestamp": 1670231274802,
     "user": {
      "displayName": "Hyein Gu",
      "userId": "17771678136426456982"
     },
     "user_tz": -540
    },
    "id": "n4-Lk0pEZeAx"
   },
   "outputs": [],
   "source": [
    "from sklearn.feature_selection import SequentialFeatureSelector\n",
    "from sklearn.neighbors import KNeighborsClassifier\n",
    "\n",
    "knn = KNeighborsClassifier(n_neighbors=3)\n",
    "\n",
    "# selector = SequentialFeatureSelector(knn, n_features_to_select=2, direction='backward')\n",
    "selector = SequentialFeatureSelector(knn, direction='backward')"
   ]
  },
  {
   "cell_type": "code",
   "execution_count": 128,
   "metadata": {
    "id": "eLgfZcMsZd-S"
   },
   "outputs": [],
   "source": [
    "selector.fit_transform(train[FEATS], y_train)"
   ]
  },
  {
   "cell_type": "code",
   "execution_count": null,
   "metadata": {
    "id": "MF7Y6KsMZd7e"
   },
   "outputs": [],
   "source": [
    "# 선택된 feature의 정보\n",
    "selector.get_support()"
   ]
  },
  {
   "cell_type": "code",
   "execution_count": null,
   "metadata": {
    "id": "MAYrsgxAZdvk"
   },
   "outputs": [],
   "source": []
  },
  {
   "cell_type": "markdown",
   "metadata": {
    "id": "8Bsff1ZVhfQ3"
   },
   "source": [
    "## 5. Inference"
   ]
  },
  {
   "cell_type": "code",
   "execution_count": null,
   "metadata": {
    "ExecuteTime": {
     "end_time": "2021-05-24T09:49:29.691738Z",
     "start_time": "2021-05-24T09:49:28.992Z"
    },
    "id": "N6YEFm8IhfQ3",
    "outputId": "082ec582-a565-45be-89ef-bd2d73434b33"
   },
   "outputs": [
    {
     "data": {
      "text/html": [
       "<div>\n",
       "<style scoped>\n",
       "    .dataframe tbody tr th:only-of-type {\n",
       "        vertical-align: middle;\n",
       "    }\n",
       "\n",
       "    .dataframe tbody tr th {\n",
       "        vertical-align: top;\n",
       "    }\n",
       "\n",
       "    .dataframe thead th {\n",
       "        text-align: right;\n",
       "    }\n",
       "</style>\n",
       "<table border=\"1\" class=\"dataframe\">\n",
       "  <thead>\n",
       "    <tr style=\"text-align: right;\">\n",
       "      <th></th>\n",
       "      <th>assessmentItemID</th>\n",
       "      <th>userID</th>\n",
       "      <th>testId</th>\n",
       "      <th>answerCode</th>\n",
       "      <th>Timestamp</th>\n",
       "      <th>KnowledgeTag</th>\n",
       "      <th>train</th>\n",
       "      <th>same_item_cnt</th>\n",
       "      <th>solved_time_shift</th>\n",
       "      <th>user_avg</th>\n",
       "      <th>...</th>\n",
       "      <th>test_std</th>\n",
       "      <th>tag_std</th>\n",
       "      <th>user_current_avg</th>\n",
       "      <th>user_current_time_avg</th>\n",
       "      <th>hour</th>\n",
       "      <th>month</th>\n",
       "      <th>item_num</th>\n",
       "      <th>item_seq</th>\n",
       "      <th>Bigcat</th>\n",
       "      <th>smallcat</th>\n",
       "    </tr>\n",
       "  </thead>\n",
       "  <tbody>\n",
       "    <tr>\n",
       "      <th>2989</th>\n",
       "      <td>A050133008</td>\n",
       "      <td>3</td>\n",
       "      <td>A050000133</td>\n",
       "      <td>NaN</td>\n",
       "      <td>2020-10-26 13:13:57</td>\n",
       "      <td>5289</td>\n",
       "      <td>0</td>\n",
       "      <td>1</td>\n",
       "      <td>NaN</td>\n",
       "      <td>0.692754</td>\n",
       "      <td>...</td>\n",
       "      <td>0.475380</td>\n",
       "      <td>0.496517</td>\n",
       "      <td>0.857143</td>\n",
       "      <td>45.142857</td>\n",
       "      <td>13</td>\n",
       "      <td>10</td>\n",
       "      <td>008</td>\n",
       "      <td>8</td>\n",
       "      <td>5</td>\n",
       "      <td>133</td>\n",
       "    </tr>\n",
       "    <tr>\n",
       "      <th>3660</th>\n",
       "      <td>A070146008</td>\n",
       "      <td>4</td>\n",
       "      <td>A070000146</td>\n",
       "      <td>NaN</td>\n",
       "      <td>2020-12-27 02:47:54</td>\n",
       "      <td>9080</td>\n",
       "      <td>0</td>\n",
       "      <td>1</td>\n",
       "      <td>NaN</td>\n",
       "      <td>0.694030</td>\n",
       "      <td>...</td>\n",
       "      <td>0.476573</td>\n",
       "      <td>0.497938</td>\n",
       "      <td>0.857143</td>\n",
       "      <td>24.571429</td>\n",
       "      <td>2</td>\n",
       "      <td>12</td>\n",
       "      <td>008</td>\n",
       "      <td>8</td>\n",
       "      <td>7</td>\n",
       "      <td>146</td>\n",
       "    </tr>\n",
       "    <tr>\n",
       "      <th>10860</th>\n",
       "      <td>A070111008</td>\n",
       "      <td>13</td>\n",
       "      <td>A070000111</td>\n",
       "      <td>NaN</td>\n",
       "      <td>2020-12-27 04:35:09</td>\n",
       "      <td>9660</td>\n",
       "      <td>0</td>\n",
       "      <td>1</td>\n",
       "      <td>NaN</td>\n",
       "      <td>0.695289</td>\n",
       "      <td>...</td>\n",
       "      <td>0.498249</td>\n",
       "      <td>0.500051</td>\n",
       "      <td>0.428571</td>\n",
       "      <td>14.857143</td>\n",
       "      <td>4</td>\n",
       "      <td>12</td>\n",
       "      <td>008</td>\n",
       "      <td>8</td>\n",
       "      <td>7</td>\n",
       "      <td>111</td>\n",
       "    </tr>\n",
       "    <tr>\n",
       "      <th>15278</th>\n",
       "      <td>A090064006</td>\n",
       "      <td>17</td>\n",
       "      <td>A090000064</td>\n",
       "      <td>NaN</td>\n",
       "      <td>2020-10-30 05:48:37</td>\n",
       "      <td>2611</td>\n",
       "      <td>0</td>\n",
       "      <td>1</td>\n",
       "      <td>NaN</td>\n",
       "      <td>0.818904</td>\n",
       "      <td>...</td>\n",
       "      <td>0.497463</td>\n",
       "      <td>0.493738</td>\n",
       "      <td>1.000000</td>\n",
       "      <td>76.000000</td>\n",
       "      <td>5</td>\n",
       "      <td>10</td>\n",
       "      <td>006</td>\n",
       "      <td>6</td>\n",
       "      <td>9</td>\n",
       "      <td>064</td>\n",
       "    </tr>\n",
       "    <tr>\n",
       "      <th>23531</th>\n",
       "      <td>A060135007</td>\n",
       "      <td>26</td>\n",
       "      <td>A060000135</td>\n",
       "      <td>NaN</td>\n",
       "      <td>2020-10-23 11:44:18</td>\n",
       "      <td>1422</td>\n",
       "      <td>0</td>\n",
       "      <td>1</td>\n",
       "      <td>NaN</td>\n",
       "      <td>0.759067</td>\n",
       "      <td>...</td>\n",
       "      <td>0.480030</td>\n",
       "      <td>0.487891</td>\n",
       "      <td>0.666667</td>\n",
       "      <td>45.833333</td>\n",
       "      <td>11</td>\n",
       "      <td>10</td>\n",
       "      <td>007</td>\n",
       "      <td>7</td>\n",
       "      <td>6</td>\n",
       "      <td>135</td>\n",
       "    </tr>\n",
       "    <tr>\n",
       "      <th>26895</th>\n",
       "      <td>A020190005</td>\n",
       "      <td>29</td>\n",
       "      <td>A020000190</td>\n",
       "      <td>NaN</td>\n",
       "      <td>2020-10-22 04:38:45</td>\n",
       "      <td>8097</td>\n",
       "      <td>0</td>\n",
       "      <td>1</td>\n",
       "      <td>NaN</td>\n",
       "      <td>0.847597</td>\n",
       "      <td>...</td>\n",
       "      <td>0.438876</td>\n",
       "      <td>0.453456</td>\n",
       "      <td>1.000000</td>\n",
       "      <td>26.000000</td>\n",
       "      <td>4</td>\n",
       "      <td>10</td>\n",
       "      <td>005</td>\n",
       "      <td>5</td>\n",
       "      <td>2</td>\n",
       "      <td>190</td>\n",
       "    </tr>\n",
       "    <tr>\n",
       "      <th>39887</th>\n",
       "      <td>A040136005</td>\n",
       "      <td>45</td>\n",
       "      <td>A040000136</td>\n",
       "      <td>NaN</td>\n",
       "      <td>2020-10-23 08:24:19</td>\n",
       "      <td>2107</td>\n",
       "      <td>0</td>\n",
       "      <td>1</td>\n",
       "      <td>NaN</td>\n",
       "      <td>0.688827</td>\n",
       "      <td>...</td>\n",
       "      <td>0.448255</td>\n",
       "      <td>0.457104</td>\n",
       "      <td>0.250000</td>\n",
       "      <td>25.000000</td>\n",
       "      <td>8</td>\n",
       "      <td>10</td>\n",
       "      <td>005</td>\n",
       "      <td>5</td>\n",
       "      <td>4</td>\n",
       "      <td>136</td>\n",
       "    </tr>\n",
       "    <tr>\n",
       "      <th>47628</th>\n",
       "      <td>A040140005</td>\n",
       "      <td>53</td>\n",
       "      <td>A040000140</td>\n",
       "      <td>NaN</td>\n",
       "      <td>2020-10-26 09:13:20</td>\n",
       "      <td>2110</td>\n",
       "      <td>0</td>\n",
       "      <td>1</td>\n",
       "      <td>NaN</td>\n",
       "      <td>0.523121</td>\n",
       "      <td>...</td>\n",
       "      <td>0.452402</td>\n",
       "      <td>0.452832</td>\n",
       "      <td>0.500000</td>\n",
       "      <td>10.250000</td>\n",
       "      <td>9</td>\n",
       "      <td>10</td>\n",
       "      <td>005</td>\n",
       "      <td>5</td>\n",
       "      <td>4</td>\n",
       "      <td>140</td>\n",
       "    </tr>\n",
       "    <tr>\n",
       "      <th>51927</th>\n",
       "      <td>A070159007</td>\n",
       "      <td>58</td>\n",
       "      <td>A070000159</td>\n",
       "      <td>NaN</td>\n",
       "      <td>2020-12-24 21:09:29</td>\n",
       "      <td>9122</td>\n",
       "      <td>0</td>\n",
       "      <td>1</td>\n",
       "      <td>NaN</td>\n",
       "      <td>0.364198</td>\n",
       "      <td>...</td>\n",
       "      <td>0.499640</td>\n",
       "      <td>0.482075</td>\n",
       "      <td>0.142857</td>\n",
       "      <td>1.857143</td>\n",
       "      <td>21</td>\n",
       "      <td>12</td>\n",
       "      <td>007</td>\n",
       "      <td>8</td>\n",
       "      <td>7</td>\n",
       "      <td>159</td>\n",
       "    </tr>\n",
       "    <tr>\n",
       "      <th>57352</th>\n",
       "      <td>A070146008</td>\n",
       "      <td>64</td>\n",
       "      <td>A070000146</td>\n",
       "      <td>NaN</td>\n",
       "      <td>2020-12-29 04:30:22</td>\n",
       "      <td>9080</td>\n",
       "      <td>0</td>\n",
       "      <td>1</td>\n",
       "      <td>NaN</td>\n",
       "      <td>0.833727</td>\n",
       "      <td>...</td>\n",
       "      <td>0.476573</td>\n",
       "      <td>0.497938</td>\n",
       "      <td>1.000000</td>\n",
       "      <td>1.714286</td>\n",
       "      <td>4</td>\n",
       "      <td>12</td>\n",
       "      <td>008</td>\n",
       "      <td>8</td>\n",
       "      <td>7</td>\n",
       "      <td>146</td>\n",
       "    </tr>\n",
       "  </tbody>\n",
       "</table>\n",
       "<p>10 rows × 30 columns</p>\n",
       "</div>"
      ],
      "text/plain": [
       "      assessmentItemID  userID      testId  answerCode           Timestamp  \\\n",
       "2989        A050133008       3  A050000133         NaN 2020-10-26 13:13:57   \n",
       "3660        A070146008       4  A070000146         NaN 2020-12-27 02:47:54   \n",
       "10860       A070111008      13  A070000111         NaN 2020-12-27 04:35:09   \n",
       "15278       A090064006      17  A090000064         NaN 2020-10-30 05:48:37   \n",
       "23531       A060135007      26  A060000135         NaN 2020-10-23 11:44:18   \n",
       "26895       A020190005      29  A020000190         NaN 2020-10-22 04:38:45   \n",
       "39887       A040136005      45  A040000136         NaN 2020-10-23 08:24:19   \n",
       "47628       A040140005      53  A040000140         NaN 2020-10-26 09:13:20   \n",
       "51927       A070159007      58  A070000159         NaN 2020-12-24 21:09:29   \n",
       "57352       A070146008      64  A070000146         NaN 2020-12-29 04:30:22   \n",
       "\n",
       "       KnowledgeTag  train  same_item_cnt  solved_time_shift  user_avg  ...  \\\n",
       "2989           5289      0              1                NaN  0.692754  ...   \n",
       "3660           9080      0              1                NaN  0.694030  ...   \n",
       "10860          9660      0              1                NaN  0.695289  ...   \n",
       "15278          2611      0              1                NaN  0.818904  ...   \n",
       "23531          1422      0              1                NaN  0.759067  ...   \n",
       "26895          8097      0              1                NaN  0.847597  ...   \n",
       "39887          2107      0              1                NaN  0.688827  ...   \n",
       "47628          2110      0              1                NaN  0.523121  ...   \n",
       "51927          9122      0              1                NaN  0.364198  ...   \n",
       "57352          9080      0              1                NaN  0.833727  ...   \n",
       "\n",
       "       test_std   tag_std  user_current_avg  user_current_time_avg  hour  \\\n",
       "2989   0.475380  0.496517          0.857143              45.142857    13   \n",
       "3660   0.476573  0.497938          0.857143              24.571429     2   \n",
       "10860  0.498249  0.500051          0.428571              14.857143     4   \n",
       "15278  0.497463  0.493738          1.000000              76.000000     5   \n",
       "23531  0.480030  0.487891          0.666667              45.833333    11   \n",
       "26895  0.438876  0.453456          1.000000              26.000000     4   \n",
       "39887  0.448255  0.457104          0.250000              25.000000     8   \n",
       "47628  0.452402  0.452832          0.500000              10.250000     9   \n",
       "51927  0.499640  0.482075          0.142857               1.857143    21   \n",
       "57352  0.476573  0.497938          1.000000               1.714286     4   \n",
       "\n",
       "       month  item_num  item_seq  Bigcat  smallcat  \n",
       "2989      10       008         8       5       133  \n",
       "3660      12       008         8       7       146  \n",
       "10860     12       008         8       7       111  \n",
       "15278     10       006         6       9       064  \n",
       "23531     10       007         7       6       135  \n",
       "26895     10       005         5       2       190  \n",
       "39887     10       005         5       4       136  \n",
       "47628     10       005         5       4       140  \n",
       "51927     12       007         8       7       159  \n",
       "57352     12       008         8       7       146  \n",
       "\n",
       "[10 rows x 30 columns]"
      ]
     },
     "execution_count": 101,
     "metadata": {},
     "output_type": "execute_result"
    }
   ],
   "source": [
    "# # LOAD TESTDATA\n",
    "# test_csv_file_path = os.path.join(data_dir, 'test_data.csv')\n",
    "# test_df = pd.read_csv(test_csv_file_path)\n",
    "\n",
    "# # FEATURE ENGINEERING\n",
    "# test_df = feature_engineering(test_df)\n",
    "\n",
    "# # LEAVE LAST INTERACTION ONLY\n",
    "# test_df = test_df[test_df['userID'] != test_df['userID'].shift(-1)]\n",
    "\n",
    "# submission = submission[FEATS]\n",
    "submission.head(10)\n",
    "\n",
    "\n",
    "# # DROP ANSWERCODE\n",
    "# test_df = test_df.drop(['answerCode'], axis=1)"
   ]
  },
  {
   "cell_type": "code",
   "execution_count": 129,
   "metadata": {
    "ExecuteTime": {
     "end_time": "2021-05-24T09:49:29.692739Z",
     "start_time": "2021-05-24T09:49:28.993Z"
    },
    "id": "XnwXJs_shfQ4",
    "outputId": "35417fc1-04ee-46cb-acaa-d936d19120b9"
   },
   "outputs": [
    {
     "data": {
      "text/plain": [
       "array([0.95284684, 0.95173299, 0.1091563 , 0.10801688, 0.1077507 ,\n",
       "       0.10735246, 0.10612258, 0.08919797, 0.08919797, 0.08919797])"
      ]
     },
     "execution_count": 129,
     "metadata": {},
     "output_type": "execute_result"
    }
   ],
   "source": [
    "# MAKE PREDICTION\n",
    "total_preds = model.predict(submission[FEATS])\n",
    "total_preds[:10]"
   ]
  },
  {
   "cell_type": "code",
   "execution_count": null,
   "metadata": {
    "ExecuteTime": {
     "end_time": "2021-05-24T09:49:29.694736Z",
     "start_time": "2021-05-24T09:49:28.995Z"
    },
    "id": "f8PvohzwhfQ4",
    "outputId": "11fc9a85-296e-40f4-f0aa-97e6f13ebc78"
   },
   "outputs": [
    {
     "name": "stdout",
     "output_type": "stream",
     "text": [
      "writing prediction : output/lgbm_cet_submission.csv\n"
     ]
    }
   ],
   "source": [
    "# SAVE OUTPUT\n",
    "output_dir = 'output/'\n",
    "write_path = os.path.join(output_dir, \"lgbm_cet_submission.csv\")\n",
    "if not os.path.exists(output_dir):\n",
    "    os.makedirs(output_dir)\n",
    "with open(write_path, 'w', encoding='utf8') as w:\n",
    "    print(\"writing prediction : {}\".format(write_path))\n",
    "    w.write(\"id,prediction\\n\")\n",
    "    for id, p in enumerate(total_preds):\n",
    "        w.write('{},{}\\n'.format(id,p))"
   ]
  },
  {
   "cell_type": "markdown",
   "metadata": {
    "id": "eAW3-StWRFOK"
   },
   "source": [
    "###**콘텐츠 라이선스**\n",
    "\n",
    "<font color='red'><b>**WARNING**</b></font> : **본 교육 콘텐츠의 지식재산권은 재단법인 네이버커넥트에 귀속됩니다. 본 콘텐츠를 어떠한 경로로든 외부로 유출 및 수정하는 행위를 엄격히 금합니다.** 다만, 비영리적 교육 및 연구활동에 한정되어 사용할 수 있으나 재단의 허락을 받아야 합니다. 이를 위반하는 경우, 관련 법률에 따라 책임을 질 수 있습니다.\n",
    "\n"
   ]
  },
  {
   "cell_type": "code",
   "execution_count": 134,
   "metadata": {},
   "outputs": [
    {
     "ename": "ImportError",
     "evalue": "You must install matplotlib to plot importance.",
     "output_type": "error",
     "traceback": [
      "\u001b[0;31m---------------------------------------------------------------------------\u001b[0m",
      "\u001b[0;31mImportError\u001b[0m                               Traceback (most recent call last)",
      "Cell \u001b[0;32mIn [134], line 1\u001b[0m\n\u001b[0;32m----> 1\u001b[0m \u001b[43mlgb\u001b[49m\u001b[38;5;241;43m.\u001b[39;49m\u001b[43mplot_importance\u001b[49m\u001b[43m(\u001b[49m\u001b[43mmodel\u001b[49m\u001b[43m,\u001b[49m\u001b[43m \u001b[49m\u001b[43mmax_num_features\u001b[49m\u001b[38;5;241;43m=\u001b[39;49m\u001b[38;5;28;43mlen\u001b[39;49m\u001b[43m(\u001b[49m\u001b[43mFEATS\u001b[49m\u001b[43m)\u001b[49m\u001b[43m,\u001b[49m\u001b[43m \u001b[49m\u001b[43mimportance_type\u001b[49m\u001b[38;5;241;43m=\u001b[39;49m\u001b[38;5;124;43m'\u001b[39;49m\u001b[38;5;124;43msplit\u001b[39;49m\u001b[38;5;124;43m'\u001b[39;49m\u001b[43m)\u001b[49m\n",
      "File \u001b[0;32m/opt/conda/lib/python3.8/site-packages/lightgbm/plotting.py:83\u001b[0m, in \u001b[0;36mplot_importance\u001b[0;34m(booster, ax, height, xlim, ylim, title, xlabel, ylabel, importance_type, max_num_features, ignore_zero, figsize, dpi, grid, precision, **kwargs)\u001b[0m\n\u001b[1;32m     81\u001b[0m     \u001b[38;5;28;01mimport\u001b[39;00m \u001b[38;5;21;01mmatplotlib\u001b[39;00m\u001b[38;5;21;01m.\u001b[39;00m\u001b[38;5;21;01mpyplot\u001b[39;00m \u001b[38;5;28;01mas\u001b[39;00m \u001b[38;5;21;01mplt\u001b[39;00m\n\u001b[1;32m     82\u001b[0m \u001b[38;5;28;01melse\u001b[39;00m:\n\u001b[0;32m---> 83\u001b[0m     \u001b[38;5;28;01mraise\u001b[39;00m \u001b[38;5;167;01mImportError\u001b[39;00m(\u001b[38;5;124m'\u001b[39m\u001b[38;5;124mYou must install matplotlib to plot importance.\u001b[39m\u001b[38;5;124m'\u001b[39m)\n\u001b[1;32m     85\u001b[0m \u001b[38;5;28;01mif\u001b[39;00m \u001b[38;5;28misinstance\u001b[39m(booster, LGBMModel):\n\u001b[1;32m     86\u001b[0m     booster \u001b[38;5;241m=\u001b[39m booster\u001b[38;5;241m.\u001b[39mbooster_\n",
      "\u001b[0;31mImportError\u001b[0m: You must install matplotlib to plot importance."
     ]
    }
   ],
   "source": [
    "lgb.plot_importance(model, max_num_features=len(FEATS), importance_type='split')"
   ]
  },
  {
   "cell_type": "code",
   "execution_count": 11,
   "metadata": {
    "id": "A8KRLgpyRFnL",
    "outputId": "c2f65deb-6dc6-4d1c-e251-887c74b976ed"
   },
   "outputs": [
    {
     "data": {
      "image/png": "[encoded data removed]",
      "text/plain": [
       "<Figure size 640x480 with 1 Axes>"
      ]
     },
     "metadata": {},
     "output_type": "display_data"
    },
    {
     "data": {
      "image/png": "[encoded data removed]",
      "text/plain": [
       "<Figure size 640x480 with 1 Axes>"
      ]
     },
     "metadata": {},
     "output_type": "display_data"
    }
   ],
   "source": [
    "# model: 이미 학습이 완료된 LGBMModel, or Booster\n",
    "# FEATURES: model 학습에 사용된 모든 features\n",
    "# PATH: 그림을 저장할 경로\n",
    "\n",
    "# SPLIT\n",
    "ax = lgb.plot_importance(model, max_num_features=len(FEATS), importance_type='split')\n",
    "ax.set(title=f'Feature Importance (split)',\n",
    "\txlabel='Feature Importance',\n",
    "\tylabel='Features')\n",
    "ax.figure.savefig(f'./output/fi_split.png', dpi=300)\n",
    "\n",
    "\n",
    "# GAIN\n",
    "ax = lgb.plot_importance(model, max_num_features=len(FEATS), importance_type='gain')\n",
    "ax.set(title=f'Feature Importance (gain)',\n",
    "\txlabel='Feature Importance',\n",
    "\tylabel='Features')\n",
    "ax.figure.savefig(f'./output/fi_gain.png', dpi=300)"
   ]
  },
  {
   "cell_type": "code",
   "execution_count": null,
   "metadata": {
    "id": "T_scjz_EoXKO"
   },
   "outputs": [],
   "source": []
  },
  {
   "cell_type": "code",
   "execution_count": null,
   "metadata": {
    "id": "rPoh_8t5oXKO"
   },
   "outputs": [],
   "source": []
  }
 ],
 "metadata": {
  "colab": {
   "provenance": []
  },
  "kernelspec": {
   "display_name": "test_kernel",
   "language": "python",
   "name": "test"
  },
  "language_info": {
   "codemirror_mode": {
    "name": "ipython",
    "version": 3
   },
   "file_extension": ".py",
   "mimetype": "text/x-python",
   "name": "python",
   "nbconvert_exporter": "python",
   "pygments_lexer": "ipython3",
   "version": "3.10.0"
  },
  "toc": {
   "base_numbering": 1,
   "nav_menu": {},
   "number_sections": false,
   "sideBar": true,
   "skip_h1_title": false,
   "title_cell": "Table of Contents",
   "title_sidebar": "Contents",
   "toc_cell": false,
   "toc_position": {},
   "toc_section_display": true,
   "toc_window_display": true
  },
  "vscode": {
   "interpreter": {
    "hash": "09d4b5de27b89318d6e35b29f9634657110a12e6b33fcea780feda7aad3e9c4b"
   }
  }
 },
 "nbformat": 4,
 "nbformat_minor": 4
}
