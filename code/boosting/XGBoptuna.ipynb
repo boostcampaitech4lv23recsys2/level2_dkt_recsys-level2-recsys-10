{
 "cells": [
  {
   "cell_type": "markdown",
   "metadata": {
    "id": "yt7sDAqHhfQp"
   },
   "source": [
    "# XGB 베이스라인"
   ]
  },
  {
   "cell_type": "code",
   "execution_count": 2,
   "metadata": {
    "ExecuteTime": {
     "end_time": "2021-05-24T09:49:29.375544Z",
     "start_time": "2021-05-24T09:49:28.999092Z"
    },
    "id": "Uq_TJqbdhfQu"
   },
   "outputs": [
    {
     "ename": "ImportError",
     "evalue": "this version of pandas is incompatible with numpy < 1.20.3\nyour numpy version is 1.19.2.\nPlease upgrade numpy to >= 1.20.3 to use this pandas version",
     "output_type": "error",
     "traceback": [
      "\u001b[0;31m---------------------------------------------------------------------------\u001b[0m",
      "\u001b[0;31mImportError\u001b[0m                               Traceback (most recent call last)",
      "Cell \u001b[0;32mIn [2], line 1\u001b[0m\n\u001b[0;32m----> 1\u001b[0m \u001b[38;5;28;01mimport\u001b[39;00m \u001b[38;5;21;01mpandas\u001b[39;00m \u001b[38;5;28;01mas\u001b[39;00m \u001b[38;5;21;01mpd\u001b[39;00m\n\u001b[1;32m      2\u001b[0m \u001b[38;5;28;01mimport\u001b[39;00m \u001b[38;5;21;01mos\u001b[39;00m\n\u001b[1;32m      3\u001b[0m \u001b[38;5;28;01mimport\u001b[39;00m \u001b[38;5;21;01mrandom\u001b[39;00m\n",
      "File \u001b[0;32m/opt/conda/lib/python3.8/site-packages/pandas/__init__.py:22\u001b[0m\n\u001b[1;32m     19\u001b[0m \u001b[38;5;28;01mdel\u001b[39;00m _hard_dependencies, _dependency, _missing_dependencies\n\u001b[1;32m     21\u001b[0m \u001b[38;5;66;03m# numpy compat\u001b[39;00m\n\u001b[0;32m---> 22\u001b[0m \u001b[38;5;28;01mfrom\u001b[39;00m \u001b[38;5;21;01mpandas\u001b[39;00m\u001b[38;5;21;01m.\u001b[39;00m\u001b[38;5;21;01mcompat\u001b[39;00m \u001b[38;5;28;01mimport\u001b[39;00m is_numpy_dev \u001b[38;5;28;01mas\u001b[39;00m _is_numpy_dev  \u001b[38;5;66;03m# pyright: ignore # noqa:F401\u001b[39;00m\n\u001b[1;32m     24\u001b[0m \u001b[38;5;28;01mtry\u001b[39;00m:\n\u001b[1;32m     25\u001b[0m     \u001b[38;5;28;01mfrom\u001b[39;00m \u001b[38;5;21;01mpandas\u001b[39;00m\u001b[38;5;21;01m.\u001b[39;00m\u001b[38;5;21;01m_libs\u001b[39;00m \u001b[38;5;28;01mimport\u001b[39;00m hashtable \u001b[38;5;28;01mas\u001b[39;00m _hashtable, lib \u001b[38;5;28;01mas\u001b[39;00m _lib, tslib \u001b[38;5;28;01mas\u001b[39;00m _tslib\n",
      "File \u001b[0;32m/opt/conda/lib/python3.8/site-packages/pandas/compat/__init__.py:18\u001b[0m\n\u001b[1;32m     15\u001b[0m \u001b[38;5;28;01mfrom\u001b[39;00m \u001b[38;5;21;01mtyping\u001b[39;00m \u001b[38;5;28;01mimport\u001b[39;00m TYPE_CHECKING\n\u001b[1;32m     17\u001b[0m \u001b[38;5;28;01mfrom\u001b[39;00m \u001b[38;5;21;01mpandas\u001b[39;00m\u001b[38;5;21;01m.\u001b[39;00m\u001b[38;5;21;01m_typing\u001b[39;00m \u001b[38;5;28;01mimport\u001b[39;00m F\n\u001b[0;32m---> 18\u001b[0m \u001b[38;5;28;01mfrom\u001b[39;00m \u001b[38;5;21;01mpandas\u001b[39;00m\u001b[38;5;21;01m.\u001b[39;00m\u001b[38;5;21;01mcompat\u001b[39;00m\u001b[38;5;21;01m.\u001b[39;00m\u001b[38;5;21;01mnumpy\u001b[39;00m \u001b[38;5;28;01mimport\u001b[39;00m (\n\u001b[1;32m     19\u001b[0m     is_numpy_dev,\n\u001b[1;32m     20\u001b[0m     np_version_under1p21,\n\u001b[1;32m     21\u001b[0m )\n\u001b[1;32m     22\u001b[0m \u001b[38;5;28;01mfrom\u001b[39;00m \u001b[38;5;21;01mpandas\u001b[39;00m\u001b[38;5;21;01m.\u001b[39;00m\u001b[38;5;21;01mcompat\u001b[39;00m\u001b[38;5;21;01m.\u001b[39;00m\u001b[38;5;21;01mpyarrow\u001b[39;00m \u001b[38;5;28;01mimport\u001b[39;00m (\n\u001b[1;32m     23\u001b[0m     pa_version_under1p01,\n\u001b[1;32m     24\u001b[0m     pa_version_under2p0,\n\u001b[0;32m   (...)\u001b[0m\n\u001b[1;32m     31\u001b[0m     pa_version_under9p0,\n\u001b[1;32m     32\u001b[0m )\n\u001b[1;32m     34\u001b[0m \u001b[38;5;28;01mif\u001b[39;00m TYPE_CHECKING:\n",
      "File \u001b[0;32m/opt/conda/lib/python3.8/site-packages/pandas/compat/numpy/__init__.py:22\u001b[0m\n\u001b[1;32m     18\u001b[0m     np_percentile_argname \u001b[38;5;241m=\u001b[39m \u001b[38;5;124m\"\u001b[39m\u001b[38;5;124minterpolation\u001b[39m\u001b[38;5;124m\"\u001b[39m\n\u001b[1;32m     21\u001b[0m \u001b[38;5;28;01mif\u001b[39;00m _nlv \u001b[38;5;241m<\u001b[39m Version(_min_numpy_ver):\n\u001b[0;32m---> 22\u001b[0m     \u001b[38;5;28;01mraise\u001b[39;00m \u001b[38;5;167;01mImportError\u001b[39;00m(\n\u001b[1;32m     23\u001b[0m         \u001b[38;5;124mf\u001b[39m\u001b[38;5;124m\"\u001b[39m\u001b[38;5;124mthis version of pandas is incompatible with numpy < \u001b[39m\u001b[38;5;132;01m{\u001b[39;00m_min_numpy_ver\u001b[38;5;132;01m}\u001b[39;00m\u001b[38;5;130;01m\\n\u001b[39;00m\u001b[38;5;124m\"\u001b[39m\n\u001b[1;32m     24\u001b[0m         \u001b[38;5;124mf\u001b[39m\u001b[38;5;124m\"\u001b[39m\u001b[38;5;124myour numpy version is \u001b[39m\u001b[38;5;132;01m{\u001b[39;00m_np_version\u001b[38;5;132;01m}\u001b[39;00m\u001b[38;5;124m.\u001b[39m\u001b[38;5;130;01m\\n\u001b[39;00m\u001b[38;5;124m\"\u001b[39m\n\u001b[1;32m     25\u001b[0m         \u001b[38;5;124mf\u001b[39m\u001b[38;5;124m\"\u001b[39m\u001b[38;5;124mPlease upgrade numpy to >= \u001b[39m\u001b[38;5;132;01m{\u001b[39;00m_min_numpy_ver\u001b[38;5;132;01m}\u001b[39;00m\u001b[38;5;124m to use this pandas version\u001b[39m\u001b[38;5;124m\"\u001b[39m\n\u001b[1;32m     26\u001b[0m     )\n\u001b[1;32m     29\u001b[0m __all__ \u001b[38;5;241m=\u001b[39m [\n\u001b[1;32m     30\u001b[0m     \u001b[38;5;124m\"\u001b[39m\u001b[38;5;124mnp\u001b[39m\u001b[38;5;124m\"\u001b[39m,\n\u001b[1;32m     31\u001b[0m     \u001b[38;5;124m\"\u001b[39m\u001b[38;5;124m_np_version\u001b[39m\u001b[38;5;124m\"\u001b[39m,\n\u001b[1;32m     32\u001b[0m     \u001b[38;5;124m\"\u001b[39m\u001b[38;5;124mis_numpy_dev\u001b[39m\u001b[38;5;124m\"\u001b[39m,\n\u001b[1;32m     33\u001b[0m ]\n",
      "\u001b[0;31mImportError\u001b[0m: this version of pandas is incompatible with numpy < 1.20.3\nyour numpy version is 1.19.2.\nPlease upgrade numpy to >= 1.20.3 to use this pandas version"
     ]
    }
   ],
   "source": [
    "import pandas as pd\n",
    "import os\n",
    "import random\n",
    "import numpy as np\n",
    "\n",
    "import lightgbm as lgb\n",
    "from sklearn.metrics import roc_auc_score\n",
    "from sklearn.metrics import accuracy_score\n",
    "from sklearn.preprocessing import LabelEncoder\n",
    "from sklearn.model_selection import StratifiedKFold\n",
    "from sklearn.model_selection import StratifiedGroupKFold\n",
    "import wandb \n",
    "from wandb.xgboost import wandb_callback\n",
    "from tqdm import tqdm\n",
    "from xgboost import XGBClassifier\n",
    "from xgboost import plot_importance"
   ]
  },
  {
   "cell_type": "code",
   "execution_count": 2,
   "metadata": {},
   "outputs": [],
   "source": [
    "pd.options.display.max_columns = 100"
   ]
  },
  {
   "cell_type": "markdown",
   "metadata": {
    "id": "QZlm5HSmhfQv"
   },
   "source": [
    "## 1. 데이터 로딩"
   ]
  },
  {
   "cell_type": "code",
   "execution_count": 3,
   "metadata": {},
   "outputs": [
    {
     "name": "stderr",
     "output_type": "stream",
     "text": [
      "Failed to detect the name of this notebook, you can set it manually with the WANDB_NOTEBOOK_NAME environment variable to enable code saving.\n",
      "\u001b[34m\u001b[1mwandb\u001b[0m: Currently logged in as: \u001b[33mdmscornjs\u001b[0m (\u001b[33mrecsys-10\u001b[0m). Use \u001b[1m`wandb login --relogin`\u001b[0m to force relogin\n"
     ]
    },
    {
     "data": {
      "text/plain": [
       "True"
      ]
     },
     "execution_count": 3,
     "metadata": {},
     "output_type": "execute_result"
    }
   ],
   "source": [
    "wandb.login()"
   ]
  },
  {
   "cell_type": "code",
   "execution_count": 4,
   "metadata": {
    "ExecuteTime": {
     "end_time": "2021-05-24T09:49:29.678737Z",
     "start_time": "2021-05-24T09:49:29.376581Z"
    },
    "id": "s6qgJ8MLhfQw"
   },
   "outputs": [],
   "source": [
    "data_dir = '/opt/ml/input/data/' # 경로는 상황에 맞춰서 수정해주세요!\n",
    "\n",
    "# LOAD TRAINDATA\n",
    "csv_file_path = os.path.join(data_dir, 'train_data.csv') # 데이터는 대회홈페이지에서 받아주세요 :)\n",
    "train_data = pd.read_csv(csv_file_path)\n",
    "\n",
    "# LOAD TESTDATA\n",
    "test_csv_file_path = os.path.join(data_dir, 'test_data.csv')\n",
    "test_data = pd.read_csv(test_csv_file_path)\n",
    "# test_data['answerCode'] = test_data['answerCode'].replace(-1, np.nan)\n",
    "\n",
    "# # LEAVE LAST INTERACTION ONLY\n",
    "# train_df = test_df[test_df['userID'] == test_df['userID'].shift(-1)]\n",
    "# test_df = test_df[test_df['userID'] != test_df['userID'].shift(-1)]\n",
    "\n",
    "# df = pd.concat([df, train_df], ignore_index=True)"
   ]
  },
  {
   "cell_type": "markdown",
   "metadata": {
    "id": "p_oCGAgEhfQw"
   },
   "source": [
    "## 2. Feature Engineering"
   ]
  },
  {
   "cell_type": "code",
   "execution_count": 6,
   "metadata": {
    "ExecuteTime": {
     "end_time": "2021-05-24T09:49:29.682739Z",
     "start_time": "2021-05-24T09:49:28.979Z"
    },
    "id": "URNLoukChfQx"
   },
   "outputs": [],
   "source": [
    "def feature_engineering(train, test):\n",
    "    ## train, test data concat\n",
    "    train['train'] = 1\n",
    "    test['train'] = 0\n",
    "    total = pd.concat([train, test], ignore_index=True)\n",
    "    # total['answerCode'] = total['answerCode'].fillna(0.5)\n",
    "    total = elo(total)\n",
    "    \n",
    "    ## 유저별 시퀀스를 고려하기 위해 아래와 같이 정렬\n",
    "    total.sort_values(by=['userID','Timestamp'], inplace=True)\n",
    "    total['Timestamp'] = pd.to_datetime(total['Timestamp'])\n",
    "    \n",
    "    total['assessmentItemID'] = total['assessmentItemID'].astype('category')\n",
    "    total['KnowledgeTag'] = total['KnowledgeTag'].astype('category')\n",
    "\n",
    "    #유저들의 문제 풀이수, 정답 수, 정답률을 시간순으로 누적해서 계산\n",
    "    total['user_correct_answer'] = total.groupby('userID')['answerCode'].transform(lambda x: x.cumsum().shift(1))\n",
    "    total['user_total_answer'] = total.groupby('userID')['answerCode'].cumcount()\n",
    "    total['user_acc'] = total['user_correct_answer']/total['user_total_answer']\n",
    "\n",
    "    total['Bigcat'] = total['testId'].str[2]\n",
    "    total['Bigcat'] = total['Bigcat'].astype('category')\n",
    "    total['Bigcat_avg'] = total.groupby('Bigcat')['answerCode'].transform('mean')\n",
    "    \n",
    "    # total['past_count'] = total.groupby('userID').cumcount()\n",
    "    \n",
    "    diff = total.loc[:, ['userID', 'Timestamp']].groupby('userID').diff().fillna(pd.Timedelta(seconds=0))\n",
    "    diff = diff.fillna(pd.Timedelta(seconds=0))\n",
    "    diff = diff['Timestamp'].apply(lambda x: x.total_seconds())\n",
    "    total['elapsed'] = diff\n",
    "\n",
    "    total['item_avg'] = total.groupby('assessmentItemID')['answerCode'].transform('mean')\n",
    "    total['answer_cnt'] = total.groupby(['userID'])['answerCode'].rolling(5, min_periods=1).sum().shift(1).values\n",
    "    total['answer_cnt'] = total['answer_cnt'].fillna(0)\n",
    "\n",
    "    categories = [\"assessmentItemID\",'KnowledgeTag',\"Bigcat\"]\n",
    "\n",
    "    # # label encode your categorical columns\n",
    "    le = LabelEncoder()\n",
    "    for category in categories:\n",
    "        total[category] = le.fit_transform(total[category])\n",
    "    # total['Bigcat'] = le.fit_transform(total[category])\n",
    "\n",
    "    ## train, test 나누어서 return\n",
    "    train_df = total[total['train']==1]\n",
    "    test_df = total[total['train']==0]\n",
    "    test_df = test_df[test_df['userID'] != test_df['userID'].shift(-1)]\n",
    "    \n",
    "    \n",
    "    return train_df, test_df"
   ]
  },
  {
   "cell_type": "code",
   "execution_count": 7,
   "metadata": {
    "ExecuteTime": {
     "end_time": "2021-05-24T09:49:29.684739Z",
     "start_time": "2021-05-24T09:49:28.982Z"
    },
    "id": "YOPWK7ckhfQz"
   },
   "outputs": [],
   "source": [
    "# train과 test 데이터셋은 사용자 별로 묶어서 분리를 해주어야함\n",
    "random.seed(42)\n",
    "def custom_train_test_split(df, ratio=0.7, split=True):\n",
    "    \n",
    "    users = list(zip(df['userID'].value_counts().index, df['userID'].value_counts()))\n",
    "    random.shuffle(users)\n",
    "    \n",
    "    max_train_data_len = ratio*len(df)\n",
    "    sum_of_train_data = 0\n",
    "    user_ids =[]\n",
    "\n",
    "    for user_id, count in users:\n",
    "        sum_of_train_data += count\n",
    "        if max_train_data_len < sum_of_train_data:\n",
    "            break\n",
    "        user_ids.append(user_id)\n",
    "\n",
    "\n",
    "    train = df[df['userID'].isin(user_ids)]\n",
    "    test = df[df['userID'].isin(user_ids) == False]\n",
    "\n",
    "    #test데이터셋은 각 유저의 마지막 interaction만 추출\n",
    "    test = test[test['userID'] != test['userID'].shift(-1)]\n",
    "    return train, test"
   ]
  },
  {
   "cell_type": "code",
   "execution_count": 8,
   "metadata": {},
   "outputs": [],
   "source": [
    "def elo(df):\n",
    "    def get_new_theta(is_good_answer, beta, left_asymptote, theta, nb_previous_answers):\n",
    "        return theta + learning_rate_theta(nb_previous_answers) * (\n",
    "            is_good_answer - probability_of_good_answer(theta, beta, left_asymptote)\n",
    "        )\n",
    "\n",
    "    def get_new_beta(is_good_answer, beta, left_asymptote, theta, nb_previous_answers):\n",
    "        return beta - learning_rate_beta(nb_previous_answers) * (\n",
    "            is_good_answer - probability_of_good_answer(theta, beta, left_asymptote)\n",
    "        )\n",
    "\n",
    "    def learning_rate_theta(nb_answers):\n",
    "        return max(0.3 / (1 + 0.01 * nb_answers), 0.04)\n",
    "\n",
    "    def learning_rate_beta(nb_answers):\n",
    "        return 1 / (1 + 0.05 * nb_answers)\n",
    "\n",
    "    def probability_of_good_answer(theta, beta, left_asymptote):\n",
    "        return left_asymptote + (1 - left_asymptote) * sigmoid(theta - beta)\n",
    "\n",
    "    def sigmoid(x):\n",
    "        return 1 / (1 + np.exp(-x))\n",
    "\n",
    "    def estimate_parameters(answers_df, granularity_feature_name=\"assessmentItemID\"):\n",
    "        item_parameters = {\n",
    "            granularity_feature_value: {\"beta\": 0, \"nb_answers\": 0}\n",
    "            for granularity_feature_value in np.unique(\n",
    "                answers_df[granularity_feature_name]\n",
    "            )\n",
    "        }\n",
    "        student_parameters = {\n",
    "            student_id: {\"theta\": 0, \"nb_answers\": 0}\n",
    "            for student_id in np.unique(answers_df.userID)\n",
    "        }\n",
    "\n",
    "        print(\"Parameter estimation is starting...\", flush=True)\n",
    "\n",
    "        for student_id, item_id, left_asymptote, answered_correctly in tqdm(\n",
    "            zip(\n",
    "                answers_df.userID.values,\n",
    "                answers_df[granularity_feature_name].values,\n",
    "                answers_df.left_asymptote.values,\n",
    "                answers_df.answerCode.values,\n",
    "            ),\n",
    "            total=len(answers_df),\n",
    "        ):\n",
    "            theta = student_parameters[student_id][\"theta\"]\n",
    "            beta = item_parameters[item_id][\"beta\"]\n",
    "\n",
    "            item_parameters[item_id][\"beta\"] = get_new_beta(\n",
    "                answered_correctly,\n",
    "                beta,\n",
    "                left_asymptote,\n",
    "                theta,\n",
    "                item_parameters[item_id][\"nb_answers\"],\n",
    "            )\n",
    "            student_parameters[student_id][\"theta\"] = get_new_theta(\n",
    "                answered_correctly,\n",
    "                beta,\n",
    "                left_asymptote,\n",
    "                theta,\n",
    "                student_parameters[student_id][\"nb_answers\"],\n",
    "            )\n",
    "\n",
    "            item_parameters[item_id][\"nb_answers\"] += 1\n",
    "            student_parameters[student_id][\"nb_answers\"] += 1\n",
    "\n",
    "        print(f\"Theta & beta estimations on {granularity_feature_name} are completed.\")\n",
    "        return student_parameters, item_parameters\n",
    "\n",
    "    def gou_func(theta, beta):\n",
    "        return 1 / (1 + np.exp(-(theta - beta)))\n",
    "\n",
    "    df[\"left_asymptote\"] = 0\n",
    "\n",
    "    print(f\"Dataset of shape {df.shape}\")\n",
    "    print(f\"Columns are {list(df.columns)}\")\n",
    "\n",
    "    student_parameters, item_parameters = estimate_parameters(df)\n",
    "\n",
    "    prob = [\n",
    "        gou_func(student_parameters[student][\"theta\"], item_parameters[item][\"beta\"])\n",
    "        for student, item in zip(df.userID.values, df.assessmentItemID.values)\n",
    "    ]\n",
    "\n",
    "    df[\"elo\"] = prob\n",
    "\n",
    "    return df"
   ]
  },
  {
   "cell_type": "markdown",
   "metadata": {},
   "source": [
    "## 3. Train/Test 데이터 셋 분리"
   ]
  },
  {
   "cell_type": "code",
   "execution_count": 9,
   "metadata": {},
   "outputs": [
    {
     "name": "stdout",
     "output_type": "stream",
     "text": [
      "Dataset of shape (2526700, 8)\n",
      "Columns are ['userID', 'assessmentItemID', 'testId', 'answerCode', 'Timestamp', 'KnowledgeTag', 'train', 'left_asymptote']\n",
      "Parameter estimation is starting...\n"
     ]
    },
    {
     "name": "stderr",
     "output_type": "stream",
     "text": [
      "100%|██████████| 2526700/2526700 [00:16<00:00, 152483.04it/s]\n"
     ]
    },
    {
     "name": "stdout",
     "output_type": "stream",
     "text": [
      "Theta & beta estimations on assessmentItemID are completed.\n",
      "Index(['userID', 'assessmentItemID', 'testId', 'answerCode', 'Timestamp',\n",
      "       'KnowledgeTag', 'train', 'left_asymptote', 'elo', 'user_correct_answer',\n",
      "       'user_total_answer', 'user_acc', 'Bigcat', 'Bigcat_avg', 'elapsed',\n",
      "       'item_avg', 'answer_cnt'],\n",
      "      dtype='object')\n"
     ]
    }
   ],
   "source": [
    "# wandb.init(project=\"LGBM\", config= config)\n",
    "\n",
    "df, submission = feature_engineering(train_data, test_data)\n",
    "# df = elo(df)\n",
    "\n",
    "# 유저별 분리\n",
    "train, test = custom_train_test_split(df)\n",
    "print(train.columns)\n",
    "\n",
    "# 사용할 Feature 설정\n",
    "# FEATS = ['KnowledgeTag', 'user_correct_answer', 'user_total_answer', \n",
    "#          'user_acc', 'test_mean', 'test_sum', 'tag_mean','tag_sum', 'elapsed','Bigcat','smallcat']\n",
    "# FEATS = ['KnowledgeTag', 'user_correct_answer', 'user_total_answer', \n",
    "#          'user_acc', 'test_mean', 'test_sum', 'tag_mean','tag_sum', 'elapsed', 'Bigcat', 'smallcat', 'item_num', 'item_seq', 'solved_time_shift']\n",
    "# FEATS = ['KnowledgeTag', 'same_item_cnt', 'user_avg', 'item_avg', 'test_avg', 'tag_avg', 'user_time_avg', 'item_time_avg',\n",
    "#        'test_time_avg', 'tag_time_avg', 'user_current_avg', 'user_current_time_avg', 'hour', 'item_num', 'Bigcat','Bigcat_avg']\n",
    "# FEATS = ['assessmentItemID', 'KnowledgeTag','user_acc','Bigcat_avg','elapsed','elo']\n",
    "# FEATS = ['KnowledgeTag', 'same_item_cnt', 'user_avg', 'item_avg', 'test_avg', 'tag_avg']\n",
    "FEATS = ['assessmentItemID', 'KnowledgeTag','Bigcat_avg','item_avg','elapsed','elo','answer_cnt']\n",
    "\n",
    "# X, y 값 분리\n",
    "y_train = train['answerCode']\n",
    "train = train.drop(['answerCode'], axis=1)\n",
    "\n",
    "y_test = test['answerCode']\n",
    "test = test.drop(['answerCode'], axis=1)"
   ]
  },
  {
   "cell_type": "code",
   "execution_count": 10,
   "metadata": {},
   "outputs": [
    {
     "data": {
      "text/html": [
       "<div>\n",
       "<style scoped>\n",
       "    .dataframe tbody tr th:only-of-type {\n",
       "        vertical-align: middle;\n",
       "    }\n",
       "\n",
       "    .dataframe tbody tr th {\n",
       "        vertical-align: top;\n",
       "    }\n",
       "\n",
       "    .dataframe thead th {\n",
       "        text-align: right;\n",
       "    }\n",
       "</style>\n",
       "<table border=\"1\" class=\"dataframe\">\n",
       "  <thead>\n",
       "    <tr style=\"text-align: right;\">\n",
       "      <th></th>\n",
       "      <th>assessmentItemID</th>\n",
       "      <th>KnowledgeTag</th>\n",
       "      <th>Bigcat_avg</th>\n",
       "      <th>item_avg</th>\n",
       "      <th>elapsed</th>\n",
       "      <th>elo</th>\n",
       "      <th>answer_cnt</th>\n",
       "    </tr>\n",
       "  </thead>\n",
       "  <tbody>\n",
       "    <tr>\n",
       "      <th>assessmentItemID</th>\n",
       "      <td>1.000000</td>\n",
       "      <td>-0.066991</td>\n",
       "      <td>-0.908671</td>\n",
       "      <td>-0.482598</td>\n",
       "      <td>-0.007964</td>\n",
       "      <td>-0.397688</td>\n",
       "      <td>-0.250595</td>\n",
       "    </tr>\n",
       "    <tr>\n",
       "      <th>KnowledgeTag</th>\n",
       "      <td>-0.066991</td>\n",
       "      <td>1.000000</td>\n",
       "      <td>-0.017651</td>\n",
       "      <td>0.004713</td>\n",
       "      <td>-0.004163</td>\n",
       "      <td>-0.001712</td>\n",
       "      <td>-0.002650</td>\n",
       "    </tr>\n",
       "    <tr>\n",
       "      <th>Bigcat_avg</th>\n",
       "      <td>-0.908671</td>\n",
       "      <td>-0.017651</td>\n",
       "      <td>1.000000</td>\n",
       "      <td>0.532841</td>\n",
       "      <td>0.009119</td>\n",
       "      <td>0.433088</td>\n",
       "      <td>0.281175</td>\n",
       "    </tr>\n",
       "    <tr>\n",
       "      <th>item_avg</th>\n",
       "      <td>-0.482598</td>\n",
       "      <td>0.004713</td>\n",
       "      <td>0.532841</td>\n",
       "      <td>1.000000</td>\n",
       "      <td>0.059321</td>\n",
       "      <td>0.780177</td>\n",
       "      <td>0.213048</td>\n",
       "    </tr>\n",
       "    <tr>\n",
       "      <th>elapsed</th>\n",
       "      <td>-0.007964</td>\n",
       "      <td>-0.004163</td>\n",
       "      <td>0.009119</td>\n",
       "      <td>0.059321</td>\n",
       "      <td>1.000000</td>\n",
       "      <td>0.032196</td>\n",
       "      <td>-0.024029</td>\n",
       "    </tr>\n",
       "    <tr>\n",
       "      <th>elo</th>\n",
       "      <td>-0.397688</td>\n",
       "      <td>-0.001712</td>\n",
       "      <td>0.433088</td>\n",
       "      <td>0.780177</td>\n",
       "      <td>0.032196</td>\n",
       "      <td>1.000000</td>\n",
       "      <td>0.388290</td>\n",
       "    </tr>\n",
       "    <tr>\n",
       "      <th>answer_cnt</th>\n",
       "      <td>-0.250595</td>\n",
       "      <td>-0.002650</td>\n",
       "      <td>0.281175</td>\n",
       "      <td>0.213048</td>\n",
       "      <td>-0.024029</td>\n",
       "      <td>0.388290</td>\n",
       "      <td>1.000000</td>\n",
       "    </tr>\n",
       "  </tbody>\n",
       "</table>\n",
       "</div>"
      ],
      "text/plain": [
       "                  assessmentItemID  KnowledgeTag  Bigcat_avg  item_avg  \\\n",
       "assessmentItemID          1.000000     -0.066991   -0.908671 -0.482598   \n",
       "KnowledgeTag             -0.066991      1.000000   -0.017651  0.004713   \n",
       "Bigcat_avg               -0.908671     -0.017651    1.000000  0.532841   \n",
       "item_avg                 -0.482598      0.004713    0.532841  1.000000   \n",
       "elapsed                  -0.007964     -0.004163    0.009119  0.059321   \n",
       "elo                      -0.397688     -0.001712    0.433088  0.780177   \n",
       "answer_cnt               -0.250595     -0.002650    0.281175  0.213048   \n",
       "\n",
       "                   elapsed       elo  answer_cnt  \n",
       "assessmentItemID -0.007964 -0.397688   -0.250595  \n",
       "KnowledgeTag     -0.004163 -0.001712   -0.002650  \n",
       "Bigcat_avg        0.009119  0.433088    0.281175  \n",
       "item_avg          0.059321  0.780177    0.213048  \n",
       "elapsed           1.000000  0.032196   -0.024029  \n",
       "elo               0.032196  1.000000    0.388290  \n",
       "answer_cnt       -0.024029  0.388290    1.000000  "
      ]
     },
     "execution_count": 10,
     "metadata": {},
     "output_type": "execute_result"
    }
   ],
   "source": [
    "df[FEATS].corr()"
   ]
  },
  {
   "cell_type": "code",
   "execution_count": 11,
   "metadata": {},
   "outputs": [],
   "source": [
    "def objective(trial):\n",
    "    params_xgb = {\n",
    "        \"objective\": \"binary:logistic\",\n",
    "        'metric': 'auc',\n",
    "        #\"eval_metric\":'logloss',\n",
    "        \"booster\": 'dart',\n",
    "        'tree_method':'gpu_hist', 'predictor':'gpu_predictor', 'gpu_id': 0, # GPU 사용시\n",
    "        #\"tree_method\": 'exact', 'gpu_id': -1,  # CPU 사용시\n",
    "        #\"verbosity\": 0,\n",
    "        #'num_class':3,\n",
    "        \"max_depth\": trial.suggest_int(\"max_depth\", 4, 10),\n",
    "        \"learning_rate\": trial.suggest_uniform('learning_rate', 0.0001, 0.12),\n",
    "        'n_estimators': trial.suggest_int(\"n_estimators\", 100, 1000, step=50),\n",
    "        \"colsample_bytree\": trial.suggest_float(\"colsample_bytree\", 0.7, 1.0),\n",
    "        #\"colsample_bylevel\": trial.suggest_float(\"colsample_bylevel\", 0.5, 1.0),\n",
    "        #\"colsample_bynode\": trial.suggest_float(\"colsample_bynode\", 0.5, 1.0),\n",
    "        #\"reg_lambda\": trial.suggest_loguniform(\"reg_lambda\", 1e-2, 1),\n",
    "        #\"reg_alpha\": trial.suggest_loguniform(\"reg_alpha\", 1e-2, 1),\n",
    "        #'subsample': trial.suggest_discrete_uniform('subsample', 0.6, 1.0, 0.05),     \n",
    "        'min_child_weight': trial.suggest_int('min_child_weight', 2, 8),\n",
    "        #\"gamma\": trial.suggest_float(\"gamma\", 0.1, 1.0, log=True),\n",
    "        # 'num_parallel_tree': trial.suggest_int(\"num_parallel_tree\", 1, 500) 추가하면 느려짐.\n",
    "    }\n",
    "    model = XGBClassifier(**params_xgb)\n",
    "    model.fit(\n",
    "        train[FEATS],y_train,\n",
    "        eval_set=[(train[FEATS], y_train), (test[FEATS], y_test)],\n",
    "    verbose=50,early_stopping_rounds=100)\n",
    "\n",
    "    auc_pred = model.predict(test[FEATS])\n",
    "    auc_score = roc_auc_score(y_test, auc_pred)\n",
    "    return auc_score\n"
   ]
  },
  {
   "cell_type": "code",
   "execution_count": 12,
   "metadata": {},
   "outputs": [
    {
     "name": "stderr",
     "output_type": "stream",
     "text": [
      "/opt/conda/envs/dkt/lib/python3.10/site-packages/tqdm/auto.py:22: TqdmWarning: IProgress not found. Please update jupyter and ipywidgets. See https://ipywidgets.readthedocs.io/en/stable/user_install.html\n",
      "  from .autonotebook import tqdm as notebook_tqdm\n",
      "\u001b[32m[I 2022-12-05 18:07:03,013]\u001b[0m A new study created in memory with name: xgb_parameter_opt\u001b[0m\n",
      "/tmp/ipykernel_87457/1472279724.py:12: FutureWarning: suggest_uniform has been deprecated in v3.0.0. This feature will be removed in v6.0.0. See https://github.com/optuna/optuna/releases/tag/v3.0.0. Use :func:`~optuna.trial.Trial.suggest_float` instead.\n",
      "  \"learning_rate\": trial.suggest_uniform('learning_rate', 0.0001, 0.12),\n",
      "/opt/conda/envs/dkt/lib/python3.10/site-packages/xgboost/sklearn.py:861: UserWarning: `early_stopping_rounds` in `fit` method is deprecated for better compatibility with scikit-learn, use `early_stopping_rounds` in constructor or`set_params` instead.\n",
      "  warnings.warn(\n"
     ]
    },
    {
     "name": "stdout",
     "output_type": "stream",
     "text": [
      "[18:07:05] WARNING: ../src/learner.cc:767: \n",
      "Parameters: { \"metric\" } are not used.\n",
      "\n",
      "[0]\tvalidation_0-logloss:0.68280\tvalidation_1-logloss:0.68523\n",
      "[50]\tvalidation_0-logloss:0.49640\tvalidation_1-logloss:0.53937\n",
      "[100]\tvalidation_0-logloss:0.47098\tvalidation_1-logloss:0.51654\n",
      "[150]\tvalidation_0-logloss:0.46515\tvalidation_1-logloss:0.51063\n",
      "[200]\tvalidation_0-logloss:0.46301\tvalidation_1-logloss:0.50885\n",
      "[250]\tvalidation_0-logloss:0.46195\tvalidation_1-logloss:0.50776\n",
      "[300]\tvalidation_0-logloss:0.46131\tvalidation_1-logloss:0.50712\n",
      "[350]\tvalidation_0-logloss:0.46084\tvalidation_1-logloss:0.50679\n",
      "[400]\tvalidation_0-logloss:0.46048\tvalidation_1-logloss:0.50641\n",
      "[450]\tvalidation_0-logloss:0.46019\tvalidation_1-logloss:0.50620\n",
      "[500]\tvalidation_0-logloss:0.45988\tvalidation_1-logloss:0.50593\n",
      "[550]\tvalidation_0-logloss:0.45966\tvalidation_1-logloss:0.50581\n",
      "[600]\tvalidation_0-logloss:0.45946\tvalidation_1-logloss:0.50581\n",
      "[650]\tvalidation_0-logloss:0.45925\tvalidation_1-logloss:0.50579\n",
      "[700]\tvalidation_0-logloss:0.45908\tvalidation_1-logloss:0.50578\n",
      "[750]\tvalidation_0-logloss:0.45892\tvalidation_1-logloss:0.50574\n",
      "[800]\tvalidation_0-logloss:0.45877\tvalidation_1-logloss:0.50566\n",
      "[850]\tvalidation_0-logloss:0.45862\tvalidation_1-logloss:0.50570\n",
      "[897]\tvalidation_0-logloss:0.45849\tvalidation_1-logloss:0.50570\n"
     ]
    },
    {
     "name": "stderr",
     "output_type": "stream",
     "text": [
      "\u001b[32m[I 2022-12-05 18:15:10,310]\u001b[0m Trial 0 finished with value: 0.7595557543231961 and parameters: {'max_depth': 4, 'learning_rate': 0.030386123401223025, 'n_estimators': 1000, 'colsample_bytree': 0.7714224803582734, 'min_child_weight': 7}. Best is trial 0 with value: 0.7595557543231961.\u001b[0m\n",
      "/tmp/ipykernel_87457/1472279724.py:12: FutureWarning: suggest_uniform has been deprecated in v3.0.0. This feature will be removed in v6.0.0. See https://github.com/optuna/optuna/releases/tag/v3.0.0. Use :func:`~optuna.trial.Trial.suggest_float` instead.\n",
      "  \"learning_rate\": trial.suggest_uniform('learning_rate', 0.0001, 0.12),\n",
      "/opt/conda/envs/dkt/lib/python3.10/site-packages/xgboost/sklearn.py:861: UserWarning: `early_stopping_rounds` in `fit` method is deprecated for better compatibility with scikit-learn, use `early_stopping_rounds` in constructor or`set_params` instead.\n",
      "  warnings.warn(\n"
     ]
    },
    {
     "name": "stdout",
     "output_type": "stream",
     "text": [
      "[18:15:11] WARNING: ../src/learner.cc:767: \n",
      "Parameters: { \"metric\" } are not used.\n",
      "\n",
      "[0]\tvalidation_0-logloss:0.68311\tvalidation_1-logloss:0.68504\n",
      "[50]\tvalidation_0-logloss:0.48992\tvalidation_1-logloss:0.53118\n",
      "[100]\tvalidation_0-logloss:0.46125\tvalidation_1-logloss:0.50958\n",
      "[150]\tvalidation_0-logloss:0.45515\tvalidation_1-logloss:0.50567\n",
      "[200]\tvalidation_0-logloss:0.45247\tvalidation_1-logloss:0.50442\n",
      "[250]\tvalidation_0-logloss:0.45074\tvalidation_1-logloss:0.50360\n",
      "[299]\tvalidation_0-logloss:0.44946\tvalidation_1-logloss:0.50326\n"
     ]
    },
    {
     "name": "stderr",
     "output_type": "stream",
     "text": [
      "\u001b[32m[I 2022-12-05 18:16:20,686]\u001b[0m Trial 1 finished with value: 0.7579039952295766 and parameters: {'max_depth': 9, 'learning_rate': 0.02740505657475351, 'n_estimators': 300, 'colsample_bytree': 0.8127750745187065, 'min_child_weight': 2}. Best is trial 0 with value: 0.7595557543231961.\u001b[0m\n",
      "/tmp/ipykernel_87457/1472279724.py:12: FutureWarning: suggest_uniform has been deprecated in v3.0.0. This feature will be removed in v6.0.0. See https://github.com/optuna/optuna/releases/tag/v3.0.0. Use :func:`~optuna.trial.Trial.suggest_float` instead.\n",
      "  \"learning_rate\": trial.suggest_uniform('learning_rate', 0.0001, 0.12),\n",
      "/opt/conda/envs/dkt/lib/python3.10/site-packages/xgboost/sklearn.py:861: UserWarning: `early_stopping_rounds` in `fit` method is deprecated for better compatibility with scikit-learn, use `early_stopping_rounds` in constructor or`set_params` instead.\n",
      "  warnings.warn(\n"
     ]
    },
    {
     "name": "stdout",
     "output_type": "stream",
     "text": [
      "[18:16:21] WARNING: ../src/learner.cc:767: \n",
      "Parameters: { \"metric\" } are not used.\n",
      "\n",
      "[0]\tvalidation_0-logloss:0.65645\tvalidation_1-logloss:0.66359\n",
      "[50]\tvalidation_0-logloss:0.45555\tvalidation_1-logloss:0.50499\n",
      "[99]\tvalidation_0-logloss:0.45204\tvalidation_1-logloss:0.50377\n"
     ]
    },
    {
     "name": "stderr",
     "output_type": "stream",
     "text": [
      "\u001b[32m[I 2022-12-05 18:16:29,463]\u001b[0m Trial 2 finished with value: 0.7648852116875372 and parameters: {'max_depth': 8, 'learning_rate': 0.1049454064596321, 'n_estimators': 100, 'colsample_bytree': 0.9032589964242469, 'min_child_weight': 5}. Best is trial 2 with value: 0.7648852116875372.\u001b[0m\n",
      "/tmp/ipykernel_87457/1472279724.py:12: FutureWarning: suggest_uniform has been deprecated in v3.0.0. This feature will be removed in v6.0.0. See https://github.com/optuna/optuna/releases/tag/v3.0.0. Use :func:`~optuna.trial.Trial.suggest_float` instead.\n",
      "  \"learning_rate\": trial.suggest_uniform('learning_rate', 0.0001, 0.12),\n",
      "/opt/conda/envs/dkt/lib/python3.10/site-packages/xgboost/sklearn.py:861: UserWarning: `early_stopping_rounds` in `fit` method is deprecated for better compatibility with scikit-learn, use `early_stopping_rounds` in constructor or`set_params` instead.\n",
      "  warnings.warn(\n"
     ]
    },
    {
     "name": "stdout",
     "output_type": "stream",
     "text": [
      "[18:16:30] WARNING: ../src/learner.cc:767: \n",
      "Parameters: { \"metric\" } are not used.\n",
      "\n",
      "[0]\tvalidation_0-logloss:0.66790\tvalidation_1-logloss:0.67382\n",
      "[50]\tvalidation_0-logloss:0.46672\tvalidation_1-logloss:0.51233\n",
      "[100]\tvalidation_0-logloss:0.46189\tvalidation_1-logloss:0.50804\n",
      "[150]\tvalidation_0-logloss:0.46060\tvalidation_1-logloss:0.50702\n",
      "[200]\tvalidation_0-logloss:0.45987\tvalidation_1-logloss:0.50654\n",
      "[250]\tvalidation_0-logloss:0.45934\tvalidation_1-logloss:0.50637\n",
      "[300]\tvalidation_0-logloss:0.45890\tvalidation_1-logloss:0.50639\n",
      "[350]\tvalidation_0-logloss:0.45855\tvalidation_1-logloss:0.50629\n",
      "[367]\tvalidation_0-logloss:0.45845\tvalidation_1-logloss:0.50629\n"
     ]
    },
    {
     "name": "stderr",
     "output_type": "stream",
     "text": [
      "\u001b[32m[I 2022-12-05 18:17:51,671]\u001b[0m Trial 3 finished with value: 0.7595274299344067 and parameters: {'max_depth': 4, 'learning_rate': 0.07591578104027842, 'n_estimators': 750, 'colsample_bytree': 0.9449597881968905, 'min_child_weight': 2}. Best is trial 2 with value: 0.7648852116875372.\u001b[0m\n",
      "/tmp/ipykernel_87457/1472279724.py:12: FutureWarning: suggest_uniform has been deprecated in v3.0.0. This feature will be removed in v6.0.0. See https://github.com/optuna/optuna/releases/tag/v3.0.0. Use :func:`~optuna.trial.Trial.suggest_float` instead.\n",
      "  \"learning_rate\": trial.suggest_uniform('learning_rate', 0.0001, 0.12),\n",
      "/opt/conda/envs/dkt/lib/python3.10/site-packages/xgboost/sklearn.py:861: UserWarning: `early_stopping_rounds` in `fit` method is deprecated for better compatibility with scikit-learn, use `early_stopping_rounds` in constructor or`set_params` instead.\n",
      "  warnings.warn(\n"
     ]
    },
    {
     "name": "stdout",
     "output_type": "stream",
     "text": [
      "[18:17:52] WARNING: ../src/learner.cc:767: \n",
      "Parameters: { \"metric\" } are not used.\n",
      "\n",
      "[0]\tvalidation_0-logloss:0.68286\tvalidation_1-logloss:0.68487\n",
      "[50]\tvalidation_0-logloss:0.48311\tvalidation_1-logloss:0.52583\n",
      "[100]\tvalidation_0-logloss:0.45641\tvalidation_1-logloss:0.50810\n",
      "[150]\tvalidation_0-logloss:0.45035\tvalidation_1-logloss:0.50511\n",
      "[200]\tvalidation_0-logloss:0.44717\tvalidation_1-logloss:0.50367\n",
      "[250]\tvalidation_0-logloss:0.44508\tvalidation_1-logloss:0.50293\n",
      "[300]\tvalidation_0-logloss:0.44344\tvalidation_1-logloss:0.50267\n",
      "[350]\tvalidation_0-logloss:0.44208\tvalidation_1-logloss:0.50212\n",
      "[400]\tvalidation_0-logloss:0.44094\tvalidation_1-logloss:0.50200\n",
      "[449]\tvalidation_0-logloss:0.43962\tvalidation_1-logloss:0.50174\n"
     ]
    },
    {
     "name": "stderr",
     "output_type": "stream",
     "text": [
      "\u001b[32m[I 2022-12-05 18:20:35,747]\u001b[0m Trial 4 finished with value: 0.7578473464519976 and parameters: {'max_depth': 10, 'learning_rate': 0.027833925904804956, 'n_estimators': 450, 'colsample_bytree': 0.8993662744094241, 'min_child_weight': 2}. Best is trial 2 with value: 0.7648852116875372.\u001b[0m\n",
      "/tmp/ipykernel_87457/1472279724.py:12: FutureWarning: suggest_uniform has been deprecated in v3.0.0. This feature will be removed in v6.0.0. See https://github.com/optuna/optuna/releases/tag/v3.0.0. Use :func:`~optuna.trial.Trial.suggest_float` instead.\n",
      "  \"learning_rate\": trial.suggest_uniform('learning_rate', 0.0001, 0.12),\n",
      "/opt/conda/envs/dkt/lib/python3.10/site-packages/xgboost/sklearn.py:861: UserWarning: `early_stopping_rounds` in `fit` method is deprecated for better compatibility with scikit-learn, use `early_stopping_rounds` in constructor or`set_params` instead.\n",
      "  warnings.warn(\n"
     ]
    },
    {
     "name": "stdout",
     "output_type": "stream",
     "text": [
      "[18:20:36] WARNING: ../src/learner.cc:767: \n",
      "Parameters: { \"metric\" } are not used.\n",
      "\n",
      "[0]\tvalidation_0-logloss:0.67994\tvalidation_1-logloss:0.68282\n",
      "[50]\tvalidation_0-logloss:0.48121\tvalidation_1-logloss:0.52498\n",
      "[100]\tvalidation_0-logloss:0.46422\tvalidation_1-logloss:0.50997\n",
      "[150]\tvalidation_0-logloss:0.46113\tvalidation_1-logloss:0.50737\n",
      "[200]\tvalidation_0-logloss:0.45995\tvalidation_1-logloss:0.50623\n",
      "[250]\tvalidation_0-logloss:0.45926\tvalidation_1-logloss:0.50567\n",
      "[300]\tvalidation_0-logloss:0.45873\tvalidation_1-logloss:0.50527\n",
      "[350]\tvalidation_0-logloss:0.45833\tvalidation_1-logloss:0.50511\n",
      "[400]\tvalidation_0-logloss:0.45798\tvalidation_1-logloss:0.50486\n",
      "[450]\tvalidation_0-logloss:0.45765\tvalidation_1-logloss:0.50477\n",
      "[500]\tvalidation_0-logloss:0.45735\tvalidation_1-logloss:0.50459\n",
      "[550]\tvalidation_0-logloss:0.45710\tvalidation_1-logloss:0.50451\n",
      "[599]\tvalidation_0-logloss:0.45687\tvalidation_1-logloss:0.50445\n"
     ]
    },
    {
     "name": "stderr",
     "output_type": "stream",
     "text": [
      "\u001b[32m[I 2022-12-05 18:24:16,246]\u001b[0m Trial 5 finished with value: 0.7635166964818128 and parameters: {'max_depth': 5, 'learning_rate': 0.03807638434684346, 'n_estimators': 600, 'colsample_bytree': 0.748339100792375, 'min_child_weight': 4}. Best is trial 2 with value: 0.7648852116875372.\u001b[0m\n",
      "/tmp/ipykernel_87457/1472279724.py:12: FutureWarning: suggest_uniform has been deprecated in v3.0.0. This feature will be removed in v6.0.0. See https://github.com/optuna/optuna/releases/tag/v3.0.0. Use :func:`~optuna.trial.Trial.suggest_float` instead.\n",
      "  \"learning_rate\": trial.suggest_uniform('learning_rate', 0.0001, 0.12),\n",
      "/opt/conda/envs/dkt/lib/python3.10/site-packages/xgboost/sklearn.py:861: UserWarning: `early_stopping_rounds` in `fit` method is deprecated for better compatibility with scikit-learn, use `early_stopping_rounds` in constructor or`set_params` instead.\n",
      "  warnings.warn(\n"
     ]
    },
    {
     "name": "stdout",
     "output_type": "stream",
     "text": [
      "[18:24:17] WARNING: ../src/learner.cc:767: \n",
      "Parameters: { \"metric\" } are not used.\n",
      "\n",
      "[0]\tvalidation_0-logloss:0.68253\tvalidation_1-logloss:0.68459\n",
      "[50]\tvalidation_0-logloss:0.48654\tvalidation_1-logloss:0.52863\n",
      "[100]\tvalidation_0-logloss:0.46018\tvalidation_1-logloss:0.50876\n",
      "[150]\tvalidation_0-logloss:0.45475\tvalidation_1-logloss:0.50557\n",
      "[200]\tvalidation_0-logloss:0.45233\tvalidation_1-logloss:0.50421\n",
      "[250]\tvalidation_0-logloss:0.45081\tvalidation_1-logloss:0.50355\n",
      "[300]\tvalidation_0-logloss:0.44960\tvalidation_1-logloss:0.50326\n",
      "[350]\tvalidation_0-logloss:0.44865\tvalidation_1-logloss:0.50314\n",
      "[400]\tvalidation_0-logloss:0.44777\tvalidation_1-logloss:0.50297\n",
      "[450]\tvalidation_0-logloss:0.44690\tvalidation_1-logloss:0.50286\n",
      "[500]\tvalidation_0-logloss:0.44612\tvalidation_1-logloss:0.50285\n",
      "[550]\tvalidation_0-logloss:0.44533\tvalidation_1-logloss:0.50282\n",
      "[567]\tvalidation_0-logloss:0.44508\tvalidation_1-logloss:0.50293\n"
     ]
    },
    {
     "name": "stderr",
     "output_type": "stream",
     "text": [
      "\u001b[32m[I 2022-12-05 18:28:18,088]\u001b[0m Trial 6 finished with value: 0.7628622540250447 and parameters: {'max_depth': 9, 'learning_rate': 0.028991465038098196, 'n_estimators': 800, 'colsample_bytree': 0.813048638008257, 'min_child_weight': 6}. Best is trial 2 with value: 0.7648852116875372.\u001b[0m\n",
      "/tmp/ipykernel_87457/1472279724.py:12: FutureWarning: suggest_uniform has been deprecated in v3.0.0. This feature will be removed in v6.0.0. See https://github.com/optuna/optuna/releases/tag/v3.0.0. Use :func:`~optuna.trial.Trial.suggest_float` instead.\n",
      "  \"learning_rate\": trial.suggest_uniform('learning_rate', 0.0001, 0.12),\n",
      "/opt/conda/envs/dkt/lib/python3.10/site-packages/xgboost/sklearn.py:861: UserWarning: `early_stopping_rounds` in `fit` method is deprecated for better compatibility with scikit-learn, use `early_stopping_rounds` in constructor or`set_params` instead.\n",
      "  warnings.warn(\n"
     ]
    },
    {
     "name": "stdout",
     "output_type": "stream",
     "text": [
      "[18:28:18] WARNING: ../src/learner.cc:767: \n",
      "Parameters: { \"metric\" } are not used.\n",
      "\n",
      "[0]\tvalidation_0-logloss:0.68576\tvalidation_1-logloss:0.68722\n",
      "[50]\tvalidation_0-logloss:0.50762\tvalidation_1-logloss:0.54385\n",
      "[100]\tvalidation_0-logloss:0.46856\tvalidation_1-logloss:0.51501\n",
      "[150]\tvalidation_0-logloss:0.45846\tvalidation_1-logloss:0.50802\n",
      "[200]\tvalidation_0-logloss:0.45490\tvalidation_1-logloss:0.50563\n",
      "[250]\tvalidation_0-logloss:0.45303\tvalidation_1-logloss:0.50481\n",
      "[300]\tvalidation_0-logloss:0.45171\tvalidation_1-logloss:0.50437\n",
      "[350]\tvalidation_0-logloss:0.45072\tvalidation_1-logloss:0.50418\n",
      "[400]\tvalidation_0-logloss:0.44991\tvalidation_1-logloss:0.50397\n",
      "[450]\tvalidation_0-logloss:0.44920\tvalidation_1-logloss:0.50394\n",
      "[500]\tvalidation_0-logloss:0.44855\tvalidation_1-logloss:0.50381\n",
      "[550]\tvalidation_0-logloss:0.44802\tvalidation_1-logloss:0.50382\n",
      "[600]\tvalidation_0-logloss:0.44747\tvalidation_1-logloss:0.50351\n",
      "[650]\tvalidation_0-logloss:0.44691\tvalidation_1-logloss:0.50334\n",
      "[700]\tvalidation_0-logloss:0.44644\tvalidation_1-logloss:0.50323\n",
      "[750]\tvalidation_0-logloss:0.44589\tvalidation_1-logloss:0.50320\n",
      "[800]\tvalidation_0-logloss:0.44536\tvalidation_1-logloss:0.50316\n",
      "[823]\tvalidation_0-logloss:0.44515\tvalidation_1-logloss:0.50317\n"
     ]
    },
    {
     "name": "stderr",
     "output_type": "stream",
     "text": [
      "\u001b[32m[I 2022-12-05 18:36:47,884]\u001b[0m Trial 7 finished with value: 0.7604397734048897 and parameters: {'max_depth': 9, 'learning_rate': 0.02005796664273685, 'n_estimators': 950, 'colsample_bytree': 0.9849533349162864, 'min_child_weight': 7}. Best is trial 2 with value: 0.7648852116875372.\u001b[0m\n",
      "/tmp/ipykernel_87457/1472279724.py:12: FutureWarning: suggest_uniform has been deprecated in v3.0.0. This feature will be removed in v6.0.0. See https://github.com/optuna/optuna/releases/tag/v3.0.0. Use :func:`~optuna.trial.Trial.suggest_float` instead.\n",
      "  \"learning_rate\": trial.suggest_uniform('learning_rate', 0.0001, 0.12),\n",
      "/opt/conda/envs/dkt/lib/python3.10/site-packages/xgboost/sklearn.py:861: UserWarning: `early_stopping_rounds` in `fit` method is deprecated for better compatibility with scikit-learn, use `early_stopping_rounds` in constructor or`set_params` instead.\n",
      "  warnings.warn(\n"
     ]
    },
    {
     "name": "stdout",
     "output_type": "stream",
     "text": [
      "[18:36:48] WARNING: ../src/learner.cc:767: \n",
      "Parameters: { \"metric\" } are not used.\n",
      "\n",
      "[0]\tvalidation_0-logloss:0.68344\tvalidation_1-logloss:0.68555\n",
      "[50]\tvalidation_0-logloss:0.49519\tvalidation_1-logloss:0.53641\n",
      "[100]\tvalidation_0-logloss:0.46858\tvalidation_1-logloss:0.51441\n",
      "[149]\tvalidation_0-logloss:0.46307\tvalidation_1-logloss:0.50965\n"
     ]
    },
    {
     "name": "stderr",
     "output_type": "stream",
     "text": [
      "\u001b[32m[I 2022-12-05 18:37:03,126]\u001b[0m Trial 8 finished with value: 0.7596973762671436 and parameters: {'max_depth': 5, 'learning_rate': 0.027846823308361163, 'n_estimators': 150, 'colsample_bytree': 0.8976377373168457, 'min_child_weight': 5}. Best is trial 2 with value: 0.7648852116875372.\u001b[0m\n",
      "/tmp/ipykernel_87457/1472279724.py:12: FutureWarning: suggest_uniform has been deprecated in v3.0.0. This feature will be removed in v6.0.0. See https://github.com/optuna/optuna/releases/tag/v3.0.0. Use :func:`~optuna.trial.Trial.suggest_float` instead.\n",
      "  \"learning_rate\": trial.suggest_uniform('learning_rate', 0.0001, 0.12),\n",
      "/opt/conda/envs/dkt/lib/python3.10/site-packages/xgboost/sklearn.py:861: UserWarning: `early_stopping_rounds` in `fit` method is deprecated for better compatibility with scikit-learn, use `early_stopping_rounds` in constructor or`set_params` instead.\n",
      "  warnings.warn(\n"
     ]
    },
    {
     "name": "stdout",
     "output_type": "stream",
     "text": [
      "[18:37:04] WARNING: ../src/learner.cc:767: \n",
      "Parameters: { \"metric\" } are not used.\n",
      "\n",
      "[0]\tvalidation_0-logloss:0.67415\tvalidation_1-logloss:0.67861\n",
      "[50]\tvalidation_0-logloss:0.47167\tvalidation_1-logloss:0.51701\n",
      "[100]\tvalidation_0-logloss:0.46331\tvalidation_1-logloss:0.50903\n",
      "[150]\tvalidation_0-logloss:0.46156\tvalidation_1-logloss:0.50730\n",
      "[200]\tvalidation_0-logloss:0.46058\tvalidation_1-logloss:0.50644\n",
      "[250]\tvalidation_0-logloss:0.46002\tvalidation_1-logloss:0.50597\n",
      "[300]\tvalidation_0-logloss:0.45959\tvalidation_1-logloss:0.50576\n",
      "[350]\tvalidation_0-logloss:0.45923\tvalidation_1-logloss:0.50581\n",
      "[400]\tvalidation_0-logloss:0.45886\tvalidation_1-logloss:0.50579\n",
      "[449]\tvalidation_0-logloss:0.45861\tvalidation_1-logloss:0.50593\n"
     ]
    },
    {
     "name": "stderr",
     "output_type": "stream",
     "text": [
      "\u001b[32m[I 2022-12-05 18:39:05,006]\u001b[0m Trial 9 finished with value: 0.7590429338103757 and parameters: {'max_depth': 4, 'learning_rate': 0.05656460641094802, 'n_estimators': 450, 'colsample_bytree': 0.9915163481501503, 'min_child_weight': 2}. Best is trial 2 with value: 0.7648852116875372.\u001b[0m\n",
      "/tmp/ipykernel_87457/1472279724.py:12: FutureWarning: suggest_uniform has been deprecated in v3.0.0. This feature will be removed in v6.0.0. See https://github.com/optuna/optuna/releases/tag/v3.0.0. Use :func:`~optuna.trial.Trial.suggest_float` instead.\n",
      "  \"learning_rate\": trial.suggest_uniform('learning_rate', 0.0001, 0.12),\n",
      "/opt/conda/envs/dkt/lib/python3.10/site-packages/xgboost/sklearn.py:861: UserWarning: `early_stopping_rounds` in `fit` method is deprecated for better compatibility with scikit-learn, use `early_stopping_rounds` in constructor or`set_params` instead.\n",
      "  warnings.warn(\n"
     ]
    },
    {
     "name": "stdout",
     "output_type": "stream",
     "text": [
      "[18:39:06] WARNING: ../src/learner.cc:767: \n",
      "Parameters: { \"metric\" } are not used.\n",
      "\n",
      "[0]\tvalidation_0-logloss:0.65420\tvalidation_1-logloss:0.66222\n",
      "[50]\tvalidation_0-logloss:0.45868\tvalidation_1-logloss:0.50663\n",
      "[100]\tvalidation_0-logloss:0.45513\tvalidation_1-logloss:0.50475\n",
      "[150]\tvalidation_0-logloss:0.45336\tvalidation_1-logloss:0.50422\n",
      "[199]\tvalidation_0-logloss:0.45199\tvalidation_1-logloss:0.50380\n"
     ]
    },
    {
     "name": "stderr",
     "output_type": "stream",
     "text": [
      "\u001b[32m[I 2022-12-05 18:39:33,581]\u001b[0m Trial 10 finished with value: 0.7627772808586762 and parameters: {'max_depth': 7, 'learning_rate': 0.11300632777210833, 'n_estimators': 200, 'colsample_bytree': 0.7082076025661386, 'min_child_weight': 4}. Best is trial 2 with value: 0.7648852116875372.\u001b[0m\n",
      "/tmp/ipykernel_87457/1472279724.py:12: FutureWarning: suggest_uniform has been deprecated in v3.0.0. This feature will be removed in v6.0.0. See https://github.com/optuna/optuna/releases/tag/v3.0.0. Use :func:`~optuna.trial.Trial.suggest_float` instead.\n",
      "  \"learning_rate\": trial.suggest_uniform('learning_rate', 0.0001, 0.12),\n",
      "/opt/conda/envs/dkt/lib/python3.10/site-packages/xgboost/sklearn.py:861: UserWarning: `early_stopping_rounds` in `fit` method is deprecated for better compatibility with scikit-learn, use `early_stopping_rounds` in constructor or`set_params` instead.\n",
      "  warnings.warn(\n"
     ]
    },
    {
     "name": "stdout",
     "output_type": "stream",
     "text": [
      "[18:39:34] WARNING: ../src/learner.cc:767: \n",
      "Parameters: { \"metric\" } are not used.\n",
      "\n",
      "[0]\tvalidation_0-logloss:0.65417\tvalidation_1-logloss:0.66219\n",
      "[50]\tvalidation_0-logloss:0.45867\tvalidation_1-logloss:0.50667\n",
      "[100]\tvalidation_0-logloss:0.45519\tvalidation_1-logloss:0.50495\n",
      "[150]\tvalidation_0-logloss:0.45352\tvalidation_1-logloss:0.50451\n",
      "[200]\tvalidation_0-logloss:0.45207\tvalidation_1-logloss:0.50420\n",
      "[250]\tvalidation_0-logloss:0.45083\tvalidation_1-logloss:0.50358\n",
      "[300]\tvalidation_0-logloss:0.44974\tvalidation_1-logloss:0.50389\n",
      "[350]\tvalidation_0-logloss:0.44876\tvalidation_1-logloss:0.50415\n",
      "[367]\tvalidation_0-logloss:0.44843\tvalidation_1-logloss:0.50409\n"
     ]
    },
    {
     "name": "stderr",
     "output_type": "stream",
     "text": [
      "\u001b[32m[I 2022-12-05 18:41:07,058]\u001b[0m Trial 11 finished with value: 0.7597286821705427 and parameters: {'max_depth': 7, 'learning_rate': 0.11312162931837053, 'n_estimators': 650, 'colsample_bytree': 0.7034407781504836, 'min_child_weight': 4}. Best is trial 2 with value: 0.7648852116875372.\u001b[0m\n",
      "/tmp/ipykernel_87457/1472279724.py:12: FutureWarning: suggest_uniform has been deprecated in v3.0.0. This feature will be removed in v6.0.0. See https://github.com/optuna/optuna/releases/tag/v3.0.0. Use :func:`~optuna.trial.Trial.suggest_float` instead.\n",
      "  \"learning_rate\": trial.suggest_uniform('learning_rate', 0.0001, 0.12),\n",
      "/opt/conda/envs/dkt/lib/python3.10/site-packages/xgboost/sklearn.py:861: UserWarning: `early_stopping_rounds` in `fit` method is deprecated for better compatibility with scikit-learn, use `early_stopping_rounds` in constructor or`set_params` instead.\n",
      "  warnings.warn(\n"
     ]
    },
    {
     "name": "stdout",
     "output_type": "stream",
     "text": [
      "[18:41:07] WARNING: ../src/learner.cc:767: \n",
      "Parameters: { \"metric\" } are not used.\n",
      "\n",
      "[0]\tvalidation_0-logloss:0.66539\tvalidation_1-logloss:0.67114\n",
      "[50]\tvalidation_0-logloss:0.46122\tvalidation_1-logloss:0.50859\n",
      "[100]\tvalidation_0-logloss:0.45800\tvalidation_1-logloss:0.50588\n",
      "[150]\tvalidation_0-logloss:0.45671\tvalidation_1-logloss:0.50494\n",
      "[200]\tvalidation_0-logloss:0.45571\tvalidation_1-logloss:0.50471\n",
      "[250]\tvalidation_0-logloss:0.45488\tvalidation_1-logloss:0.50425\n",
      "[300]\tvalidation_0-logloss:0.45414\tvalidation_1-logloss:0.50449\n",
      "[350]\tvalidation_0-logloss:0.45345\tvalidation_1-logloss:0.50402\n",
      "[400]\tvalidation_0-logloss:0.45271\tvalidation_1-logloss:0.50415\n",
      "[450]\tvalidation_0-logloss:0.45203\tvalidation_1-logloss:0.50410\n",
      "[500]\tvalidation_0-logloss:0.45149\tvalidation_1-logloss:0.50393\n",
      "[549]\tvalidation_0-logloss:0.45094\tvalidation_1-logloss:0.50373\n"
     ]
    },
    {
     "name": "stderr",
     "output_type": "stream",
     "text": [
      "\u001b[32m[I 2022-12-05 18:44:22,960]\u001b[0m Trial 12 finished with value: 0.7612671437090042 and parameters: {'max_depth': 6, 'learning_rate': 0.08032242711886733, 'n_estimators': 550, 'colsample_bytree': 0.8682866814951361, 'min_child_weight': 4}. Best is trial 2 with value: 0.7648852116875372.\u001b[0m\n",
      "/tmp/ipykernel_87457/1472279724.py:12: FutureWarning: suggest_uniform has been deprecated in v3.0.0. This feature will be removed in v6.0.0. See https://github.com/optuna/optuna/releases/tag/v3.0.0. Use :func:`~optuna.trial.Trial.suggest_float` instead.\n",
      "  \"learning_rate\": trial.suggest_uniform('learning_rate', 0.0001, 0.12),\n",
      "/opt/conda/envs/dkt/lib/python3.10/site-packages/xgboost/sklearn.py:861: UserWarning: `early_stopping_rounds` in `fit` method is deprecated for better compatibility with scikit-learn, use `early_stopping_rounds` in constructor or`set_params` instead.\n",
      "  warnings.warn(\n"
     ]
    },
    {
     "name": "stdout",
     "output_type": "stream",
     "text": [
      "[18:44:23] WARNING: ../src/learner.cc:767: \n",
      "Parameters: { \"metric\" } are not used.\n",
      "\n",
      "[0]\tvalidation_0-logloss:0.67375\tvalidation_1-logloss:0.67777\n",
      "[50]\tvalidation_0-logloss:0.46672\tvalidation_1-logloss:0.51249\n",
      "[100]\tvalidation_0-logloss:0.45953\tvalidation_1-logloss:0.50659\n",
      "[150]\tvalidation_0-logloss:0.45795\tvalidation_1-logloss:0.50554\n",
      "[200]\tvalidation_0-logloss:0.45696\tvalidation_1-logloss:0.50517\n",
      "[250]\tvalidation_0-logloss:0.45628\tvalidation_1-logloss:0.50495\n",
      "[300]\tvalidation_0-logloss:0.45568\tvalidation_1-logloss:0.50491\n",
      "[349]\tvalidation_0-logloss:0.45514\tvalidation_1-logloss:0.50490\n"
     ]
    },
    {
     "name": "stderr",
     "output_type": "stream",
     "text": [
      "\u001b[32m[I 2022-12-05 18:45:43,032]\u001b[0m Trial 13 finished with value: 0.7614370900417412 and parameters: {'max_depth': 6, 'learning_rate': 0.0554325822103808, 'n_estimators': 350, 'colsample_bytree': 0.7706612060385222, 'min_child_weight': 5}. Best is trial 2 with value: 0.7648852116875372.\u001b[0m\n",
      "/tmp/ipykernel_87457/1472279724.py:12: FutureWarning: suggest_uniform has been deprecated in v3.0.0. This feature will be removed in v6.0.0. See https://github.com/optuna/optuna/releases/tag/v3.0.0. Use :func:`~optuna.trial.Trial.suggest_float` instead.\n",
      "  \"learning_rate\": trial.suggest_uniform('learning_rate', 0.0001, 0.12),\n",
      "/opt/conda/envs/dkt/lib/python3.10/site-packages/xgboost/sklearn.py:861: UserWarning: `early_stopping_rounds` in `fit` method is deprecated for better compatibility with scikit-learn, use `early_stopping_rounds` in constructor or`set_params` instead.\n",
      "  warnings.warn(\n"
     ]
    },
    {
     "name": "stdout",
     "output_type": "stream",
     "text": [
      "[18:45:44] WARNING: ../src/learner.cc:767: \n",
      "Parameters: { \"metric\" } are not used.\n",
      "\n",
      "[0]\tvalidation_0-logloss:0.65985\tvalidation_1-logloss:0.66634\n",
      "[50]\tvalidation_0-logloss:0.45626\tvalidation_1-logloss:0.50727\n",
      "[99]\tvalidation_0-logloss:0.45269\tvalidation_1-logloss:0.50516\n"
     ]
    },
    {
     "name": "stderr",
     "output_type": "stream",
     "text": [
      "\u001b[32m[I 2022-12-05 18:45:51,810]\u001b[0m Trial 14 finished with value: 0.7589579606440072 and parameters: {'max_depth': 8, 'learning_rate': 0.0946929805403958, 'n_estimators': 100, 'colsample_bytree': 0.923173777791946, 'min_child_weight': 8}. Best is trial 2 with value: 0.7648852116875372.\u001b[0m\n",
      "/tmp/ipykernel_87457/1472279724.py:12: FutureWarning: suggest_uniform has been deprecated in v3.0.0. This feature will be removed in v6.0.0. See https://github.com/optuna/optuna/releases/tag/v3.0.0. Use :func:`~optuna.trial.Trial.suggest_float` instead.\n",
      "  \"learning_rate\": trial.suggest_uniform('learning_rate', 0.0001, 0.12),\n",
      "/opt/conda/envs/dkt/lib/python3.10/site-packages/xgboost/sklearn.py:861: UserWarning: `early_stopping_rounds` in `fit` method is deprecated for better compatibility with scikit-learn, use `early_stopping_rounds` in constructor or`set_params` instead.\n",
      "  warnings.warn(\n"
     ]
    },
    {
     "name": "stdout",
     "output_type": "stream",
     "text": [
      "[18:45:52] WARNING: ../src/learner.cc:767: \n",
      "Parameters: { \"metric\" } are not used.\n",
      "\n",
      "[0]\tvalidation_0-logloss:0.69121\tvalidation_1-logloss:0.69161\n",
      "[50]\tvalidation_0-logloss:0.61598\tvalidation_1-logloss:0.63186\n",
      "[100]\tvalidation_0-logloss:0.56708\tvalidation_1-logloss:0.59267\n",
      "[150]\tvalidation_0-logloss:0.53506\tvalidation_1-logloss:0.56701\n",
      "[200]\tvalidation_0-logloss:0.51316\tvalidation_1-logloss:0.54960\n",
      "[250]\tvalidation_0-logloss:0.49778\tvalidation_1-logloss:0.53726\n",
      "[300]\tvalidation_0-logloss:0.48713\tvalidation_1-logloss:0.52874\n",
      "[350]\tvalidation_0-logloss:0.47979\tvalidation_1-logloss:0.52280\n",
      "[400]\tvalidation_0-logloss:0.47446\tvalidation_1-logloss:0.51847\n",
      "[450]\tvalidation_0-logloss:0.47078\tvalidation_1-logloss:0.51549\n",
      "[500]\tvalidation_0-logloss:0.46810\tvalidation_1-logloss:0.51329\n",
      "[550]\tvalidation_0-logloss:0.46604\tvalidation_1-logloss:0.51155\n",
      "[599]\tvalidation_0-logloss:0.46448\tvalidation_1-logloss:0.51020\n"
     ]
    },
    {
     "name": "stderr",
     "output_type": "stream",
     "text": [
      "\u001b[32m[I 2022-12-05 18:49:40,705]\u001b[0m Trial 15 finished with value: 0.7617203339296361 and parameters: {'max_depth': 6, 'learning_rate': 0.005397104780304501, 'n_estimators': 600, 'colsample_bytree': 0.8305808536114357, 'min_child_weight': 3}. Best is trial 2 with value: 0.7648852116875372.\u001b[0m\n",
      "/tmp/ipykernel_87457/1472279724.py:12: FutureWarning: suggest_uniform has been deprecated in v3.0.0. This feature will be removed in v6.0.0. See https://github.com/optuna/optuna/releases/tag/v3.0.0. Use :func:`~optuna.trial.Trial.suggest_float` instead.\n",
      "  \"learning_rate\": trial.suggest_uniform('learning_rate', 0.0001, 0.12),\n",
      "/opt/conda/envs/dkt/lib/python3.10/site-packages/xgboost/sklearn.py:861: UserWarning: `early_stopping_rounds` in `fit` method is deprecated for better compatibility with scikit-learn, use `early_stopping_rounds` in constructor or`set_params` instead.\n",
      "  warnings.warn(\n"
     ]
    },
    {
     "name": "stdout",
     "output_type": "stream",
     "text": [
      "[18:49:41] WARNING: ../src/learner.cc:767: \n",
      "Parameters: { \"metric\" } are not used.\n",
      "\n",
      "[0]\tvalidation_0-logloss:0.67479\tvalidation_1-logloss:0.67837\n",
      "[50]\tvalidation_0-logloss:0.46479\tvalidation_1-logloss:0.51200\n",
      "[100]\tvalidation_0-logloss:0.45602\tvalidation_1-logloss:0.50645\n",
      "[150]\tvalidation_0-logloss:0.45369\tvalidation_1-logloss:0.50517\n",
      "[200]\tvalidation_0-logloss:0.45230\tvalidation_1-logloss:0.50481\n",
      "[250]\tvalidation_0-logloss:0.45124\tvalidation_1-logloss:0.50426\n",
      "[300]\tvalidation_0-logloss:0.45023\tvalidation_1-logloss:0.50405\n",
      "[350]\tvalidation_0-logloss:0.44927\tvalidation_1-logloss:0.50417\n",
      "[400]\tvalidation_0-logloss:0.44840\tvalidation_1-logloss:0.50391\n",
      "[450]\tvalidation_0-logloss:0.44758\tvalidation_1-logloss:0.50356\n",
      "[500]\tvalidation_0-logloss:0.44674\tvalidation_1-logloss:0.50348\n",
      "[550]\tvalidation_0-logloss:0.44598\tvalidation_1-logloss:0.50329\n",
      "[600]\tvalidation_0-logloss:0.44520\tvalidation_1-logloss:0.50297\n",
      "[650]\tvalidation_0-logloss:0.44445\tvalidation_1-logloss:0.50268\n",
      "[700]\tvalidation_0-logloss:0.44373\tvalidation_1-logloss:0.50240\n",
      "[750]\tvalidation_0-logloss:0.44300\tvalidation_1-logloss:0.50256\n",
      "[799]\tvalidation_0-logloss:0.44237\tvalidation_1-logloss:0.50205\n"
     ]
    },
    {
     "name": "stderr",
     "output_type": "stream",
     "text": [
      "\u001b[32m[I 2022-12-05 18:57:05,668]\u001b[0m Trial 16 finished with value: 0.7612954680977937 and parameters: {'max_depth': 8, 'learning_rate': 0.051080221148143166, 'n_estimators': 800, 'colsample_bytree': 0.7544849612168453, 'min_child_weight': 6}. Best is trial 2 with value: 0.7648852116875372.\u001b[0m\n",
      "/tmp/ipykernel_87457/1472279724.py:12: FutureWarning: suggest_uniform has been deprecated in v3.0.0. This feature will be removed in v6.0.0. See https://github.com/optuna/optuna/releases/tag/v3.0.0. Use :func:`~optuna.trial.Trial.suggest_float` instead.\n",
      "  \"learning_rate\": trial.suggest_uniform('learning_rate', 0.0001, 0.12),\n",
      "/opt/conda/envs/dkt/lib/python3.10/site-packages/xgboost/sklearn.py:861: UserWarning: `early_stopping_rounds` in `fit` method is deprecated for better compatibility with scikit-learn, use `early_stopping_rounds` in constructor or`set_params` instead.\n",
      "  warnings.warn(\n"
     ]
    },
    {
     "name": "stdout",
     "output_type": "stream",
     "text": [
      "[18:57:06] WARNING: ../src/learner.cc:767: \n",
      "Parameters: { \"metric\" } are not used.\n",
      "\n",
      "[0]\tvalidation_0-logloss:0.66812\tvalidation_1-logloss:0.67357\n",
      "[50]\tvalidation_0-logloss:0.46405\tvalidation_1-logloss:0.51049\n",
      "[100]\tvalidation_0-logloss:0.46006\tvalidation_1-logloss:0.50677\n",
      "[150]\tvalidation_0-logloss:0.45883\tvalidation_1-logloss:0.50559\n",
      "[200]\tvalidation_0-logloss:0.45806\tvalidation_1-logloss:0.50521\n",
      "[250]\tvalidation_0-logloss:0.45744\tvalidation_1-logloss:0.50503\n",
      "[299]\tvalidation_0-logloss:0.45690\tvalidation_1-logloss:0.50510\n"
     ]
    },
    {
     "name": "stderr",
     "output_type": "stream",
     "text": [
      "\u001b[32m[I 2022-12-05 18:58:01,727]\u001b[0m Trial 17 finished with value: 0.7600119260584377 and parameters: {'max_depth': 5, 'learning_rate': 0.07345553845106892, 'n_estimators': 300, 'colsample_bytree': 0.8635000984907187, 'min_child_weight': 3}. Best is trial 2 with value: 0.7648852116875372.\u001b[0m\n",
      "/tmp/ipykernel_87457/1472279724.py:12: FutureWarning: suggest_uniform has been deprecated in v3.0.0. This feature will be removed in v6.0.0. See https://github.com/optuna/optuna/releases/tag/v3.0.0. Use :func:`~optuna.trial.Trial.suggest_float` instead.\n",
      "  \"learning_rate\": trial.suggest_uniform('learning_rate', 0.0001, 0.12),\n",
      "/opt/conda/envs/dkt/lib/python3.10/site-packages/xgboost/sklearn.py:861: UserWarning: `early_stopping_rounds` in `fit` method is deprecated for better compatibility with scikit-learn, use `early_stopping_rounds` in constructor or`set_params` instead.\n",
      "  warnings.warn(\n"
     ]
    },
    {
     "name": "stdout",
     "output_type": "stream",
     "text": [
      "[18:58:02] WARNING: ../src/learner.cc:767: \n",
      "Parameters: { \"metric\" } are not used.\n",
      "\n",
      "[0]\tvalidation_0-logloss:0.65923\tvalidation_1-logloss:0.66583\n",
      "[50]\tvalidation_0-logloss:0.45601\tvalidation_1-logloss:0.50594\n",
      "[100]\tvalidation_0-logloss:0.45235\tvalidation_1-logloss:0.50425\n",
      "[150]\tvalidation_0-logloss:0.45018\tvalidation_1-logloss:0.50362\n",
      "[200]\tvalidation_0-logloss:0.44816\tvalidation_1-logloss:0.50293\n",
      "[250]\tvalidation_0-logloss:0.44635\tvalidation_1-logloss:0.50238\n",
      "[300]\tvalidation_0-logloss:0.44474\tvalidation_1-logloss:0.50271\n",
      "[350]\tvalidation_0-logloss:0.44326\tvalidation_1-logloss:0.50259\n",
      "[384]\tvalidation_0-logloss:0.44216\tvalidation_1-logloss:0.50283\n"
     ]
    },
    {
     "name": "stderr",
     "output_type": "stream",
     "text": [
      "\u001b[32m[I 2022-12-05 18:59:46,775]\u001b[0m Trial 18 finished with value: 0.7628905784138342 and parameters: {'max_depth': 8, 'learning_rate': 0.0965667143564955, 'n_estimators': 500, 'colsample_bytree': 0.9459537213264025, 'min_child_weight': 5}. Best is trial 2 with value: 0.7648852116875372.\u001b[0m\n",
      "/tmp/ipykernel_87457/1472279724.py:12: FutureWarning: suggest_uniform has been deprecated in v3.0.0. This feature will be removed in v6.0.0. See https://github.com/optuna/optuna/releases/tag/v3.0.0. Use :func:`~optuna.trial.Trial.suggest_float` instead.\n",
      "  \"learning_rate\": trial.suggest_uniform('learning_rate', 0.0001, 0.12),\n",
      "/opt/conda/envs/dkt/lib/python3.10/site-packages/xgboost/sklearn.py:861: UserWarning: `early_stopping_rounds` in `fit` method is deprecated for better compatibility with scikit-learn, use `early_stopping_rounds` in constructor or`set_params` instead.\n",
      "  warnings.warn(\n"
     ]
    },
    {
     "name": "stdout",
     "output_type": "stream",
     "text": [
      "[18:59:47] WARNING: ../src/learner.cc:767: \n",
      "Parameters: { \"metric\" } are not used.\n",
      "\n",
      "[0]\tvalidation_0-logloss:0.67772\tvalidation_1-logloss:0.68108\n",
      "[50]\tvalidation_0-logloss:0.47519\tvalidation_1-logloss:0.51985\n",
      "[100]\tvalidation_0-logloss:0.46267\tvalidation_1-logloss:0.50836\n",
      "[150]\tvalidation_0-logloss:0.46042\tvalidation_1-logloss:0.50655\n",
      "[200]\tvalidation_0-logloss:0.45945\tvalidation_1-logloss:0.50572\n",
      "[250]\tvalidation_0-logloss:0.45883\tvalidation_1-logloss:0.50533\n",
      "[300]\tvalidation_0-logloss:0.45835\tvalidation_1-logloss:0.50512\n",
      "[350]\tvalidation_0-logloss:0.45793\tvalidation_1-logloss:0.50501\n",
      "[400]\tvalidation_0-logloss:0.45757\tvalidation_1-logloss:0.50479\n",
      "[450]\tvalidation_0-logloss:0.45722\tvalidation_1-logloss:0.50487\n",
      "[500]\tvalidation_0-logloss:0.45691\tvalidation_1-logloss:0.50473\n",
      "[550]\tvalidation_0-logloss:0.45666\tvalidation_1-logloss:0.50452\n",
      "[600]\tvalidation_0-logloss:0.45637\tvalidation_1-logloss:0.50439\n",
      "[650]\tvalidation_0-logloss:0.45611\tvalidation_1-logloss:0.50442\n",
      "[699]\tvalidation_0-logloss:0.45589\tvalidation_1-logloss:0.50443\n"
     ]
    },
    {
     "name": "stderr",
     "output_type": "stream",
     "text": [
      "\u001b[32m[I 2022-12-05 19:04:47,575]\u001b[0m Trial 19 finished with value: 0.7634033989266548 and parameters: {'max_depth': 5, 'learning_rate': 0.044625773968407056, 'n_estimators': 700, 'colsample_bytree': 0.7447335212259576, 'min_child_weight': 6}. Best is trial 2 with value: 0.7648852116875372.\u001b[0m\n",
      "/tmp/ipykernel_87457/1472279724.py:12: FutureWarning: suggest_uniform has been deprecated in v3.0.0. This feature will be removed in v6.0.0. See https://github.com/optuna/optuna/releases/tag/v3.0.0. Use :func:`~optuna.trial.Trial.suggest_float` instead.\n",
      "  \"learning_rate\": trial.suggest_uniform('learning_rate', 0.0001, 0.12),\n",
      "/opt/conda/envs/dkt/lib/python3.10/site-packages/xgboost/sklearn.py:861: UserWarning: `early_stopping_rounds` in `fit` method is deprecated for better compatibility with scikit-learn, use `early_stopping_rounds` in constructor or`set_params` instead.\n",
      "  warnings.warn(\n"
     ]
    },
    {
     "name": "stdout",
     "output_type": "stream",
     "text": [
      "[19:04:48] WARNING: ../src/learner.cc:767: \n",
      "Parameters: { \"metric\" } are not used.\n",
      "\n",
      "[0]\tvalidation_0-logloss:0.67768\tvalidation_1-logloss:0.68068\n",
      "[50]\tvalidation_0-logloss:0.46608\tvalidation_1-logloss:0.51401\n",
      "[100]\tvalidation_0-logloss:0.45109\tvalidation_1-logloss:0.50468\n",
      "[150]\tvalidation_0-logloss:0.44690\tvalidation_1-logloss:0.50352\n",
      "[200]\tvalidation_0-logloss:0.44410\tvalidation_1-logloss:0.50315\n",
      "[250]\tvalidation_0-logloss:0.44215\tvalidation_1-logloss:0.50244\n",
      "[300]\tvalidation_0-logloss:0.44045\tvalidation_1-logloss:0.50194\n",
      "[349]\tvalidation_0-logloss:0.43885\tvalidation_1-logloss:0.50177\n"
     ]
    },
    {
     "name": "stderr",
     "output_type": "stream",
     "text": [
      "\u001b[32m[I 2022-12-05 19:06:27,220]\u001b[0m Trial 20 finished with value: 0.7618649373881933 and parameters: {'max_depth': 10, 'learning_rate': 0.04224698224525304, 'n_estimators': 350, 'colsample_bytree': 0.7902054554945533, 'min_child_weight': 3}. Best is trial 2 with value: 0.7648852116875372.\u001b[0m\n",
      "/tmp/ipykernel_87457/1472279724.py:12: FutureWarning: suggest_uniform has been deprecated in v3.0.0. This feature will be removed in v6.0.0. See https://github.com/optuna/optuna/releases/tag/v3.0.0. Use :func:`~optuna.trial.Trial.suggest_float` instead.\n",
      "  \"learning_rate\": trial.suggest_uniform('learning_rate', 0.0001, 0.12),\n",
      "/opt/conda/envs/dkt/lib/python3.10/site-packages/xgboost/sklearn.py:861: UserWarning: `early_stopping_rounds` in `fit` method is deprecated for better compatibility with scikit-learn, use `early_stopping_rounds` in constructor or`set_params` instead.\n",
      "  warnings.warn(\n"
     ]
    },
    {
     "name": "stdout",
     "output_type": "stream",
     "text": [
      "[19:06:28] WARNING: ../src/learner.cc:767: \n",
      "Parameters: { \"metric\" } are not used.\n",
      "\n",
      "[0]\tvalidation_0-logloss:0.67838\tvalidation_1-logloss:0.68160\n",
      "[50]\tvalidation_0-logloss:0.47674\tvalidation_1-logloss:0.52120\n",
      "[100]\tvalidation_0-logloss:0.46306\tvalidation_1-logloss:0.50881\n",
      "[150]\tvalidation_0-logloss:0.46065\tvalidation_1-logloss:0.50677\n",
      "[200]\tvalidation_0-logloss:0.45961\tvalidation_1-logloss:0.50576\n",
      "[250]\tvalidation_0-logloss:0.45897\tvalidation_1-logloss:0.50534\n",
      "[300]\tvalidation_0-logloss:0.45847\tvalidation_1-logloss:0.50491\n",
      "[350]\tvalidation_0-logloss:0.45808\tvalidation_1-logloss:0.50481\n",
      "[400]\tvalidation_0-logloss:0.45770\tvalidation_1-logloss:0.50452\n",
      "[450]\tvalidation_0-logloss:0.45738\tvalidation_1-logloss:0.50417\n",
      "[500]\tvalidation_0-logloss:0.45707\tvalidation_1-logloss:0.50407\n",
      "[550]\tvalidation_0-logloss:0.45680\tvalidation_1-logloss:0.50398\n",
      "[600]\tvalidation_0-logloss:0.45654\tvalidation_1-logloss:0.50386\n",
      "[650]\tvalidation_0-logloss:0.45631\tvalidation_1-logloss:0.50385\n",
      "[699]\tvalidation_0-logloss:0.45609\tvalidation_1-logloss:0.50379\n"
     ]
    },
    {
     "name": "stderr",
     "output_type": "stream",
     "text": [
      "\u001b[32m[I 2022-12-05 19:11:30,394]\u001b[0m Trial 21 finished with value: 0.7634600477042338 and parameters: {'max_depth': 5, 'learning_rate': 0.04266922290978414, 'n_estimators': 700, 'colsample_bytree': 0.7386748620524387, 'min_child_weight': 6}. Best is trial 2 with value: 0.7648852116875372.\u001b[0m\n",
      "/tmp/ipykernel_87457/1472279724.py:12: FutureWarning: suggest_uniform has been deprecated in v3.0.0. This feature will be removed in v6.0.0. See https://github.com/optuna/optuna/releases/tag/v3.0.0. Use :func:`~optuna.trial.Trial.suggest_float` instead.\n",
      "  \"learning_rate\": trial.suggest_uniform('learning_rate', 0.0001, 0.12),\n",
      "/opt/conda/envs/dkt/lib/python3.10/site-packages/xgboost/sklearn.py:861: UserWarning: `early_stopping_rounds` in `fit` method is deprecated for better compatibility with scikit-learn, use `early_stopping_rounds` in constructor or`set_params` instead.\n",
      "  warnings.warn(\n"
     ]
    },
    {
     "name": "stdout",
     "output_type": "stream",
     "text": [
      "[19:11:31] WARNING: ../src/learner.cc:767: \n",
      "Parameters: { \"metric\" } are not used.\n",
      "\n",
      "[0]\tvalidation_0-logloss:0.67005\tvalidation_1-logloss:0.67508\n",
      "[50]\tvalidation_0-logloss:0.46560\tvalidation_1-logloss:0.51145\n",
      "[100]\tvalidation_0-logloss:0.46043\tvalidation_1-logloss:0.50696\n",
      "[150]\tvalidation_0-logloss:0.45911\tvalidation_1-logloss:0.50597\n",
      "[200]\tvalidation_0-logloss:0.45830\tvalidation_1-logloss:0.50557\n",
      "[250]\tvalidation_0-logloss:0.45773\tvalidation_1-logloss:0.50520\n",
      "[300]\tvalidation_0-logloss:0.45720\tvalidation_1-logloss:0.50481\n",
      "[350]\tvalidation_0-logloss:0.45676\tvalidation_1-logloss:0.50471\n",
      "[400]\tvalidation_0-logloss:0.45637\tvalidation_1-logloss:0.50481\n",
      "[435]\tvalidation_0-logloss:0.45612\tvalidation_1-logloss:0.50482\n"
     ]
    },
    {
     "name": "stderr",
     "output_type": "stream",
     "text": [
      "\u001b[32m[I 2022-12-05 19:13:28,590]\u001b[0m Trial 22 finished with value: 0.7589862850327966 and parameters: {'max_depth': 5, 'learning_rate': 0.06761710252988339, 'n_estimators': 850, 'colsample_bytree': 0.7270396154391375, 'min_child_weight': 5}. Best is trial 2 with value: 0.7648852116875372.\u001b[0m\n",
      "/tmp/ipykernel_87457/1472279724.py:12: FutureWarning: suggest_uniform has been deprecated in v3.0.0. This feature will be removed in v6.0.0. See https://github.com/optuna/optuna/releases/tag/v3.0.0. Use :func:`~optuna.trial.Trial.suggest_float` instead.\n",
      "  \"learning_rate\": trial.suggest_uniform('learning_rate', 0.0001, 0.12),\n",
      "/opt/conda/envs/dkt/lib/python3.10/site-packages/xgboost/sklearn.py:861: UserWarning: `early_stopping_rounds` in `fit` method is deprecated for better compatibility with scikit-learn, use `early_stopping_rounds` in constructor or`set_params` instead.\n",
      "  warnings.warn(\n"
     ]
    },
    {
     "name": "stdout",
     "output_type": "stream",
     "text": [
      "[19:13:29] WARNING: ../src/learner.cc:767: \n",
      "Parameters: { \"metric\" } are not used.\n",
      "\n",
      "[0]\tvalidation_0-logloss:0.68978\tvalidation_1-logloss:0.69048\n",
      "[50]\tvalidation_0-logloss:0.57724\tvalidation_1-logloss:0.60093\n",
      "[100]\tvalidation_0-logloss:0.52249\tvalidation_1-logloss:0.55694\n",
      "[150]\tvalidation_0-logloss:0.49485\tvalidation_1-logloss:0.53495\n",
      "[200]\tvalidation_0-logloss:0.47996\tvalidation_1-logloss:0.52302\n",
      "[250]\tvalidation_0-logloss:0.47161\tvalidation_1-logloss:0.51613\n",
      "[300]\tvalidation_0-logloss:0.46696\tvalidation_1-logloss:0.51226\n",
      "[350]\tvalidation_0-logloss:0.46424\tvalidation_1-logloss:0.51002\n",
      "[400]\tvalidation_0-logloss:0.46248\tvalidation_1-logloss:0.50861\n",
      "[450]\tvalidation_0-logloss:0.46136\tvalidation_1-logloss:0.50771\n",
      "[500]\tvalidation_0-logloss:0.46058\tvalidation_1-logloss:0.50708\n",
      "[550]\tvalidation_0-logloss:0.45999\tvalidation_1-logloss:0.50656\n",
      "[600]\tvalidation_0-logloss:0.45950\tvalidation_1-logloss:0.50619\n",
      "[649]\tvalidation_0-logloss:0.45913\tvalidation_1-logloss:0.50591\n"
     ]
    },
    {
     "name": "stderr",
     "output_type": "stream",
     "text": [
      "\u001b[32m[I 2022-12-05 19:17:57,244]\u001b[0m Trial 23 finished with value: 0.7590712581991651 and parameters: {'max_depth': 6, 'learning_rate': 0.009410797954749257, 'n_estimators': 650, 'colsample_bytree': 0.8451762283172033, 'min_child_weight': 7}. Best is trial 2 with value: 0.7648852116875372.\u001b[0m\n",
      "/tmp/ipykernel_87457/1472279724.py:12: FutureWarning: suggest_uniform has been deprecated in v3.0.0. This feature will be removed in v6.0.0. See https://github.com/optuna/optuna/releases/tag/v3.0.0. Use :func:`~optuna.trial.Trial.suggest_float` instead.\n",
      "  \"learning_rate\": trial.suggest_uniform('learning_rate', 0.0001, 0.12),\n",
      "/opt/conda/envs/dkt/lib/python3.10/site-packages/xgboost/sklearn.py:861: UserWarning: `early_stopping_rounds` in `fit` method is deprecated for better compatibility with scikit-learn, use `early_stopping_rounds` in constructor or`set_params` instead.\n",
      "  warnings.warn(\n"
     ]
    },
    {
     "name": "stdout",
     "output_type": "stream",
     "text": [
      "[19:17:58] WARNING: ../src/learner.cc:767: \n",
      "Parameters: { \"metric\" } are not used.\n",
      "\n",
      "[0]\tvalidation_0-logloss:0.67940\tvalidation_1-logloss:0.68227\n",
      "[50]\tvalidation_0-logloss:0.47596\tvalidation_1-logloss:0.52019\n",
      "[100]\tvalidation_0-logloss:0.46031\tvalidation_1-logloss:0.50770\n",
      "[150]\tvalidation_0-logloss:0.45760\tvalidation_1-logloss:0.50574\n",
      "[200]\tvalidation_0-logloss:0.45624\tvalidation_1-logloss:0.50513\n",
      "[250]\tvalidation_0-logloss:0.45531\tvalidation_1-logloss:0.50448\n",
      "[300]\tvalidation_0-logloss:0.45462\tvalidation_1-logloss:0.50413\n",
      "[350]\tvalidation_0-logloss:0.45400\tvalidation_1-logloss:0.50395\n",
      "[400]\tvalidation_0-logloss:0.45341\tvalidation_1-logloss:0.50376\n",
      "[450]\tvalidation_0-logloss:0.45286\tvalidation_1-logloss:0.50361\n",
      "[500]\tvalidation_0-logloss:0.45235\tvalidation_1-logloss:0.50356\n",
      "[549]\tvalidation_0-logloss:0.45191\tvalidation_1-logloss:0.50357\n"
     ]
    },
    {
     "name": "stderr",
     "output_type": "stream",
     "text": [
      "\u001b[32m[I 2022-12-05 19:21:20,029]\u001b[0m Trial 24 finished with value: 0.7658542039355992 and parameters: {'max_depth': 7, 'learning_rate': 0.038368112163497975, 'n_estimators': 550, 'colsample_bytree': 0.7267611351817389, 'min_child_weight': 6}. Best is trial 24 with value: 0.7658542039355992.\u001b[0m\n",
      "/tmp/ipykernel_87457/1472279724.py:12: FutureWarning: suggest_uniform has been deprecated in v3.0.0. This feature will be removed in v6.0.0. See https://github.com/optuna/optuna/releases/tag/v3.0.0. Use :func:`~optuna.trial.Trial.suggest_float` instead.\n",
      "  \"learning_rate\": trial.suggest_uniform('learning_rate', 0.0001, 0.12),\n",
      "/opt/conda/envs/dkt/lib/python3.10/site-packages/xgboost/sklearn.py:861: UserWarning: `early_stopping_rounds` in `fit` method is deprecated for better compatibility with scikit-learn, use `early_stopping_rounds` in constructor or`set_params` instead.\n",
      "  warnings.warn(\n"
     ]
    },
    {
     "name": "stdout",
     "output_type": "stream",
     "text": [
      "[19:21:20] WARNING: ../src/learner.cc:767: \n",
      "Parameters: { \"metric\" } are not used.\n",
      "\n",
      "[0]\tvalidation_0-logloss:0.66190\tvalidation_1-logloss:0.66841\n",
      "[50]\tvalidation_0-logloss:0.45897\tvalidation_1-logloss:0.50653\n",
      "[100]\tvalidation_0-logloss:0.45559\tvalidation_1-logloss:0.50463\n",
      "[150]\tvalidation_0-logloss:0.45398\tvalidation_1-logloss:0.50471\n",
      "[200]\tvalidation_0-logloss:0.45270\tvalidation_1-logloss:0.50426\n",
      "[250]\tvalidation_0-logloss:0.45159\tvalidation_1-logloss:0.50430\n",
      "[300]\tvalidation_0-logloss:0.45052\tvalidation_1-logloss:0.50382\n",
      "[350]\tvalidation_0-logloss:0.44955\tvalidation_1-logloss:0.50342\n",
      "[400]\tvalidation_0-logloss:0.44859\tvalidation_1-logloss:0.50314\n",
      "[450]\tvalidation_0-logloss:0.44770\tvalidation_1-logloss:0.50308\n",
      "[500]\tvalidation_0-logloss:0.44685\tvalidation_1-logloss:0.50297\n",
      "[550]\tvalidation_0-logloss:0.44603\tvalidation_1-logloss:0.50267\n",
      "[600]\tvalidation_0-logloss:0.44508\tvalidation_1-logloss:0.50229\n",
      "[650]\tvalidation_0-logloss:0.44422\tvalidation_1-logloss:0.50203\n",
      "[700]\tvalidation_0-logloss:0.44345\tvalidation_1-logloss:0.50232\n",
      "[749]\tvalidation_0-logloss:0.44266\tvalidation_1-logloss:0.50215\n"
     ]
    },
    {
     "name": "stderr",
     "output_type": "stream",
     "text": [
      "\u001b[32m[I 2022-12-05 19:27:39,075]\u001b[0m Trial 25 finished with value: 0.7577623732856291 and parameters: {'max_depth': 7, 'learning_rate': 0.08955967306714191, 'n_estimators': 900, 'colsample_bytree': 0.7911558854413655, 'min_child_weight': 4}. Best is trial 24 with value: 0.7658542039355992.\u001b[0m\n",
      "/tmp/ipykernel_87457/1472279724.py:12: FutureWarning: suggest_uniform has been deprecated in v3.0.0. This feature will be removed in v6.0.0. See https://github.com/optuna/optuna/releases/tag/v3.0.0. Use :func:`~optuna.trial.Trial.suggest_float` instead.\n",
      "  \"learning_rate\": trial.suggest_uniform('learning_rate', 0.0001, 0.12),\n",
      "/opt/conda/envs/dkt/lib/python3.10/site-packages/xgboost/sklearn.py:861: UserWarning: `early_stopping_rounds` in `fit` method is deprecated for better compatibility with scikit-learn, use `early_stopping_rounds` in constructor or`set_params` instead.\n",
      "  warnings.warn(\n"
     ]
    },
    {
     "name": "stdout",
     "output_type": "stream",
     "text": [
      "[19:27:40] WARNING: ../src/learner.cc:767: \n",
      "Parameters: { \"metric\" } are not used.\n",
      "\n",
      "[0]\tvalidation_0-logloss:0.67012\tvalidation_1-logloss:0.67461\n",
      "[50]\tvalidation_0-logloss:0.45944\tvalidation_1-logloss:0.50713\n",
      "[100]\tvalidation_0-logloss:0.45439\tvalidation_1-logloss:0.50420\n",
      "[150]\tvalidation_0-logloss:0.45239\tvalidation_1-logloss:0.50365\n",
      "[199]\tvalidation_0-logloss:0.45088\tvalidation_1-logloss:0.50349\n"
     ]
    },
    {
     "name": "stderr",
     "output_type": "stream",
     "text": [
      "\u001b[32m[I 2022-12-05 19:28:09,218]\u001b[0m Trial 26 finished with value: 0.7644573643410852 and parameters: {'max_depth': 8, 'learning_rate': 0.06447688972235478, 'n_estimators': 200, 'colsample_bytree': 0.8999694246214852, 'min_child_weight': 5}. Best is trial 24 with value: 0.7658542039355992.\u001b[0m\n",
      "/tmp/ipykernel_87457/1472279724.py:12: FutureWarning: suggest_uniform has been deprecated in v3.0.0. This feature will be removed in v6.0.0. See https://github.com/optuna/optuna/releases/tag/v3.0.0. Use :func:`~optuna.trial.Trial.suggest_float` instead.\n",
      "  \"learning_rate\": trial.suggest_uniform('learning_rate', 0.0001, 0.12),\n",
      "/opt/conda/envs/dkt/lib/python3.10/site-packages/xgboost/sklearn.py:861: UserWarning: `early_stopping_rounds` in `fit` method is deprecated for better compatibility with scikit-learn, use `early_stopping_rounds` in constructor or`set_params` instead.\n",
      "  warnings.warn(\n"
     ]
    },
    {
     "name": "stdout",
     "output_type": "stream",
     "text": [
      "[19:28:10] WARNING: ../src/learner.cc:767: \n",
      "Parameters: { \"metric\" } are not used.\n",
      "\n",
      "[0]\tvalidation_0-logloss:0.65616\tvalidation_1-logloss:0.66336\n",
      "[50]\tvalidation_0-logloss:0.45547\tvalidation_1-logloss:0.50575\n",
      "[100]\tvalidation_0-logloss:0.45204\tvalidation_1-logloss:0.50418\n",
      "[150]\tvalidation_0-logloss:0.44975\tvalidation_1-logloss:0.50402\n",
      "[199]\tvalidation_0-logloss:0.44765\tvalidation_1-logloss:0.50317\n"
     ]
    },
    {
     "name": "stderr",
     "output_type": "stream",
     "text": [
      "\u001b[32m[I 2022-12-05 19:28:38,838]\u001b[0m Trial 27 finished with value: 0.7613804412641623 and parameters: {'max_depth': 8, 'learning_rate': 0.10581845877423188, 'n_estimators': 200, 'colsample_bytree': 0.8904619271307976, 'min_child_weight': 5}. Best is trial 24 with value: 0.7658542039355992.\u001b[0m\n",
      "/tmp/ipykernel_87457/1472279724.py:12: FutureWarning: suggest_uniform has been deprecated in v3.0.0. This feature will be removed in v6.0.0. See https://github.com/optuna/optuna/releases/tag/v3.0.0. Use :func:`~optuna.trial.Trial.suggest_float` instead.\n",
      "  \"learning_rate\": trial.suggest_uniform('learning_rate', 0.0001, 0.12),\n",
      "/opt/conda/envs/dkt/lib/python3.10/site-packages/xgboost/sklearn.py:861: UserWarning: `early_stopping_rounds` in `fit` method is deprecated for better compatibility with scikit-learn, use `early_stopping_rounds` in constructor or`set_params` instead.\n",
      "  warnings.warn(\n"
     ]
    },
    {
     "name": "stdout",
     "output_type": "stream",
     "text": [
      "[19:28:39] WARNING: ../src/learner.cc:767: \n",
      "Parameters: { \"metric\" } are not used.\n",
      "\n",
      "[0]\tvalidation_0-logloss:0.67022\tvalidation_1-logloss:0.67470\n",
      "[50]\tvalidation_0-logloss:0.45948\tvalidation_1-logloss:0.50726\n",
      "[99]\tvalidation_0-logloss:0.45458\tvalidation_1-logloss:0.50481\n"
     ]
    },
    {
     "name": "stderr",
     "output_type": "stream",
     "text": [
      "\u001b[32m[I 2022-12-05 19:28:47,490]\u001b[0m Trial 28 finished with value: 0.7600119260584377 and parameters: {'max_depth': 8, 'learning_rate': 0.06417299979949835, 'n_estimators': 100, 'colsample_bytree': 0.9313708253081618, 'min_child_weight': 8}. Best is trial 24 with value: 0.7658542039355992.\u001b[0m\n",
      "/tmp/ipykernel_87457/1472279724.py:12: FutureWarning: suggest_uniform has been deprecated in v3.0.0. This feature will be removed in v6.0.0. See https://github.com/optuna/optuna/releases/tag/v3.0.0. Use :func:`~optuna.trial.Trial.suggest_float` instead.\n",
      "  \"learning_rate\": trial.suggest_uniform('learning_rate', 0.0001, 0.12),\n",
      "/opt/conda/envs/dkt/lib/python3.10/site-packages/xgboost/sklearn.py:861: UserWarning: `early_stopping_rounds` in `fit` method is deprecated for better compatibility with scikit-learn, use `early_stopping_rounds` in constructor or`set_params` instead.\n",
      "  warnings.warn(\n"
     ]
    },
    {
     "name": "stdout",
     "output_type": "stream",
     "text": [
      "[19:28:48] WARNING: ../src/learner.cc:767: \n",
      "Parameters: { \"metric\" } are not used.\n",
      "\n",
      "[0]\tvalidation_0-logloss:0.66381\tvalidation_1-logloss:0.66995\n",
      "[50]\tvalidation_0-logloss:0.45907\tvalidation_1-logloss:0.50682\n",
      "[100]\tvalidation_0-logloss:0.45580\tvalidation_1-logloss:0.50448\n",
      "[150]\tvalidation_0-logloss:0.45427\tvalidation_1-logloss:0.50385\n",
      "[200]\tvalidation_0-logloss:0.45305\tvalidation_1-logloss:0.50345\n",
      "[249]\tvalidation_0-logloss:0.45190\tvalidation_1-logloss:0.50328\n"
     ]
    },
    {
     "name": "stderr",
     "output_type": "stream",
     "text": [
      "\u001b[32m[I 2022-12-05 19:29:31,392]\u001b[0m Trial 29 finished with value: 0.7644290399522958 and parameters: {'max_depth': 7, 'learning_rate': 0.08379019698536086, 'n_estimators': 250, 'colsample_bytree': 0.8762457589166882, 'min_child_weight': 7}. Best is trial 24 with value: 0.7658542039355992.\u001b[0m\n",
      "/tmp/ipykernel_87457/1472279724.py:12: FutureWarning: suggest_uniform has been deprecated in v3.0.0. This feature will be removed in v6.0.0. See https://github.com/optuna/optuna/releases/tag/v3.0.0. Use :func:`~optuna.trial.Trial.suggest_float` instead.\n",
      "  \"learning_rate\": trial.suggest_uniform('learning_rate', 0.0001, 0.12),\n",
      "/opt/conda/envs/dkt/lib/python3.10/site-packages/xgboost/sklearn.py:861: UserWarning: `early_stopping_rounds` in `fit` method is deprecated for better compatibility with scikit-learn, use `early_stopping_rounds` in constructor or`set_params` instead.\n",
      "  warnings.warn(\n"
     ]
    },
    {
     "name": "stdout",
     "output_type": "stream",
     "text": [
      "[19:29:32] WARNING: ../src/learner.cc:767: \n",
      "Parameters: { \"metric\" } are not used.\n",
      "\n",
      "[0]\tvalidation_0-logloss:0.65140\tvalidation_1-logloss:0.65960\n",
      "[50]\tvalidation_0-logloss:0.45185\tvalidation_1-logloss:0.50416\n",
      "[100]\tvalidation_0-logloss:0.44744\tvalidation_1-logloss:0.50325\n",
      "[150]\tvalidation_0-logloss:0.44388\tvalidation_1-logloss:0.50198\n",
      "[200]\tvalidation_0-logloss:0.44098\tvalidation_1-logloss:0.50169\n",
      "[250]\tvalidation_0-logloss:0.43850\tvalidation_1-logloss:0.50093\n",
      "[300]\tvalidation_0-logloss:0.43607\tvalidation_1-logloss:0.50022\n",
      "[350]\tvalidation_0-logloss:0.43383\tvalidation_1-logloss:0.50059\n",
      "[399]\tvalidation_0-logloss:0.43159\tvalidation_1-logloss:0.50078\n"
     ]
    },
    {
     "name": "stderr",
     "output_type": "stream",
     "text": [
      "\u001b[32m[I 2022-12-05 19:31:30,228]\u001b[0m Trial 30 finished with value: 0.7557394156231365 and parameters: {'max_depth': 9, 'learning_rate': 0.11934744985163956, 'n_estimators': 400, 'colsample_bytree': 0.9166269151094948, 'min_child_weight': 6}. Best is trial 24 with value: 0.7658542039355992.\u001b[0m\n",
      "/tmp/ipykernel_87457/1472279724.py:12: FutureWarning: suggest_uniform has been deprecated in v3.0.0. This feature will be removed in v6.0.0. See https://github.com/optuna/optuna/releases/tag/v3.0.0. Use :func:`~optuna.trial.Trial.suggest_float` instead.\n",
      "  \"learning_rate\": trial.suggest_uniform('learning_rate', 0.0001, 0.12),\n",
      "/opt/conda/envs/dkt/lib/python3.10/site-packages/xgboost/sklearn.py:861: UserWarning: `early_stopping_rounds` in `fit` method is deprecated for better compatibility with scikit-learn, use `early_stopping_rounds` in constructor or`set_params` instead.\n",
      "  warnings.warn(\n"
     ]
    },
    {
     "name": "stdout",
     "output_type": "stream",
     "text": [
      "[19:31:31] WARNING: ../src/learner.cc:767: \n",
      "Parameters: { \"metric\" } are not used.\n",
      "\n",
      "[0]\tvalidation_0-logloss:0.66211\tvalidation_1-logloss:0.66860\n",
      "[50]\tvalidation_0-logloss:0.45874\tvalidation_1-logloss:0.50693\n",
      "[100]\tvalidation_0-logloss:0.45565\tvalidation_1-logloss:0.50509\n",
      "[150]\tvalidation_0-logloss:0.45403\tvalidation_1-logloss:0.50413\n",
      "[200]\tvalidation_0-logloss:0.45265\tvalidation_1-logloss:0.50388\n",
      "[249]\tvalidation_0-logloss:0.45142\tvalidation_1-logloss:0.50346\n"
     ]
    },
    {
     "name": "stderr",
     "output_type": "stream",
     "text": [
      "\u001b[32m[I 2022-12-05 19:32:14,106]\u001b[0m Trial 31 finished with value: 0.7648852116875372 and parameters: {'max_depth': 7, 'learning_rate': 0.08887641849600285, 'n_estimators': 250, 'colsample_bytree': 0.8774854001941838, 'min_child_weight': 7}. Best is trial 24 with value: 0.7658542039355992.\u001b[0m\n",
      "/tmp/ipykernel_87457/1472279724.py:12: FutureWarning: suggest_uniform has been deprecated in v3.0.0. This feature will be removed in v6.0.0. See https://github.com/optuna/optuna/releases/tag/v3.0.0. Use :func:`~optuna.trial.Trial.suggest_float` instead.\n",
      "  \"learning_rate\": trial.suggest_uniform('learning_rate', 0.0001, 0.12),\n",
      "/opt/conda/envs/dkt/lib/python3.10/site-packages/xgboost/sklearn.py:861: UserWarning: `early_stopping_rounds` in `fit` method is deprecated for better compatibility with scikit-learn, use `early_stopping_rounds` in constructor or`set_params` instead.\n",
      "  warnings.warn(\n"
     ]
    },
    {
     "name": "stdout",
     "output_type": "stream",
     "text": [
      "[19:32:15] WARNING: ../src/learner.cc:767: \n",
      "Parameters: { \"metric\" } are not used.\n",
      "\n",
      "[0]\tvalidation_0-logloss:0.65779\tvalidation_1-logloss:0.66515\n",
      "[50]\tvalidation_0-logloss:0.45823\tvalidation_1-logloss:0.50601\n",
      "[100]\tvalidation_0-logloss:0.45514\tvalidation_1-logloss:0.50425\n",
      "[150]\tvalidation_0-logloss:0.45355\tvalidation_1-logloss:0.50404\n",
      "[199]\tvalidation_0-logloss:0.45222\tvalidation_1-logloss:0.50408\n"
     ]
    },
    {
     "name": "stderr",
     "output_type": "stream",
     "text": [
      "\u001b[32m[I 2022-12-05 19:32:42,808]\u001b[0m Trial 32 finished with value: 0.7613804412641623 and parameters: {'max_depth': 7, 'learning_rate': 0.10200859199760504, 'n_estimators': 200, 'colsample_bytree': 0.8422253668304411, 'min_child_weight': 7}. Best is trial 24 with value: 0.7658542039355992.\u001b[0m\n",
      "/tmp/ipykernel_87457/1472279724.py:12: FutureWarning: suggest_uniform has been deprecated in v3.0.0. This feature will be removed in v6.0.0. See https://github.com/optuna/optuna/releases/tag/v3.0.0. Use :func:`~optuna.trial.Trial.suggest_float` instead.\n",
      "  \"learning_rate\": trial.suggest_uniform('learning_rate', 0.0001, 0.12),\n",
      "/opt/conda/envs/dkt/lib/python3.10/site-packages/xgboost/sklearn.py:861: UserWarning: `early_stopping_rounds` in `fit` method is deprecated for better compatibility with scikit-learn, use `early_stopping_rounds` in constructor or`set_params` instead.\n",
      "  warnings.warn(\n"
     ]
    },
    {
     "name": "stdout",
     "output_type": "stream",
     "text": [
      "[19:32:43] WARNING: ../src/learner.cc:767: \n",
      "Parameters: { \"metric\" } are not used.\n",
      "\n",
      "[0]\tvalidation_0-logloss:0.66842\tvalidation_1-logloss:0.67324\n",
      "[50]\tvalidation_0-logloss:0.45859\tvalidation_1-logloss:0.50672\n",
      "[100]\tvalidation_0-logloss:0.45413\tvalidation_1-logloss:0.50463\n",
      "[150]\tvalidation_0-logloss:0.45214\tvalidation_1-logloss:0.50447\n",
      "[200]\tvalidation_0-logloss:0.45050\tvalidation_1-logloss:0.50414\n",
      "[249]\tvalidation_0-logloss:0.44922\tvalidation_1-logloss:0.50372\n"
     ]
    },
    {
     "name": "stderr",
     "output_type": "stream",
     "text": [
      "\u001b[32m[I 2022-12-05 19:33:28,172]\u001b[0m Trial 33 finished with value: 0.7639445438282648 and parameters: {'max_depth': 8, 'learning_rate': 0.06941568719648894, 'n_estimators': 250, 'colsample_bytree': 0.9556387692825145, 'min_child_weight': 6}. Best is trial 24 with value: 0.7658542039355992.\u001b[0m\n",
      "/tmp/ipykernel_87457/1472279724.py:12: FutureWarning: suggest_uniform has been deprecated in v3.0.0. This feature will be removed in v6.0.0. See https://github.com/optuna/optuna/releases/tag/v3.0.0. Use :func:`~optuna.trial.Trial.suggest_float` instead.\n",
      "  \"learning_rate\": trial.suggest_uniform('learning_rate', 0.0001, 0.12),\n",
      "/opt/conda/envs/dkt/lib/python3.10/site-packages/xgboost/sklearn.py:861: UserWarning: `early_stopping_rounds` in `fit` method is deprecated for better compatibility with scikit-learn, use `early_stopping_rounds` in constructor or`set_params` instead.\n",
      "  warnings.warn(\n"
     ]
    },
    {
     "name": "stdout",
     "output_type": "stream",
     "text": [
      "[19:33:28] WARNING: ../src/learner.cc:767: \n",
      "Parameters: { \"metric\" } are not used.\n",
      "\n",
      "[0]\tvalidation_0-logloss:0.66375\tvalidation_1-logloss:0.66989\n",
      "[50]\tvalidation_0-logloss:0.45909\tvalidation_1-logloss:0.50706\n",
      "[99]\tvalidation_0-logloss:0.45590\tvalidation_1-logloss:0.50447\n"
     ]
    },
    {
     "name": "stderr",
     "output_type": "stream",
     "text": [
      "\u001b[32m[I 2022-12-05 19:33:36,217]\u001b[0m Trial 34 finished with value: 0.7614937388193201 and parameters: {'max_depth': 7, 'learning_rate': 0.08398478800171033, 'n_estimators': 100, 'colsample_bytree': 0.9676024169214223, 'min_child_weight': 8}. Best is trial 24 with value: 0.7658542039355992.\u001b[0m\n",
      "/tmp/ipykernel_87457/1472279724.py:12: FutureWarning: suggest_uniform has been deprecated in v3.0.0. This feature will be removed in v6.0.0. See https://github.com/optuna/optuna/releases/tag/v3.0.0. Use :func:`~optuna.trial.Trial.suggest_float` instead.\n",
      "  \"learning_rate\": trial.suggest_uniform('learning_rate', 0.0001, 0.12),\n",
      "/opt/conda/envs/dkt/lib/python3.10/site-packages/xgboost/sklearn.py:861: UserWarning: `early_stopping_rounds` in `fit` method is deprecated for better compatibility with scikit-learn, use `early_stopping_rounds` in constructor or`set_params` instead.\n",
      "  warnings.warn(\n"
     ]
    },
    {
     "name": "stdout",
     "output_type": "stream",
     "text": [
      "[19:33:37] WARNING: ../src/learner.cc:767: \n",
      "Parameters: { \"metric\" } are not used.\n",
      "\n",
      "[0]\tvalidation_0-logloss:0.68719\tvalidation_1-logloss:0.68836\n",
      "[50]\tvalidation_0-logloss:0.52576\tvalidation_1-logloss:0.55810\n",
      "[100]\tvalidation_0-logloss:0.47960\tvalidation_1-logloss:0.52283\n",
      "[149]\tvalidation_0-logloss:0.46507\tvalidation_1-logloss:0.51203\n"
     ]
    },
    {
     "name": "stderr",
     "output_type": "stream",
     "text": [
      "\u001b[32m[I 2022-12-05 19:33:53,807]\u001b[0m Trial 35 finished with value: 0.7582155635062612 and parameters: {'max_depth': 8, 'learning_rate': 0.01626194106923322, 'n_estimators': 150, 'colsample_bytree': 0.9062487998000537, 'min_child_weight': 6}. Best is trial 24 with value: 0.7658542039355992.\u001b[0m\n",
      "/tmp/ipykernel_87457/1472279724.py:12: FutureWarning: suggest_uniform has been deprecated in v3.0.0. This feature will be removed in v6.0.0. See https://github.com/optuna/optuna/releases/tag/v3.0.0. Use :func:`~optuna.trial.Trial.suggest_float` instead.\n",
      "  \"learning_rate\": trial.suggest_uniform('learning_rate', 0.0001, 0.12),\n",
      "/opt/conda/envs/dkt/lib/python3.10/site-packages/xgboost/sklearn.py:861: UserWarning: `early_stopping_rounds` in `fit` method is deprecated for better compatibility with scikit-learn, use `early_stopping_rounds` in constructor or`set_params` instead.\n",
      "  warnings.warn(\n"
     ]
    },
    {
     "name": "stdout",
     "output_type": "stream",
     "text": [
      "[19:33:54] WARNING: ../src/learner.cc:767: \n",
      "Parameters: { \"metric\" } are not used.\n",
      "\n",
      "[0]\tvalidation_0-logloss:0.66092\tvalidation_1-logloss:0.66726\n",
      "[50]\tvalidation_0-logloss:0.45356\tvalidation_1-logloss:0.50545\n",
      "[100]\tvalidation_0-logloss:0.44885\tvalidation_1-logloss:0.50445\n",
      "[150]\tvalidation_0-logloss:0.44598\tvalidation_1-logloss:0.50406\n",
      "[200]\tvalidation_0-logloss:0.44360\tvalidation_1-logloss:0.50428\n",
      "[231]\tvalidation_0-logloss:0.44228\tvalidation_1-logloss:0.50408\n"
     ]
    },
    {
     "name": "stderr",
     "output_type": "stream",
     "text": [
      "\u001b[32m[I 2022-12-05 19:34:35,477]\u001b[0m Trial 36 finished with value: 0.7604397734048897 and parameters: {'max_depth': 9, 'learning_rate': 0.09075215710409837, 'n_estimators': 300, 'colsample_bytree': 0.8853254600111743, 'min_child_weight': 5}. Best is trial 24 with value: 0.7658542039355992.\u001b[0m\n",
      "/tmp/ipykernel_87457/1472279724.py:12: FutureWarning: suggest_uniform has been deprecated in v3.0.0. This feature will be removed in v6.0.0. See https://github.com/optuna/optuna/releases/tag/v3.0.0. Use :func:`~optuna.trial.Trial.suggest_float` instead.\n",
      "  \"learning_rate\": trial.suggest_uniform('learning_rate', 0.0001, 0.12),\n",
      "/opt/conda/envs/dkt/lib/python3.10/site-packages/xgboost/sklearn.py:861: UserWarning: `early_stopping_rounds` in `fit` method is deprecated for better compatibility with scikit-learn, use `early_stopping_rounds` in constructor or`set_params` instead.\n",
      "  warnings.warn(\n"
     ]
    },
    {
     "name": "stdout",
     "output_type": "stream",
     "text": [
      "[19:34:36] WARNING: ../src/learner.cc:767: \n",
      "Parameters: { \"metric\" } are not used.\n",
      "\n",
      "[0]\tvalidation_0-logloss:0.68049\tvalidation_1-logloss:0.68295\n",
      "[50]\tvalidation_0-logloss:0.47690\tvalidation_1-logloss:0.52132\n",
      "[100]\tvalidation_0-logloss:0.45722\tvalidation_1-logloss:0.50662\n",
      "[150]\tvalidation_0-logloss:0.45323\tvalidation_1-logloss:0.50462\n",
      "[200]\tvalidation_0-logloss:0.45112\tvalidation_1-logloss:0.50403\n",
      "[249]\tvalidation_0-logloss:0.44972\tvalidation_1-logloss:0.50352\n"
     ]
    },
    {
     "name": "stderr",
     "output_type": "stream",
     "text": [
      "\u001b[32m[I 2022-12-05 19:35:24,091]\u001b[0m Trial 37 finished with value: 0.7614087656529517 and parameters: {'max_depth': 9, 'learning_rate': 0.0346626628478642, 'n_estimators': 250, 'colsample_bytree': 0.8235904783506628, 'min_child_weight': 7}. Best is trial 24 with value: 0.7658542039355992.\u001b[0m\n",
      "/tmp/ipykernel_87457/1472279724.py:12: FutureWarning: suggest_uniform has been deprecated in v3.0.0. This feature will be removed in v6.0.0. See https://github.com/optuna/optuna/releases/tag/v3.0.0. Use :func:`~optuna.trial.Trial.suggest_float` instead.\n",
      "  \"learning_rate\": trial.suggest_uniform('learning_rate', 0.0001, 0.12),\n",
      "/opt/conda/envs/dkt/lib/python3.10/site-packages/xgboost/sklearn.py:861: UserWarning: `early_stopping_rounds` in `fit` method is deprecated for better compatibility with scikit-learn, use `early_stopping_rounds` in constructor or`set_params` instead.\n",
      "  warnings.warn(\n"
     ]
    },
    {
     "name": "stdout",
     "output_type": "stream",
     "text": [
      "[19:35:24] WARNING: ../src/learner.cc:767: \n",
      "Parameters: { \"metric\" } are not used.\n",
      "\n",
      "[0]\tvalidation_0-logloss:0.65657\tvalidation_1-logloss:0.66421\n",
      "[50]\tvalidation_0-logloss:0.45774\tvalidation_1-logloss:0.50587\n",
      "[100]\tvalidation_0-logloss:0.45494\tvalidation_1-logloss:0.50477\n",
      "[150]\tvalidation_0-logloss:0.45316\tvalidation_1-logloss:0.50412\n",
      "[200]\tvalidation_0-logloss:0.45164\tvalidation_1-logloss:0.50401\n",
      "[250]\tvalidation_0-logloss:0.45040\tvalidation_1-logloss:0.50322\n",
      "[300]\tvalidation_0-logloss:0.44929\tvalidation_1-logloss:0.50309\n",
      "[350]\tvalidation_0-logloss:0.44815\tvalidation_1-logloss:0.50278\n",
      "[400]\tvalidation_0-logloss:0.44703\tvalidation_1-logloss:0.50226\n",
      "[450]\tvalidation_0-logloss:0.44598\tvalidation_1-logloss:0.50194\n",
      "[500]\tvalidation_0-logloss:0.44495\tvalidation_1-logloss:0.50209\n",
      "[523]\tvalidation_0-logloss:0.44448\tvalidation_1-logloss:0.50239\n"
     ]
    },
    {
     "name": "stderr",
     "output_type": "stream",
     "text": [
      "\u001b[32m[I 2022-12-05 19:38:28,962]\u001b[0m Trial 38 finished with value: 0.7602698270721526 and parameters: {'max_depth': 7, 'learning_rate': 0.1056750930658533, 'n_estimators': 1000, 'colsample_bytree': 0.8583576785094373, 'min_child_weight': 7}. Best is trial 24 with value: 0.7658542039355992.\u001b[0m\n",
      "/tmp/ipykernel_87457/1472279724.py:12: FutureWarning: suggest_uniform has been deprecated in v3.0.0. This feature will be removed in v6.0.0. See https://github.com/optuna/optuna/releases/tag/v3.0.0. Use :func:`~optuna.trial.Trial.suggest_float` instead.\n",
      "  \"learning_rate\": trial.suggest_uniform('learning_rate', 0.0001, 0.12),\n",
      "/opt/conda/envs/dkt/lib/python3.10/site-packages/xgboost/sklearn.py:861: UserWarning: `early_stopping_rounds` in `fit` method is deprecated for better compatibility with scikit-learn, use `early_stopping_rounds` in constructor or`set_params` instead.\n",
      "  warnings.warn(\n"
     ]
    },
    {
     "name": "stdout",
     "output_type": "stream",
     "text": [
      "[19:38:29] WARNING: ../src/learner.cc:767: \n",
      "Parameters: { \"metric\" } are not used.\n",
      "\n",
      "[0]\tvalidation_0-logloss:0.67532\tvalidation_1-logloss:0.67902\n",
      "[50]\tvalidation_0-logloss:0.46761\tvalidation_1-logloss:0.51267\n",
      "[100]\tvalidation_0-logloss:0.45982\tvalidation_1-logloss:0.50695\n",
      "[149]\tvalidation_0-logloss:0.45822\tvalidation_1-logloss:0.50586\n"
     ]
    },
    {
     "name": "stderr",
     "output_type": "stream",
     "text": [
      "\u001b[32m[I 2022-12-05 19:38:44,951]\u001b[0m Trial 39 finished with value: 0.7585584376863447 and parameters: {'max_depth': 6, 'learning_rate': 0.05080158891331467, 'n_estimators': 150, 'colsample_bytree': 0.9050351523323225, 'min_child_weight': 5}. Best is trial 24 with value: 0.7658542039355992.\u001b[0m\n",
      "/tmp/ipykernel_87457/1472279724.py:12: FutureWarning: suggest_uniform has been deprecated in v3.0.0. This feature will be removed in v6.0.0. See https://github.com/optuna/optuna/releases/tag/v3.0.0. Use :func:`~optuna.trial.Trial.suggest_float` instead.\n",
      "  \"learning_rate\": trial.suggest_uniform('learning_rate', 0.0001, 0.12),\n",
      "/opt/conda/envs/dkt/lib/python3.10/site-packages/xgboost/sklearn.py:861: UserWarning: `early_stopping_rounds` in `fit` method is deprecated for better compatibility with scikit-learn, use `early_stopping_rounds` in constructor or`set_params` instead.\n",
      "  warnings.warn(\n"
     ]
    },
    {
     "name": "stdout",
     "output_type": "stream",
     "text": [
      "[19:38:46] WARNING: ../src/learner.cc:767: \n",
      "Parameters: { \"metric\" } are not used.\n",
      "\n",
      "[0]\tvalidation_0-logloss:0.67074\tvalidation_1-logloss:0.67516\n",
      "[50]\tvalidation_0-logloss:0.45459\tvalidation_1-logloss:0.50637\n",
      "[100]\tvalidation_0-logloss:0.44715\tvalidation_1-logloss:0.50399\n",
      "[150]\tvalidation_0-logloss:0.44407\tvalidation_1-logloss:0.50311\n",
      "[200]\tvalidation_0-logloss:0.44170\tvalidation_1-logloss:0.50229\n",
      "[250]\tvalidation_0-logloss:0.43951\tvalidation_1-logloss:0.50230\n",
      "[300]\tvalidation_0-logloss:0.43764\tvalidation_1-logloss:0.50208\n",
      "[350]\tvalidation_0-logloss:0.43566\tvalidation_1-logloss:0.50196\n",
      "[400]\tvalidation_0-logloss:0.43374\tvalidation_1-logloss:0.50181\n",
      "[449]\tvalidation_0-logloss:0.43195\tvalidation_1-logloss:0.50189\n"
     ]
    },
    {
     "name": "stderr",
     "output_type": "stream",
     "text": [
      "\u001b[32m[I 2022-12-05 19:41:23,047]\u001b[0m Trial 40 finished with value: 0.7591875372689325 and parameters: {'max_depth': 10, 'learning_rate': 0.061723271847461555, 'n_estimators': 450, 'colsample_bytree': 0.9301121087293981, 'min_child_weight': 6}. Best is trial 24 with value: 0.7658542039355992.\u001b[0m\n",
      "/tmp/ipykernel_87457/1472279724.py:12: FutureWarning: suggest_uniform has been deprecated in v3.0.0. This feature will be removed in v6.0.0. See https://github.com/optuna/optuna/releases/tag/v3.0.0. Use :func:`~optuna.trial.Trial.suggest_float` instead.\n",
      "  \"learning_rate\": trial.suggest_uniform('learning_rate', 0.0001, 0.12),\n",
      "/opt/conda/envs/dkt/lib/python3.10/site-packages/xgboost/sklearn.py:861: UserWarning: `early_stopping_rounds` in `fit` method is deprecated for better compatibility with scikit-learn, use `early_stopping_rounds` in constructor or`set_params` instead.\n",
      "  warnings.warn(\n"
     ]
    },
    {
     "name": "stdout",
     "output_type": "stream",
     "text": [
      "[19:41:24] WARNING: ../src/learner.cc:767: \n",
      "Parameters: { \"metric\" } are not used.\n",
      "\n",
      "[0]\tvalidation_0-logloss:0.66437\tvalidation_1-logloss:0.67039\n",
      "[50]\tvalidation_0-logloss:0.45922\tvalidation_1-logloss:0.50711\n",
      "[100]\tvalidation_0-logloss:0.45591\tvalidation_1-logloss:0.50512\n",
      "[150]\tvalidation_0-logloss:0.45436\tvalidation_1-logloss:0.50451\n",
      "[200]\tvalidation_0-logloss:0.45309\tvalidation_1-logloss:0.50432\n",
      "[249]\tvalidation_0-logloss:0.45202\tvalidation_1-logloss:0.50416\n"
     ]
    },
    {
     "name": "stderr",
     "output_type": "stream",
     "text": [
      "\u001b[32m[I 2022-12-05 19:42:06,773]\u001b[0m Trial 41 finished with value: 0.7598419797257007 and parameters: {'max_depth': 7, 'learning_rate': 0.08211953090054312, 'n_estimators': 250, 'colsample_bytree': 0.8748536767655909, 'min_child_weight': 7}. Best is trial 24 with value: 0.7658542039355992.\u001b[0m\n",
      "/tmp/ipykernel_87457/1472279724.py:12: FutureWarning: suggest_uniform has been deprecated in v3.0.0. This feature will be removed in v6.0.0. See https://github.com/optuna/optuna/releases/tag/v3.0.0. Use :func:`~optuna.trial.Trial.suggest_float` instead.\n",
      "  \"learning_rate\": trial.suggest_uniform('learning_rate', 0.0001, 0.12),\n",
      "/opt/conda/envs/dkt/lib/python3.10/site-packages/xgboost/sklearn.py:861: UserWarning: `early_stopping_rounds` in `fit` method is deprecated for better compatibility with scikit-learn, use `early_stopping_rounds` in constructor or`set_params` instead.\n",
      "  warnings.warn(\n"
     ]
    },
    {
     "name": "stdout",
     "output_type": "stream",
     "text": [
      "[19:42:07] WARNING: ../src/learner.cc:767: \n",
      "Parameters: { \"metric\" } are not used.\n",
      "\n",
      "[0]\tvalidation_0-logloss:0.66607\tvalidation_1-logloss:0.67173\n",
      "[50]\tvalidation_0-logloss:0.45972\tvalidation_1-logloss:0.50776\n",
      "[100]\tvalidation_0-logloss:0.45616\tvalidation_1-logloss:0.50511\n",
      "[150]\tvalidation_0-logloss:0.45455\tvalidation_1-logloss:0.50451\n",
      "[200]\tvalidation_0-logloss:0.45337\tvalidation_1-logloss:0.50398\n",
      "[250]\tvalidation_0-logloss:0.45230\tvalidation_1-logloss:0.50340\n",
      "[300]\tvalidation_0-logloss:0.45123\tvalidation_1-logloss:0.50279\n",
      "[349]\tvalidation_0-logloss:0.45037\tvalidation_1-logloss:0.50248\n"
     ]
    },
    {
     "name": "stderr",
     "output_type": "stream",
     "text": [
      "\u001b[32m[I 2022-12-05 19:43:31,065]\u001b[0m Trial 42 finished with value: 0.7593008348240906 and parameters: {'max_depth': 7, 'learning_rate': 0.07708441037434327, 'n_estimators': 350, 'colsample_bytree': 0.8786524912028284, 'min_child_weight': 8}. Best is trial 24 with value: 0.7658542039355992.\u001b[0m\n",
      "/tmp/ipykernel_87457/1472279724.py:12: FutureWarning: suggest_uniform has been deprecated in v3.0.0. This feature will be removed in v6.0.0. See https://github.com/optuna/optuna/releases/tag/v3.0.0. Use :func:`~optuna.trial.Trial.suggest_float` instead.\n",
      "  \"learning_rate\": trial.suggest_uniform('learning_rate', 0.0001, 0.12),\n",
      "/opt/conda/envs/dkt/lib/python3.10/site-packages/xgboost/sklearn.py:861: UserWarning: `early_stopping_rounds` in `fit` method is deprecated for better compatibility with scikit-learn, use `early_stopping_rounds` in constructor or`set_params` instead.\n",
      "  warnings.warn(\n"
     ]
    },
    {
     "name": "stdout",
     "output_type": "stream",
     "text": [
      "[19:43:32] WARNING: ../src/learner.cc:767: \n",
      "Parameters: { \"metric\" } are not used.\n",
      "\n",
      "[0]\tvalidation_0-logloss:0.66232\tvalidation_1-logloss:0.66832\n",
      "[50]\tvalidation_0-logloss:0.45715\tvalidation_1-logloss:0.50608\n",
      "[100]\tvalidation_0-logloss:0.45323\tvalidation_1-logloss:0.50383\n",
      "[150]\tvalidation_0-logloss:0.45132\tvalidation_1-logloss:0.50318\n",
      "[199]\tvalidation_0-logloss:0.44949\tvalidation_1-logloss:0.50293\n"
     ]
    },
    {
     "name": "stderr",
     "output_type": "stream",
     "text": [
      "\u001b[32m[I 2022-12-05 19:44:01,021]\u001b[0m Trial 43 finished with value: 0.7638029218843173 and parameters: {'max_depth': 8, 'learning_rate': 0.08740532515745712, 'n_estimators': 200, 'colsample_bytree': 0.8545515835717238, 'min_child_weight': 7}. Best is trial 24 with value: 0.7658542039355992.\u001b[0m\n",
      "/tmp/ipykernel_87457/1472279724.py:12: FutureWarning: suggest_uniform has been deprecated in v3.0.0. This feature will be removed in v6.0.0. See https://github.com/optuna/optuna/releases/tag/v3.0.0. Use :func:`~optuna.trial.Trial.suggest_float` instead.\n",
      "  \"learning_rate\": trial.suggest_uniform('learning_rate', 0.0001, 0.12),\n",
      "/opt/conda/envs/dkt/lib/python3.10/site-packages/xgboost/sklearn.py:861: UserWarning: `early_stopping_rounds` in `fit` method is deprecated for better compatibility with scikit-learn, use `early_stopping_rounds` in constructor or`set_params` instead.\n",
      "  warnings.warn(\n"
     ]
    },
    {
     "name": "stdout",
     "output_type": "stream",
     "text": [
      "[19:44:02] WARNING: ../src/learner.cc:767: \n",
      "Parameters: { \"metric\" } are not used.\n",
      "\n",
      "[0]\tvalidation_0-logloss:0.65871\tvalidation_1-logloss:0.66590\n",
      "[50]\tvalidation_0-logloss:0.45807\tvalidation_1-logloss:0.50615\n",
      "[100]\tvalidation_0-logloss:0.45526\tvalidation_1-logloss:0.50440\n",
      "[149]\tvalidation_0-logloss:0.45364\tvalidation_1-logloss:0.50427\n"
     ]
    },
    {
     "name": "stderr",
     "output_type": "stream",
     "text": [
      "\u001b[32m[I 2022-12-05 19:44:17,658]\u001b[0m Trial 44 finished with value: 0.7633467501490757 and parameters: {'max_depth': 7, 'learning_rate': 0.09916849635583547, 'n_estimators': 150, 'colsample_bytree': 0.8963298927556695, 'min_child_weight': 6}. Best is trial 24 with value: 0.7658542039355992.\u001b[0m\n",
      "/tmp/ipykernel_87457/1472279724.py:12: FutureWarning: suggest_uniform has been deprecated in v3.0.0. This feature will be removed in v6.0.0. See https://github.com/optuna/optuna/releases/tag/v3.0.0. Use :func:`~optuna.trial.Trial.suggest_float` instead.\n",
      "  \"learning_rate\": trial.suggest_uniform('learning_rate', 0.0001, 0.12),\n",
      "/opt/conda/envs/dkt/lib/python3.10/site-packages/xgboost/sklearn.py:861: UserWarning: `early_stopping_rounds` in `fit` method is deprecated for better compatibility with scikit-learn, use `early_stopping_rounds` in constructor or`set_params` instead.\n",
      "  warnings.warn(\n"
     ]
    },
    {
     "name": "stdout",
     "output_type": "stream",
     "text": [
      "[19:44:18] WARNING: ../src/learner.cc:767: \n",
      "Parameters: { \"metric\" } are not used.\n",
      "\n",
      "[0]\tvalidation_0-logloss:0.65549\tvalidation_1-logloss:0.66327\n",
      "[50]\tvalidation_0-logloss:0.45950\tvalidation_1-logloss:0.50663\n",
      "[100]\tvalidation_0-logloss:0.45700\tvalidation_1-logloss:0.50516\n",
      "[150]\tvalidation_0-logloss:0.45561\tvalidation_1-logloss:0.50462\n",
      "[200]\tvalidation_0-logloss:0.45441\tvalidation_1-logloss:0.50444\n",
      "[250]\tvalidation_0-logloss:0.45340\tvalidation_1-logloss:0.50490\n",
      "[297]\tvalidation_0-logloss:0.45255\tvalidation_1-logloss:0.50473\n"
     ]
    },
    {
     "name": "stderr",
     "output_type": "stream",
     "text": [
      "\u001b[32m[I 2022-12-05 19:45:16,140]\u001b[0m Trial 45 finished with value: 0.7624060822898032 and parameters: {'max_depth': 6, 'learning_rate': 0.11073660272690117, 'n_estimators': 400, 'colsample_bytree': 0.9102002627747696, 'min_child_weight': 4}. Best is trial 24 with value: 0.7658542039355992.\u001b[0m\n",
      "/tmp/ipykernel_87457/1472279724.py:12: FutureWarning: suggest_uniform has been deprecated in v3.0.0. This feature will be removed in v6.0.0. See https://github.com/optuna/optuna/releases/tag/v3.0.0. Use :func:`~optuna.trial.Trial.suggest_float` instead.\n",
      "  \"learning_rate\": trial.suggest_uniform('learning_rate', 0.0001, 0.12),\n",
      "/opt/conda/envs/dkt/lib/python3.10/site-packages/xgboost/sklearn.py:861: UserWarning: `early_stopping_rounds` in `fit` method is deprecated for better compatibility with scikit-learn, use `early_stopping_rounds` in constructor or`set_params` instead.\n",
      "  warnings.warn(\n"
     ]
    },
    {
     "name": "stdout",
     "output_type": "stream",
     "text": [
      "[19:45:16] WARNING: ../src/learner.cc:767: \n",
      "Parameters: { \"metric\" } are not used.\n",
      "\n",
      "[0]\tvalidation_0-logloss:0.66711\tvalidation_1-logloss:0.67219\n",
      "[50]\tvalidation_0-logloss:0.45807\tvalidation_1-logloss:0.50663\n",
      "[100]\tvalidation_0-logloss:0.45382\tvalidation_1-logloss:0.50476\n",
      "[150]\tvalidation_0-logloss:0.45194\tvalidation_1-logloss:0.50424\n",
      "[200]\tvalidation_0-logloss:0.45038\tvalidation_1-logloss:0.50383\n",
      "[249]\tvalidation_0-logloss:0.44885\tvalidation_1-logloss:0.50355\n"
     ]
    },
    {
     "name": "stderr",
     "output_type": "stream",
     "text": [
      "\u001b[32m[I 2022-12-05 19:46:01,731]\u001b[0m Trial 46 finished with value: 0.7603548002385212 and parameters: {'max_depth': 8, 'learning_rate': 0.07321601660061719, 'n_estimators': 250, 'colsample_bytree': 0.879447319510547, 'min_child_weight': 7}. Best is trial 24 with value: 0.7658542039355992.\u001b[0m\n",
      "/tmp/ipykernel_87457/1472279724.py:12: FutureWarning: suggest_uniform has been deprecated in v3.0.0. This feature will be removed in v6.0.0. See https://github.com/optuna/optuna/releases/tag/v3.0.0. Use :func:`~optuna.trial.Trial.suggest_float` instead.\n",
      "  \"learning_rate\": trial.suggest_uniform('learning_rate', 0.0001, 0.12),\n",
      "/opt/conda/envs/dkt/lib/python3.10/site-packages/xgboost/sklearn.py:861: UserWarning: `early_stopping_rounds` in `fit` method is deprecated for better compatibility with scikit-learn, use `early_stopping_rounds` in constructor or`set_params` instead.\n",
      "  warnings.warn(\n"
     ]
    },
    {
     "name": "stdout",
     "output_type": "stream",
     "text": [
      "[19:46:02] WARNING: ../src/learner.cc:767: \n",
      "Parameters: { \"metric\" } are not used.\n",
      "\n",
      "[0]\tvalidation_0-logloss:0.66103\tvalidation_1-logloss:0.66774\n",
      "[50]\tvalidation_0-logloss:0.45849\tvalidation_1-logloss:0.50684\n",
      "[100]\tvalidation_0-logloss:0.45544\tvalidation_1-logloss:0.50477\n",
      "[150]\tvalidation_0-logloss:0.45382\tvalidation_1-logloss:0.50408\n",
      "[200]\tvalidation_0-logloss:0.45242\tvalidation_1-logloss:0.50352\n",
      "[250]\tvalidation_0-logloss:0.45109\tvalidation_1-logloss:0.50269\n",
      "[299]\tvalidation_0-logloss:0.44990\tvalidation_1-logloss:0.50247\n"
     ]
    },
    {
     "name": "stderr",
     "output_type": "stream",
     "text": [
      "\u001b[32m[I 2022-12-05 19:47:03,847]\u001b[0m Trial 47 finished with value: 0.7613804412641623 and parameters: {'max_depth': 7, 'learning_rate': 0.09215325210016015, 'n_estimators': 300, 'colsample_bytree': 0.9390567404393362, 'min_child_weight': 5}. Best is trial 24 with value: 0.7658542039355992.\u001b[0m\n",
      "/tmp/ipykernel_87457/1472279724.py:12: FutureWarning: suggest_uniform has been deprecated in v3.0.0. This feature will be removed in v6.0.0. See https://github.com/optuna/optuna/releases/tag/v3.0.0. Use :func:`~optuna.trial.Trial.suggest_float` instead.\n",
      "  \"learning_rate\": trial.suggest_uniform('learning_rate', 0.0001, 0.12),\n",
      "/opt/conda/envs/dkt/lib/python3.10/site-packages/xgboost/sklearn.py:861: UserWarning: `early_stopping_rounds` in `fit` method is deprecated for better compatibility with scikit-learn, use `early_stopping_rounds` in constructor or`set_params` instead.\n",
      "  warnings.warn(\n"
     ]
    },
    {
     "name": "stdout",
     "output_type": "stream",
     "text": [
      "[19:47:04] WARNING: ../src/learner.cc:767: \n",
      "Parameters: { \"metric\" } are not used.\n",
      "\n",
      "[0]\tvalidation_0-logloss:0.66374\tvalidation_1-logloss:0.66983\n",
      "[50]\tvalidation_0-logloss:0.46103\tvalidation_1-logloss:0.50755\n",
      "[99]\tvalidation_0-logloss:0.45796\tvalidation_1-logloss:0.50522\n"
     ]
    },
    {
     "name": "stderr",
     "output_type": "stream",
     "text": [
      "\u001b[32m[I 2022-12-05 19:47:11,642]\u001b[0m Trial 48 finished with value: 0.7595840787119857 and parameters: {'max_depth': 6, 'learning_rate': 0.08536231276678383, 'n_estimators': 100, 'colsample_bytree': 0.7974728068617709, 'min_child_weight': 6}. Best is trial 24 with value: 0.7658542039355992.\u001b[0m\n",
      "/tmp/ipykernel_87457/1472279724.py:12: FutureWarning: suggest_uniform has been deprecated in v3.0.0. This feature will be removed in v6.0.0. See https://github.com/optuna/optuna/releases/tag/v3.0.0. Use :func:`~optuna.trial.Trial.suggest_float` instead.\n",
      "  \"learning_rate\": trial.suggest_uniform('learning_rate', 0.0001, 0.12),\n",
      "/opt/conda/envs/dkt/lib/python3.10/site-packages/xgboost/sklearn.py:861: UserWarning: `early_stopping_rounds` in `fit` method is deprecated for better compatibility with scikit-learn, use `early_stopping_rounds` in constructor or`set_params` instead.\n",
      "  warnings.warn(\n"
     ]
    },
    {
     "name": "stdout",
     "output_type": "stream",
     "text": [
      "[19:47:12] WARNING: ../src/learner.cc:767: \n",
      "Parameters: { \"metric\" } are not used.\n",
      "\n",
      "[0]\tvalidation_0-logloss:0.66482\tvalidation_1-logloss:0.67031\n",
      "[50]\tvalidation_0-logloss:0.45550\tvalidation_1-logloss:0.50614\n",
      "[100]\tvalidation_0-logloss:0.45003\tvalidation_1-logloss:0.50408\n",
      "[150]\tvalidation_0-logloss:0.44730\tvalidation_1-logloss:0.50344\n",
      "[200]\tvalidation_0-logloss:0.44506\tvalidation_1-logloss:0.50275\n",
      "[250]\tvalidation_0-logloss:0.44303\tvalidation_1-logloss:0.50245\n",
      "[300]\tvalidation_0-logloss:0.44118\tvalidation_1-logloss:0.50198\n",
      "[350]\tvalidation_0-logloss:0.43943\tvalidation_1-logloss:0.50195\n",
      "[400]\tvalidation_0-logloss:0.43772\tvalidation_1-logloss:0.50141\n",
      "[450]\tvalidation_0-logloss:0.43618\tvalidation_1-logloss:0.50121\n",
      "[499]\tvalidation_0-logloss:0.43477\tvalidation_1-logloss:0.50119\n"
     ]
    },
    {
     "name": "stderr",
     "output_type": "stream",
     "text": [
      "\u001b[32m[I 2022-12-05 19:50:17,043]\u001b[0m Trial 49 finished with value: 0.7603548002385212 and parameters: {'max_depth': 9, 'learning_rate': 0.07940164757850895, 'n_estimators': 500, 'colsample_bytree': 0.8331191858707854, 'min_child_weight': 5}. Best is trial 24 with value: 0.7658542039355992.\u001b[0m\n",
      "/tmp/ipykernel_87457/1472279724.py:12: FutureWarning: suggest_uniform has been deprecated in v3.0.0. This feature will be removed in v6.0.0. See https://github.com/optuna/optuna/releases/tag/v3.0.0. Use :func:`~optuna.trial.Trial.suggest_float` instead.\n",
      "  \"learning_rate\": trial.suggest_uniform('learning_rate', 0.0001, 0.12),\n",
      "/opt/conda/envs/dkt/lib/python3.10/site-packages/xgboost/sklearn.py:861: UserWarning: `early_stopping_rounds` in `fit` method is deprecated for better compatibility with scikit-learn, use `early_stopping_rounds` in constructor or`set_params` instead.\n",
      "  warnings.warn(\n"
     ]
    },
    {
     "name": "stdout",
     "output_type": "stream",
     "text": [
      "[19:50:17] WARNING: ../src/learner.cc:767: \n",
      "Parameters: { \"metric\" } are not used.\n",
      "\n",
      "[0]\tvalidation_0-logloss:0.67256\tvalidation_1-logloss:0.67657\n",
      "[50]\tvalidation_0-logloss:0.46226\tvalidation_1-logloss:0.50944\n",
      "[100]\tvalidation_0-logloss:0.45536\tvalidation_1-logloss:0.50540\n",
      "[149]\tvalidation_0-logloss:0.45324\tvalidation_1-logloss:0.50456\n"
     ]
    },
    {
     "name": "stderr",
     "output_type": "stream",
     "text": [
      "\u001b[32m[I 2022-12-05 19:50:34,358]\u001b[0m Trial 50 finished with value: 0.7609242695289207 and parameters: {'max_depth': 8, 'learning_rate': 0.05749025110975062, 'n_estimators': 150, 'colsample_bytree': 0.8089446820987061, 'min_child_weight': 7}. Best is trial 24 with value: 0.7658542039355992.\u001b[0m\n",
      "/tmp/ipykernel_87457/1472279724.py:12: FutureWarning: suggest_uniform has been deprecated in v3.0.0. This feature will be removed in v6.0.0. See https://github.com/optuna/optuna/releases/tag/v3.0.0. Use :func:`~optuna.trial.Trial.suggest_float` instead.\n",
      "  \"learning_rate\": trial.suggest_uniform('learning_rate', 0.0001, 0.12),\n",
      "/opt/conda/envs/dkt/lib/python3.10/site-packages/xgboost/sklearn.py:861: UserWarning: `early_stopping_rounds` in `fit` method is deprecated for better compatibility with scikit-learn, use `early_stopping_rounds` in constructor or`set_params` instead.\n",
      "  warnings.warn(\n"
     ]
    },
    {
     "name": "stdout",
     "output_type": "stream",
     "text": [
      "[19:50:35] WARNING: ../src/learner.cc:767: \n",
      "Parameters: { \"metric\" } are not used.\n",
      "\n",
      "[0]\tvalidation_0-logloss:0.66885\tvalidation_1-logloss:0.67359\n",
      "[50]\tvalidation_0-logloss:0.45879\tvalidation_1-logloss:0.50660\n",
      "[100]\tvalidation_0-logloss:0.45410\tvalidation_1-logloss:0.50452\n",
      "[150]\tvalidation_0-logloss:0.45213\tvalidation_1-logloss:0.50374\n",
      "[200]\tvalidation_0-logloss:0.45053\tvalidation_1-logloss:0.50366\n",
      "[249]\tvalidation_0-logloss:0.44918\tvalidation_1-logloss:0.50372\n"
     ]
    },
    {
     "name": "stderr",
     "output_type": "stream",
     "text": [
      "\u001b[32m[I 2022-12-05 19:51:20,387]\u001b[0m Trial 51 finished with value: 0.7649135360763268 and parameters: {'max_depth': 8, 'learning_rate': 0.0681593125513259, 'n_estimators': 250, 'colsample_bytree': 0.9552185160900838, 'min_child_weight': 6}. Best is trial 24 with value: 0.7658542039355992.\u001b[0m\n",
      "/tmp/ipykernel_87457/1472279724.py:12: FutureWarning: suggest_uniform has been deprecated in v3.0.0. This feature will be removed in v6.0.0. See https://github.com/optuna/optuna/releases/tag/v3.0.0. Use :func:`~optuna.trial.Trial.suggest_float` instead.\n",
      "  \"learning_rate\": trial.suggest_uniform('learning_rate', 0.0001, 0.12),\n",
      "/opt/conda/envs/dkt/lib/python3.10/site-packages/xgboost/sklearn.py:861: UserWarning: `early_stopping_rounds` in `fit` method is deprecated for better compatibility with scikit-learn, use `early_stopping_rounds` in constructor or`set_params` instead.\n",
      "  warnings.warn(\n"
     ]
    },
    {
     "name": "stdout",
     "output_type": "stream",
     "text": [
      "[19:51:21] WARNING: ../src/learner.cc:767: \n",
      "Parameters: { \"metric\" } are not used.\n",
      "\n",
      "[0]\tvalidation_0-logloss:0.66900\tvalidation_1-logloss:0.67405\n",
      "[50]\tvalidation_0-logloss:0.46081\tvalidation_1-logloss:0.50789\n",
      "[100]\tvalidation_0-logloss:0.45658\tvalidation_1-logloss:0.50567\n",
      "[150]\tvalidation_0-logloss:0.45493\tvalidation_1-logloss:0.50495\n",
      "[200]\tvalidation_0-logloss:0.45378\tvalidation_1-logloss:0.50468\n",
      "[250]\tvalidation_0-logloss:0.45273\tvalidation_1-logloss:0.50469\n",
      "[299]\tvalidation_0-logloss:0.45175\tvalidation_1-logloss:0.50408\n"
     ]
    },
    {
     "name": "stderr",
     "output_type": "stream",
     "text": [
      "\u001b[32m[I 2022-12-05 19:52:22,761]\u001b[0m Trial 52 finished with value: 0.7608109719737627 and parameters: {'max_depth': 7, 'learning_rate': 0.068422330263406, 'n_estimators': 300, 'colsample_bytree': 0.9867859160460484, 'min_child_weight': 6}. Best is trial 24 with value: 0.7658542039355992.\u001b[0m\n",
      "/tmp/ipykernel_87457/1472279724.py:12: FutureWarning: suggest_uniform has been deprecated in v3.0.0. This feature will be removed in v6.0.0. See https://github.com/optuna/optuna/releases/tag/v3.0.0. Use :func:`~optuna.trial.Trial.suggest_float` instead.\n",
      "  \"learning_rate\": trial.suggest_uniform('learning_rate', 0.0001, 0.12),\n",
      "/opt/conda/envs/dkt/lib/python3.10/site-packages/xgboost/sklearn.py:861: UserWarning: `early_stopping_rounds` in `fit` method is deprecated for better compatibility with scikit-learn, use `early_stopping_rounds` in constructor or`set_params` instead.\n",
      "  warnings.warn(\n"
     ]
    },
    {
     "name": "stdout",
     "output_type": "stream",
     "text": [
      "[19:52:23] WARNING: ../src/learner.cc:767: \n",
      "Parameters: { \"metric\" } are not used.\n",
      "\n",
      "[0]\tvalidation_0-logloss:0.67524\tvalidation_1-logloss:0.67873\n",
      "[50]\tvalidation_0-logloss:0.46382\tvalidation_1-logloss:0.51084\n",
      "[100]\tvalidation_0-logloss:0.45589\tvalidation_1-logloss:0.50547\n",
      "[150]\tvalidation_0-logloss:0.45376\tvalidation_1-logloss:0.50428\n",
      "[199]\tvalidation_0-logloss:0.45246\tvalidation_1-logloss:0.50373\n"
     ]
    },
    {
     "name": "stderr",
     "output_type": "stream",
     "text": [
      "\u001b[32m[I 2022-12-05 19:52:52,782]\u001b[0m Trial 53 finished with value: 0.7629472271914132 and parameters: {'max_depth': 8, 'learning_rate': 0.049769977241750016, 'n_estimators': 200, 'colsample_bytree': 0.9630766861286943, 'min_child_weight': 8}. Best is trial 24 with value: 0.7658542039355992.\u001b[0m\n",
      "/tmp/ipykernel_87457/1472279724.py:12: FutureWarning: suggest_uniform has been deprecated in v3.0.0. This feature will be removed in v6.0.0. See https://github.com/optuna/optuna/releases/tag/v3.0.0. Use :func:`~optuna.trial.Trial.suggest_float` instead.\n",
      "  \"learning_rate\": trial.suggest_uniform('learning_rate', 0.0001, 0.12),\n",
      "/opt/conda/envs/dkt/lib/python3.10/site-packages/xgboost/sklearn.py:861: UserWarning: `early_stopping_rounds` in `fit` method is deprecated for better compatibility with scikit-learn, use `early_stopping_rounds` in constructor or`set_params` instead.\n",
      "  warnings.warn(\n"
     ]
    },
    {
     "name": "stdout",
     "output_type": "stream",
     "text": [
      "[19:52:53] WARNING: ../src/learner.cc:767: \n",
      "Parameters: { \"metric\" } are not used.\n",
      "\n",
      "[0]\tvalidation_0-logloss:0.66769\tvalidation_1-logloss:0.67265\n",
      "[50]\tvalidation_0-logloss:0.45829\tvalidation_1-logloss:0.50633\n",
      "[100]\tvalidation_0-logloss:0.45382\tvalidation_1-logloss:0.50431\n",
      "[150]\tvalidation_0-logloss:0.45173\tvalidation_1-logloss:0.50377\n",
      "[200]\tvalidation_0-logloss:0.45002\tvalidation_1-logloss:0.50339\n",
      "[250]\tvalidation_0-logloss:0.44856\tvalidation_1-logloss:0.50338\n",
      "[300]\tvalidation_0-logloss:0.44720\tvalidation_1-logloss:0.50341\n",
      "[350]\tvalidation_0-logloss:0.44591\tvalidation_1-logloss:0.50331\n",
      "[399]\tvalidation_0-logloss:0.44470\tvalidation_1-logloss:0.50274\n"
     ]
    },
    {
     "name": "stderr",
     "output_type": "stream",
     "text": [
      "\u001b[32m[I 2022-12-05 19:54:46,763]\u001b[0m Trial 54 finished with value: 0.7563372093023256 and parameters: {'max_depth': 8, 'learning_rate': 0.0715395047547732, 'n_estimators': 400, 'colsample_bytree': 0.86818702706539, 'min_child_weight': 5}. Best is trial 24 with value: 0.7658542039355992.\u001b[0m\n",
      "/tmp/ipykernel_87457/1472279724.py:12: FutureWarning: suggest_uniform has been deprecated in v3.0.0. This feature will be removed in v6.0.0. See https://github.com/optuna/optuna/releases/tag/v3.0.0. Use :func:`~optuna.trial.Trial.suggest_float` instead.\n",
      "  \"learning_rate\": trial.suggest_uniform('learning_rate', 0.0001, 0.12),\n",
      "/opt/conda/envs/dkt/lib/python3.10/site-packages/xgboost/sklearn.py:861: UserWarning: `early_stopping_rounds` in `fit` method is deprecated for better compatibility with scikit-learn, use `early_stopping_rounds` in constructor or`set_params` instead.\n",
      "  warnings.warn(\n"
     ]
    },
    {
     "name": "stdout",
     "output_type": "stream",
     "text": [
      "[19:54:47] WARNING: ../src/learner.cc:767: \n",
      "Parameters: { \"metric\" } are not used.\n",
      "\n",
      "[0]\tvalidation_0-logloss:0.66570\tvalidation_1-logloss:0.67110\n",
      "[50]\tvalidation_0-logloss:0.45506\tvalidation_1-logloss:0.50578\n",
      "[100]\tvalidation_0-logloss:0.45011\tvalidation_1-logloss:0.50352\n",
      "[150]\tvalidation_0-logloss:0.44751\tvalidation_1-logloss:0.50323\n",
      "[200]\tvalidation_0-logloss:0.44536\tvalidation_1-logloss:0.50239\n",
      "[249]\tvalidation_0-logloss:0.44340\tvalidation_1-logloss:0.50238\n"
     ]
    },
    {
     "name": "stderr",
     "output_type": "stream",
     "text": [
      "\u001b[32m[I 2022-12-05 19:55:35,514]\u001b[0m Trial 55 finished with value: 0.7643440667859273 and parameters: {'max_depth': 9, 'learning_rate': 0.07674533734556428, 'n_estimators': 250, 'colsample_bytree': 0.9233722760484505, 'min_child_weight': 6}. Best is trial 24 with value: 0.7658542039355992.\u001b[0m\n",
      "/tmp/ipykernel_87457/1472279724.py:12: FutureWarning: suggest_uniform has been deprecated in v3.0.0. This feature will be removed in v6.0.0. See https://github.com/optuna/optuna/releases/tag/v3.0.0. Use :func:`~optuna.trial.Trial.suggest_float` instead.\n",
      "  \"learning_rate\": trial.suggest_uniform('learning_rate', 0.0001, 0.12),\n",
      "/opt/conda/envs/dkt/lib/python3.10/site-packages/xgboost/sklearn.py:861: UserWarning: `early_stopping_rounds` in `fit` method is deprecated for better compatibility with scikit-learn, use `early_stopping_rounds` in constructor or`set_params` instead.\n",
      "  warnings.warn(\n"
     ]
    },
    {
     "name": "stdout",
     "output_type": "stream",
     "text": [
      "[19:55:36] WARNING: ../src/learner.cc:767: \n",
      "Parameters: { \"metric\" } are not used.\n",
      "\n",
      "[0]\tvalidation_0-logloss:0.68530\tvalidation_1-logloss:0.68695\n",
      "[50]\tvalidation_0-logloss:0.50549\tvalidation_1-logloss:0.54263\n",
      "[100]\tvalidation_0-logloss:0.46999\tvalidation_1-logloss:0.51555\n",
      "[150]\tvalidation_0-logloss:0.46161\tvalidation_1-logloss:0.50908\n",
      "[200]\tvalidation_0-logloss:0.45888\tvalidation_1-logloss:0.50710\n",
      "[250]\tvalidation_0-logloss:0.45762\tvalidation_1-logloss:0.50616\n",
      "[300]\tvalidation_0-logloss:0.45678\tvalidation_1-logloss:0.50548\n",
      "[350]\tvalidation_0-logloss:0.45612\tvalidation_1-logloss:0.50519\n",
      "[400]\tvalidation_0-logloss:0.45561\tvalidation_1-logloss:0.50479\n",
      "[450]\tvalidation_0-logloss:0.45512\tvalidation_1-logloss:0.50450\n",
      "[500]\tvalidation_0-logloss:0.45472\tvalidation_1-logloss:0.50429\n",
      "[549]\tvalidation_0-logloss:0.45435\tvalidation_1-logloss:0.50428\n"
     ]
    },
    {
     "name": "stderr",
     "output_type": "stream",
     "text": [
      "\u001b[32m[I 2022-12-05 19:59:00,689]\u001b[0m Trial 56 finished with value: 0.7624910554561718 and parameters: {'max_depth': 7, 'learning_rate': 0.021711497095887863, 'n_estimators': 550, 'colsample_bytree': 0.9750533014045937, 'min_child_weight': 4}. Best is trial 24 with value: 0.7658542039355992.\u001b[0m\n",
      "/tmp/ipykernel_87457/1472279724.py:12: FutureWarning: suggest_uniform has been deprecated in v3.0.0. This feature will be removed in v6.0.0. See https://github.com/optuna/optuna/releases/tag/v3.0.0. Use :func:`~optuna.trial.Trial.suggest_float` instead.\n",
      "  \"learning_rate\": trial.suggest_uniform('learning_rate', 0.0001, 0.12),\n",
      "/opt/conda/envs/dkt/lib/python3.10/site-packages/xgboost/sklearn.py:861: UserWarning: `early_stopping_rounds` in `fit` method is deprecated for better compatibility with scikit-learn, use `early_stopping_rounds` in constructor or`set_params` instead.\n",
      "  warnings.warn(\n"
     ]
    },
    {
     "name": "stdout",
     "output_type": "stream",
     "text": [
      "[19:59:01] WARNING: ../src/learner.cc:767: \n",
      "Parameters: { \"metric\" } are not used.\n",
      "\n",
      "[0]\tvalidation_0-logloss:0.65943\tvalidation_1-logloss:0.66600\n",
      "[50]\tvalidation_0-logloss:0.45617\tvalidation_1-logloss:0.50630\n",
      "[100]\tvalidation_0-logloss:0.45253\tvalidation_1-logloss:0.50397\n",
      "[150]\tvalidation_0-logloss:0.45052\tvalidation_1-logloss:0.50356\n",
      "[200]\tvalidation_0-logloss:0.44861\tvalidation_1-logloss:0.50295\n",
      "[250]\tvalidation_0-logloss:0.44675\tvalidation_1-logloss:0.50288\n",
      "[300]\tvalidation_0-logloss:0.44534\tvalidation_1-logloss:0.50287\n",
      "[349]\tvalidation_0-logloss:0.44377\tvalidation_1-logloss:0.50280\n"
     ]
    },
    {
     "name": "stderr",
     "output_type": "stream",
     "text": [
      "\u001b[32m[I 2022-12-05 20:00:28,247]\u001b[0m Trial 57 finished with value: 0.7593574836016697 and parameters: {'max_depth': 8, 'learning_rate': 0.09596133382146807, 'n_estimators': 350, 'colsample_bytree': 0.9983291792621538, 'min_child_weight': 7}. Best is trial 24 with value: 0.7658542039355992.\u001b[0m\n",
      "/tmp/ipykernel_87457/1472279724.py:12: FutureWarning: suggest_uniform has been deprecated in v3.0.0. This feature will be removed in v6.0.0. See https://github.com/optuna/optuna/releases/tag/v3.0.0. Use :func:`~optuna.trial.Trial.suggest_float` instead.\n",
      "  \"learning_rate\": trial.suggest_uniform('learning_rate', 0.0001, 0.12),\n",
      "/opt/conda/envs/dkt/lib/python3.10/site-packages/xgboost/sklearn.py:861: UserWarning: `early_stopping_rounds` in `fit` method is deprecated for better compatibility with scikit-learn, use `early_stopping_rounds` in constructor or`set_params` instead.\n",
      "  warnings.warn(\n"
     ]
    },
    {
     "name": "stdout",
     "output_type": "stream",
     "text": [
      "[20:00:28] WARNING: ../src/learner.cc:767: \n",
      "Parameters: { \"metric\" } are not used.\n",
      "\n",
      "[0]\tvalidation_0-logloss:0.67070\tvalidation_1-logloss:0.67539\n",
      "[50]\tvalidation_0-logloss:0.46163\tvalidation_1-logloss:0.50839\n",
      "[100]\tvalidation_0-logloss:0.45694\tvalidation_1-logloss:0.50522\n",
      "[149]\tvalidation_0-logloss:0.45533\tvalidation_1-logloss:0.50394\n"
     ]
    },
    {
     "name": "stderr",
     "output_type": "stream",
     "text": [
      "\u001b[32m[I 2022-12-05 20:00:45,420]\u001b[0m Trial 58 finished with value: 0.7604680977936792 and parameters: {'max_depth': 7, 'learning_rate': 0.06345712779523931, 'n_estimators': 150, 'colsample_bytree': 0.8941680221853354, 'min_child_weight': 5}. Best is trial 24 with value: 0.7658542039355992.\u001b[0m\n",
      "/tmp/ipykernel_87457/1472279724.py:12: FutureWarning: suggest_uniform has been deprecated in v3.0.0. This feature will be removed in v6.0.0. See https://github.com/optuna/optuna/releases/tag/v3.0.0. Use :func:`~optuna.trial.Trial.suggest_float` instead.\n",
      "  \"learning_rate\": trial.suggest_uniform('learning_rate', 0.0001, 0.12),\n",
      "/opt/conda/envs/dkt/lib/python3.10/site-packages/xgboost/sklearn.py:861: UserWarning: `early_stopping_rounds` in `fit` method is deprecated for better compatibility with scikit-learn, use `early_stopping_rounds` in constructor or`set_params` instead.\n",
      "  warnings.warn(\n"
     ]
    },
    {
     "name": "stdout",
     "output_type": "stream",
     "text": [
      "[20:00:46] WARNING: ../src/learner.cc:767: \n",
      "Parameters: { \"metric\" } are not used.\n",
      "\n",
      "[0]\tvalidation_0-logloss:0.67385\tvalidation_1-logloss:0.67785\n",
      "[50]\tvalidation_0-logloss:0.46588\tvalidation_1-logloss:0.51199\n",
      "[99]\tvalidation_0-logloss:0.45943\tvalidation_1-logloss:0.50699\n"
     ]
    },
    {
     "name": "stderr",
     "output_type": "stream",
     "text": [
      "\u001b[32m[I 2022-12-05 20:00:53,619]\u001b[0m Trial 59 finished with value: 0.7580739415623136 and parameters: {'max_depth': 6, 'learning_rate': 0.055132375254436206, 'n_estimators': 100, 'colsample_bytree': 0.9479902833121682, 'min_child_weight': 6}. Best is trial 24 with value: 0.7658542039355992.\u001b[0m\n",
      "/tmp/ipykernel_87457/1472279724.py:12: FutureWarning: suggest_uniform has been deprecated in v3.0.0. This feature will be removed in v6.0.0. See https://github.com/optuna/optuna/releases/tag/v3.0.0. Use :func:`~optuna.trial.Trial.suggest_float` instead.\n",
      "  \"learning_rate\": trial.suggest_uniform('learning_rate', 0.0001, 0.12),\n",
      "/opt/conda/envs/dkt/lib/python3.10/site-packages/xgboost/sklearn.py:861: UserWarning: `early_stopping_rounds` in `fit` method is deprecated for better compatibility with scikit-learn, use `early_stopping_rounds` in constructor or`set_params` instead.\n",
      "  warnings.warn(\n"
     ]
    },
    {
     "name": "stdout",
     "output_type": "stream",
     "text": [
      "[20:00:54] WARNING: ../src/learner.cc:767: \n",
      "Parameters: { \"metric\" } are not used.\n",
      "\n",
      "[0]\tvalidation_0-logloss:0.68133\tvalidation_1-logloss:0.68365\n",
      "[50]\tvalidation_0-logloss:0.47884\tvalidation_1-logloss:0.52213\n",
      "[100]\tvalidation_0-logloss:0.45955\tvalidation_1-logloss:0.50815\n",
      "[150]\tvalidation_0-logloss:0.45598\tvalidation_1-logloss:0.50591\n",
      "[200]\tvalidation_0-logloss:0.45427\tvalidation_1-logloss:0.50509\n",
      "[250]\tvalidation_0-logloss:0.45316\tvalidation_1-logloss:0.50449\n",
      "[299]\tvalidation_0-logloss:0.45226\tvalidation_1-logloss:0.50418\n"
     ]
    },
    {
     "name": "stderr",
     "output_type": "stream",
     "text": [
      "\u001b[32m[I 2022-12-05 20:02:00,683]\u001b[0m Trial 60 finished with value: 0.7634317233154442 and parameters: {'max_depth': 8, 'learning_rate': 0.03254315627627848, 'n_estimators': 300, 'colsample_bytree': 0.9170226606721009, 'min_child_weight': 4}. Best is trial 24 with value: 0.7658542039355992.\u001b[0m\n",
      "/tmp/ipykernel_87457/1472279724.py:12: FutureWarning: suggest_uniform has been deprecated in v3.0.0. This feature will be removed in v6.0.0. See https://github.com/optuna/optuna/releases/tag/v3.0.0. Use :func:`~optuna.trial.Trial.suggest_float` instead.\n",
      "  \"learning_rate\": trial.suggest_uniform('learning_rate', 0.0001, 0.12),\n",
      "/opt/conda/envs/dkt/lib/python3.10/site-packages/xgboost/sklearn.py:861: UserWarning: `early_stopping_rounds` in `fit` method is deprecated for better compatibility with scikit-learn, use `early_stopping_rounds` in constructor or`set_params` instead.\n",
      "  warnings.warn(\n"
     ]
    },
    {
     "name": "stdout",
     "output_type": "stream",
     "text": [
      "[20:02:01] WARNING: ../src/learner.cc:767: \n",
      "Parameters: { \"metric\" } are not used.\n",
      "\n",
      "[0]\tvalidation_0-logloss:0.66525\tvalidation_1-logloss:0.67074\n",
      "[50]\tvalidation_0-logloss:0.45489\tvalidation_1-logloss:0.50648\n",
      "[100]\tvalidation_0-logloss:0.45006\tvalidation_1-logloss:0.50457\n",
      "[150]\tvalidation_0-logloss:0.44743\tvalidation_1-logloss:0.50425\n",
      "[200]\tvalidation_0-logloss:0.44511\tvalidation_1-logloss:0.50372\n",
      "[249]\tvalidation_0-logloss:0.44329\tvalidation_1-logloss:0.50339\n"
     ]
    },
    {
     "name": "stderr",
     "output_type": "stream",
     "text": [
      "\u001b[32m[I 2022-12-05 20:02:48,755]\u001b[0m Trial 61 finished with value: 0.7614087656529517 and parameters: {'max_depth': 9, 'learning_rate': 0.07805839990162373, 'n_estimators': 250, 'colsample_bytree': 0.9242980276108237, 'min_child_weight': 6}. Best is trial 24 with value: 0.7658542039355992.\u001b[0m\n",
      "/tmp/ipykernel_87457/1472279724.py:12: FutureWarning: suggest_uniform has been deprecated in v3.0.0. This feature will be removed in v6.0.0. See https://github.com/optuna/optuna/releases/tag/v3.0.0. Use :func:`~optuna.trial.Trial.suggest_float` instead.\n",
      "  \"learning_rate\": trial.suggest_uniform('learning_rate', 0.0001, 0.12),\n",
      "/opt/conda/envs/dkt/lib/python3.10/site-packages/xgboost/sklearn.py:861: UserWarning: `early_stopping_rounds` in `fit` method is deprecated for better compatibility with scikit-learn, use `early_stopping_rounds` in constructor or`set_params` instead.\n",
      "  warnings.warn(\n"
     ]
    },
    {
     "name": "stdout",
     "output_type": "stream",
     "text": [
      "[20:02:49] WARNING: ../src/learner.cc:767: \n",
      "Parameters: { \"metric\" } are not used.\n",
      "\n",
      "[0]\tvalidation_0-logloss:0.66599\tvalidation_1-logloss:0.67135\n",
      "[50]\tvalidation_0-logloss:0.45173\tvalidation_1-logloss:0.50465\n",
      "[100]\tvalidation_0-logloss:0.44550\tvalidation_1-logloss:0.50246\n",
      "[150]\tvalidation_0-logloss:0.44210\tvalidation_1-logloss:0.50143\n",
      "[199]\tvalidation_0-logloss:0.43908\tvalidation_1-logloss:0.50130\n"
     ]
    },
    {
     "name": "stderr",
     "output_type": "stream",
     "text": [
      "\u001b[32m[I 2022-12-05 20:03:22,384]\u001b[0m Trial 62 finished with value: 0.7617233154442457 and parameters: {'max_depth': 10, 'learning_rate': 0.07530471098720135, 'n_estimators': 200, 'colsample_bytree': 0.9386708967805237, 'min_child_weight': 5}. Best is trial 24 with value: 0.7658542039355992.\u001b[0m\n",
      "/tmp/ipykernel_87457/1472279724.py:12: FutureWarning: suggest_uniform has been deprecated in v3.0.0. This feature will be removed in v6.0.0. See https://github.com/optuna/optuna/releases/tag/v3.0.0. Use :func:`~optuna.trial.Trial.suggest_float` instead.\n",
      "  \"learning_rate\": trial.suggest_uniform('learning_rate', 0.0001, 0.12),\n",
      "/opt/conda/envs/dkt/lib/python3.10/site-packages/xgboost/sklearn.py:861: UserWarning: `early_stopping_rounds` in `fit` method is deprecated for better compatibility with scikit-learn, use `early_stopping_rounds` in constructor or`set_params` instead.\n",
      "  warnings.warn(\n"
     ]
    },
    {
     "name": "stdout",
     "output_type": "stream",
     "text": [
      "[20:03:23] WARNING: ../src/learner.cc:767: \n",
      "Parameters: { \"metric\" } are not used.\n",
      "\n",
      "[0]\tvalidation_0-logloss:0.67125\tvalidation_1-logloss:0.67556\n",
      "[50]\tvalidation_0-logloss:0.45789\tvalidation_1-logloss:0.50730\n",
      "[100]\tvalidation_0-logloss:0.45155\tvalidation_1-logloss:0.50409\n",
      "[150]\tvalidation_0-logloss:0.44895\tvalidation_1-logloss:0.50350\n",
      "[200]\tvalidation_0-logloss:0.44699\tvalidation_1-logloss:0.50322\n",
      "[249]\tvalidation_0-logloss:0.44523\tvalidation_1-logloss:0.50249\n"
     ]
    },
    {
     "name": "stderr",
     "output_type": "stream",
     "text": [
      "\u001b[32m[I 2022-12-05 20:04:10,740]\u001b[0m Trial 63 finished with value: 0.7593574836016697 and parameters: {'max_depth': 9, 'learning_rate': 0.06071677020327682, 'n_estimators': 250, 'colsample_bytree': 0.888332325331364, 'min_child_weight': 6}. Best is trial 24 with value: 0.7658542039355992.\u001b[0m\n",
      "/tmp/ipykernel_87457/1472279724.py:12: FutureWarning: suggest_uniform has been deprecated in v3.0.0. This feature will be removed in v6.0.0. See https://github.com/optuna/optuna/releases/tag/v3.0.0. Use :func:`~optuna.trial.Trial.suggest_float` instead.\n",
      "  \"learning_rate\": trial.suggest_uniform('learning_rate', 0.0001, 0.12),\n",
      "/opt/conda/envs/dkt/lib/python3.10/site-packages/xgboost/sklearn.py:861: UserWarning: `early_stopping_rounds` in `fit` method is deprecated for better compatibility with scikit-learn, use `early_stopping_rounds` in constructor or`set_params` instead.\n",
      "  warnings.warn(\n"
     ]
    },
    {
     "name": "stdout",
     "output_type": "stream",
     "text": [
      "[20:04:11] WARNING: ../src/learner.cc:767: \n",
      "Parameters: { \"metric\" } are not used.\n",
      "\n",
      "[0]\tvalidation_0-logloss:0.66910\tvalidation_1-logloss:0.67375\n",
      "[50]\tvalidation_0-logloss:0.45762\tvalidation_1-logloss:0.50711\n",
      "[100]\tvalidation_0-logloss:0.45142\tvalidation_1-logloss:0.50396\n",
      "[150]\tvalidation_0-logloss:0.44889\tvalidation_1-logloss:0.50299\n",
      "[199]\tvalidation_0-logloss:0.44701\tvalidation_1-logloss:0.50224\n"
     ]
    },
    {
     "name": "stderr",
     "output_type": "stream",
     "text": [
      "\u001b[32m[I 2022-12-05 20:04:42,256]\u001b[0m Trial 64 finished with value: 0.7617516398330351 and parameters: {'max_depth': 9, 'learning_rate': 0.06697430517026137, 'n_estimators': 200, 'colsample_bytree': 0.7182646308087485, 'min_child_weight': 7}. Best is trial 24 with value: 0.7658542039355992.\u001b[0m\n",
      "/tmp/ipykernel_87457/1472279724.py:12: FutureWarning: suggest_uniform has been deprecated in v3.0.0. This feature will be removed in v6.0.0. See https://github.com/optuna/optuna/releases/tag/v3.0.0. Use :func:`~optuna.trial.Trial.suggest_float` instead.\n",
      "  \"learning_rate\": trial.suggest_uniform('learning_rate', 0.0001, 0.12),\n",
      "/opt/conda/envs/dkt/lib/python3.10/site-packages/xgboost/sklearn.py:861: UserWarning: `early_stopping_rounds` in `fit` method is deprecated for better compatibility with scikit-learn, use `early_stopping_rounds` in constructor or`set_params` instead.\n",
      "  warnings.warn(\n"
     ]
    },
    {
     "name": "stdout",
     "output_type": "stream",
     "text": [
      "[20:04:43] WARNING: ../src/learner.cc:767: \n",
      "Parameters: { \"metric\" } are not used.\n",
      "\n",
      "[0]\tvalidation_0-logloss:0.66375\tvalidation_1-logloss:0.66948\n",
      "[50]\tvalidation_0-logloss:0.45700\tvalidation_1-logloss:0.50604\n",
      "[100]\tvalidation_0-logloss:0.45315\tvalidation_1-logloss:0.50433\n",
      "[150]\tvalidation_0-logloss:0.45105\tvalidation_1-logloss:0.50393\n",
      "[200]\tvalidation_0-logloss:0.44918\tvalidation_1-logloss:0.50374\n",
      "[250]\tvalidation_0-logloss:0.44757\tvalidation_1-logloss:0.50391\n",
      "[299]\tvalidation_0-logloss:0.44597\tvalidation_1-logloss:0.50341\n"
     ]
    },
    {
     "name": "stderr",
     "output_type": "stream",
     "text": [
      "\u001b[32m[I 2022-12-05 20:05:46,593]\u001b[0m Trial 65 finished with value: 0.7608392963625521 and parameters: {'max_depth': 8, 'learning_rate': 0.08309321170333808, 'n_estimators': 300, 'colsample_bytree': 0.9010969250822003, 'min_child_weight': 5}. Best is trial 24 with value: 0.7658542039355992.\u001b[0m\n",
      "/tmp/ipykernel_87457/1472279724.py:12: FutureWarning: suggest_uniform has been deprecated in v3.0.0. This feature will be removed in v6.0.0. See https://github.com/optuna/optuna/releases/tag/v3.0.0. Use :func:`~optuna.trial.Trial.suggest_float` instead.\n",
      "  \"learning_rate\": trial.suggest_uniform('learning_rate', 0.0001, 0.12),\n",
      "/opt/conda/envs/dkt/lib/python3.10/site-packages/xgboost/sklearn.py:861: UserWarning: `early_stopping_rounds` in `fit` method is deprecated for better compatibility with scikit-learn, use `early_stopping_rounds` in constructor or`set_params` instead.\n",
      "  warnings.warn(\n"
     ]
    },
    {
     "name": "stdout",
     "output_type": "stream",
     "text": [
      "[20:05:47] WARNING: ../src/learner.cc:767: \n",
      "Parameters: { \"metric\" } are not used.\n",
      "\n",
      "[0]\tvalidation_0-logloss:0.66015\tvalidation_1-logloss:0.66787\n",
      "[50]\tvalidation_0-logloss:0.46399\tvalidation_1-logloss:0.50989\n",
      "[100]\tvalidation_0-logloss:0.46098\tvalidation_1-logloss:0.50707\n",
      "[150]\tvalidation_0-logloss:0.45986\tvalidation_1-logloss:0.50628\n",
      "[200]\tvalidation_0-logloss:0.45919\tvalidation_1-logloss:0.50608\n",
      "[250]\tvalidation_0-logloss:0.45865\tvalidation_1-logloss:0.50579\n",
      "[300]\tvalidation_0-logloss:0.45824\tvalidation_1-logloss:0.50572\n",
      "[349]\tvalidation_0-logloss:0.45784\tvalidation_1-logloss:0.50588\n"
     ]
    },
    {
     "name": "stderr",
     "output_type": "stream",
     "text": [
      "\u001b[32m[I 2022-12-05 20:07:00,663]\u001b[0m Trial 66 finished with value: 0.760096899224806 and parameters: {'max_depth': 4, 'learning_rate': 0.10051101776625956, 'n_estimators': 350, 'colsample_bytree': 0.9114871442439711, 'min_child_weight': 6}. Best is trial 24 with value: 0.7658542039355992.\u001b[0m\n",
      "/tmp/ipykernel_87457/1472279724.py:12: FutureWarning: suggest_uniform has been deprecated in v3.0.0. This feature will be removed in v6.0.0. See https://github.com/optuna/optuna/releases/tag/v3.0.0. Use :func:`~optuna.trial.Trial.suggest_float` instead.\n",
      "  \"learning_rate\": trial.suggest_uniform('learning_rate', 0.0001, 0.12),\n",
      "/opt/conda/envs/dkt/lib/python3.10/site-packages/xgboost/sklearn.py:861: UserWarning: `early_stopping_rounds` in `fit` method is deprecated for better compatibility with scikit-learn, use `early_stopping_rounds` in constructor or`set_params` instead.\n",
      "  warnings.warn(\n"
     ]
    },
    {
     "name": "stdout",
     "output_type": "stream",
     "text": [
      "[20:07:01] WARNING: ../src/learner.cc:767: \n",
      "Parameters: { \"metric\" } are not used.\n",
      "\n",
      "[0]\tvalidation_0-logloss:0.66219\tvalidation_1-logloss:0.66866\n",
      "[50]\tvalidation_0-logloss:0.45876\tvalidation_1-logloss:0.50701\n",
      "[100]\tvalidation_0-logloss:0.45563\tvalidation_1-logloss:0.50516\n",
      "[149]\tvalidation_0-logloss:0.45409\tvalidation_1-logloss:0.50457\n"
     ]
    },
    {
     "name": "stderr",
     "output_type": "stream",
     "text": [
      "\u001b[32m[I 2022-12-05 20:07:17,376]\u001b[0m Trial 67 finished with value: 0.7619215861657722 and parameters: {'max_depth': 7, 'learning_rate': 0.08864977460689168, 'n_estimators': 150, 'colsample_bytree': 0.8665807985542381, 'min_child_weight': 6}. Best is trial 24 with value: 0.7658542039355992.\u001b[0m\n",
      "/tmp/ipykernel_87457/1472279724.py:12: FutureWarning: suggest_uniform has been deprecated in v3.0.0. This feature will be removed in v6.0.0. See https://github.com/optuna/optuna/releases/tag/v3.0.0. Use :func:`~optuna.trial.Trial.suggest_float` instead.\n",
      "  \"learning_rate\": trial.suggest_uniform('learning_rate', 0.0001, 0.12),\n",
      "/opt/conda/envs/dkt/lib/python3.10/site-packages/xgboost/sklearn.py:861: UserWarning: `early_stopping_rounds` in `fit` method is deprecated for better compatibility with scikit-learn, use `early_stopping_rounds` in constructor or`set_params` instead.\n",
      "  warnings.warn(\n"
     ]
    },
    {
     "name": "stdout",
     "output_type": "stream",
     "text": [
      "[20:07:18] WARNING: ../src/learner.cc:767: \n",
      "Parameters: { \"metric\" } are not used.\n",
      "\n",
      "[0]\tvalidation_0-logloss:0.65198\tvalidation_1-logloss:0.65997\n",
      "[50]\tvalidation_0-logloss:0.45525\tvalidation_1-logloss:0.50474\n",
      "[100]\tvalidation_0-logloss:0.45149\tvalidation_1-logloss:0.50340\n",
      "[150]\tvalidation_0-logloss:0.44910\tvalidation_1-logloss:0.50345\n",
      "[200]\tvalidation_0-logloss:0.44708\tvalidation_1-logloss:0.50220\n",
      "[250]\tvalidation_0-logloss:0.44520\tvalidation_1-logloss:0.50214\n",
      "[300]\tvalidation_0-logloss:0.44355\tvalidation_1-logloss:0.50196\n",
      "[350]\tvalidation_0-logloss:0.44176\tvalidation_1-logloss:0.50226\n",
      "[400]\tvalidation_0-logloss:0.44021\tvalidation_1-logloss:0.50211\n",
      "[403]\tvalidation_0-logloss:0.44010\tvalidation_1-logloss:0.50224\n"
     ]
    },
    {
     "name": "stderr",
     "output_type": "stream",
     "text": [
      "\u001b[32m[I 2022-12-05 20:09:13,211]\u001b[0m Trial 68 finished with value: 0.7572495527728086 and parameters: {'max_depth': 8, 'learning_rate': 0.11867593270051126, 'n_estimators': 750, 'colsample_bytree': 0.7650854961689743, 'min_child_weight': 5}. Best is trial 24 with value: 0.7658542039355992.\u001b[0m\n",
      "/tmp/ipykernel_87457/1472279724.py:12: FutureWarning: suggest_uniform has been deprecated in v3.0.0. This feature will be removed in v6.0.0. See https://github.com/optuna/optuna/releases/tag/v3.0.0. Use :func:`~optuna.trial.Trial.suggest_float` instead.\n",
      "  \"learning_rate\": trial.suggest_uniform('learning_rate', 0.0001, 0.12),\n",
      "/opt/conda/envs/dkt/lib/python3.10/site-packages/xgboost/sklearn.py:861: UserWarning: `early_stopping_rounds` in `fit` method is deprecated for better compatibility with scikit-learn, use `early_stopping_rounds` in constructor or`set_params` instead.\n",
      "  warnings.warn(\n"
     ]
    },
    {
     "name": "stdout",
     "output_type": "stream",
     "text": [
      "[20:09:13] WARNING: ../src/learner.cc:767: \n",
      "Parameters: { \"metric\" } are not used.\n",
      "\n",
      "[0]\tvalidation_0-logloss:0.65963\tvalidation_1-logloss:0.66620\n",
      "[50]\tvalidation_0-logloss:0.45043\tvalidation_1-logloss:0.50456\n",
      "[100]\tvalidation_0-logloss:0.44444\tvalidation_1-logloss:0.50215\n",
      "[150]\tvalidation_0-logloss:0.44092\tvalidation_1-logloss:0.50137\n",
      "[200]\tvalidation_0-logloss:0.43800\tvalidation_1-logloss:0.50128\n",
      "[250]\tvalidation_0-logloss:0.43541\tvalidation_1-logloss:0.50108\n",
      "[300]\tvalidation_0-logloss:0.43305\tvalidation_1-logloss:0.50116\n",
      "[350]\tvalidation_0-logloss:0.43099\tvalidation_1-logloss:0.50069\n",
      "[400]\tvalidation_0-logloss:0.42878\tvalidation_1-logloss:0.50036\n",
      "[449]\tvalidation_0-logloss:0.42640\tvalidation_1-logloss:0.49992\n"
     ]
    },
    {
     "name": "stderr",
     "output_type": "stream",
     "text": [
      "\u001b[32m[I 2022-12-05 20:11:48,936]\u001b[0m Trial 69 finished with value: 0.7608109719737627 and parameters: {'max_depth': 10, 'learning_rate': 0.09403966876975971, 'n_estimators': 450, 'colsample_bytree': 0.8480595985448078, 'min_child_weight': 7}. Best is trial 24 with value: 0.7658542039355992.\u001b[0m\n",
      "/tmp/ipykernel_87457/1472279724.py:12: FutureWarning: suggest_uniform has been deprecated in v3.0.0. This feature will be removed in v6.0.0. See https://github.com/optuna/optuna/releases/tag/v3.0.0. Use :func:`~optuna.trial.Trial.suggest_float` instead.\n",
      "  \"learning_rate\": trial.suggest_uniform('learning_rate', 0.0001, 0.12),\n",
      "/opt/conda/envs/dkt/lib/python3.10/site-packages/xgboost/sklearn.py:861: UserWarning: `early_stopping_rounds` in `fit` method is deprecated for better compatibility with scikit-learn, use `early_stopping_rounds` in constructor or`set_params` instead.\n",
      "  warnings.warn(\n"
     ]
    },
    {
     "name": "stdout",
     "output_type": "stream",
     "text": [
      "[20:11:50] WARNING: ../src/learner.cc:767: \n",
      "Parameters: { \"metric\" } are not used.\n",
      "\n",
      "[0]\tvalidation_0-logloss:0.65636\tvalidation_1-logloss:0.66359\n",
      "[50]\tvalidation_0-logloss:0.45270\tvalidation_1-logloss:0.50496\n",
      "[100]\tvalidation_0-logloss:0.44847\tvalidation_1-logloss:0.50403\n",
      "[150]\tvalidation_0-logloss:0.44540\tvalidation_1-logloss:0.50388\n",
      "[177]\tvalidation_0-logloss:0.44395\tvalidation_1-logloss:0.50407\n"
     ]
    },
    {
     "name": "stderr",
     "output_type": "stream",
     "text": [
      "\u001b[32m[I 2022-12-05 20:12:14,934]\u001b[0m Trial 70 finished with value: 0.7584451401311866 and parameters: {'max_depth': 9, 'learning_rate': 0.10433900080398857, 'n_estimators': 250, 'colsample_bytree': 0.9554245950962569, 'min_child_weight': 7}. Best is trial 24 with value: 0.7658542039355992.\u001b[0m\n",
      "/tmp/ipykernel_87457/1472279724.py:12: FutureWarning: suggest_uniform has been deprecated in v3.0.0. This feature will be removed in v6.0.0. See https://github.com/optuna/optuna/releases/tag/v3.0.0. Use :func:`~optuna.trial.Trial.suggest_float` instead.\n",
      "  \"learning_rate\": trial.suggest_uniform('learning_rate', 0.0001, 0.12),\n",
      "/opt/conda/envs/dkt/lib/python3.10/site-packages/xgboost/sklearn.py:861: UserWarning: `early_stopping_rounds` in `fit` method is deprecated for better compatibility with scikit-learn, use `early_stopping_rounds` in constructor or`set_params` instead.\n",
      "  warnings.warn(\n"
     ]
    },
    {
     "name": "stdout",
     "output_type": "stream",
     "text": [
      "[20:12:15] WARNING: ../src/learner.cc:767: \n",
      "Parameters: { \"metric\" } are not used.\n",
      "\n",
      "[0]\tvalidation_0-logloss:0.66864\tvalidation_1-logloss:0.67377\n",
      "[50]\tvalidation_0-logloss:0.46060\tvalidation_1-logloss:0.50747\n",
      "[100]\tvalidation_0-logloss:0.45654\tvalidation_1-logloss:0.50472\n",
      "[150]\tvalidation_0-logloss:0.45504\tvalidation_1-logloss:0.50384\n",
      "[200]\tvalidation_0-logloss:0.45378\tvalidation_1-logloss:0.50357\n",
      "[249]\tvalidation_0-logloss:0.45275\tvalidation_1-logloss:0.50339\n"
     ]
    },
    {
     "name": "stderr",
     "output_type": "stream",
     "text": [
      "\u001b[32m[I 2022-12-05 20:12:59,864]\u001b[0m Trial 71 finished with value: 0.7629189028026236 and parameters: {'max_depth': 7, 'learning_rate': 0.06948866201673905, 'n_estimators': 250, 'colsample_bytree': 0.9539211892786815, 'min_child_weight': 6}. Best is trial 24 with value: 0.7658542039355992.\u001b[0m\n",
      "/tmp/ipykernel_87457/1472279724.py:12: FutureWarning: suggest_uniform has been deprecated in v3.0.0. This feature will be removed in v6.0.0. See https://github.com/optuna/optuna/releases/tag/v3.0.0. Use :func:`~optuna.trial.Trial.suggest_float` instead.\n",
      "  \"learning_rate\": trial.suggest_uniform('learning_rate', 0.0001, 0.12),\n",
      "/opt/conda/envs/dkt/lib/python3.10/site-packages/xgboost/sklearn.py:861: UserWarning: `early_stopping_rounds` in `fit` method is deprecated for better compatibility with scikit-learn, use `early_stopping_rounds` in constructor or`set_params` instead.\n",
      "  warnings.warn(\n"
     ]
    },
    {
     "name": "stdout",
     "output_type": "stream",
     "text": [
      "[20:13:00] WARNING: ../src/learner.cc:767: \n",
      "Parameters: { \"metric\" } are not used.\n",
      "\n",
      "[0]\tvalidation_0-logloss:0.66977\tvalidation_1-logloss:0.67433\n",
      "[50]\tvalidation_0-logloss:0.45923\tvalidation_1-logloss:0.50731\n",
      "[100]\tvalidation_0-logloss:0.45441\tvalidation_1-logloss:0.50391\n",
      "[150]\tvalidation_0-logloss:0.45238\tvalidation_1-logloss:0.50308\n",
      "[200]\tvalidation_0-logloss:0.45074\tvalidation_1-logloss:0.50284\n",
      "[250]\tvalidation_0-logloss:0.44940\tvalidation_1-logloss:0.50267\n",
      "[300]\tvalidation_0-logloss:0.44823\tvalidation_1-logloss:0.50220\n",
      "[350]\tvalidation_0-logloss:0.44695\tvalidation_1-logloss:0.50180\n",
      "[400]\tvalidation_0-logloss:0.44583\tvalidation_1-logloss:0.50181\n",
      "[450]\tvalidation_0-logloss:0.44486\tvalidation_1-logloss:0.50168\n",
      "[500]\tvalidation_0-logloss:0.44397\tvalidation_1-logloss:0.50162\n",
      "[550]\tvalidation_0-logloss:0.44293\tvalidation_1-logloss:0.50123\n",
      "[600]\tvalidation_0-logloss:0.44192\tvalidation_1-logloss:0.50128\n",
      "[636]\tvalidation_0-logloss:0.44122\tvalidation_1-logloss:0.50143\n"
     ]
    },
    {
     "name": "stderr",
     "output_type": "stream",
     "text": [
      "\u001b[32m[I 2022-12-05 20:17:42,556]\u001b[0m Trial 72 finished with value: 0.758844663088849 and parameters: {'max_depth': 8, 'learning_rate': 0.06548226336462754, 'n_estimators': 950, 'colsample_bytree': 0.9793271289469089, 'min_child_weight': 6}. Best is trial 24 with value: 0.7658542039355992.\u001b[0m\n",
      "/tmp/ipykernel_87457/1472279724.py:12: FutureWarning: suggest_uniform has been deprecated in v3.0.0. This feature will be removed in v6.0.0. See https://github.com/optuna/optuna/releases/tag/v3.0.0. Use :func:`~optuna.trial.Trial.suggest_float` instead.\n",
      "  \"learning_rate\": trial.suggest_uniform('learning_rate', 0.0001, 0.12),\n",
      "/opt/conda/envs/dkt/lib/python3.10/site-packages/xgboost/sklearn.py:861: UserWarning: `early_stopping_rounds` in `fit` method is deprecated for better compatibility with scikit-learn, use `early_stopping_rounds` in constructor or`set_params` instead.\n",
      "  warnings.warn(\n"
     ]
    },
    {
     "name": "stdout",
     "output_type": "stream",
     "text": [
      "[20:17:43] WARNING: ../src/learner.cc:767: \n",
      "Parameters: { \"metric\" } are not used.\n",
      "\n",
      "[0]\tvalidation_0-logloss:0.67263\tvalidation_1-logloss:0.67692\n",
      "[50]\tvalidation_0-logloss:0.46298\tvalidation_1-logloss:0.50979\n",
      "[100]\tvalidation_0-logloss:0.45735\tvalidation_1-logloss:0.50585\n",
      "[150]\tvalidation_0-logloss:0.45566\tvalidation_1-logloss:0.50473\n",
      "[199]\tvalidation_0-logloss:0.45458\tvalidation_1-logloss:0.50419\n"
     ]
    },
    {
     "name": "stderr",
     "output_type": "stream",
     "text": [
      "\u001b[32m[I 2022-12-05 20:18:11,155]\u001b[0m Trial 73 finished with value: 0.7629472271914132 and parameters: {'max_depth': 7, 'learning_rate': 0.05783292106585365, 'n_estimators': 200, 'colsample_bytree': 0.9269367595015449, 'min_child_weight': 5}. Best is trial 24 with value: 0.7658542039355992.\u001b[0m\n",
      "/tmp/ipykernel_87457/1472279724.py:12: FutureWarning: suggest_uniform has been deprecated in v3.0.0. This feature will be removed in v6.0.0. See https://github.com/optuna/optuna/releases/tag/v3.0.0. Use :func:`~optuna.trial.Trial.suggest_float` instead.\n",
      "  \"learning_rate\": trial.suggest_uniform('learning_rate', 0.0001, 0.12),\n",
      "/opt/conda/envs/dkt/lib/python3.10/site-packages/xgboost/sklearn.py:861: UserWarning: `early_stopping_rounds` in `fit` method is deprecated for better compatibility with scikit-learn, use `early_stopping_rounds` in constructor or`set_params` instead.\n",
      "  warnings.warn(\n"
     ]
    },
    {
     "name": "stdout",
     "output_type": "stream",
     "text": [
      "[20:18:11] WARNING: ../src/learner.cc:767: \n",
      "Parameters: { \"metric\" } are not used.\n",
      "\n",
      "[0]\tvalidation_0-logloss:0.66784\tvalidation_1-logloss:0.67278\n",
      "[50]\tvalidation_0-logloss:0.45834\tvalidation_1-logloss:0.50702\n",
      "[99]\tvalidation_0-logloss:0.45400\tvalidation_1-logloss:0.50505\n"
     ]
    },
    {
     "name": "stderr",
     "output_type": "stream",
     "text": [
      "\u001b[32m[I 2022-12-05 20:18:19,644]\u001b[0m Trial 74 finished with value: 0.7600119260584377 and parameters: {'max_depth': 8, 'learning_rate': 0.07109537114503274, 'n_estimators': 100, 'colsample_bytree': 0.9183784627238413, 'min_child_weight': 6}. Best is trial 24 with value: 0.7658542039355992.\u001b[0m\n",
      "/tmp/ipykernel_87457/1472279724.py:12: FutureWarning: suggest_uniform has been deprecated in v3.0.0. This feature will be removed in v6.0.0. See https://github.com/optuna/optuna/releases/tag/v3.0.0. Use :func:`~optuna.trial.Trial.suggest_float` instead.\n",
      "  \"learning_rate\": trial.suggest_uniform('learning_rate', 0.0001, 0.12),\n",
      "/opt/conda/envs/dkt/lib/python3.10/site-packages/xgboost/sklearn.py:861: UserWarning: `early_stopping_rounds` in `fit` method is deprecated for better compatibility with scikit-learn, use `early_stopping_rounds` in constructor or`set_params` instead.\n",
      "  warnings.warn(\n"
     ]
    },
    {
     "name": "stdout",
     "output_type": "stream",
     "text": [
      "[20:18:20] WARNING: ../src/learner.cc:767: \n",
      "Parameters: { \"metric\" } are not used.\n",
      "\n",
      "[0]\tvalidation_0-logloss:0.66663\tvalidation_1-logloss:0.67218\n",
      "[50]\tvalidation_0-logloss:0.45986\tvalidation_1-logloss:0.50746\n",
      "[100]\tvalidation_0-logloss:0.45623\tvalidation_1-logloss:0.50485\n",
      "[150]\tvalidation_0-logloss:0.45471\tvalidation_1-logloss:0.50403\n",
      "[200]\tvalidation_0-logloss:0.45348\tvalidation_1-logloss:0.50347\n",
      "[250]\tvalidation_0-logloss:0.45238\tvalidation_1-logloss:0.50330\n",
      "[299]\tvalidation_0-logloss:0.45142\tvalidation_1-logloss:0.50247\n"
     ]
    },
    {
     "name": "stderr",
     "output_type": "stream",
     "text": [
      "\u001b[32m[I 2022-12-05 20:19:22,087]\u001b[0m Trial 75 finished with value: 0.7628622540250447 and parameters: {'max_depth': 7, 'learning_rate': 0.07541152150854458, 'n_estimators': 300, 'colsample_bytree': 0.968206380693543, 'min_child_weight': 8}. Best is trial 24 with value: 0.7658542039355992.\u001b[0m\n",
      "/tmp/ipykernel_87457/1472279724.py:12: FutureWarning: suggest_uniform has been deprecated in v3.0.0. This feature will be removed in v6.0.0. See https://github.com/optuna/optuna/releases/tag/v3.0.0. Use :func:`~optuna.trial.Trial.suggest_float` instead.\n",
      "  \"learning_rate\": trial.suggest_uniform('learning_rate', 0.0001, 0.12),\n",
      "/opt/conda/envs/dkt/lib/python3.10/site-packages/xgboost/sklearn.py:861: UserWarning: `early_stopping_rounds` in `fit` method is deprecated for better compatibility with scikit-learn, use `early_stopping_rounds` in constructor or`set_params` instead.\n",
      "  warnings.warn(\n"
     ]
    },
    {
     "name": "stdout",
     "output_type": "stream",
     "text": [
      "[20:19:23] WARNING: ../src/learner.cc:767: \n",
      "Parameters: { \"metric\" } are not used.\n",
      "\n",
      "[0]\tvalidation_0-logloss:0.66456\tvalidation_1-logloss:0.67013\n",
      "[50]\tvalidation_0-logloss:0.45726\tvalidation_1-logloss:0.50653\n",
      "[100]\tvalidation_0-logloss:0.45333\tvalidation_1-logloss:0.50424\n",
      "[150]\tvalidation_0-logloss:0.45131\tvalidation_1-logloss:0.50339\n",
      "[199]\tvalidation_0-logloss:0.44974\tvalidation_1-logloss:0.50309\n"
     ]
    },
    {
     "name": "stderr",
     "output_type": "stream",
     "text": [
      "\u001b[32m[I 2022-12-05 20:19:52,070]\u001b[0m Trial 76 finished with value: 0.7638312462731067 and parameters: {'max_depth': 8, 'learning_rate': 0.08070666474810306, 'n_estimators': 200, 'colsample_bytree': 0.9370509108563551, 'min_child_weight': 6}. Best is trial 24 with value: 0.7658542039355992.\u001b[0m\n",
      "/tmp/ipykernel_87457/1472279724.py:12: FutureWarning: suggest_uniform has been deprecated in v3.0.0. This feature will be removed in v6.0.0. See https://github.com/optuna/optuna/releases/tag/v3.0.0. Use :func:`~optuna.trial.Trial.suggest_float` instead.\n",
      "  \"learning_rate\": trial.suggest_uniform('learning_rate', 0.0001, 0.12),\n",
      "/opt/conda/envs/dkt/lib/python3.10/site-packages/xgboost/sklearn.py:861: UserWarning: `early_stopping_rounds` in `fit` method is deprecated for better compatibility with scikit-learn, use `early_stopping_rounds` in constructor or`set_params` instead.\n",
      "  warnings.warn(\n"
     ]
    },
    {
     "name": "stdout",
     "output_type": "stream",
     "text": [
      "[20:19:53] WARNING: ../src/learner.cc:767: \n",
      "Parameters: { \"metric\" } are not used.\n",
      "\n",
      "[0]\tvalidation_0-logloss:0.66341\tvalidation_1-logloss:0.66956\n",
      "[50]\tvalidation_0-logloss:0.46076\tvalidation_1-logloss:0.50806\n",
      "[100]\tvalidation_0-logloss:0.45774\tvalidation_1-logloss:0.50506\n",
      "[150]\tvalidation_0-logloss:0.45647\tvalidation_1-logloss:0.50460\n",
      "[200]\tvalidation_0-logloss:0.45544\tvalidation_1-logloss:0.50457\n",
      "[249]\tvalidation_0-logloss:0.45457\tvalidation_1-logloss:0.50425\n"
     ]
    },
    {
     "name": "stderr",
     "output_type": "stream",
     "text": [
      "\u001b[32m[I 2022-12-05 20:20:33,855]\u001b[0m Trial 77 finished with value: 0.7589579606440072 and parameters: {'max_depth': 6, 'learning_rate': 0.08634384930356204, 'n_estimators': 250, 'colsample_bytree': 0.8874134435791975, 'min_child_weight': 7}. Best is trial 24 with value: 0.7658542039355992.\u001b[0m\n",
      "/tmp/ipykernel_87457/1472279724.py:12: FutureWarning: suggest_uniform has been deprecated in v3.0.0. This feature will be removed in v6.0.0. See https://github.com/optuna/optuna/releases/tag/v3.0.0. Use :func:`~optuna.trial.Trial.suggest_float` instead.\n",
      "  \"learning_rate\": trial.suggest_uniform('learning_rate', 0.0001, 0.12),\n",
      "/opt/conda/envs/dkt/lib/python3.10/site-packages/xgboost/sklearn.py:861: UserWarning: `early_stopping_rounds` in `fit` method is deprecated for better compatibility with scikit-learn, use `early_stopping_rounds` in constructor or`set_params` instead.\n",
      "  warnings.warn(\n"
     ]
    },
    {
     "name": "stdout",
     "output_type": "stream",
     "text": [
      "[20:20:34] WARNING: ../src/learner.cc:767: \n",
      "Parameters: { \"metric\" } are not used.\n",
      "\n",
      "[0]\tvalidation_0-logloss:0.67370\tvalidation_1-logloss:0.67753\n",
      "[50]\tvalidation_0-logloss:0.46001\tvalidation_1-logloss:0.50851\n",
      "[100]\tvalidation_0-logloss:0.45238\tvalidation_1-logloss:0.50442\n",
      "[150]\tvalidation_0-logloss:0.44983\tvalidation_1-logloss:0.50372\n",
      "[200]\tvalidation_0-logloss:0.44802\tvalidation_1-logloss:0.50308\n",
      "[250]\tvalidation_0-logloss:0.44640\tvalidation_1-logloss:0.50290\n",
      "[300]\tvalidation_0-logloss:0.44492\tvalidation_1-logloss:0.50258\n",
      "[349]\tvalidation_0-logloss:0.44351\tvalidation_1-logloss:0.50219\n"
     ]
    },
    {
     "name": "stderr",
     "output_type": "stream",
     "text": [
      "\u001b[32m[I 2022-12-05 20:22:06,666]\u001b[0m Trial 78 finished with value: 0.7608392963625521 and parameters: {'max_depth': 9, 'learning_rate': 0.0537333105020689, 'n_estimators': 350, 'colsample_bytree': 0.8795880213350632, 'min_child_weight': 6}. Best is trial 24 with value: 0.7658542039355992.\u001b[0m\n",
      "/tmp/ipykernel_87457/1472279724.py:12: FutureWarning: suggest_uniform has been deprecated in v3.0.0. This feature will be removed in v6.0.0. See https://github.com/optuna/optuna/releases/tag/v3.0.0. Use :func:`~optuna.trial.Trial.suggest_float` instead.\n",
      "  \"learning_rate\": trial.suggest_uniform('learning_rate', 0.0001, 0.12),\n",
      "/opt/conda/envs/dkt/lib/python3.10/site-packages/xgboost/sklearn.py:861: UserWarning: `early_stopping_rounds` in `fit` method is deprecated for better compatibility with scikit-learn, use `early_stopping_rounds` in constructor or`set_params` instead.\n",
      "  warnings.warn(\n"
     ]
    },
    {
     "name": "stdout",
     "output_type": "stream",
     "text": [
      "[20:22:07] WARNING: ../src/learner.cc:767: \n",
      "Parameters: { \"metric\" } are not used.\n",
      "\n",
      "[0]\tvalidation_0-logloss:0.67617\tvalidation_1-logloss:0.67973\n",
      "[50]\tvalidation_0-logloss:0.46691\tvalidation_1-logloss:0.51278\n",
      "[100]\tvalidation_0-logloss:0.45827\tvalidation_1-logloss:0.50643\n",
      "[150]\tvalidation_0-logloss:0.45637\tvalidation_1-logloss:0.50522\n",
      "[200]\tvalidation_0-logloss:0.45519\tvalidation_1-logloss:0.50439\n",
      "[250]\tvalidation_0-logloss:0.45429\tvalidation_1-logloss:0.50407\n",
      "[300]\tvalidation_0-logloss:0.45353\tvalidation_1-logloss:0.50410\n",
      "[342]\tvalidation_0-logloss:0.45292\tvalidation_1-logloss:0.50409\n"
     ]
    },
    {
     "name": "stderr",
     "output_type": "stream",
     "text": [
      "\u001b[32m[I 2022-12-05 20:23:26,747]\u001b[0m Trial 79 finished with value: 0.7584451401311866 and parameters: {'max_depth': 7, 'learning_rate': 0.047590636765352044, 'n_estimators': 400, 'colsample_bytree': 0.8606519153634972, 'min_child_weight': 5}. Best is trial 24 with value: 0.7658542039355992.\u001b[0m\n",
      "/tmp/ipykernel_87457/1472279724.py:12: FutureWarning: suggest_uniform has been deprecated in v3.0.0. This feature will be removed in v6.0.0. See https://github.com/optuna/optuna/releases/tag/v3.0.0. Use :func:`~optuna.trial.Trial.suggest_float` instead.\n",
      "  \"learning_rate\": trial.suggest_uniform('learning_rate', 0.0001, 0.12),\n",
      "/opt/conda/envs/dkt/lib/python3.10/site-packages/xgboost/sklearn.py:861: UserWarning: `early_stopping_rounds` in `fit` method is deprecated for better compatibility with scikit-learn, use `early_stopping_rounds` in constructor or`set_params` instead.\n",
      "  warnings.warn(\n"
     ]
    },
    {
     "name": "stdout",
     "output_type": "stream",
     "text": [
      "[20:23:27] WARNING: ../src/learner.cc:767: \n",
      "Parameters: { \"metric\" } are not used.\n",
      "\n",
      "[0]\tvalidation_0-logloss:0.66672\tvalidation_1-logloss:0.67187\n",
      "[50]\tvalidation_0-logloss:0.45796\tvalidation_1-logloss:0.50638\n",
      "[100]\tvalidation_0-logloss:0.45382\tvalidation_1-logloss:0.50471\n",
      "[150]\tvalidation_0-logloss:0.45188\tvalidation_1-logloss:0.50444\n",
      "[200]\tvalidation_0-logloss:0.45032\tvalidation_1-logloss:0.50440\n",
      "[250]\tvalidation_0-logloss:0.44890\tvalidation_1-logloss:0.50439\n",
      "[300]\tvalidation_0-logloss:0.44761\tvalidation_1-logloss:0.50391\n",
      "[350]\tvalidation_0-logloss:0.44634\tvalidation_1-logloss:0.50360\n",
      "[400]\tvalidation_0-logloss:0.44521\tvalidation_1-logloss:0.50350\n",
      "[450]\tvalidation_0-logloss:0.44404\tvalidation_1-logloss:0.50315\n",
      "[500]\tvalidation_0-logloss:0.44299\tvalidation_1-logloss:0.50330\n",
      "[550]\tvalidation_0-logloss:0.44187\tvalidation_1-logloss:0.50276\n",
      "[600]\tvalidation_0-logloss:0.44079\tvalidation_1-logloss:0.50265\n",
      "[649]\tvalidation_0-logloss:0.43982\tvalidation_1-logloss:0.50257\n"
     ]
    },
    {
     "name": "stderr",
     "output_type": "stream",
     "text": [
      "\u001b[32m[I 2022-12-05 20:28:21,722]\u001b[0m Trial 80 finished with value: 0.757334525939177 and parameters: {'max_depth': 8, 'learning_rate': 0.07437027475101987, 'n_estimators': 650, 'colsample_bytree': 0.9050546970104587, 'min_child_weight': 7}. Best is trial 24 with value: 0.7658542039355992.\u001b[0m\n",
      "/tmp/ipykernel_87457/1472279724.py:12: FutureWarning: suggest_uniform has been deprecated in v3.0.0. This feature will be removed in v6.0.0. See https://github.com/optuna/optuna/releases/tag/v3.0.0. Use :func:`~optuna.trial.Trial.suggest_float` instead.\n",
      "  \"learning_rate\": trial.suggest_uniform('learning_rate', 0.0001, 0.12),\n",
      "/opt/conda/envs/dkt/lib/python3.10/site-packages/xgboost/sklearn.py:861: UserWarning: `early_stopping_rounds` in `fit` method is deprecated for better compatibility with scikit-learn, use `early_stopping_rounds` in constructor or`set_params` instead.\n",
      "  warnings.warn(\n"
     ]
    },
    {
     "name": "stdout",
     "output_type": "stream",
     "text": [
      "[20:28:22] WARNING: ../src/learner.cc:767: \n",
      "Parameters: { \"metric\" } are not used.\n",
      "\n",
      "[0]\tvalidation_0-logloss:0.66424\tvalidation_1-logloss:0.66988\n",
      "[50]\tvalidation_0-logloss:0.45719\tvalidation_1-logloss:0.50584\n",
      "[100]\tvalidation_0-logloss:0.45328\tvalidation_1-logloss:0.50407\n",
      "[150]\tvalidation_0-logloss:0.45130\tvalidation_1-logloss:0.50309\n",
      "[199]\tvalidation_0-logloss:0.44952\tvalidation_1-logloss:0.50307\n"
     ]
    },
    {
     "name": "stderr",
     "output_type": "stream",
     "text": [
      "\u001b[32m[I 2022-12-05 20:28:51,982]\u001b[0m Trial 81 finished with value: 0.7613804412641623 and parameters: {'max_depth': 8, 'learning_rate': 0.08164305135069605, 'n_estimators': 200, 'colsample_bytree': 0.9358396595632351, 'min_child_weight': 6}. Best is trial 24 with value: 0.7658542039355992.\u001b[0m\n",
      "/tmp/ipykernel_87457/1472279724.py:12: FutureWarning: suggest_uniform has been deprecated in v3.0.0. This feature will be removed in v6.0.0. See https://github.com/optuna/optuna/releases/tag/v3.0.0. Use :func:`~optuna.trial.Trial.suggest_float` instead.\n",
      "  \"learning_rate\": trial.suggest_uniform('learning_rate', 0.0001, 0.12),\n",
      "/opt/conda/envs/dkt/lib/python3.10/site-packages/xgboost/sklearn.py:861: UserWarning: `early_stopping_rounds` in `fit` method is deprecated for better compatibility with scikit-learn, use `early_stopping_rounds` in constructor or`set_params` instead.\n",
      "  warnings.warn(\n"
     ]
    },
    {
     "name": "stdout",
     "output_type": "stream",
     "text": [
      "[20:28:52] WARNING: ../src/learner.cc:767: \n",
      "Parameters: { \"metric\" } are not used.\n",
      "\n",
      "[0]\tvalidation_0-logloss:0.65472\tvalidation_1-logloss:0.66220\n",
      "[50]\tvalidation_0-logloss:0.45531\tvalidation_1-logloss:0.50573\n",
      "[100]\tvalidation_0-logloss:0.45181\tvalidation_1-logloss:0.50414\n",
      "[150]\tvalidation_0-logloss:0.44939\tvalidation_1-logloss:0.50392\n",
      "[199]\tvalidation_0-logloss:0.44728\tvalidation_1-logloss:0.50373\n"
     ]
    },
    {
     "name": "stderr",
     "output_type": "stream",
     "text": [
      "\u001b[32m[I 2022-12-05 20:29:21,698]\u001b[0m Trial 82 finished with value: 0.7613237924865832 and parameters: {'max_depth': 8, 'learning_rate': 0.11017472244536822, 'n_estimators': 200, 'colsample_bytree': 0.9517058614734342, 'min_child_weight': 6}. Best is trial 24 with value: 0.7658542039355992.\u001b[0m\n",
      "/tmp/ipykernel_87457/1472279724.py:12: FutureWarning: suggest_uniform has been deprecated in v3.0.0. This feature will be removed in v6.0.0. See https://github.com/optuna/optuna/releases/tag/v3.0.0. Use :func:`~optuna.trial.Trial.suggest_float` instead.\n",
      "  \"learning_rate\": trial.suggest_uniform('learning_rate', 0.0001, 0.12),\n",
      "/opt/conda/envs/dkt/lib/python3.10/site-packages/xgboost/sklearn.py:861: UserWarning: `early_stopping_rounds` in `fit` method is deprecated for better compatibility with scikit-learn, use `early_stopping_rounds` in constructor or`set_params` instead.\n",
      "  warnings.warn(\n"
     ]
    },
    {
     "name": "stdout",
     "output_type": "stream",
     "text": [
      "[20:29:22] WARNING: ../src/learner.cc:767: \n",
      "Parameters: { \"metric\" } are not used.\n",
      "\n",
      "[0]\tvalidation_0-logloss:0.67899\tvalidation_1-logloss:0.68178\n",
      "[50]\tvalidation_0-logloss:0.46919\tvalidation_1-logloss:0.51562\n",
      "[100]\tvalidation_0-logloss:0.45513\tvalidation_1-logloss:0.50650\n",
      "[149]\tvalidation_0-logloss:0.45188\tvalidation_1-logloss:0.50491\n"
     ]
    },
    {
     "name": "stderr",
     "output_type": "stream",
     "text": [
      "\u001b[32m[I 2022-12-05 20:29:41,577]\u001b[0m Trial 83 finished with value: 0.7600402504472271 and parameters: {'max_depth': 9, 'learning_rate': 0.03881246405988399, 'n_estimators': 150, 'colsample_bytree': 0.9328486707718994, 'min_child_weight': 6}. Best is trial 24 with value: 0.7658542039355992.\u001b[0m\n",
      "/tmp/ipykernel_87457/1472279724.py:12: FutureWarning: suggest_uniform has been deprecated in v3.0.0. This feature will be removed in v6.0.0. See https://github.com/optuna/optuna/releases/tag/v3.0.0. Use :func:`~optuna.trial.Trial.suggest_float` instead.\n",
      "  \"learning_rate\": trial.suggest_uniform('learning_rate', 0.0001, 0.12),\n",
      "/opt/conda/envs/dkt/lib/python3.10/site-packages/xgboost/sklearn.py:861: UserWarning: `early_stopping_rounds` in `fit` method is deprecated for better compatibility with scikit-learn, use `early_stopping_rounds` in constructor or`set_params` instead.\n",
      "  warnings.warn(\n"
     ]
    },
    {
     "name": "stdout",
     "output_type": "stream",
     "text": [
      "[20:29:42] WARNING: ../src/learner.cc:767: \n",
      "Parameters: { \"metric\" } are not used.\n",
      "\n",
      "[0]\tvalidation_0-logloss:0.66504\tvalidation_1-logloss:0.67092\n",
      "[50]\tvalidation_0-logloss:0.45936\tvalidation_1-logloss:0.50731\n",
      "[100]\tvalidation_0-logloss:0.45602\tvalidation_1-logloss:0.50537\n",
      "[150]\tvalidation_0-logloss:0.45437\tvalidation_1-logloss:0.50445\n",
      "[200]\tvalidation_0-logloss:0.45296\tvalidation_1-logloss:0.50399\n",
      "[249]\tvalidation_0-logloss:0.45189\tvalidation_1-logloss:0.50388\n"
     ]
    },
    {
     "name": "stderr",
     "output_type": "stream",
     "text": [
      "\u001b[32m[I 2022-12-05 20:30:25,234]\u001b[0m Trial 84 finished with value: 0.7603831246273106 and parameters: {'max_depth': 7, 'learning_rate': 0.08011828804196147, 'n_estimators': 250, 'colsample_bytree': 0.9606911597735655, 'min_child_weight': 5}. Best is trial 24 with value: 0.7658542039355992.\u001b[0m\n",
      "/tmp/ipykernel_87457/1472279724.py:12: FutureWarning: suggest_uniform has been deprecated in v3.0.0. This feature will be removed in v6.0.0. See https://github.com/optuna/optuna/releases/tag/v3.0.0. Use :func:`~optuna.trial.Trial.suggest_float` instead.\n",
      "  \"learning_rate\": trial.suggest_uniform('learning_rate', 0.0001, 0.12),\n",
      "/opt/conda/envs/dkt/lib/python3.10/site-packages/xgboost/sklearn.py:861: UserWarning: `early_stopping_rounds` in `fit` method is deprecated for better compatibility with scikit-learn, use `early_stopping_rounds` in constructor or`set_params` instead.\n",
      "  warnings.warn(\n"
     ]
    },
    {
     "name": "stdout",
     "output_type": "stream",
     "text": [
      "[20:30:26] WARNING: ../src/learner.cc:767: \n",
      "Parameters: { \"metric\" } are not used.\n",
      "\n",
      "[0]\tvalidation_0-logloss:0.69250\tvalidation_1-logloss:0.69262\n",
      "[50]\tvalidation_0-logloss:0.66183\tvalidation_1-logloss:0.66790\n",
      "[100]\tvalidation_0-logloss:0.63565\tvalidation_1-logloss:0.64684\n",
      "[149]\tvalidation_0-logloss:0.61368\tvalidation_1-logloss:0.62915\n"
     ]
    },
    {
     "name": "stderr",
     "output_type": "stream",
     "text": [
      "\u001b[32m[I 2022-12-05 20:30:43,094]\u001b[0m Trial 85 finished with value: 0.75718992248062 and parameters: {'max_depth': 8, 'learning_rate': 0.0017640276262108276, 'n_estimators': 150, 'colsample_bytree': 0.9441067897518335, 'min_child_weight': 6}. Best is trial 24 with value: 0.7658542039355992.\u001b[0m\n",
      "/tmp/ipykernel_87457/1472279724.py:12: FutureWarning: suggest_uniform has been deprecated in v3.0.0. This feature will be removed in v6.0.0. See https://github.com/optuna/optuna/releases/tag/v3.0.0. Use :func:`~optuna.trial.Trial.suggest_float` instead.\n",
      "  \"learning_rate\": trial.suggest_uniform('learning_rate', 0.0001, 0.12),\n",
      "/opt/conda/envs/dkt/lib/python3.10/site-packages/xgboost/sklearn.py:861: UserWarning: `early_stopping_rounds` in `fit` method is deprecated for better compatibility with scikit-learn, use `early_stopping_rounds` in constructor or`set_params` instead.\n",
      "  warnings.warn(\n"
     ]
    },
    {
     "name": "stdout",
     "output_type": "stream",
     "text": [
      "[20:30:44] WARNING: ../src/learner.cc:767: \n",
      "Parameters: { \"metric\" } are not used.\n",
      "\n",
      "[0]\tvalidation_0-logloss:0.67079\tvalidation_1-logloss:0.67515\n",
      "[50]\tvalidation_0-logloss:0.45985\tvalidation_1-logloss:0.50779\n",
      "[100]\tvalidation_0-logloss:0.45462\tvalidation_1-logloss:0.50447\n",
      "[149]\tvalidation_0-logloss:0.45260\tvalidation_1-logloss:0.50375\n"
     ]
    },
    {
     "name": "stderr",
     "output_type": "stream",
     "text": [
      "\u001b[32m[I 2022-12-05 20:31:00,809]\u001b[0m Trial 86 finished with value: 0.7625193798449612 and parameters: {'max_depth': 8, 'learning_rate': 0.0625299107246235, 'n_estimators': 150, 'colsample_bytree': 0.8966532202553453, 'min_child_weight': 7}. Best is trial 24 with value: 0.7658542039355992.\u001b[0m\n",
      "/tmp/ipykernel_87457/1472279724.py:12: FutureWarning: suggest_uniform has been deprecated in v3.0.0. This feature will be removed in v6.0.0. See https://github.com/optuna/optuna/releases/tag/v3.0.0. Use :func:`~optuna.trial.Trial.suggest_float` instead.\n",
      "  \"learning_rate\": trial.suggest_uniform('learning_rate', 0.0001, 0.12),\n",
      "/opt/conda/envs/dkt/lib/python3.10/site-packages/xgboost/sklearn.py:861: UserWarning: `early_stopping_rounds` in `fit` method is deprecated for better compatibility with scikit-learn, use `early_stopping_rounds` in constructor or`set_params` instead.\n",
      "  warnings.warn(\n"
     ]
    },
    {
     "name": "stdout",
     "output_type": "stream",
     "text": [
      "[20:31:01] WARNING: ../src/learner.cc:767: \n",
      "Parameters: { \"metric\" } are not used.\n",
      "\n",
      "[0]\tvalidation_0-logloss:0.66779\tvalidation_1-logloss:0.67310\n",
      "[50]\tvalidation_0-logloss:0.46029\tvalidation_1-logloss:0.50806\n",
      "[100]\tvalidation_0-logloss:0.45635\tvalidation_1-logloss:0.50578\n",
      "[150]\tvalidation_0-logloss:0.45479\tvalidation_1-logloss:0.50477\n",
      "[200]\tvalidation_0-logloss:0.45347\tvalidation_1-logloss:0.50443\n",
      "[250]\tvalidation_0-logloss:0.45235\tvalidation_1-logloss:0.50381\n",
      "[299]\tvalidation_0-logloss:0.45147\tvalidation_1-logloss:0.50333\n"
     ]
    },
    {
     "name": "stderr",
     "output_type": "stream",
     "text": [
      "\u001b[32m[I 2022-12-05 20:32:03,154]\u001b[0m Trial 87 finished with value: 0.7633750745378652 and parameters: {'max_depth': 7, 'learning_rate': 0.07197264984499756, 'n_estimators': 300, 'colsample_bytree': 0.872326973235044, 'min_child_weight': 4}. Best is trial 24 with value: 0.7658542039355992.\u001b[0m\n",
      "/tmp/ipykernel_87457/1472279724.py:12: FutureWarning: suggest_uniform has been deprecated in v3.0.0. This feature will be removed in v6.0.0. See https://github.com/optuna/optuna/releases/tag/v3.0.0. Use :func:`~optuna.trial.Trial.suggest_float` instead.\n",
      "  \"learning_rate\": trial.suggest_uniform('learning_rate', 0.0001, 0.12),\n",
      "/opt/conda/envs/dkt/lib/python3.10/site-packages/xgboost/sklearn.py:861: UserWarning: `early_stopping_rounds` in `fit` method is deprecated for better compatibility with scikit-learn, use `early_stopping_rounds` in constructor or`set_params` instead.\n",
      "  warnings.warn(\n"
     ]
    },
    {
     "name": "stdout",
     "output_type": "stream",
     "text": [
      "[20:32:03] WARNING: ../src/learner.cc:767: \n",
      "Parameters: { \"metric\" } are not used.\n",
      "\n",
      "[0]\tvalidation_0-logloss:0.66080\tvalidation_1-logloss:0.66710\n",
      "[50]\tvalidation_0-logloss:0.45631\tvalidation_1-logloss:0.50636\n",
      "[100]\tvalidation_0-logloss:0.45268\tvalidation_1-logloss:0.50477\n",
      "[150]\tvalidation_0-logloss:0.45053\tvalidation_1-logloss:0.50373\n",
      "[200]\tvalidation_0-logloss:0.44870\tvalidation_1-logloss:0.50330\n",
      "[250]\tvalidation_0-logloss:0.44705\tvalidation_1-logloss:0.50332\n",
      "[300]\tvalidation_0-logloss:0.44542\tvalidation_1-logloss:0.50303\n",
      "[350]\tvalidation_0-logloss:0.44386\tvalidation_1-logloss:0.50292\n",
      "[400]\tvalidation_0-logloss:0.44228\tvalidation_1-logloss:0.50217\n",
      "[450]\tvalidation_0-logloss:0.44092\tvalidation_1-logloss:0.50241\n",
      "[500]\tvalidation_0-logloss:0.43958\tvalidation_1-logloss:0.50181\n",
      "[550]\tvalidation_0-logloss:0.43843\tvalidation_1-logloss:0.50216\n",
      "[594]\tvalidation_0-logloss:0.43718\tvalidation_1-logloss:0.50198\n"
     ]
    },
    {
     "name": "stderr",
     "output_type": "stream",
     "text": [
      "\u001b[32m[I 2022-12-05 20:36:09,488]\u001b[0m Trial 88 finished with value: 0.7567933810375671 and parameters: {'max_depth': 8, 'learning_rate': 0.0918573861556442, 'n_estimators': 600, 'colsample_bytree': 0.9127812209350324, 'min_child_weight': 5}. Best is trial 24 with value: 0.7658542039355992.\u001b[0m\n",
      "/tmp/ipykernel_87457/1472279724.py:12: FutureWarning: suggest_uniform has been deprecated in v3.0.0. This feature will be removed in v6.0.0. See https://github.com/optuna/optuna/releases/tag/v3.0.0. Use :func:`~optuna.trial.Trial.suggest_float` instead.\n",
      "  \"learning_rate\": trial.suggest_uniform('learning_rate', 0.0001, 0.12),\n",
      "/opt/conda/envs/dkt/lib/python3.10/site-packages/xgboost/sklearn.py:861: UserWarning: `early_stopping_rounds` in `fit` method is deprecated for better compatibility with scikit-learn, use `early_stopping_rounds` in constructor or`set_params` instead.\n",
      "  warnings.warn(\n"
     ]
    },
    {
     "name": "stdout",
     "output_type": "stream",
     "text": [
      "[20:36:10] WARNING: ../src/learner.cc:767: \n",
      "Parameters: { \"metric\" } are not used.\n",
      "\n",
      "[0]\tvalidation_0-logloss:0.66570\tvalidation_1-logloss:0.67144\n",
      "[50]\tvalidation_0-logloss:0.45962\tvalidation_1-logloss:0.50710\n",
      "[100]\tvalidation_0-logloss:0.45606\tvalidation_1-logloss:0.50461\n",
      "[150]\tvalidation_0-logloss:0.45445\tvalidation_1-logloss:0.50351\n",
      "[199]\tvalidation_0-logloss:0.45315\tvalidation_1-logloss:0.50347\n"
     ]
    },
    {
     "name": "stderr",
     "output_type": "stream",
     "text": [
      "\u001b[32m[I 2022-12-05 20:36:37,927]\u001b[0m Trial 89 finished with value: 0.7619215861657722 and parameters: {'max_depth': 7, 'learning_rate': 0.07816078490517667, 'n_estimators': 200, 'colsample_bytree': 0.9431932558898294, 'min_child_weight': 2}. Best is trial 24 with value: 0.7658542039355992.\u001b[0m\n",
      "/tmp/ipykernel_87457/1472279724.py:12: FutureWarning: suggest_uniform has been deprecated in v3.0.0. This feature will be removed in v6.0.0. See https://github.com/optuna/optuna/releases/tag/v3.0.0. Use :func:`~optuna.trial.Trial.suggest_float` instead.\n",
      "  \"learning_rate\": trial.suggest_uniform('learning_rate', 0.0001, 0.12),\n",
      "/opt/conda/envs/dkt/lib/python3.10/site-packages/xgboost/sklearn.py:861: UserWarning: `early_stopping_rounds` in `fit` method is deprecated for better compatibility with scikit-learn, use `early_stopping_rounds` in constructor or`set_params` instead.\n",
      "  warnings.warn(\n"
     ]
    },
    {
     "name": "stdout",
     "output_type": "stream",
     "text": [
      "[20:36:38] WARNING: ../src/learner.cc:767: \n",
      "Parameters: { \"metric\" } are not used.\n",
      "\n",
      "[0]\tvalidation_0-logloss:0.66302\tvalidation_1-logloss:0.66894\n",
      "[50]\tvalidation_0-logloss:0.45422\tvalidation_1-logloss:0.50596\n",
      "[99]\tvalidation_0-logloss:0.44964\tvalidation_1-logloss:0.50326\n"
     ]
    },
    {
     "name": "stderr",
     "output_type": "stream",
     "text": [
      "\u001b[32m[I 2022-12-05 20:36:47,351]\u001b[0m Trial 90 finished with value: 0.7614370900417412 and parameters: {'max_depth': 9, 'learning_rate': 0.08458128643360094, 'n_estimators': 100, 'colsample_bytree': 0.9218950390927324, 'min_child_weight': 6}. Best is trial 24 with value: 0.7658542039355992.\u001b[0m\n",
      "/tmp/ipykernel_87457/1472279724.py:12: FutureWarning: suggest_uniform has been deprecated in v3.0.0. This feature will be removed in v6.0.0. See https://github.com/optuna/optuna/releases/tag/v3.0.0. Use :func:`~optuna.trial.Trial.suggest_float` instead.\n",
      "  \"learning_rate\": trial.suggest_uniform('learning_rate', 0.0001, 0.12),\n",
      "/opt/conda/envs/dkt/lib/python3.10/site-packages/xgboost/sklearn.py:861: UserWarning: `early_stopping_rounds` in `fit` method is deprecated for better compatibility with scikit-learn, use `early_stopping_rounds` in constructor or`set_params` instead.\n",
      "  warnings.warn(\n"
     ]
    },
    {
     "name": "stdout",
     "output_type": "stream",
     "text": [
      "[20:36:48] WARNING: ../src/learner.cc:767: \n",
      "Parameters: { \"metric\" } are not used.\n",
      "\n",
      "[0]\tvalidation_0-logloss:0.66247\tvalidation_1-logloss:0.66845\n",
      "[50]\tvalidation_0-logloss:0.45672\tvalidation_1-logloss:0.50664\n",
      "[100]\tvalidation_0-logloss:0.45302\tvalidation_1-logloss:0.50460\n",
      "[150]\tvalidation_0-logloss:0.45095\tvalidation_1-logloss:0.50416\n",
      "[199]\tvalidation_0-logloss:0.44924\tvalidation_1-logloss:0.50404\n"
     ]
    },
    {
     "name": "stderr",
     "output_type": "stream",
     "text": [
      "\u001b[32m[I 2022-12-05 20:37:16,995]\u001b[0m Trial 91 finished with value: 0.7658825283243889 and parameters: {'max_depth': 8, 'learning_rate': 0.08688962700688713, 'n_estimators': 200, 'colsample_bytree': 0.8610908189548545, 'min_child_weight': 7}. Best is trial 91 with value: 0.7658825283243889.\u001b[0m\n",
      "/tmp/ipykernel_87457/1472279724.py:12: FutureWarning: suggest_uniform has been deprecated in v3.0.0. This feature will be removed in v6.0.0. See https://github.com/optuna/optuna/releases/tag/v3.0.0. Use :func:`~optuna.trial.Trial.suggest_float` instead.\n",
      "  \"learning_rate\": trial.suggest_uniform('learning_rate', 0.0001, 0.12),\n",
      "/opt/conda/envs/dkt/lib/python3.10/site-packages/xgboost/sklearn.py:861: UserWarning: `early_stopping_rounds` in `fit` method is deprecated for better compatibility with scikit-learn, use `early_stopping_rounds` in constructor or`set_params` instead.\n",
      "  warnings.warn(\n"
     ]
    },
    {
     "name": "stdout",
     "output_type": "stream",
     "text": [
      "[20:37:17] WARNING: ../src/learner.cc:767: \n",
      "Parameters: { \"metric\" } are not used.\n",
      "\n",
      "[0]\tvalidation_0-logloss:0.65863\tvalidation_1-logloss:0.66535\n",
      "[50]\tvalidation_0-logloss:0.45595\tvalidation_1-logloss:0.50612\n",
      "[100]\tvalidation_0-logloss:0.45257\tvalidation_1-logloss:0.50463\n",
      "[150]\tvalidation_0-logloss:0.45040\tvalidation_1-logloss:0.50446\n",
      "[200]\tvalidation_0-logloss:0.44844\tvalidation_1-logloss:0.50383\n",
      "[249]\tvalidation_0-logloss:0.44687\tvalidation_1-logloss:0.50391\n"
     ]
    },
    {
     "name": "stderr",
     "output_type": "stream",
     "text": [
      "\u001b[32m[I 2022-12-05 20:38:03,868]\u001b[0m Trial 92 finished with value: 0.7593858079904592 and parameters: {'max_depth': 8, 'learning_rate': 0.09837248610424983, 'n_estimators': 250, 'colsample_bytree': 0.8829034709081808, 'min_child_weight': 8}. Best is trial 91 with value: 0.7658825283243889.\u001b[0m\n",
      "/tmp/ipykernel_87457/1472279724.py:12: FutureWarning: suggest_uniform has been deprecated in v3.0.0. This feature will be removed in v6.0.0. See https://github.com/optuna/optuna/releases/tag/v3.0.0. Use :func:`~optuna.trial.Trial.suggest_float` instead.\n",
      "  \"learning_rate\": trial.suggest_uniform('learning_rate', 0.0001, 0.12),\n",
      "/opt/conda/envs/dkt/lib/python3.10/site-packages/xgboost/sklearn.py:861: UserWarning: `early_stopping_rounds` in `fit` method is deprecated for better compatibility with scikit-learn, use `early_stopping_rounds` in constructor or`set_params` instead.\n",
      "  warnings.warn(\n"
     ]
    },
    {
     "name": "stdout",
     "output_type": "stream",
     "text": [
      "[20:38:04] WARNING: ../src/learner.cc:767: \n",
      "Parameters: { \"metric\" } are not used.\n",
      "\n",
      "[0]\tvalidation_0-logloss:0.66206\tvalidation_1-logloss:0.66810\n",
      "[50]\tvalidation_0-logloss:0.45710\tvalidation_1-logloss:0.50644\n",
      "[100]\tvalidation_0-logloss:0.45311\tvalidation_1-logloss:0.50469\n",
      "[150]\tvalidation_0-logloss:0.45104\tvalidation_1-logloss:0.50465\n",
      "[200]\tvalidation_0-logloss:0.44932\tvalidation_1-logloss:0.50421\n",
      "[249]\tvalidation_0-logloss:0.44790\tvalidation_1-logloss:0.50399\n"
     ]
    },
    {
     "name": "stderr",
     "output_type": "stream",
     "text": [
      "\u001b[32m[I 2022-12-05 20:38:48,839]\u001b[0m Trial 93 finished with value: 0.7627772808586762 and parameters: {'max_depth': 8, 'learning_rate': 0.08819038597636679, 'n_estimators': 250, 'colsample_bytree': 0.8529693282701956, 'min_child_weight': 7}. Best is trial 91 with value: 0.7658825283243889.\u001b[0m\n",
      "/tmp/ipykernel_87457/1472279724.py:12: FutureWarning: suggest_uniform has been deprecated in v3.0.0. This feature will be removed in v6.0.0. See https://github.com/optuna/optuna/releases/tag/v3.0.0. Use :func:`~optuna.trial.Trial.suggest_float` instead.\n",
      "  \"learning_rate\": trial.suggest_uniform('learning_rate', 0.0001, 0.12),\n",
      "/opt/conda/envs/dkt/lib/python3.10/site-packages/xgboost/sklearn.py:861: UserWarning: `early_stopping_rounds` in `fit` method is deprecated for better compatibility with scikit-learn, use `early_stopping_rounds` in constructor or`set_params` instead.\n",
      "  warnings.warn(\n"
     ]
    },
    {
     "name": "stdout",
     "output_type": "stream",
     "text": [
      "[20:38:49] WARNING: ../src/learner.cc:767: \n",
      "Parameters: { \"metric\" } are not used.\n",
      "\n",
      "[0]\tvalidation_0-logloss:0.67174\tvalidation_1-logloss:0.67591\n",
      "[50]\tvalidation_0-logloss:0.46154\tvalidation_1-logloss:0.50838\n",
      "[100]\tvalidation_0-logloss:0.45513\tvalidation_1-logloss:0.50408\n",
      "[150]\tvalidation_0-logloss:0.45301\tvalidation_1-logloss:0.50335\n",
      "[200]\tvalidation_0-logloss:0.45154\tvalidation_1-logloss:0.50339\n",
      "[250]\tvalidation_0-logloss:0.45040\tvalidation_1-logloss:0.50314\n",
      "[299]\tvalidation_0-logloss:0.44934\tvalidation_1-logloss:0.50272\n"
     ]
    },
    {
     "name": "stderr",
     "output_type": "stream",
     "text": [
      "\u001b[32m[I 2022-12-05 20:39:53,405]\u001b[0m Trial 94 finished with value: 0.7643723911747167 and parameters: {'max_depth': 8, 'learning_rate': 0.059835706769924134, 'n_estimators': 300, 'colsample_bytree': 0.8379127595853649, 'min_child_weight': 7}. Best is trial 91 with value: 0.7658825283243889.\u001b[0m\n",
      "/tmp/ipykernel_87457/1472279724.py:12: FutureWarning: suggest_uniform has been deprecated in v3.0.0. This feature will be removed in v6.0.0. See https://github.com/optuna/optuna/releases/tag/v3.0.0. Use :func:`~optuna.trial.Trial.suggest_float` instead.\n",
      "  \"learning_rate\": trial.suggest_uniform('learning_rate', 0.0001, 0.12),\n",
      "/opt/conda/envs/dkt/lib/python3.10/site-packages/xgboost/sklearn.py:861: UserWarning: `early_stopping_rounds` in `fit` method is deprecated for better compatibility with scikit-learn, use `early_stopping_rounds` in constructor or`set_params` instead.\n",
      "  warnings.warn(\n"
     ]
    },
    {
     "name": "stdout",
     "output_type": "stream",
     "text": [
      "[20:39:54] WARNING: ../src/learner.cc:767: \n",
      "Parameters: { \"metric\" } are not used.\n",
      "\n",
      "[0]\tvalidation_0-logloss:0.67193\tvalidation_1-logloss:0.67607\n",
      "[50]\tvalidation_0-logloss:0.46172\tvalidation_1-logloss:0.50876\n",
      "[100]\tvalidation_0-logloss:0.45520\tvalidation_1-logloss:0.50460\n",
      "[150]\tvalidation_0-logloss:0.45305\tvalidation_1-logloss:0.50368\n",
      "[200]\tvalidation_0-logloss:0.45162\tvalidation_1-logloss:0.50331\n",
      "[250]\tvalidation_0-logloss:0.45041\tvalidation_1-logloss:0.50322\n",
      "[300]\tvalidation_0-logloss:0.44943\tvalidation_1-logloss:0.50308\n",
      "[350]\tvalidation_0-logloss:0.44836\tvalidation_1-logloss:0.50317\n",
      "[400]\tvalidation_0-logloss:0.44735\tvalidation_1-logloss:0.50319\n",
      "[450]\tvalidation_0-logloss:0.44653\tvalidation_1-logloss:0.50319\n",
      "[499]\tvalidation_0-logloss:0.44575\tvalidation_1-logloss:0.50285\n"
     ]
    },
    {
     "name": "stderr",
     "output_type": "stream",
     "text": [
      "\u001b[32m[I 2022-12-05 20:42:48,777]\u001b[0m Trial 95 finished with value: 0.7618082886106142 and parameters: {'max_depth': 8, 'learning_rate': 0.05928281737706126, 'n_estimators': 500, 'colsample_bytree': 0.8247471744076073, 'min_child_weight': 7}. Best is trial 91 with value: 0.7658825283243889.\u001b[0m\n",
      "/tmp/ipykernel_87457/1472279724.py:12: FutureWarning: suggest_uniform has been deprecated in v3.0.0. This feature will be removed in v6.0.0. See https://github.com/optuna/optuna/releases/tag/v3.0.0. Use :func:`~optuna.trial.Trial.suggest_float` instead.\n",
      "  \"learning_rate\": trial.suggest_uniform('learning_rate', 0.0001, 0.12),\n",
      "/opt/conda/envs/dkt/lib/python3.10/site-packages/xgboost/sklearn.py:861: UserWarning: `early_stopping_rounds` in `fit` method is deprecated for better compatibility with scikit-learn, use `early_stopping_rounds` in constructor or`set_params` instead.\n",
      "  warnings.warn(\n"
     ]
    },
    {
     "name": "stdout",
     "output_type": "stream",
     "text": [
      "[20:42:49] WARNING: ../src/learner.cc:767: \n",
      "Parameters: { \"metric\" } are not used.\n",
      "\n",
      "[0]\tvalidation_0-logloss:0.66858\tvalidation_1-logloss:0.67372\n",
      "[50]\tvalidation_0-logloss:0.46057\tvalidation_1-logloss:0.50780\n",
      "[100]\tvalidation_0-logloss:0.45650\tvalidation_1-logloss:0.50502\n",
      "[150]\tvalidation_0-logloss:0.45490\tvalidation_1-logloss:0.50461\n",
      "[200]\tvalidation_0-logloss:0.45377\tvalidation_1-logloss:0.50406\n",
      "[250]\tvalidation_0-logloss:0.45273\tvalidation_1-logloss:0.50372\n",
      "[300]\tvalidation_0-logloss:0.45185\tvalidation_1-logloss:0.50354\n",
      "[349]\tvalidation_0-logloss:0.45098\tvalidation_1-logloss:0.50342\n"
     ]
    },
    {
     "name": "stderr",
     "output_type": "stream",
     "text": [
      "\u001b[32m[I 2022-12-05 20:44:13,316]\u001b[0m Trial 96 finished with value: 0.7629472271914132 and parameters: {'max_depth': 7, 'learning_rate': 0.06964729455489048, 'n_estimators': 350, 'colsample_bytree': 0.874890599791536, 'min_child_weight': 7}. Best is trial 91 with value: 0.7658825283243889.\u001b[0m\n",
      "/tmp/ipykernel_87457/1472279724.py:12: FutureWarning: suggest_uniform has been deprecated in v3.0.0. This feature will be removed in v6.0.0. See https://github.com/optuna/optuna/releases/tag/v3.0.0. Use :func:`~optuna.trial.Trial.suggest_float` instead.\n",
      "  \"learning_rate\": trial.suggest_uniform('learning_rate', 0.0001, 0.12),\n",
      "/opt/conda/envs/dkt/lib/python3.10/site-packages/xgboost/sklearn.py:861: UserWarning: `early_stopping_rounds` in `fit` method is deprecated for better compatibility with scikit-learn, use `early_stopping_rounds` in constructor or`set_params` instead.\n",
      "  warnings.warn(\n"
     ]
    },
    {
     "name": "stdout",
     "output_type": "stream",
     "text": [
      "[20:44:14] WARNING: ../src/learner.cc:767: \n",
      "Parameters: { \"metric\" } are not used.\n",
      "\n",
      "[0]\tvalidation_0-logloss:0.68424\tvalidation_1-logloss:0.68610\n",
      "[50]\tvalidation_0-logloss:0.50009\tvalidation_1-logloss:0.53914\n",
      "[100]\tvalidation_0-logloss:0.46781\tvalidation_1-logloss:0.51358\n",
      "[150]\tvalidation_0-logloss:0.46082\tvalidation_1-logloss:0.50820\n",
      "[200]\tvalidation_0-logloss:0.45845\tvalidation_1-logloss:0.50657\n",
      "[250]\tvalidation_0-logloss:0.45728\tvalidation_1-logloss:0.50590\n",
      "[299]\tvalidation_0-logloss:0.45647\tvalidation_1-logloss:0.50543\n"
     ]
    },
    {
     "name": "stderr",
     "output_type": "stream",
     "text": [
      "\u001b[32m[I 2022-12-05 20:45:16,275]\u001b[0m Trial 97 finished with value: 0.7600685748360168 and parameters: {'max_depth': 7, 'learning_rate': 0.02469112949657106, 'n_estimators': 300, 'colsample_bytree': 0.834097678202558, 'min_child_weight': 8}. Best is trial 91 with value: 0.7658825283243889.\u001b[0m\n",
      "/tmp/ipykernel_87457/1472279724.py:12: FutureWarning: suggest_uniform has been deprecated in v3.0.0. This feature will be removed in v6.0.0. See https://github.com/optuna/optuna/releases/tag/v3.0.0. Use :func:`~optuna.trial.Trial.suggest_float` instead.\n",
      "  \"learning_rate\": trial.suggest_uniform('learning_rate', 0.0001, 0.12),\n",
      "/opt/conda/envs/dkt/lib/python3.10/site-packages/xgboost/sklearn.py:861: UserWarning: `early_stopping_rounds` in `fit` method is deprecated for better compatibility with scikit-learn, use `early_stopping_rounds` in constructor or`set_params` instead.\n",
      "  warnings.warn(\n"
     ]
    },
    {
     "name": "stdout",
     "output_type": "stream",
     "text": [
      "[20:45:17] WARNING: ../src/learner.cc:767: \n",
      "Parameters: { \"metric\" } are not used.\n",
      "\n",
      "[0]\tvalidation_0-logloss:0.67418\tvalidation_1-logloss:0.67787\n",
      "[50]\tvalidation_0-logloss:0.46399\tvalidation_1-logloss:0.51096\n",
      "[100]\tvalidation_0-logloss:0.45590\tvalidation_1-logloss:0.50562\n",
      "[150]\tvalidation_0-logloss:0.45364\tvalidation_1-logloss:0.50489\n",
      "[200]\tvalidation_0-logloss:0.45225\tvalidation_1-logloss:0.50449\n",
      "[250]\tvalidation_0-logloss:0.45115\tvalidation_1-logloss:0.50388\n",
      "[299]\tvalidation_0-logloss:0.45011\tvalidation_1-logloss:0.50365\n"
     ]
    },
    {
     "name": "stderr",
     "output_type": "stream",
     "text": [
      "\u001b[32m[I 2022-12-05 20:46:21,444]\u001b[0m Trial 98 finished with value: 0.7623211091234346 and parameters: {'max_depth': 8, 'learning_rate': 0.052836285274305395, 'n_estimators': 300, 'colsample_bytree': 0.7753992220267462, 'min_child_weight': 7}. Best is trial 91 with value: 0.7658825283243889.\u001b[0m\n",
      "/tmp/ipykernel_87457/1472279724.py:12: FutureWarning: suggest_uniform has been deprecated in v3.0.0. This feature will be removed in v6.0.0. See https://github.com/optuna/optuna/releases/tag/v3.0.0. Use :func:`~optuna.trial.Trial.suggest_float` instead.\n",
      "  \"learning_rate\": trial.suggest_uniform('learning_rate', 0.0001, 0.12),\n",
      "/opt/conda/envs/dkt/lib/python3.10/site-packages/xgboost/sklearn.py:861: UserWarning: `early_stopping_rounds` in `fit` method is deprecated for better compatibility with scikit-learn, use `early_stopping_rounds` in constructor or`set_params` instead.\n",
      "  warnings.warn(\n"
     ]
    },
    {
     "name": "stdout",
     "output_type": "stream",
     "text": [
      "[20:46:22] WARNING: ../src/learner.cc:767: \n",
      "Parameters: { \"metric\" } are not used.\n",
      "\n",
      "[0]\tvalidation_0-logloss:0.66923\tvalidation_1-logloss:0.67393\n",
      "[50]\tvalidation_0-logloss:0.45666\tvalidation_1-logloss:0.50669\n",
      "[100]\tvalidation_0-logloss:0.45109\tvalidation_1-logloss:0.50429\n",
      "[150]\tvalidation_0-logloss:0.44864\tvalidation_1-logloss:0.50396\n",
      "[200]\tvalidation_0-logloss:0.44656\tvalidation_1-logloss:0.50410\n",
      "[249]\tvalidation_0-logloss:0.44468\tvalidation_1-logloss:0.50357\n"
     ]
    },
    {
     "name": "stderr",
     "output_type": "stream",
     "text": [
      "\u001b[32m[I 2022-12-05 20:47:10,074]\u001b[0m Trial 99 finished with value: 0.7637745974955277 and parameters: {'max_depth': 9, 'learning_rate': 0.0665307468228167, 'n_estimators': 250, 'colsample_bytree': 0.8904113550442735, 'min_child_weight': 7}. Best is trial 91 with value: 0.7658825283243889.\u001b[0m\n"
     ]
    },
    {
     "name": "stdout",
     "output_type": "stream",
     "text": [
      "Best Score: 0.7658825283243889\n",
      "Best trial: {'max_depth': 8, 'learning_rate': 0.08688962700688713, 'n_estimators': 200, 'colsample_bytree': 0.8610908189548545, 'min_child_weight': 7}\n"
     ]
    }
   ],
   "source": [
    "import optuna\n",
    "from optuna import Trial\n",
    "from optuna.samplers import TPESampler\n",
    "\n",
    "sampler = TPESampler(seed=42)\n",
    "study = optuna.create_study(\n",
    "    study_name=\"xgb_parameter_opt\",\n",
    "    direction=\"maximize\" # maximize\n",
    "    # sampler=sampler,\n",
    ")\n",
    "study.optimize(objective, n_trials=100)\n",
    "print(\"Best Score:\", study.best_value)\n",
    "print(\"Best trial:\", study.best_trial.params)"
   ]
  },
  {
   "cell_type": "code",
   "execution_count": 13,
   "metadata": {},
   "outputs": [
    {
     "ename": "ImportError",
     "evalue": "Tried to import 'plotly' but failed. Please make sure that the package is installed correctly to use this feature. Actual error: No module named 'plotly'.",
     "output_type": "error",
     "traceback": [
      "\u001b[0;31m---------------------------------------------------------------------------\u001b[0m",
      "\u001b[0;31mModuleNotFoundError\u001b[0m                       Traceback (most recent call last)",
      "File \u001b[0;32m/opt/conda/envs/dkt/lib/python3.10/site-packages/optuna/visualization/_plotly_imports.py:7\u001b[0m\n\u001b[1;32m      6\u001b[0m \u001b[39mwith\u001b[39;00m try_import() \u001b[39mas\u001b[39;00m _imports:  \u001b[39m# NOQA\u001b[39;00m\n\u001b[0;32m----> 7\u001b[0m     \u001b[39mimport\u001b[39;00m \u001b[39mplotly\u001b[39;00m  \u001b[39m# NOQA\u001b[39;00m\n\u001b[1;32m      8\u001b[0m     \u001b[39mfrom\u001b[39;00m \u001b[39mplotly\u001b[39;00m \u001b[39mimport\u001b[39;00m __version__ \u001b[39mas\u001b[39;00m plotly_version\n",
      "\u001b[0;31mModuleNotFoundError\u001b[0m: No module named 'plotly'",
      "\nThe above exception was the direct cause of the following exception:\n",
      "\u001b[0;31mImportError\u001b[0m                               Traceback (most recent call last)",
      "Cell \u001b[0;32mIn [13], line 1\u001b[0m\n\u001b[0;32m----> 1\u001b[0m optuna\u001b[39m.\u001b[39;49mvisualization\u001b[39m.\u001b[39;49mplot_optimization_history(study)\n",
      "File \u001b[0;32m/opt/conda/envs/dkt/lib/python3.10/site-packages/optuna/visualization/_optimization_history.py:167\u001b[0m, in \u001b[0;36mplot_optimization_history\u001b[0;34m(study, target, target_name, error_bar)\u001b[0m\n\u001b[1;32m    117\u001b[0m \u001b[39mdef\u001b[39;00m \u001b[39mplot_optimization_history\u001b[39m(\n\u001b[1;32m    118\u001b[0m     study: Union[Study, Sequence[Study]],\n\u001b[1;32m    119\u001b[0m     \u001b[39m*\u001b[39m,\n\u001b[0;32m   (...)\u001b[0m\n\u001b[1;32m    122\u001b[0m     error_bar: \u001b[39mbool\u001b[39m \u001b[39m=\u001b[39m \u001b[39mFalse\u001b[39;00m,\n\u001b[1;32m    123\u001b[0m ) \u001b[39m-\u001b[39m\u001b[39m>\u001b[39m \u001b[39m\"\u001b[39m\u001b[39mgo.Figure\u001b[39m\u001b[39m\"\u001b[39m:\n\u001b[1;32m    124\u001b[0m     \u001b[39m\"\"\"Plot optimization history of all trials in a study.\u001b[39;00m\n\u001b[1;32m    125\u001b[0m \n\u001b[1;32m    126\u001b[0m \u001b[39m    Example:\u001b[39;00m\n\u001b[0;32m   (...)\u001b[0m\n\u001b[1;32m    164\u001b[0m \u001b[39m        A :class:`plotly.graph_objs.Figure` object.\u001b[39;00m\n\u001b[1;32m    165\u001b[0m \u001b[39m    \"\"\"\u001b[39;00m\n\u001b[0;32m--> 167\u001b[0m     _imports\u001b[39m.\u001b[39;49mcheck()\n\u001b[1;32m    169\u001b[0m     info_list \u001b[39m=\u001b[39m _get_optimization_history_info_list(study, target, target_name, error_bar)\n\u001b[1;32m    170\u001b[0m     \u001b[39mreturn\u001b[39;00m _get_optimization_history_plot(info_list, target_name)\n",
      "File \u001b[0;32m/opt/conda/envs/dkt/lib/python3.10/site-packages/optuna/_imports.py:89\u001b[0m, in \u001b[0;36m_DeferredImportExceptionContextManager.check\u001b[0;34m(self)\u001b[0m\n\u001b[1;32m     87\u001b[0m \u001b[39mif\u001b[39;00m \u001b[39mself\u001b[39m\u001b[39m.\u001b[39m_deferred \u001b[39mis\u001b[39;00m \u001b[39mnot\u001b[39;00m \u001b[39mNone\u001b[39;00m:\n\u001b[1;32m     88\u001b[0m     exc_value, message \u001b[39m=\u001b[39m \u001b[39mself\u001b[39m\u001b[39m.\u001b[39m_deferred\n\u001b[0;32m---> 89\u001b[0m     \u001b[39mraise\u001b[39;00m \u001b[39mImportError\u001b[39;00m(message) \u001b[39mfrom\u001b[39;00m \u001b[39mexc_value\u001b[39;00m\n",
      "\u001b[0;31mImportError\u001b[0m: Tried to import 'plotly' but failed. Please make sure that the package is installed correctly to use this feature. Actual error: No module named 'plotly'."
     ]
    }
   ],
   "source": [
    "optuna.visualization.plot_optimization_history(study)"
   ]
  },
  {
   "cell_type": "markdown",
   "metadata": {},
   "source": [
    "\n",
    "Best Score: 0.7657692307692308\n",
    "Best trial: {'max_depth': 9, 'learning_rate': 0.13614533338992976, 'n_estimators': 620, 'min_child_weight': 6}\n",
    "\n",
    "Best Score: 0.7637745974955277\n",
    "Best trial: {'max_depth': 8, 'learning_rate': 0.11002818911337489, 'n_estimators': 350, 'min_child_weight': 7}\n",
    "\n",
    "Best Score: 0.7658825283243889\n",
    "Best trial: {'max_depth': 8, 'learning_rate': 0.08688962700688713, 'n_estimators': 200, 'colsample_bytree': 0.8610908189548545, 'min_child_weight': 7}"
   ]
  },
  {
   "cell_type": "code",
   "execution_count": 15,
   "metadata": {},
   "outputs": [],
   "source": [
    "X = df.drop(['answerCode'], axis=1)\n",
    "y = df['answerCode']"
   ]
  },
  {
   "cell_type": "code",
   "execution_count": 18,
   "metadata": {},
   "outputs": [
    {
     "data": {
      "text/html": [
       "Finishing last run (ID:380nmljk) before initializing another..."
      ],
      "text/plain": [
       "<IPython.core.display.HTML object>"
      ]
     },
     "metadata": {},
     "output_type": "display_data"
    },
    {
     "data": {
      "text/html": [
       "Waiting for W&B process to finish... <strong style=\"color:green\">(success).</strong>"
      ],
      "text/plain": [
       "<IPython.core.display.HTML object>"
      ]
     },
     "metadata": {},
     "output_type": "display_data"
    },
    {
     "data": {
      "text/html": [
       "Synced <strong style=\"color:#cdcd00\">pretty-galaxy-72</strong>: <a href=\"https://wandb.ai/recsys-10/XGBC/runs/380nmljk\" target=\"_blank\">https://wandb.ai/recsys-10/XGBC/runs/380nmljk</a><br/>Synced 5 W&B file(s), 0 media file(s), 0 artifact file(s) and 0 other file(s)"
      ],
      "text/plain": [
       "<IPython.core.display.HTML object>"
      ]
     },
     "metadata": {},
     "output_type": "display_data"
    },
    {
     "data": {
      "text/html": [
       "Find logs at: <code>./wandb/run-20221206_022256-380nmljk/logs</code>"
      ],
      "text/plain": [
       "<IPython.core.display.HTML object>"
      ]
     },
     "metadata": {},
     "output_type": "display_data"
    },
    {
     "data": {
      "text/html": [
       "Successfully finished last run (ID:380nmljk). Initializing new run:<br/>"
      ],
      "text/plain": [
       "<IPython.core.display.HTML object>"
      ]
     },
     "metadata": {},
     "output_type": "display_data"
    },
    {
     "data": {
      "text/html": [
       "Tracking run with wandb version 0.13.5"
      ],
      "text/plain": [
       "<IPython.core.display.HTML object>"
      ]
     },
     "metadata": {},
     "output_type": "display_data"
    },
    {
     "data": {
      "text/html": [
       "Run data is saved locally in <code>/opt/ml/input/code/wandb/run-20221206_022327-3k1225bm</code>"
      ],
      "text/plain": [
       "<IPython.core.display.HTML object>"
      ]
     },
     "metadata": {},
     "output_type": "display_data"
    },
    {
     "data": {
      "text/html": [
       "Syncing run <strong><a href=\"https://wandb.ai/recsys-10/XGBC/runs/3k1225bm\" target=\"_blank\">happy-silence-73</a></strong> to <a href=\"https://wandb.ai/recsys-10/XGBC\" target=\"_blank\">Weights & Biases</a> (<a href=\"https://wandb.me/run\" target=\"_blank\">docs</a>)<br/>"
      ],
      "text/plain": [
       "<IPython.core.display.HTML object>"
      ]
     },
     "metadata": {},
     "output_type": "display_data"
    },
    {
     "name": "stderr",
     "output_type": "stream",
     "text": [
      "/opt/conda/envs/dkt/lib/python3.10/site-packages/xgboost/sklearn.py:861: UserWarning: `early_stopping_rounds` in `fit` method is deprecated for better compatibility with scikit-learn, use `early_stopping_rounds` in constructor or`set_params` instead.\n",
      "  warnings.warn(\n"
     ]
    },
    {
     "name": "stdout",
     "output_type": "stream",
     "text": [
      "[0]\tvalidation_0-logloss:0.66250\n",
      "[50]\tvalidation_0-logloss:0.45931\n",
      "[100]\tvalidation_0-logloss:0.45736\n",
      "[150]\tvalidation_0-logloss:0.45670\n",
      "[199]\tvalidation_0-logloss:0.45640\n"
     ]
    },
    {
     "name": "stderr",
     "output_type": "stream",
     "text": [
      "/opt/conda/envs/dkt/lib/python3.10/site-packages/xgboost/sklearn.py:861: UserWarning: `early_stopping_rounds` in `fit` method is deprecated for better compatibility with scikit-learn, use `early_stopping_rounds` in constructor or`set_params` instead.\n",
      "  warnings.warn(\n"
     ]
    },
    {
     "name": "stdout",
     "output_type": "stream",
     "text": [
      "[0]\tvalidation_0-logloss:0.66302\n",
      "[50]\tvalidation_0-logloss:0.46301\n",
      "[100]\tvalidation_0-logloss:0.46125\n",
      "[150]\tvalidation_0-logloss:0.46069\n",
      "[199]\tvalidation_0-logloss:0.46035\n"
     ]
    },
    {
     "name": "stderr",
     "output_type": "stream",
     "text": [
      "/opt/conda/envs/dkt/lib/python3.10/site-packages/xgboost/sklearn.py:861: UserWarning: `early_stopping_rounds` in `fit` method is deprecated for better compatibility with scikit-learn, use `early_stopping_rounds` in constructor or`set_params` instead.\n",
      "  warnings.warn(\n"
     ]
    },
    {
     "name": "stdout",
     "output_type": "stream",
     "text": [
      "[0]\tvalidation_0-logloss:0.66256\n",
      "[50]\tvalidation_0-logloss:0.45887\n",
      "[100]\tvalidation_0-logloss:0.45709\n",
      "[150]\tvalidation_0-logloss:0.45659\n",
      "[199]\tvalidation_0-logloss:0.45627\n"
     ]
    },
    {
     "name": "stderr",
     "output_type": "stream",
     "text": [
      "/opt/conda/envs/dkt/lib/python3.10/site-packages/xgboost/sklearn.py:861: UserWarning: `early_stopping_rounds` in `fit` method is deprecated for better compatibility with scikit-learn, use `early_stopping_rounds` in constructor or`set_params` instead.\n",
      "  warnings.warn(\n"
     ]
    },
    {
     "name": "stdout",
     "output_type": "stream",
     "text": [
      "[0]\tvalidation_0-logloss:0.66296\n",
      "[50]\tvalidation_0-logloss:0.46246\n",
      "[100]\tvalidation_0-logloss:0.46072\n",
      "[150]\tvalidation_0-logloss:0.46025\n",
      "[199]\tvalidation_0-logloss:0.45994\n"
     ]
    },
    {
     "name": "stderr",
     "output_type": "stream",
     "text": [
      "/opt/conda/envs/dkt/lib/python3.10/site-packages/xgboost/sklearn.py:861: UserWarning: `early_stopping_rounds` in `fit` method is deprecated for better compatibility with scikit-learn, use `early_stopping_rounds` in constructor or`set_params` instead.\n",
      "  warnings.warn(\n"
     ]
    },
    {
     "name": "stdout",
     "output_type": "stream",
     "text": [
      "[0]\tvalidation_0-logloss:0.66252\n",
      "[50]\tvalidation_0-logloss:0.45809\n",
      "[100]\tvalidation_0-logloss:0.45628\n",
      "[150]\tvalidation_0-logloss:0.45575\n",
      "[199]\tvalidation_0-logloss:0.45548\n",
      "\n",
      "\n",
      "Mean training AUC: 0.8462902928690166\n",
      "Mean testing AUC: 0.8409138438639608\n"
     ]
    }
   ],
   "source": [
    "wandb.init(project = \"XGBC\")\n",
    "score_train, score_test = [], [] \n",
    "# 유저별 분리\n",
    "fold = StratifiedGroupKFold(n_splits = 5, shuffle =True)\n",
    "groups = df['userID']\n",
    "for train_index , test_index in fold.split(X, y, groups):\n",
    "    X_train,X_test = X.iloc[train_index], X.iloc[test_index]\n",
    "    y_train,y_test = y.iloc[train_index], y.iloc[test_index]\n",
    "\n",
    "    model = XGBClassifier(\n",
    "    booster=\"dart\",\n",
    "    learning_rate = 0.08688962700688713,\n",
    "    max_depth=8,\n",
    "    min_child_weight=7,\n",
    "    n_estimators=200,\n",
    "    colsample_bytree = 0.8610908189548545,\n",
    "    nthread=4,\n",
    "    random_state=42,\n",
    "    #enable_categorical=True\n",
    "    )\n",
    "\n",
    "    model.fit(X_train[FEATS], y_train,\n",
    "    eval_set=[(X_test[FEATS] , y_test)],\n",
    "    early_stopping_rounds=50,verbose=50)\n",
    "\n",
    "    y_pred_train = model.predict_proba(X_train[FEATS])[:,1]\n",
    "    y_pred_test = model.predict_proba(X_test[FEATS])[:,1]\n",
    "    score_train.append(roc_auc_score( y_train,y_pred_train))\n",
    "    score_test.append(roc_auc_score( y_test,y_pred_test))\n",
    "    # make predictions on test\n",
    "\n",
    "    acc = accuracy_score(y_test, np.where(y_pred_test >= 0.5, 1, 0))\n",
    "    auc = roc_auc_score( y_test,y_pred_test)\n",
    "    #wandb.xgboost.log_summary(model, save_model_checkpoint=True)\n",
    "    wandb.log({\"valid_accuracy\": acc})\n",
    "    wandb.log({\"valid_roc_auc\": auc})\n",
    "\n",
    "print('\\n')\n",
    "print('Mean training AUC:',np.mean(score_train))\n",
    "print('Mean testing AUC:',np.mean(score_test))"
   ]
  },
  {
   "cell_type": "code",
   "execution_count": 33,
   "metadata": {},
   "outputs": [
    {
     "data": {
      "text/html": [
       "<div>\n",
       "<style scoped>\n",
       "    .dataframe tbody tr th:only-of-type {\n",
       "        vertical-align: middle;\n",
       "    }\n",
       "\n",
       "    .dataframe tbody tr th {\n",
       "        vertical-align: top;\n",
       "    }\n",
       "\n",
       "    .dataframe thead th {\n",
       "        text-align: right;\n",
       "    }\n",
       "</style>\n",
       "<table border=\"1\" class=\"dataframe\">\n",
       "  <thead>\n",
       "    <tr style=\"text-align: right;\">\n",
       "      <th></th>\n",
       "      <th>userID</th>\n",
       "      <th>assessmentItemID</th>\n",
       "      <th>testId</th>\n",
       "      <th>answerCode</th>\n",
       "      <th>Timestamp</th>\n",
       "      <th>KnowledgeTag</th>\n",
       "      <th>train</th>\n",
       "      <th>left_asymptote</th>\n",
       "      <th>elo</th>\n",
       "      <th>user_correct_answer</th>\n",
       "      <th>user_total_answer</th>\n",
       "      <th>user_acc</th>\n",
       "      <th>Bigcat</th>\n",
       "      <th>Bigcat_avg</th>\n",
       "      <th>elapsed</th>\n",
       "    </tr>\n",
       "  </thead>\n",
       "  <tbody>\n",
       "    <tr>\n",
       "      <th>0</th>\n",
       "      <td>0</td>\n",
       "      <td>5354</td>\n",
       "      <td>A060000001</td>\n",
       "      <td>1</td>\n",
       "      <td>2020-03-24 00:17:11</td>\n",
       "      <td>556</td>\n",
       "      <td>1</td>\n",
       "      <td>0</td>\n",
       "      <td>0.979350</td>\n",
       "      <td>NaN</td>\n",
       "      <td>0</td>\n",
       "      <td>NaN</td>\n",
       "      <td>5</td>\n",
       "      <td>0.711898</td>\n",
       "      <td>0.0</td>\n",
       "    </tr>\n",
       "    <tr>\n",
       "      <th>1</th>\n",
       "      <td>0</td>\n",
       "      <td>5355</td>\n",
       "      <td>A060000001</td>\n",
       "      <td>1</td>\n",
       "      <td>2020-03-24 00:17:14</td>\n",
       "      <td>557</td>\n",
       "      <td>1</td>\n",
       "      <td>0</td>\n",
       "      <td>0.970579</td>\n",
       "      <td>1.0</td>\n",
       "      <td>1</td>\n",
       "      <td>1.0</td>\n",
       "      <td>5</td>\n",
       "      <td>0.711898</td>\n",
       "      <td>3.0</td>\n",
       "    </tr>\n",
       "  </tbody>\n",
       "</table>\n",
       "</div>"
      ],
      "text/plain": [
       "   userID  assessmentItemID      testId  answerCode           Timestamp  \\\n",
       "0       0              5354  A060000001           1 2020-03-24 00:17:11   \n",
       "1       0              5355  A060000001           1 2020-03-24 00:17:14   \n",
       "\n",
       "   KnowledgeTag  train  left_asymptote       elo  user_correct_answer  \\\n",
       "0           556      1               0  0.979350                  NaN   \n",
       "1           557      1               0  0.970579                  1.0   \n",
       "\n",
       "   user_total_answer  user_acc  Bigcat  Bigcat_avg  elapsed  \n",
       "0                  0       NaN       5    0.711898      0.0  \n",
       "1                  1       1.0       5    0.711898      3.0  "
      ]
     },
     "execution_count": 33,
     "metadata": {},
     "output_type": "execute_result"
    }
   ],
   "source": [
    "df[:2]"
   ]
  },
  {
   "cell_type": "code",
   "execution_count": 25,
   "metadata": {},
   "outputs": [],
   "source": [
    "pd.options.display.max_columns = 100"
   ]
  },
  {
   "cell_type": "code",
   "execution_count": 26,
   "metadata": {},
   "outputs": [
    {
     "data": {
      "text/plain": [
       "6698"
      ]
     },
     "execution_count": 26,
     "metadata": {},
     "output_type": "execute_result"
    }
   ],
   "source": [
    "df['userID'].nunique()"
   ]
  },
  {
   "cell_type": "code",
   "execution_count": 27,
   "metadata": {},
   "outputs": [
    {
     "data": {
      "text/html": [
       "<div>\n",
       "<style scoped>\n",
       "    .dataframe tbody tr th:only-of-type {\n",
       "        vertical-align: middle;\n",
       "    }\n",
       "\n",
       "    .dataframe tbody tr th {\n",
       "        vertical-align: top;\n",
       "    }\n",
       "\n",
       "    .dataframe thead th {\n",
       "        text-align: right;\n",
       "    }\n",
       "</style>\n",
       "<table border=\"1\" class=\"dataframe\">\n",
       "  <thead>\n",
       "    <tr style=\"text-align: right;\">\n",
       "      <th></th>\n",
       "      <th>userID</th>\n",
       "      <th>assessmentItemID</th>\n",
       "      <th>testId</th>\n",
       "      <th>answerCode</th>\n",
       "      <th>Timestamp</th>\n",
       "      <th>KnowledgeTag</th>\n",
       "      <th>train</th>\n",
       "      <th>left_asymptote</th>\n",
       "      <th>elo</th>\n",
       "      <th>user_correct_answer</th>\n",
       "      <th>user_total_answer</th>\n",
       "      <th>user_acc</th>\n",
       "      <th>Bigcat</th>\n",
       "      <th>Bigcat_avg</th>\n",
       "      <th>elapsed</th>\n",
       "    </tr>\n",
       "  </thead>\n",
       "  <tbody>\n",
       "    <tr>\n",
       "      <th>2267621</th>\n",
       "      <td>3</td>\n",
       "      <td>4965</td>\n",
       "      <td>A050000133</td>\n",
       "      <td>-1</td>\n",
       "      <td>2020-10-26 13:13:57</td>\n",
       "      <td>469</td>\n",
       "      <td>0</td>\n",
       "      <td>0</td>\n",
       "      <td>0.431119</td>\n",
       "      <td>717.0</td>\n",
       "      <td>1035</td>\n",
       "      <td>0.692754</td>\n",
       "      <td>4</td>\n",
       "      <td>0.658649</td>\n",
       "      <td>46.0</td>\n",
       "    </tr>\n",
       "    <tr>\n",
       "      <th>2268292</th>\n",
       "      <td>4</td>\n",
       "      <td>7748</td>\n",
       "      <td>A070000146</td>\n",
       "      <td>-1</td>\n",
       "      <td>2020-12-27 02:47:54</td>\n",
       "      <td>781</td>\n",
       "      <td>0</td>\n",
       "      <td>0</td>\n",
       "      <td>0.508981</td>\n",
       "      <td>465.0</td>\n",
       "      <td>670</td>\n",
       "      <td>0.694030</td>\n",
       "      <td>6</td>\n",
       "      <td>0.521167</td>\n",
       "      <td>23.0</td>\n",
       "    </tr>\n",
       "  </tbody>\n",
       "</table>\n",
       "</div>"
      ],
      "text/plain": [
       "         userID  assessmentItemID      testId  answerCode           Timestamp  \\\n",
       "2267621       3              4965  A050000133          -1 2020-10-26 13:13:57   \n",
       "2268292       4              7748  A070000146          -1 2020-12-27 02:47:54   \n",
       "\n",
       "         KnowledgeTag  train  left_asymptote       elo  user_correct_answer  \\\n",
       "2267621           469      0               0  0.431119                717.0   \n",
       "2268292           781      0               0  0.508981                465.0   \n",
       "\n",
       "         user_total_answer  user_acc  Bigcat  Bigcat_avg  elapsed  \n",
       "2267621               1035  0.692754       4    0.658649     46.0  \n",
       "2268292                670  0.694030       6    0.521167     23.0  "
      ]
     },
     "execution_count": 27,
     "metadata": {},
     "output_type": "execute_result"
    }
   ],
   "source": [
    "submission[:2]"
   ]
  },
  {
   "cell_type": "code",
   "execution_count": 28,
   "metadata": {},
   "outputs": [
    {
     "data": {
      "text/plain": [
       "Index(['userID', 'assessmentItemID', 'testId', 'answerCode', 'Timestamp',\n",
       "       'KnowledgeTag', 'train', 'left_asymptote', 'elo', 'user_correct_answer',\n",
       "       'user_total_answer', 'user_acc', 'Bigcat', 'Bigcat_avg', 'elapsed'],\n",
       "      dtype='object')"
      ]
     },
     "execution_count": 28,
     "metadata": {},
     "output_type": "execute_result"
    }
   ],
   "source": [
    "df.columns"
   ]
  },
  {
   "cell_type": "markdown",
   "metadata": {
    "id": "KiHss_BBhfQ2"
   },
   "source": [
    "## 4. 훈련 및 검증"
   ]
  },
  {
   "cell_type": "markdown",
   "metadata": {
    "id": "8Bsff1ZVhfQ3"
   },
   "source": [
    "## 5. Inference"
   ]
  },
  {
   "cell_type": "code",
   "execution_count": 19,
   "metadata": {
    "ExecuteTime": {
     "end_time": "2021-05-24T09:49:29.691738Z",
     "start_time": "2021-05-24T09:49:28.992Z"
    },
    "id": "N6YEFm8IhfQ3"
   },
   "outputs": [
    {
     "data": {
      "text/html": [
       "<div>\n",
       "<style scoped>\n",
       "    .dataframe tbody tr th:only-of-type {\n",
       "        vertical-align: middle;\n",
       "    }\n",
       "\n",
       "    .dataframe tbody tr th {\n",
       "        vertical-align: top;\n",
       "    }\n",
       "\n",
       "    .dataframe thead th {\n",
       "        text-align: right;\n",
       "    }\n",
       "</style>\n",
       "<table border=\"1\" class=\"dataframe\">\n",
       "  <thead>\n",
       "    <tr style=\"text-align: right;\">\n",
       "      <th></th>\n",
       "      <th>userID</th>\n",
       "      <th>assessmentItemID</th>\n",
       "      <th>testId</th>\n",
       "      <th>answerCode</th>\n",
       "      <th>Timestamp</th>\n",
       "      <th>KnowledgeTag</th>\n",
       "      <th>train</th>\n",
       "      <th>left_asymptote</th>\n",
       "      <th>elo</th>\n",
       "      <th>user_correct_answer</th>\n",
       "      <th>user_total_answer</th>\n",
       "      <th>user_acc</th>\n",
       "      <th>Bigcat</th>\n",
       "      <th>Bigcat_avg</th>\n",
       "      <th>elapsed</th>\n",
       "      <th>item_avg</th>\n",
       "      <th>answer_cnt</th>\n",
       "    </tr>\n",
       "  </thead>\n",
       "  <tbody>\n",
       "    <tr>\n",
       "      <th>2267621</th>\n",
       "      <td>3</td>\n",
       "      <td>4965</td>\n",
       "      <td>A050000133</td>\n",
       "      <td>-1</td>\n",
       "      <td>2020-10-26 13:13:57</td>\n",
       "      <td>469</td>\n",
       "      <td>0</td>\n",
       "      <td>0</td>\n",
       "      <td>0.431119</td>\n",
       "      <td>717.0</td>\n",
       "      <td>1035</td>\n",
       "      <td>0.692754</td>\n",
       "      <td>4</td>\n",
       "      <td>0.658649</td>\n",
       "      <td>46.0</td>\n",
       "      <td>0.528000</td>\n",
       "      <td>4.0</td>\n",
       "    </tr>\n",
       "    <tr>\n",
       "      <th>2268292</th>\n",
       "      <td>4</td>\n",
       "      <td>7748</td>\n",
       "      <td>A070000146</td>\n",
       "      <td>-1</td>\n",
       "      <td>2020-12-27 02:47:54</td>\n",
       "      <td>781</td>\n",
       "      <td>0</td>\n",
       "      <td>0</td>\n",
       "      <td>0.508981</td>\n",
       "      <td>465.0</td>\n",
       "      <td>670</td>\n",
       "      <td>0.694030</td>\n",
       "      <td>6</td>\n",
       "      <td>0.521167</td>\n",
       "      <td>23.0</td>\n",
       "      <td>0.560000</td>\n",
       "      <td>4.0</td>\n",
       "    </tr>\n",
       "    <tr>\n",
       "      <th>2269609</th>\n",
       "      <td>13</td>\n",
       "      <td>7484</td>\n",
       "      <td>A070000111</td>\n",
       "      <td>-1</td>\n",
       "      <td>2020-12-27 04:35:09</td>\n",
       "      <td>820</td>\n",
       "      <td>0</td>\n",
       "      <td>0</td>\n",
       "      <td>0.307210</td>\n",
       "      <td>915.0</td>\n",
       "      <td>1316</td>\n",
       "      <td>0.695289</td>\n",
       "      <td>6</td>\n",
       "      <td>0.521167</td>\n",
       "      <td>8.0</td>\n",
       "      <td>0.364000</td>\n",
       "      <td>2.0</td>\n",
       "    </tr>\n",
       "    <tr>\n",
       "      <th>2270869</th>\n",
       "      <td>17</td>\n",
       "      <td>9381</td>\n",
       "      <td>A090000064</td>\n",
       "      <td>-1</td>\n",
       "      <td>2020-10-30 05:48:37</td>\n",
       "      <td>309</td>\n",
       "      <td>0</td>\n",
       "      <td>0</td>\n",
       "      <td>0.447042</td>\n",
       "      <td>1031.0</td>\n",
       "      <td>1259</td>\n",
       "      <td>0.818904</td>\n",
       "      <td>8</td>\n",
       "      <td>0.454470</td>\n",
       "      <td>75.0</td>\n",
       "      <td>0.260000</td>\n",
       "      <td>5.0</td>\n",
       "    </tr>\n",
       "    <tr>\n",
       "      <th>2271256</th>\n",
       "      <td>26</td>\n",
       "      <td>6231</td>\n",
       "      <td>A060000135</td>\n",
       "      <td>-1</td>\n",
       "      <td>2020-10-23 11:44:18</td>\n",
       "      <td>183</td>\n",
       "      <td>0</td>\n",
       "      <td>0</td>\n",
       "      <td>0.247744</td>\n",
       "      <td>293.0</td>\n",
       "      <td>386</td>\n",
       "      <td>0.759067</td>\n",
       "      <td>5</td>\n",
       "      <td>0.711898</td>\n",
       "      <td>17.0</td>\n",
       "      <td>0.308000</td>\n",
       "      <td>3.0</td>\n",
       "    </tr>\n",
       "    <tr>\n",
       "      <th>2272110</th>\n",
       "      <td>29</td>\n",
       "      <td>1967</td>\n",
       "      <td>A020000190</td>\n",
       "      <td>-1</td>\n",
       "      <td>2020-10-22 04:38:45</td>\n",
       "      <td>680</td>\n",
       "      <td>0</td>\n",
       "      <td>0</td>\n",
       "      <td>0.867810</td>\n",
       "      <td>723.0</td>\n",
       "      <td>853</td>\n",
       "      <td>0.847597</td>\n",
       "      <td>1</td>\n",
       "      <td>0.737515</td>\n",
       "      <td>30.0</td>\n",
       "      <td>0.706667</td>\n",
       "      <td>4.0</td>\n",
       "    </tr>\n",
       "    <tr>\n",
       "      <th>2273194</th>\n",
       "      <td>45</td>\n",
       "      <td>3759</td>\n",
       "      <td>A040000136</td>\n",
       "      <td>-1</td>\n",
       "      <td>2020-10-23 08:24:19</td>\n",
       "      <td>276</td>\n",
       "      <td>0</td>\n",
       "      <td>0</td>\n",
       "      <td>0.677722</td>\n",
       "      <td>746.0</td>\n",
       "      <td>1083</td>\n",
       "      <td>0.688827</td>\n",
       "      <td>3</td>\n",
       "      <td>0.679714</td>\n",
       "      <td>4.0</td>\n",
       "      <td>0.603333</td>\n",
       "      <td>1.0</td>\n",
       "    </tr>\n",
       "    <tr>\n",
       "      <th>2273887</th>\n",
       "      <td>53</td>\n",
       "      <td>3779</td>\n",
       "      <td>A040000140</td>\n",
       "      <td>-1</td>\n",
       "      <td>2020-10-26 09:13:20</td>\n",
       "      <td>279</td>\n",
       "      <td>0</td>\n",
       "      <td>0</td>\n",
       "      <td>0.040234</td>\n",
       "      <td>362.0</td>\n",
       "      <td>692</td>\n",
       "      <td>0.523121</td>\n",
       "      <td>3</td>\n",
       "      <td>0.679714</td>\n",
       "      <td>20.0</td>\n",
       "      <td>0.366667</td>\n",
       "      <td>2.0</td>\n",
       "    </tr>\n",
       "    <tr>\n",
       "      <th>2274698</th>\n",
       "      <td>58</td>\n",
       "      <td>7847</td>\n",
       "      <td>A070000159</td>\n",
       "      <td>-1</td>\n",
       "      <td>2020-12-24 21:09:29</td>\n",
       "      <td>792</td>\n",
       "      <td>0</td>\n",
       "      <td>0</td>\n",
       "      <td>0.182091</td>\n",
       "      <td>295.0</td>\n",
       "      <td>810</td>\n",
       "      <td>0.364198</td>\n",
       "      <td>6</td>\n",
       "      <td>0.521167</td>\n",
       "      <td>2.0</td>\n",
       "      <td>0.384000</td>\n",
       "      <td>0.0</td>\n",
       "    </tr>\n",
       "    <tr>\n",
       "      <th>2275968</th>\n",
       "      <td>64</td>\n",
       "      <td>7748</td>\n",
       "      <td>A070000146</td>\n",
       "      <td>-1</td>\n",
       "      <td>2020-12-29 04:30:22</td>\n",
       "      <td>781</td>\n",
       "      <td>0</td>\n",
       "      <td>0</td>\n",
       "      <td>0.755090</td>\n",
       "      <td>1058.0</td>\n",
       "      <td>1269</td>\n",
       "      <td>0.833727</td>\n",
       "      <td>6</td>\n",
       "      <td>0.521167</td>\n",
       "      <td>2.0</td>\n",
       "      <td>0.560000</td>\n",
       "      <td>5.0</td>\n",
       "    </tr>\n",
       "  </tbody>\n",
       "</table>\n",
       "</div>"
      ],
      "text/plain": [
       "         userID  assessmentItemID      testId  answerCode           Timestamp  \\\n",
       "2267621       3              4965  A050000133          -1 2020-10-26 13:13:57   \n",
       "2268292       4              7748  A070000146          -1 2020-12-27 02:47:54   \n",
       "2269609      13              7484  A070000111          -1 2020-12-27 04:35:09   \n",
       "2270869      17              9381  A090000064          -1 2020-10-30 05:48:37   \n",
       "2271256      26              6231  A060000135          -1 2020-10-23 11:44:18   \n",
       "2272110      29              1967  A020000190          -1 2020-10-22 04:38:45   \n",
       "2273194      45              3759  A040000136          -1 2020-10-23 08:24:19   \n",
       "2273887      53              3779  A040000140          -1 2020-10-26 09:13:20   \n",
       "2274698      58              7847  A070000159          -1 2020-12-24 21:09:29   \n",
       "2275968      64              7748  A070000146          -1 2020-12-29 04:30:22   \n",
       "\n",
       "         KnowledgeTag  train  left_asymptote       elo  user_correct_answer  \\\n",
       "2267621           469      0               0  0.431119                717.0   \n",
       "2268292           781      0               0  0.508981                465.0   \n",
       "2269609           820      0               0  0.307210                915.0   \n",
       "2270869           309      0               0  0.447042               1031.0   \n",
       "2271256           183      0               0  0.247744                293.0   \n",
       "2272110           680      0               0  0.867810                723.0   \n",
       "2273194           276      0               0  0.677722                746.0   \n",
       "2273887           279      0               0  0.040234                362.0   \n",
       "2274698           792      0               0  0.182091                295.0   \n",
       "2275968           781      0               0  0.755090               1058.0   \n",
       "\n",
       "         user_total_answer  user_acc  Bigcat  Bigcat_avg  elapsed  item_avg  \\\n",
       "2267621               1035  0.692754       4    0.658649     46.0  0.528000   \n",
       "2268292                670  0.694030       6    0.521167     23.0  0.560000   \n",
       "2269609               1316  0.695289       6    0.521167      8.0  0.364000   \n",
       "2270869               1259  0.818904       8    0.454470     75.0  0.260000   \n",
       "2271256                386  0.759067       5    0.711898     17.0  0.308000   \n",
       "2272110                853  0.847597       1    0.737515     30.0  0.706667   \n",
       "2273194               1083  0.688827       3    0.679714      4.0  0.603333   \n",
       "2273887                692  0.523121       3    0.679714     20.0  0.366667   \n",
       "2274698                810  0.364198       6    0.521167      2.0  0.384000   \n",
       "2275968               1269  0.833727       6    0.521167      2.0  0.560000   \n",
       "\n",
       "         answer_cnt  \n",
       "2267621         4.0  \n",
       "2268292         4.0  \n",
       "2269609         2.0  \n",
       "2270869         5.0  \n",
       "2271256         3.0  \n",
       "2272110         4.0  \n",
       "2273194         1.0  \n",
       "2273887         2.0  \n",
       "2274698         0.0  \n",
       "2275968         5.0  "
      ]
     },
     "execution_count": 19,
     "metadata": {},
     "output_type": "execute_result"
    }
   ],
   "source": [
    "# # LOAD TESTDATA\n",
    "# test_csv_file_path = os.path.join(data_dir, 'test_data.csv')\n",
    "# test_df = pd.read_csv(test_csv_file_path)\n",
    "\n",
    "# # FEATURE ENGINEERING\n",
    "# test_df = feature_engineering(test_df)\n",
    "\n",
    "# # LEAVE LAST INTERACTION ONLY\n",
    "# test_df = test_df[test_df['userID'] != test_df['userID'].shift(-1)]\n",
    "\n",
    "# submission = submission[FEATS]\n",
    "submission.head(10)\n",
    "\n",
    "\n",
    "# # DROP ANSWERCODE\n",
    "# test_df = test_df.drop(['answerCode'], axis=1)"
   ]
  },
  {
   "cell_type": "code",
   "execution_count": 20,
   "metadata": {
    "ExecuteTime": {
     "end_time": "2021-05-24T09:49:29.692739Z",
     "start_time": "2021-05-24T09:49:28.993Z"
    },
    "id": "XnwXJs_shfQ4"
   },
   "outputs": [
    {
     "data": {
      "text/plain": [
       "array([0.64841384, 0.75525796, 0.20916943, 0.63946396, 0.16276938,\n",
       "       0.8261331 , 0.10122847, 0.13359335, 0.17195348, 0.90329576],\n",
       "      dtype=float32)"
      ]
     },
     "execution_count": 20,
     "metadata": {},
     "output_type": "execute_result"
    }
   ],
   "source": [
    "# MAKE PREDICTION\n",
    "total_preds = model.predict_proba(submission[FEATS])[:,1]\n",
    "total_preds[:10]"
   ]
  },
  {
   "cell_type": "code",
   "execution_count": 21,
   "metadata": {
    "ExecuteTime": {
     "end_time": "2021-05-24T09:49:29.694736Z",
     "start_time": "2021-05-24T09:49:28.995Z"
    },
    "id": "f8PvohzwhfQ4"
   },
   "outputs": [
    {
     "name": "stdout",
     "output_type": "stream",
     "text": [
      "writing prediction : output/xgbdartkfold_submission.csv\n"
     ]
    }
   ],
   "source": [
    "# SAVE OUTPUT\n",
    "output_dir = 'output/'\n",
    "write_path = os.path.join(output_dir, \"xgbdartkfold_submission.csv\")\n",
    "if not os.path.exists(output_dir):\n",
    "    os.makedirs(output_dir)\n",
    "with open(write_path, 'w', encoding='utf8') as w:\n",
    "    print(\"writing prediction : {}\".format(write_path))\n",
    "    w.write(\"id,prediction\\n\")\n",
    "    for id, p in enumerate(total_preds):\n",
    "        w.write('{},{}\\n'.format(id,p))"
   ]
  },
  {
   "cell_type": "markdown",
   "metadata": {
    "id": "eAW3-StWRFOK"
   },
   "source": [
    "###**콘텐츠 라이선스**\n",
    "\n",
    "<font color='red'><b>**WARNING**</b></font> : **본 교육 콘텐츠의 지식재산권은 재단법인 네이버커넥트에 귀속됩니다. 본 콘텐츠를 어떠한 경로로든 외부로 유출 및 수정하는 행위를 엄격히 금합니다.** 다만, 비영리적 교육 및 연구활동에 한정되어 사용할 수 있으나 재단의 허락을 받아야 합니다. 이를 위반하는 경우, 관련 법률에 따라 책임을 질 수 있습니다.\n",
    "\n"
   ]
  }
 ],
 "metadata": {
  "colab": {
   "collapsed_sections": [],
   "provenance": []
  },
  "kernelspec": {
   "display_name": "Python 3",
   "language": "python",
   "name": "python3"
  },
  "language_info": {
   "codemirror_mode": {
    "name": "ipython",
    "version": 3
   },
   "file_extension": ".py",
   "mimetype": "text/x-python",
   "name": "python",
   "nbconvert_exporter": "python",
   "pygments_lexer": "ipython3",
   "version": "3.10.8 (tags/v3.10.8:aaaf517, Oct 11 2022, 16:50:30) [MSC v.1933 64 bit (AMD64)]"
  },
  "toc": {
   "base_numbering": 1,
   "nav_menu": {},
   "number_sections": false,
   "sideBar": true,
   "skip_h1_title": false,
   "title_cell": "Table of Contents",
   "title_sidebar": "Contents",
   "toc_cell": false,
   "toc_position": {},
   "toc_section_display": true,
   "toc_window_display": true
  },
  "vscode": {
   "interpreter": {
    "hash": "25ff2d738d3957064ea91cd0e6c93db6032917ef47308ad7e0350e1d8f9ec926"
   }
  }
 },
 "nbformat": 4,
 "nbformat_minor": 4
}
