{
 "cells": [
  {
   "cell_type": "markdown",
   "metadata": {
    "id": "yt7sDAqHhfQp"
   },
   "source": [
    "# XGB 베이스라인"
   ]
  },
  {
   "cell_type": "code",
   "execution_count": 10,
   "metadata": {
    "ExecuteTime": {
     "end_time": "2021-05-24T09:49:29.375544Z",
     "start_time": "2021-05-24T09:49:28.999092Z"
    },
    "id": "Uq_TJqbdhfQu"
   },
   "outputs": [],
   "source": [
    "import pandas as pd\n",
    "import os\n",
    "import random\n",
    "import numpy as np\n",
    "\n",
    "import lightgbm as lgb\n",
    "from sklearn.metrics import roc_auc_score\n",
    "from sklearn.metrics import accuracy_score\n",
    "from sklearn.preprocessing import LabelEncoder\n",
    "import wandb \n",
    "from tqdm import tqdm\n",
    "from xgboost import XGBClassifier\n",
    "from xgboost import plot_importance"
   ]
  },
  {
   "cell_type": "code",
   "execution_count": 12,
   "metadata": {},
   "outputs": [],
   "source": [
    "pd.options.display.max_columns = 100"
   ]
  },
  {
   "cell_type": "markdown",
   "metadata": {
    "id": "QZlm5HSmhfQv"
   },
   "source": [
    "## 1. 데이터 로딩"
   ]
  },
  {
   "cell_type": "code",
   "execution_count": 14,
   "metadata": {},
   "outputs": [],
   "source": [
    "#wandb.login()"
   ]
  },
  {
   "cell_type": "code",
   "execution_count": 15,
   "metadata": {
    "ExecuteTime": {
     "end_time": "2021-05-24T09:49:29.678737Z",
     "start_time": "2021-05-24T09:49:29.376581Z"
    },
    "id": "s6qgJ8MLhfQw"
   },
   "outputs": [],
   "source": [
    "data_dir = '/opt/ml/input/data/' # 경로는 상황에 맞춰서 수정해주세요!\n",
    "\n",
    "# LOAD TRAINDATA\n",
    "csv_file_path = os.path.join(data_dir, 'train_data.csv') # 데이터는 대회홈페이지에서 받아주세요 :)\n",
    "train_data = pd.read_csv(csv_file_path)\n",
    "\n",
    "# LOAD TESTDATA\n",
    "test_csv_file_path = os.path.join(data_dir, 'test_data.csv')\n",
    "test_data = pd.read_csv(test_csv_file_path)\n",
    "# test_data['answerCode'] = test_data['answerCode'].replace(-1, np.nan)\n",
    "\n",
    "# # LEAVE LAST INTERACTION ONLY\n",
    "# train_df = test_df[test_df['userID'] == test_df['userID'].shift(-1)]\n",
    "# test_df = test_df[test_df['userID'] != test_df['userID'].shift(-1)]\n",
    "\n",
    "# df = pd.concat([df, train_df], ignore_index=True)"
   ]
  },
  {
   "cell_type": "markdown",
   "metadata": {
    "id": "p_oCGAgEhfQw"
   },
   "source": [
    "## 2. Feature Engineering"
   ]
  },
  {
   "cell_type": "code",
   "execution_count": 16,
   "metadata": {
    "ExecuteTime": {
     "end_time": "2021-05-24T09:49:29.682739Z",
     "start_time": "2021-05-24T09:49:28.979Z"
    },
    "id": "URNLoukChfQx"
   },
   "outputs": [],
   "source": [
    "def feature_engineering(train, test):\n",
    "    ## train, test data concat\n",
    "    train['train'] = 1\n",
    "    test['train'] = 0\n",
    "    total = pd.concat([train, test], ignore_index=True)\n",
    "    # total['answerCode'] = total['answerCode'].fillna(0.5)\n",
    "    total = elo(total)\n",
    "    \n",
    "    ## 유저별 시퀀스를 고려하기 위해 아래와 같이 정렬\n",
    "    total.sort_values(by=['userID','Timestamp'], inplace=True)\n",
    "    total['Timestamp'] = pd.to_datetime(total['Timestamp'])\n",
    "    \n",
    "    total['assessmentItemID'] = total['assessmentItemID'].astype('category')\n",
    "    total['KnowledgeTag'] = total['KnowledgeTag'].astype('category')\n",
    "    \n",
    "    total['Bigcat'] = total['testId'].str[2]\n",
    "    total['Bigcat'] = total['Bigcat'].astype('category')\n",
    "    total['Bigcat_avg'] = total.groupby('Bigcat')['answerCode'].transform('mean')\n",
    "    \n",
    "    # total['past_count'] = total.groupby('userID').cumcount()\n",
    "    \n",
    "    diff = total.loc[:, ['userID', 'Timestamp']].groupby('userID').diff().fillna(pd.Timedelta(seconds=0))\n",
    "    diff = diff.fillna(pd.Timedelta(seconds=0))\n",
    "    diff = diff['Timestamp'].apply(lambda x: x.total_seconds())\n",
    "    total['elapsed'] = diff\n",
    "\n",
    "    categories = [\"assessmentItemID\",'KnowledgeTag',\"Bigcat\"]\n",
    "\n",
    "    # # label encode your categorical columns\n",
    "    le = LabelEncoder()\n",
    "    for category in categories:\n",
    "        total[category] = le.fit_transform(total[category])\n",
    "    # total['Bigcat'] = le.fit_transform(total[category])\n",
    "\n",
    "    ## train, test 나누어서 return\n",
    "    train_df = total[total['train']==1]\n",
    "    test_df = total[total['train']==0]\n",
    "    test_df = test_df[test_df['userID'] != test_df['userID'].shift(-1)]\n",
    "    \n",
    "    \n",
    "    return train_df, test_df"
   ]
  },
  {
   "cell_type": "code",
   "execution_count": 17,
   "metadata": {
    "ExecuteTime": {
     "end_time": "2021-05-24T09:49:29.684739Z",
     "start_time": "2021-05-24T09:49:28.982Z"
    },
    "id": "YOPWK7ckhfQz"
   },
   "outputs": [],
   "source": [
    "# train과 test 데이터셋은 사용자 별로 묶어서 분리를 해주어야함\n",
    "random.seed(42)\n",
    "def custom_train_test_split(df, ratio=0.7, split=True):\n",
    "    \n",
    "    users = list(zip(df['userID'].value_counts().index, df['userID'].value_counts()))\n",
    "    random.shuffle(users)\n",
    "    \n",
    "    max_train_data_len = ratio*len(df)\n",
    "    sum_of_train_data = 0\n",
    "    user_ids =[]\n",
    "\n",
    "    for user_id, count in users:\n",
    "        sum_of_train_data += count\n",
    "        if max_train_data_len < sum_of_train_data:\n",
    "            break\n",
    "        user_ids.append(user_id)\n",
    "\n",
    "\n",
    "    train = df[df['userID'].isin(user_ids)]\n",
    "    test = df[df['userID'].isin(user_ids) == False]\n",
    "\n",
    "    #test데이터셋은 각 유저의 마지막 interaction만 추출\n",
    "    test = test[test['userID'] != test['userID'].shift(-1)]\n",
    "    return train, test"
   ]
  },
  {
   "cell_type": "code",
   "execution_count": 18,
   "metadata": {},
   "outputs": [],
   "source": [
    "def elo(df):\n",
    "    def get_new_theta(is_good_answer, beta, left_asymptote, theta, nb_previous_answers):\n",
    "        return theta + learning_rate_theta(nb_previous_answers) * (\n",
    "            is_good_answer - probability_of_good_answer(theta, beta, left_asymptote)\n",
    "        )\n",
    "\n",
    "    def get_new_beta(is_good_answer, beta, left_asymptote, theta, nb_previous_answers):\n",
    "        return beta - learning_rate_beta(nb_previous_answers) * (\n",
    "            is_good_answer - probability_of_good_answer(theta, beta, left_asymptote)\n",
    "        )\n",
    "\n",
    "    def learning_rate_theta(nb_answers):\n",
    "        return max(0.3 / (1 + 0.01 * nb_answers), 0.04)\n",
    "\n",
    "    def learning_rate_beta(nb_answers):\n",
    "        return 1 / (1 + 0.05 * nb_answers)\n",
    "\n",
    "    def probability_of_good_answer(theta, beta, left_asymptote):\n",
    "        return left_asymptote + (1 - left_asymptote) * sigmoid(theta - beta)\n",
    "\n",
    "    def sigmoid(x):\n",
    "        return 1 / (1 + np.exp(-x))\n",
    "\n",
    "    def estimate_parameters(answers_df, granularity_feature_name=\"assessmentItemID\"):\n",
    "        item_parameters = {\n",
    "            granularity_feature_value: {\"beta\": 0, \"nb_answers\": 0}\n",
    "            for granularity_feature_value in np.unique(\n",
    "                answers_df[granularity_feature_name]\n",
    "            )\n",
    "        }\n",
    "        student_parameters = {\n",
    "            student_id: {\"theta\": 0, \"nb_answers\": 0}\n",
    "            for student_id in np.unique(answers_df.userID)\n",
    "        }\n",
    "\n",
    "        print(\"Parameter estimation is starting...\", flush=True)\n",
    "\n",
    "        for student_id, item_id, left_asymptote, answered_correctly in tqdm(\n",
    "            zip(\n",
    "                answers_df.userID.values,\n",
    "                answers_df[granularity_feature_name].values,\n",
    "                answers_df.left_asymptote.values,\n",
    "                answers_df.answerCode.values,\n",
    "            ),\n",
    "            total=len(answers_df),\n",
    "        ):\n",
    "            theta = student_parameters[student_id][\"theta\"]\n",
    "            beta = item_parameters[item_id][\"beta\"]\n",
    "\n",
    "            item_parameters[item_id][\"beta\"] = get_new_beta(\n",
    "                answered_correctly,\n",
    "                beta,\n",
    "                left_asymptote,\n",
    "                theta,\n",
    "                item_parameters[item_id][\"nb_answers\"],\n",
    "            )\n",
    "            student_parameters[student_id][\"theta\"] = get_new_theta(\n",
    "                answered_correctly,\n",
    "                beta,\n",
    "                left_asymptote,\n",
    "                theta,\n",
    "                student_parameters[student_id][\"nb_answers\"],\n",
    "            )\n",
    "\n",
    "            item_parameters[item_id][\"nb_answers\"] += 1\n",
    "            student_parameters[student_id][\"nb_answers\"] += 1\n",
    "\n",
    "        print(f\"Theta & beta estimations on {granularity_feature_name} are completed.\")\n",
    "        return student_parameters, item_parameters\n",
    "\n",
    "    def gou_func(theta, beta):\n",
    "        return 1 / (1 + np.exp(-(theta - beta)))\n",
    "\n",
    "    df[\"left_asymptote\"] = 0\n",
    "\n",
    "    print(f\"Dataset of shape {df.shape}\")\n",
    "    print(f\"Columns are {list(df.columns)}\")\n",
    "\n",
    "    student_parameters, item_parameters = estimate_parameters(df)\n",
    "\n",
    "    prob = [\n",
    "        gou_func(student_parameters[student][\"theta\"], item_parameters[item][\"beta\"])\n",
    "        for student, item in zip(df.userID.values, df.assessmentItemID.values)\n",
    "    ]\n",
    "\n",
    "    df[\"elo\"] = prob\n",
    "\n",
    "    return df"
   ]
  },
  {
   "cell_type": "markdown",
   "metadata": {},
   "source": [
    "## 3. Train/Test 데이터 셋 분리"
   ]
  },
  {
   "cell_type": "code",
   "execution_count": 19,
   "metadata": {},
   "outputs": [
    {
     "name": "stdout",
     "output_type": "stream",
     "text": [
      "Dataset of shape (2526700, 8)\n",
      "Columns are ['userID', 'assessmentItemID', 'testId', 'answerCode', 'Timestamp', 'KnowledgeTag', 'train', 'left_asymptote']\n",
      "Parameter estimation is starting...\n"
     ]
    },
    {
     "name": "stderr",
     "output_type": "stream",
     "text": [
      "100%|██████████| 2526700/2526700 [00:16<00:00, 155566.00it/s]\n"
     ]
    },
    {
     "name": "stdout",
     "output_type": "stream",
     "text": [
      "Theta & beta estimations on assessmentItemID are completed.\n",
      "Index(['userID', 'assessmentItemID', 'testId', 'answerCode', 'Timestamp',\n",
      "       'KnowledgeTag', 'train', 'left_asymptote', 'elo', 'Bigcat',\n",
      "       'Bigcat_avg', 'elapsed'],\n",
      "      dtype='object')\n"
     ]
    }
   ],
   "source": [
    "# wandb.init(project=\"LGBM\", config= config)\n",
    "\n",
    "df, submission = feature_engineering(train_data, test_data)\n",
    "# df = elo(df)\n",
    "\n",
    "# 유저별 분리\n",
    "train, test = custom_train_test_split(df)\n",
    "print(train.columns)\n",
    "\n",
    "# 사용할 Feature 설정\n",
    "# FEATS = ['KnowledgeTag', 'user_correct_answer', 'user_total_answer', \n",
    "#          'user_acc', 'test_mean', 'test_sum', 'tag_mean','tag_sum', 'elapsed','Bigcat','smallcat']\n",
    "# FEATS = ['KnowledgeTag', 'user_correct_answer', 'user_total_answer', \n",
    "#          'user_acc', 'test_mean', 'test_sum', 'tag_mean','tag_sum', 'elapsed', 'Bigcat', 'smallcat', 'item_num', 'item_seq', 'solved_time_shift']\n",
    "# FEATS = ['KnowledgeTag', 'same_item_cnt', 'user_avg', 'item_avg', 'test_avg', 'tag_avg', 'user_time_avg', 'item_time_avg',\n",
    "#        'test_time_avg', 'tag_time_avg', 'user_current_avg', 'user_current_time_avg', 'hour', 'item_num', 'Bigcat','Bigcat_avg']\n",
    "\n",
    "FEATS = ['assessmentItemID', 'KnowledgeTag','Bigcat_avg','elapsed','elo']\n",
    "# FEATS = ['KnowledgeTag', 'same_item_cnt', 'user_avg', 'item_avg', 'test_avg', 'tag_avg']\n",
    "\n",
    "# X, y 값 분리\n",
    "y_train = train['answerCode']\n",
    "train = train.drop(['answerCode'], axis=1)\n",
    "\n",
    "y_test = test['answerCode']\n",
    "test = test.drop(['answerCode'], axis=1)"
   ]
  },
  {
   "cell_type": "code",
   "execution_count": 20,
   "metadata": {},
   "outputs": [
    {
     "name": "stderr",
     "output_type": "stream",
     "text": [
      "/opt/conda/envs/dkt/lib/python3.10/site-packages/xgboost/sklearn.py:861: UserWarning: `early_stopping_rounds` in `fit` method is deprecated for better compatibility with scikit-learn, use `early_stopping_rounds` in constructor or`set_params` instead.\n",
      "  warnings.warn(\n"
     ]
    },
    {
     "name": "stdout",
     "output_type": "stream",
     "text": [
      "[0]\tvalidation_0-logloss:0.69031\n",
      "[5]\tvalidation_0-logloss:0.67698\n",
      "[10]\tvalidation_0-logloss:0.66482\n",
      "[15]\tvalidation_0-logloss:0.65372\n",
      "[20]\tvalidation_0-logloss:0.64358\n",
      "[25]\tvalidation_0-logloss:0.63430\n",
      "[30]\tvalidation_0-logloss:0.62577\n",
      "[35]\tvalidation_0-logloss:0.61793\n",
      "[40]\tvalidation_0-logloss:0.61075\n",
      "[45]\tvalidation_0-logloss:0.60410\n",
      "[50]\tvalidation_0-logloss:0.59798\n",
      "[55]\tvalidation_0-logloss:0.59240\n",
      "[60]\tvalidation_0-logloss:0.58726\n",
      "[65]\tvalidation_0-logloss:0.58253\n",
      "[69]\tvalidation_0-logloss:0.57901\n",
      "0.7558545092177379 0.8180013913734844\n"
     ]
    }
   ],
   "source": [
    "model = XGBClassifier(\n",
    "    objective=\"binary:logistic\",\n",
    "    booster=\"gbtree\",\n",
    "    learning_rate = 0.01,\n",
    "    max_depth=7,\n",
    "    min_child_weight=4,\n",
    "    n_estimators=70,\n",
    "    nthread=4,\n",
    "    random_state=42,\n",
    "    #enable_categorical=True\n",
    ")\n",
    "\n",
    "model.fit(train[FEATS], y_train,\n",
    "    eval_set=[(test[FEATS] , y_test)],\n",
    "    early_stopping_rounds=100,verbose=5)\n",
    "\n",
    "y_pred_train = model.predict_proba(train[FEATS])[:,1]\n",
    "y_pred_test = model.predict_proba(test[FEATS])[:,1]\n",
    "acc = accuracy_score(y_test, np.where(y_pred_test >= 0.5, 1, 0))\n",
    "auc = roc_auc_score( y_test,y_pred_test)\n",
    "print(acc, auc)"
   ]
  },
  {
   "cell_type": "code",
   "execution_count": 21,
   "metadata": {
    "ExecuteTime": {
     "end_time": "2021-05-24T09:49:29.689738Z",
     "start_time": "2021-05-24T09:49:28.988Z"
    },
    "id": "-6FZfjA_hfQ2"
   },
   "outputs": [],
   "source": [
    "# lgb_train = lgb.Dataset(train[FEATS], y_train)\n",
    "# lgb_test = lgb.Dataset(test[FEATS], y_test)\n",
    "\n",
    "# model = lgb.train(\n",
    "#     {'learning_rate': 0.001, \n",
    "#       'objective': 'binary', \n",
    "#       'metric': 'binary_logloss',\n",
    "#       'sub_feature': 0.5, \n",
    "#       'num_leaves': 10, \n",
    "#       'min_data': 50, \n",
    "#       'max_depth': 10}, \n",
    "#     lgb_train,\n",
    "#     valid_sets=[lgb_train, lgb_test],\n",
    "#     verbose_eval=100,\n",
    "#     num_boost_round=2000,\n",
    "#     early_stopping_rounds=100,\n",
    "#     callbacks=[wandb.lightgbm.wandb_callback()] \n",
    "# )\n",
    "\n",
    "# # wandb.lightgbm.log_summary(model, save_model_checkpoint=True)\n",
    "\n",
    "# preds = model.predict(test[FEATS])\n",
    "# acc = accuracy_score(y_test, np.where(preds >= 0.5, 1, 0))\n",
    "# auc = roc_auc_score(y_test, preds)\n",
    "# wandb.log({\"valid_accuracy\": acc})\n",
    "# wandb.log({\"valid_roc_auc\": auc})\n",
    "\n",
    "# print(f'VALID AUC : {auc} ACC : {acc}\\n')"
   ]
  },
  {
   "cell_type": "code",
   "execution_count": 22,
   "metadata": {},
   "outputs": [
    {
     "name": "stdout",
     "output_type": "stream",
     "text": [
      "Dataset of shape (2266586, 12)\n",
      "Columns are ['userID', 'assessmentItemID', 'testId', 'answerCode', 'Timestamp', 'KnowledgeTag', 'train', 'left_asymptote', 'elo', 'Bigcat', 'Bigcat_avg', 'elapsed']\n",
      "Parameter estimation is starting...\n"
     ]
    },
    {
     "name": "stderr",
     "output_type": "stream",
     "text": [
      "100%|██████████| 2266586/2266586 [00:15<00:00, 146410.26it/s]\n"
     ]
    },
    {
     "name": "stdout",
     "output_type": "stream",
     "text": [
      "Theta & beta estimations on assessmentItemID are completed.\n"
     ]
    }
   ],
   "source": [
    "a = elo(df)"
   ]
  },
  {
   "cell_type": "code",
   "execution_count": 23,
   "metadata": {},
   "outputs": [
    {
     "data": {
      "text/html": [
       "<div>\n",
       "<style scoped>\n",
       "    .dataframe tbody tr th:only-of-type {\n",
       "        vertical-align: middle;\n",
       "    }\n",
       "\n",
       "    .dataframe tbody tr th {\n",
       "        vertical-align: top;\n",
       "    }\n",
       "\n",
       "    .dataframe thead th {\n",
       "        text-align: right;\n",
       "    }\n",
       "</style>\n",
       "<table border=\"1\" class=\"dataframe\">\n",
       "  <thead>\n",
       "    <tr style=\"text-align: right;\">\n",
       "      <th></th>\n",
       "      <th>userID</th>\n",
       "      <th>assessmentItemID</th>\n",
       "      <th>elo</th>\n",
       "    </tr>\n",
       "  </thead>\n",
       "  <tbody>\n",
       "    <tr>\n",
       "      <th>1629640</th>\n",
       "      <td>2857</td>\n",
       "      <td>6048</td>\n",
       "      <td>0.002898</td>\n",
       "    </tr>\n",
       "    <tr>\n",
       "      <th>2208384</th>\n",
       "      <td>5887</td>\n",
       "      <td>4396</td>\n",
       "      <td>0.002899</td>\n",
       "    </tr>\n",
       "    <tr>\n",
       "      <th>1629633</th>\n",
       "      <td>2857</td>\n",
       "      <td>6035</td>\n",
       "      <td>0.002928</td>\n",
       "    </tr>\n",
       "    <tr>\n",
       "      <th>2208444</th>\n",
       "      <td>5887</td>\n",
       "      <td>7848</td>\n",
       "      <td>0.003557</td>\n",
       "    </tr>\n",
       "    <tr>\n",
       "      <th>2042613</th>\n",
       "      <td>4400</td>\n",
       "      <td>4981</td>\n",
       "      <td>0.003640</td>\n",
       "    </tr>\n",
       "    <tr>\n",
       "      <th>...</th>\n",
       "      <td>...</td>\n",
       "      <td>...</td>\n",
       "      <td>...</td>\n",
       "    </tr>\n",
       "    <tr>\n",
       "      <th>1708427</th>\n",
       "      <td>3069</td>\n",
       "      <td>1044</td>\n",
       "      <td>0.998301</td>\n",
       "    </tr>\n",
       "    <tr>\n",
       "      <th>1168609</th>\n",
       "      <td>1814</td>\n",
       "      <td>1044</td>\n",
       "      <td>0.998342</td>\n",
       "    </tr>\n",
       "    <tr>\n",
       "      <th>275286</th>\n",
       "      <td>373</td>\n",
       "      <td>1388</td>\n",
       "      <td>0.998382</td>\n",
       "    </tr>\n",
       "    <tr>\n",
       "      <th>1168738</th>\n",
       "      <td>1814</td>\n",
       "      <td>1388</td>\n",
       "      <td>0.998527</td>\n",
       "    </tr>\n",
       "    <tr>\n",
       "      <th>1257959</th>\n",
       "      <td>2000</td>\n",
       "      <td>1044</td>\n",
       "      <td>0.998598</td>\n",
       "    </tr>\n",
       "  </tbody>\n",
       "</table>\n",
       "<p>2266586 rows × 3 columns</p>\n",
       "</div>"
      ],
      "text/plain": [
       "         userID  assessmentItemID       elo\n",
       "1629640    2857              6048  0.002898\n",
       "2208384    5887              4396  0.002899\n",
       "1629633    2857              6035  0.002928\n",
       "2208444    5887              7848  0.003557\n",
       "2042613    4400              4981  0.003640\n",
       "...         ...               ...       ...\n",
       "1708427    3069              1044  0.998301\n",
       "1168609    1814              1044  0.998342\n",
       "275286      373              1388  0.998382\n",
       "1168738    1814              1388  0.998527\n",
       "1257959    2000              1044  0.998598\n",
       "\n",
       "[2266586 rows x 3 columns]"
      ]
     },
     "execution_count": 23,
     "metadata": {},
     "output_type": "execute_result"
    }
   ],
   "source": [
    "a[['userID','assessmentItemID','elo']].sort_values('elo')"
   ]
  },
  {
   "cell_type": "code",
   "execution_count": 24,
   "metadata": {},
   "outputs": [
    {
     "data": {
      "text/html": [
       "<div>\n",
       "<style scoped>\n",
       "    .dataframe tbody tr th:only-of-type {\n",
       "        vertical-align: middle;\n",
       "    }\n",
       "\n",
       "    .dataframe tbody tr th {\n",
       "        vertical-align: top;\n",
       "    }\n",
       "\n",
       "    .dataframe thead th {\n",
       "        text-align: right;\n",
       "    }\n",
       "</style>\n",
       "<table border=\"1\" class=\"dataframe\">\n",
       "  <thead>\n",
       "    <tr style=\"text-align: right;\">\n",
       "      <th></th>\n",
       "      <th>userID</th>\n",
       "      <th>assessmentItemID</th>\n",
       "      <th>testId</th>\n",
       "      <th>answerCode</th>\n",
       "      <th>Timestamp</th>\n",
       "      <th>KnowledgeTag</th>\n",
       "      <th>train</th>\n",
       "      <th>left_asymptote</th>\n",
       "      <th>elo</th>\n",
       "      <th>Bigcat</th>\n",
       "      <th>Bigcat_avg</th>\n",
       "      <th>elapsed</th>\n",
       "    </tr>\n",
       "  </thead>\n",
       "  <tbody>\n",
       "    <tr>\n",
       "      <th>0</th>\n",
       "      <td>0</td>\n",
       "      <td>5354</td>\n",
       "      <td>A060000001</td>\n",
       "      <td>1</td>\n",
       "      <td>2020-03-24 00:17:11</td>\n",
       "      <td>556</td>\n",
       "      <td>1</td>\n",
       "      <td>0</td>\n",
       "      <td>0.979350</td>\n",
       "      <td>5</td>\n",
       "      <td>0.711898</td>\n",
       "      <td>0.0</td>\n",
       "    </tr>\n",
       "    <tr>\n",
       "      <th>1</th>\n",
       "      <td>0</td>\n",
       "      <td>5355</td>\n",
       "      <td>A060000001</td>\n",
       "      <td>1</td>\n",
       "      <td>2020-03-24 00:17:14</td>\n",
       "      <td>557</td>\n",
       "      <td>1</td>\n",
       "      <td>0</td>\n",
       "      <td>0.970579</td>\n",
       "      <td>5</td>\n",
       "      <td>0.711898</td>\n",
       "      <td>3.0</td>\n",
       "    </tr>\n",
       "  </tbody>\n",
       "</table>\n",
       "</div>"
      ],
      "text/plain": [
       "   userID  assessmentItemID      testId  answerCode           Timestamp  \\\n",
       "0       0              5354  A060000001           1 2020-03-24 00:17:11   \n",
       "1       0              5355  A060000001           1 2020-03-24 00:17:14   \n",
       "\n",
       "   KnowledgeTag  train  left_asymptote       elo  Bigcat  Bigcat_avg  elapsed  \n",
       "0           556      1               0  0.979350       5    0.711898      0.0  \n",
       "1           557      1               0  0.970579       5    0.711898      3.0  "
      ]
     },
     "execution_count": 24,
     "metadata": {},
     "output_type": "execute_result"
    }
   ],
   "source": [
    "df[:2]"
   ]
  },
  {
   "cell_type": "code",
   "execution_count": 25,
   "metadata": {},
   "outputs": [],
   "source": [
    "pd.options.display.max_columns = 100"
   ]
  },
  {
   "cell_type": "code",
   "execution_count": 27,
   "metadata": {},
   "outputs": [
    {
     "data": {
      "text/plain": [
       "6698"
      ]
     },
     "execution_count": 27,
     "metadata": {},
     "output_type": "execute_result"
    }
   ],
   "source": [
    "df['userID'].nunique()"
   ]
  },
  {
   "cell_type": "code",
   "execution_count": 30,
   "metadata": {},
   "outputs": [
    {
     "data": {
      "text/html": [
       "<div>\n",
       "<style scoped>\n",
       "    .dataframe tbody tr th:only-of-type {\n",
       "        vertical-align: middle;\n",
       "    }\n",
       "\n",
       "    .dataframe tbody tr th {\n",
       "        vertical-align: top;\n",
       "    }\n",
       "\n",
       "    .dataframe thead th {\n",
       "        text-align: right;\n",
       "    }\n",
       "</style>\n",
       "<table border=\"1\" class=\"dataframe\">\n",
       "  <thead>\n",
       "    <tr style=\"text-align: right;\">\n",
       "      <th></th>\n",
       "      <th>userID</th>\n",
       "      <th>assessmentItemID</th>\n",
       "      <th>testId</th>\n",
       "      <th>answerCode</th>\n",
       "      <th>Timestamp</th>\n",
       "      <th>KnowledgeTag</th>\n",
       "      <th>train</th>\n",
       "      <th>left_asymptote</th>\n",
       "      <th>elo</th>\n",
       "      <th>Bigcat</th>\n",
       "      <th>Bigcat_avg</th>\n",
       "      <th>elapsed</th>\n",
       "    </tr>\n",
       "  </thead>\n",
       "  <tbody>\n",
       "    <tr>\n",
       "      <th>2267621</th>\n",
       "      <td>3</td>\n",
       "      <td>4965</td>\n",
       "      <td>A050000133</td>\n",
       "      <td>-1</td>\n",
       "      <td>2020-10-26 13:13:57</td>\n",
       "      <td>469</td>\n",
       "      <td>0</td>\n",
       "      <td>0</td>\n",
       "      <td>0.431119</td>\n",
       "      <td>4</td>\n",
       "      <td>0.658649</td>\n",
       "      <td>46.0</td>\n",
       "    </tr>\n",
       "    <tr>\n",
       "      <th>2268292</th>\n",
       "      <td>4</td>\n",
       "      <td>7748</td>\n",
       "      <td>A070000146</td>\n",
       "      <td>-1</td>\n",
       "      <td>2020-12-27 02:47:54</td>\n",
       "      <td>781</td>\n",
       "      <td>0</td>\n",
       "      <td>0</td>\n",
       "      <td>0.508981</td>\n",
       "      <td>6</td>\n",
       "      <td>0.521167</td>\n",
       "      <td>23.0</td>\n",
       "    </tr>\n",
       "  </tbody>\n",
       "</table>\n",
       "</div>"
      ],
      "text/plain": [
       "         userID  assessmentItemID      testId  answerCode           Timestamp  \\\n",
       "2267621       3              4965  A050000133          -1 2020-10-26 13:13:57   \n",
       "2268292       4              7748  A070000146          -1 2020-12-27 02:47:54   \n",
       "\n",
       "         KnowledgeTag  train  left_asymptote       elo  Bigcat  Bigcat_avg  \\\n",
       "2267621           469      0               0  0.431119       4    0.658649   \n",
       "2268292           781      0               0  0.508981       6    0.521167   \n",
       "\n",
       "         elapsed  \n",
       "2267621     46.0  \n",
       "2268292     23.0  "
      ]
     },
     "execution_count": 30,
     "metadata": {},
     "output_type": "execute_result"
    }
   ],
   "source": [
    "submission[:2]"
   ]
  },
  {
   "cell_type": "code",
   "execution_count": 29,
   "metadata": {},
   "outputs": [
    {
     "data": {
      "text/plain": [
       "Index(['userID', 'assessmentItemID', 'testId', 'answerCode', 'Timestamp',\n",
       "       'KnowledgeTag', 'train', 'left_asymptote', 'elo', 'Bigcat',\n",
       "       'Bigcat_avg', 'elapsed'],\n",
       "      dtype='object')"
      ]
     },
     "execution_count": 29,
     "metadata": {},
     "output_type": "execute_result"
    }
   ],
   "source": [
    "df.columns"
   ]
  },
  {
   "cell_type": "markdown",
   "metadata": {
    "id": "KiHss_BBhfQ2"
   },
   "source": [
    "## 4. 훈련 및 검증"
   ]
  },
  {
   "cell_type": "code",
   "execution_count": null,
   "metadata": {},
   "outputs": [],
   "source": []
  },
  {
   "cell_type": "markdown",
   "metadata": {
    "id": "8Bsff1ZVhfQ3"
   },
   "source": [
    "## 5. Inference"
   ]
  },
  {
   "cell_type": "code",
   "execution_count": null,
   "metadata": {
    "ExecuteTime": {
     "end_time": "2021-05-24T09:49:29.691738Z",
     "start_time": "2021-05-24T09:49:28.992Z"
    },
    "id": "N6YEFm8IhfQ3"
   },
   "outputs": [
    {
     "data": {
      "text/html": [
       "<div>\n",
       "<style scoped>\n",
       "    .dataframe tbody tr th:only-of-type {\n",
       "        vertical-align: middle;\n",
       "    }\n",
       "\n",
       "    .dataframe tbody tr th {\n",
       "        vertical-align: top;\n",
       "    }\n",
       "\n",
       "    .dataframe thead th {\n",
       "        text-align: right;\n",
       "    }\n",
       "</style>\n",
       "<table border=\"1\" class=\"dataframe\">\n",
       "  <thead>\n",
       "    <tr style=\"text-align: right;\">\n",
       "      <th></th>\n",
       "      <th>assessmentItemID</th>\n",
       "      <th>userID</th>\n",
       "      <th>testId</th>\n",
       "      <th>answerCode</th>\n",
       "      <th>Timestamp</th>\n",
       "      <th>KnowledgeTag</th>\n",
       "      <th>train</th>\n",
       "      <th>same_item_cnt</th>\n",
       "      <th>solved_time_shift</th>\n",
       "      <th>user_avg</th>\n",
       "      <th>...</th>\n",
       "      <th>test_std</th>\n",
       "      <th>tag_std</th>\n",
       "      <th>user_current_avg</th>\n",
       "      <th>user_current_time_avg</th>\n",
       "      <th>hour</th>\n",
       "      <th>month</th>\n",
       "      <th>item_num</th>\n",
       "      <th>item_seq</th>\n",
       "      <th>Bigcat</th>\n",
       "      <th>smallcat</th>\n",
       "    </tr>\n",
       "  </thead>\n",
       "  <tbody>\n",
       "    <tr>\n",
       "      <th>2989</th>\n",
       "      <td>A050133008</td>\n",
       "      <td>3</td>\n",
       "      <td>A050000133</td>\n",
       "      <td>NaN</td>\n",
       "      <td>2020-10-26 13:13:57</td>\n",
       "      <td>5289</td>\n",
       "      <td>0</td>\n",
       "      <td>1</td>\n",
       "      <td>NaN</td>\n",
       "      <td>0.692754</td>\n",
       "      <td>...</td>\n",
       "      <td>0.475380</td>\n",
       "      <td>0.496517</td>\n",
       "      <td>0.857143</td>\n",
       "      <td>45.142857</td>\n",
       "      <td>13</td>\n",
       "      <td>10</td>\n",
       "      <td>008</td>\n",
       "      <td>8</td>\n",
       "      <td>5</td>\n",
       "      <td>133</td>\n",
       "    </tr>\n",
       "    <tr>\n",
       "      <th>3660</th>\n",
       "      <td>A070146008</td>\n",
       "      <td>4</td>\n",
       "      <td>A070000146</td>\n",
       "      <td>NaN</td>\n",
       "      <td>2020-12-27 02:47:54</td>\n",
       "      <td>9080</td>\n",
       "      <td>0</td>\n",
       "      <td>1</td>\n",
       "      <td>NaN</td>\n",
       "      <td>0.694030</td>\n",
       "      <td>...</td>\n",
       "      <td>0.476573</td>\n",
       "      <td>0.497938</td>\n",
       "      <td>0.857143</td>\n",
       "      <td>24.571429</td>\n",
       "      <td>2</td>\n",
       "      <td>12</td>\n",
       "      <td>008</td>\n",
       "      <td>8</td>\n",
       "      <td>7</td>\n",
       "      <td>146</td>\n",
       "    </tr>\n",
       "    <tr>\n",
       "      <th>10860</th>\n",
       "      <td>A070111008</td>\n",
       "      <td>13</td>\n",
       "      <td>A070000111</td>\n",
       "      <td>NaN</td>\n",
       "      <td>2020-12-27 04:35:09</td>\n",
       "      <td>9660</td>\n",
       "      <td>0</td>\n",
       "      <td>1</td>\n",
       "      <td>NaN</td>\n",
       "      <td>0.695289</td>\n",
       "      <td>...</td>\n",
       "      <td>0.498249</td>\n",
       "      <td>0.500051</td>\n",
       "      <td>0.428571</td>\n",
       "      <td>14.857143</td>\n",
       "      <td>4</td>\n",
       "      <td>12</td>\n",
       "      <td>008</td>\n",
       "      <td>8</td>\n",
       "      <td>7</td>\n",
       "      <td>111</td>\n",
       "    </tr>\n",
       "    <tr>\n",
       "      <th>15278</th>\n",
       "      <td>A090064006</td>\n",
       "      <td>17</td>\n",
       "      <td>A090000064</td>\n",
       "      <td>NaN</td>\n",
       "      <td>2020-10-30 05:48:37</td>\n",
       "      <td>2611</td>\n",
       "      <td>0</td>\n",
       "      <td>1</td>\n",
       "      <td>NaN</td>\n",
       "      <td>0.818904</td>\n",
       "      <td>...</td>\n",
       "      <td>0.497463</td>\n",
       "      <td>0.493738</td>\n",
       "      <td>1.000000</td>\n",
       "      <td>76.000000</td>\n",
       "      <td>5</td>\n",
       "      <td>10</td>\n",
       "      <td>006</td>\n",
       "      <td>6</td>\n",
       "      <td>9</td>\n",
       "      <td>064</td>\n",
       "    </tr>\n",
       "    <tr>\n",
       "      <th>23531</th>\n",
       "      <td>A060135007</td>\n",
       "      <td>26</td>\n",
       "      <td>A060000135</td>\n",
       "      <td>NaN</td>\n",
       "      <td>2020-10-23 11:44:18</td>\n",
       "      <td>1422</td>\n",
       "      <td>0</td>\n",
       "      <td>1</td>\n",
       "      <td>NaN</td>\n",
       "      <td>0.759067</td>\n",
       "      <td>...</td>\n",
       "      <td>0.480030</td>\n",
       "      <td>0.487891</td>\n",
       "      <td>0.666667</td>\n",
       "      <td>45.833333</td>\n",
       "      <td>11</td>\n",
       "      <td>10</td>\n",
       "      <td>007</td>\n",
       "      <td>7</td>\n",
       "      <td>6</td>\n",
       "      <td>135</td>\n",
       "    </tr>\n",
       "    <tr>\n",
       "      <th>26895</th>\n",
       "      <td>A020190005</td>\n",
       "      <td>29</td>\n",
       "      <td>A020000190</td>\n",
       "      <td>NaN</td>\n",
       "      <td>2020-10-22 04:38:45</td>\n",
       "      <td>8097</td>\n",
       "      <td>0</td>\n",
       "      <td>1</td>\n",
       "      <td>NaN</td>\n",
       "      <td>0.847597</td>\n",
       "      <td>...</td>\n",
       "      <td>0.438876</td>\n",
       "      <td>0.453456</td>\n",
       "      <td>1.000000</td>\n",
       "      <td>26.000000</td>\n",
       "      <td>4</td>\n",
       "      <td>10</td>\n",
       "      <td>005</td>\n",
       "      <td>5</td>\n",
       "      <td>2</td>\n",
       "      <td>190</td>\n",
       "    </tr>\n",
       "    <tr>\n",
       "      <th>39887</th>\n",
       "      <td>A040136005</td>\n",
       "      <td>45</td>\n",
       "      <td>A040000136</td>\n",
       "      <td>NaN</td>\n",
       "      <td>2020-10-23 08:24:19</td>\n",
       "      <td>2107</td>\n",
       "      <td>0</td>\n",
       "      <td>1</td>\n",
       "      <td>NaN</td>\n",
       "      <td>0.688827</td>\n",
       "      <td>...</td>\n",
       "      <td>0.448255</td>\n",
       "      <td>0.457104</td>\n",
       "      <td>0.250000</td>\n",
       "      <td>25.000000</td>\n",
       "      <td>8</td>\n",
       "      <td>10</td>\n",
       "      <td>005</td>\n",
       "      <td>5</td>\n",
       "      <td>4</td>\n",
       "      <td>136</td>\n",
       "    </tr>\n",
       "    <tr>\n",
       "      <th>47628</th>\n",
       "      <td>A040140005</td>\n",
       "      <td>53</td>\n",
       "      <td>A040000140</td>\n",
       "      <td>NaN</td>\n",
       "      <td>2020-10-26 09:13:20</td>\n",
       "      <td>2110</td>\n",
       "      <td>0</td>\n",
       "      <td>1</td>\n",
       "      <td>NaN</td>\n",
       "      <td>0.523121</td>\n",
       "      <td>...</td>\n",
       "      <td>0.452402</td>\n",
       "      <td>0.452832</td>\n",
       "      <td>0.500000</td>\n",
       "      <td>10.250000</td>\n",
       "      <td>9</td>\n",
       "      <td>10</td>\n",
       "      <td>005</td>\n",
       "      <td>5</td>\n",
       "      <td>4</td>\n",
       "      <td>140</td>\n",
       "    </tr>\n",
       "    <tr>\n",
       "      <th>51927</th>\n",
       "      <td>A070159007</td>\n",
       "      <td>58</td>\n",
       "      <td>A070000159</td>\n",
       "      <td>NaN</td>\n",
       "      <td>2020-12-24 21:09:29</td>\n",
       "      <td>9122</td>\n",
       "      <td>0</td>\n",
       "      <td>1</td>\n",
       "      <td>NaN</td>\n",
       "      <td>0.364198</td>\n",
       "      <td>...</td>\n",
       "      <td>0.499640</td>\n",
       "      <td>0.482075</td>\n",
       "      <td>0.142857</td>\n",
       "      <td>1.857143</td>\n",
       "      <td>21</td>\n",
       "      <td>12</td>\n",
       "      <td>007</td>\n",
       "      <td>8</td>\n",
       "      <td>7</td>\n",
       "      <td>159</td>\n",
       "    </tr>\n",
       "    <tr>\n",
       "      <th>57352</th>\n",
       "      <td>A070146008</td>\n",
       "      <td>64</td>\n",
       "      <td>A070000146</td>\n",
       "      <td>NaN</td>\n",
       "      <td>2020-12-29 04:30:22</td>\n",
       "      <td>9080</td>\n",
       "      <td>0</td>\n",
       "      <td>1</td>\n",
       "      <td>NaN</td>\n",
       "      <td>0.833727</td>\n",
       "      <td>...</td>\n",
       "      <td>0.476573</td>\n",
       "      <td>0.497938</td>\n",
       "      <td>1.000000</td>\n",
       "      <td>1.714286</td>\n",
       "      <td>4</td>\n",
       "      <td>12</td>\n",
       "      <td>008</td>\n",
       "      <td>8</td>\n",
       "      <td>7</td>\n",
       "      <td>146</td>\n",
       "    </tr>\n",
       "  </tbody>\n",
       "</table>\n",
       "<p>10 rows × 30 columns</p>\n",
       "</div>"
      ],
      "text/plain": [
       "      assessmentItemID  userID      testId  answerCode           Timestamp  \\\n",
       "2989        A050133008       3  A050000133         NaN 2020-10-26 13:13:57   \n",
       "3660        A070146008       4  A070000146         NaN 2020-12-27 02:47:54   \n",
       "10860       A070111008      13  A070000111         NaN 2020-12-27 04:35:09   \n",
       "15278       A090064006      17  A090000064         NaN 2020-10-30 05:48:37   \n",
       "23531       A060135007      26  A060000135         NaN 2020-10-23 11:44:18   \n",
       "26895       A020190005      29  A020000190         NaN 2020-10-22 04:38:45   \n",
       "39887       A040136005      45  A040000136         NaN 2020-10-23 08:24:19   \n",
       "47628       A040140005      53  A040000140         NaN 2020-10-26 09:13:20   \n",
       "51927       A070159007      58  A070000159         NaN 2020-12-24 21:09:29   \n",
       "57352       A070146008      64  A070000146         NaN 2020-12-29 04:30:22   \n",
       "\n",
       "       KnowledgeTag  train  same_item_cnt  solved_time_shift  user_avg  ...  \\\n",
       "2989           5289      0              1                NaN  0.692754  ...   \n",
       "3660           9080      0              1                NaN  0.694030  ...   \n",
       "10860          9660      0              1                NaN  0.695289  ...   \n",
       "15278          2611      0              1                NaN  0.818904  ...   \n",
       "23531          1422      0              1                NaN  0.759067  ...   \n",
       "26895          8097      0              1                NaN  0.847597  ...   \n",
       "39887          2107      0              1                NaN  0.688827  ...   \n",
       "47628          2110      0              1                NaN  0.523121  ...   \n",
       "51927          9122      0              1                NaN  0.364198  ...   \n",
       "57352          9080      0              1                NaN  0.833727  ...   \n",
       "\n",
       "       test_std   tag_std  user_current_avg  user_current_time_avg  hour  \\\n",
       "2989   0.475380  0.496517          0.857143              45.142857    13   \n",
       "3660   0.476573  0.497938          0.857143              24.571429     2   \n",
       "10860  0.498249  0.500051          0.428571              14.857143     4   \n",
       "15278  0.497463  0.493738          1.000000              76.000000     5   \n",
       "23531  0.480030  0.487891          0.666667              45.833333    11   \n",
       "26895  0.438876  0.453456          1.000000              26.000000     4   \n",
       "39887  0.448255  0.457104          0.250000              25.000000     8   \n",
       "47628  0.452402  0.452832          0.500000              10.250000     9   \n",
       "51927  0.499640  0.482075          0.142857               1.857143    21   \n",
       "57352  0.476573  0.497938          1.000000               1.714286     4   \n",
       "\n",
       "       month  item_num  item_seq  Bigcat  smallcat  \n",
       "2989      10       008         8       5       133  \n",
       "3660      12       008         8       7       146  \n",
       "10860     12       008         8       7       111  \n",
       "15278     10       006         6       9       064  \n",
       "23531     10       007         7       6       135  \n",
       "26895     10       005         5       2       190  \n",
       "39887     10       005         5       4       136  \n",
       "47628     10       005         5       4       140  \n",
       "51927     12       007         8       7       159  \n",
       "57352     12       008         8       7       146  \n",
       "\n",
       "[10 rows x 30 columns]"
      ]
     },
     "execution_count": 101,
     "metadata": {},
     "output_type": "execute_result"
    }
   ],
   "source": [
    "# # LOAD TESTDATA\n",
    "# test_csv_file_path = os.path.join(data_dir, 'test_data.csv')\n",
    "# test_df = pd.read_csv(test_csv_file_path)\n",
    "\n",
    "# # FEATURE ENGINEERING\n",
    "# test_df = feature_engineering(test_df)\n",
    "\n",
    "# # LEAVE LAST INTERACTION ONLY\n",
    "# test_df = test_df[test_df['userID'] != test_df['userID'].shift(-1)]\n",
    "\n",
    "# submission = submission[FEATS]\n",
    "submission.head(10)\n",
    "\n",
    "\n",
    "# # DROP ANSWERCODE\n",
    "# test_df = test_df.drop(['answerCode'], axis=1)"
   ]
  },
  {
   "cell_type": "code",
   "execution_count": 32,
   "metadata": {
    "ExecuteTime": {
     "end_time": "2021-05-24T09:49:29.692739Z",
     "start_time": "2021-05-24T09:49:28.993Z"
    },
    "id": "XnwXJs_shfQ4"
   },
   "outputs": [
    {
     "data": {
      "text/plain": [
       "array([0.5309973 , 0.56643975, 0.38493556, 0.5535409 , 0.3897956 ,\n",
       "       0.6840572 , 0.3577807 , 0.29596797, 0.3402987 , 0.49149314],\n",
       "      dtype=float32)"
      ]
     },
     "execution_count": 32,
     "metadata": {},
     "output_type": "execute_result"
    }
   ],
   "source": [
    "# MAKE PREDICTION\n",
    "total_preds = model.predict_proba(submission[FEATS])[:,1]\n",
    "total_preds[:10]"
   ]
  },
  {
   "cell_type": "code",
   "execution_count": null,
   "metadata": {},
   "outputs": [],
   "source": [
    "# model: 이미 학습이 완료된 LGBMModel, or Booster\n",
    "# FEATURES: model 학습에 사용된 모든 features\n",
    "# PATH: 그림을 저장할 경로\n",
    "\n",
    "# SPLIT\n",
    "ax = plot_importance(model, max_num_features=len(FEATS), importance_type='split')\n",
    "ax.set(title=f'Feature Importance (split)',\n",
    "\txlabel='Feature Importance',\n",
    "\tylabel='Features')\n",
    "ax.figure.savefig(f'./output/fi_split.png', dpi=300)\n",
    "\n",
    "\n",
    "# GAIN\n",
    "ax = plot_importance(model, max_num_features=len(FEATS), importance_type='gain')\n",
    "ax.set(title=f'Feature Importance (gain)',\n",
    "\txlabel='Feature Importance',\n",
    "\tylabel='Features')\n",
    "ax.figure.savefig(f'./output/fi_gain.png', dpi=300)"
   ]
  },
  {
   "cell_type": "code",
   "execution_count": 35,
   "metadata": {
    "ExecuteTime": {
     "end_time": "2021-05-24T09:49:29.694736Z",
     "start_time": "2021-05-24T09:49:28.995Z"
    },
    "id": "f8PvohzwhfQ4"
   },
   "outputs": [
    {
     "name": "stdout",
     "output_type": "stream",
     "text": [
      "writing prediction : output/xgb1202_submission.csv\n"
     ]
    }
   ],
   "source": [
    "# SAVE OUTPUT\n",
    "output_dir = 'output/'\n",
    "write_path = os.path.join(output_dir, \"xgb1202_submission.csv\")\n",
    "if not os.path.exists(output_dir):\n",
    "    os.makedirs(output_dir)\n",
    "with open(write_path, 'w', encoding='utf8') as w:\n",
    "    print(\"writing prediction : {}\".format(write_path))\n",
    "    w.write(\"id,prediction\\n\")\n",
    "    for id, p in enumerate(total_preds):\n",
    "        w.write('{},{}\\n'.format(id,p))"
   ]
  },
  {
   "cell_type": "markdown",
   "metadata": {
    "id": "eAW3-StWRFOK"
   },
   "source": [
    "###**콘텐츠 라이선스**\n",
    "\n",
    "<font color='red'><b>**WARNING**</b></font> : **본 교육 콘텐츠의 지식재산권은 재단법인 네이버커넥트에 귀속됩니다. 본 콘텐츠를 어떠한 경로로든 외부로 유출 및 수정하는 행위를 엄격히 금합니다.** 다만, 비영리적 교육 및 연구활동에 한정되어 사용할 수 있으나 재단의 허락을 받아야 합니다. 이를 위반하는 경우, 관련 법률에 따라 책임을 질 수 있습니다.\n",
    "\n"
   ]
  }
 ],
 "metadata": {
  "colab": {
   "collapsed_sections": [],
   "provenance": []
  },
  "kernelspec": {
   "display_name": "Python 3 (ipykernel)",
   "language": "python",
   "name": "python3"
  },
  "language_info": {
   "codemirror_mode": {
    "name": "ipython",
    "version": 3
   },
   "file_extension": ".py",
   "mimetype": "text/x-python",
   "name": "python",
   "nbconvert_exporter": "python",
   "pygments_lexer": "ipython3",
   "version": "3.10.8"
  },
  "toc": {
   "base_numbering": 1,
   "nav_menu": {},
   "number_sections": false,
   "sideBar": true,
   "skip_h1_title": false,
   "title_cell": "Table of Contents",
   "title_sidebar": "Contents",
   "toc_cell": false,
   "toc_position": {},
   "toc_section_display": true,
   "toc_window_display": true
  },
  "vscode": {
   "interpreter": {
    "hash": "09d4b5de27b89318d6e35b29f9634657110a12e6b33fcea780feda7aad3e9c4b"
   }
  }
 },
 "nbformat": 4,
 "nbformat_minor": 4
}
