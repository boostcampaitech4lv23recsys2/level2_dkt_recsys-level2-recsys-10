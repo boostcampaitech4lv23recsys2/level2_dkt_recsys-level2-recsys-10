{
 "cells": [
  {
   "cell_type": "markdown",
   "metadata": {
    "id": "yt7sDAqHhfQp"
   },
   "source": [
    "# XGB 베이스라인"
   ]
  },
  {
   "cell_type": "code",
   "execution_count": 12,
   "metadata": {
    "ExecuteTime": {
     "end_time": "2021-05-24T09:49:29.375544Z",
     "start_time": "2021-05-24T09:49:28.999092Z"
    },
    "id": "Uq_TJqbdhfQu"
   },
   "outputs": [],
   "source": [
    "import pandas as pd\n",
    "import os\n",
    "import random\n",
    "import numpy as np\n",
    "\n",
    "import lightgbm as lgb\n",
    "from sklearn.metrics import roc_auc_score\n",
    "from sklearn.metrics import accuracy_score\n",
    "from sklearn.preprocessing import LabelEncoder\n",
    "from sklearn.model_selection import StratifiedKFold\n",
    "import wandb \n",
    "from tqdm import tqdm\n",
    "from xgboost import XGBClassifier\n",
    "from xgboost import plot_importance"
   ]
  },
  {
   "cell_type": "code",
   "execution_count": 13,
   "metadata": {},
   "outputs": [],
   "source": [
    "pd.options.display.max_columns = 100"
   ]
  },
  {
   "cell_type": "markdown",
   "metadata": {
    "id": "QZlm5HSmhfQv"
   },
   "source": [
    "## 1. 데이터 로딩"
   ]
  },
  {
   "cell_type": "code",
   "execution_count": 14,
   "metadata": {},
   "outputs": [
    {
     "data": {
      "text/plain": [
       "True"
      ]
     },
     "execution_count": 14,
     "metadata": {},
     "output_type": "execute_result"
    }
   ],
   "source": [
    "wandb.login()"
   ]
  },
  {
   "cell_type": "code",
   "execution_count": 15,
   "metadata": {
    "ExecuteTime": {
     "end_time": "2021-05-24T09:49:29.678737Z",
     "start_time": "2021-05-24T09:49:29.376581Z"
    },
    "id": "s6qgJ8MLhfQw"
   },
   "outputs": [],
   "source": [
    "data_dir = '/opt/ml/input/data/' # 경로는 상황에 맞춰서 수정해주세요!\n",
    "\n",
    "# LOAD TRAINDATA\n",
    "csv_file_path = os.path.join(data_dir, 'train_data.csv') # 데이터는 대회홈페이지에서 받아주세요 :)\n",
    "train_data = pd.read_csv(csv_file_path)\n",
    "\n",
    "# LOAD TESTDATA\n",
    "test_csv_file_path = os.path.join(data_dir, 'test_data.csv')\n",
    "test_data = pd.read_csv(test_csv_file_path)\n",
    "# test_data['answerCode'] = test_data['answerCode'].replace(-1, np.nan)\n",
    "\n",
    "# # LEAVE LAST INTERACTION ONLY\n",
    "# train_df = test_df[test_df['userID'] == test_df['userID'].shift(-1)]\n",
    "# test_df = test_df[test_df['userID'] != test_df['userID'].shift(-1)]\n",
    "\n",
    "# df = pd.concat([df, train_df], ignore_index=True)"
   ]
  },
  {
   "cell_type": "markdown",
   "metadata": {
    "id": "p_oCGAgEhfQw"
   },
   "source": [
    "## 2. Feature Engineering"
   ]
  },
  {
   "cell_type": "code",
   "execution_count": 16,
   "metadata": {
    "ExecuteTime": {
     "end_time": "2021-05-24T09:49:29.682739Z",
     "start_time": "2021-05-24T09:49:28.979Z"
    },
    "id": "URNLoukChfQx"
   },
   "outputs": [],
   "source": [
    "def feature_engineering(train, test):\n",
    "    ## train, test data concat\n",
    "    train['train'] = 1\n",
    "    test['train'] = 0\n",
    "    total = pd.concat([train, test], ignore_index=True)\n",
    "    # total['answerCode'] = total['answerCode'].fillna(0.5)\n",
    "    total = elo(total)\n",
    "    \n",
    "    ## 유저별 시퀀스를 고려하기 위해 아래와 같이 정렬\n",
    "    total.sort_values(by=['userID','Timestamp'], inplace=True)\n",
    "    total['Timestamp'] = pd.to_datetime(total['Timestamp'])\n",
    "    \n",
    "    total['assessmentItemID'] = total['assessmentItemID'].astype('category')\n",
    "    total['KnowledgeTag'] = total['KnowledgeTag'].astype('category')\n",
    "\n",
    "    #유저들의 문제 풀이수, 정답 수, 정답률을 시간순으로 누적해서 계산\n",
    "    total['user_correct_answer'] = total.groupby('userID')['answerCode'].transform(lambda x: x.cumsum().shift(1))\n",
    "    total['user_total_answer'] = total.groupby('userID')['answerCode'].cumcount()\n",
    "    total['user_acc'] = total['user_correct_answer']/total['user_total_answer']\n",
    "\n",
    "    total['Bigcat'] = total['testId'].str[2]\n",
    "    total['Bigcat'] = total['Bigcat'].astype('category')\n",
    "    total['Bigcat_avg'] = total.groupby('Bigcat')['answerCode'].transform('mean')\n",
    "    \n",
    "    # total['past_count'] = total.groupby('userID').cumcount()\n",
    "    \n",
    "    diff = total.loc[:, ['userID', 'Timestamp']].groupby('userID').diff().fillna(pd.Timedelta(seconds=0))\n",
    "    diff = diff.fillna(pd.Timedelta(seconds=0))\n",
    "    diff = diff['Timestamp'].apply(lambda x: x.total_seconds())\n",
    "    total['elapsed'] = diff\n",
    "\n",
    "    total['item_avg'] = total.groupby('assessmentItemID')['answerCode'].transform('mean')\n",
    "\n",
    "    categories = [\"assessmentItemID\",'KnowledgeTag',\"Bigcat\"]\n",
    "\n",
    "    # # label encode your categorical columns\n",
    "    le = LabelEncoder()\n",
    "    for category in categories:\n",
    "        total[category] = le.fit_transform(total[category])\n",
    "    # total['Bigcat'] = le.fit_transform(total[category])\n",
    "\n",
    "    ## train, test 나누어서 return\n",
    "    train_df = total[total['train']==1]\n",
    "    test_df = total[total['train']==0]\n",
    "    test_df = test_df[test_df['userID'] != test_df['userID'].shift(-1)]\n",
    "    \n",
    "    \n",
    "    return train_df, test_df"
   ]
  },
  {
   "cell_type": "code",
   "execution_count": 17,
   "metadata": {
    "ExecuteTime": {
     "end_time": "2021-05-24T09:49:29.684739Z",
     "start_time": "2021-05-24T09:49:28.982Z"
    },
    "id": "YOPWK7ckhfQz"
   },
   "outputs": [],
   "source": [
    "# train과 test 데이터셋은 사용자 별로 묶어서 분리를 해주어야함\n",
    "random.seed(42)\n",
    "def custom_train_test_split(df, ratio=0.7, split=True):\n",
    "    \n",
    "    users = list(zip(df['userID'].value_counts().index, df['userID'].value_counts()))\n",
    "    random.shuffle(users)\n",
    "    \n",
    "    max_train_data_len = ratio*len(df)\n",
    "    sum_of_train_data = 0\n",
    "    user_ids =[]\n",
    "\n",
    "    for user_id, count in users:\n",
    "        sum_of_train_data += count\n",
    "        if max_train_data_len < sum_of_train_data:\n",
    "            break\n",
    "        user_ids.append(user_id)\n",
    "\n",
    "\n",
    "    train = df[df['userID'].isin(user_ids)]\n",
    "    test = df[df['userID'].isin(user_ids) == False]\n",
    "\n",
    "    #test데이터셋은 각 유저의 마지막 interaction만 추출\n",
    "    test = test[test['userID'] != test['userID'].shift(-1)]\n",
    "    return train, test"
   ]
  },
  {
   "cell_type": "code",
   "execution_count": 18,
   "metadata": {},
   "outputs": [],
   "source": [
    "def elo(df):\n",
    "    def get_new_theta(is_good_answer, beta, left_asymptote, theta, nb_previous_answers):\n",
    "        return theta + learning_rate_theta(nb_previous_answers) * (\n",
    "            is_good_answer - probability_of_good_answer(theta, beta, left_asymptote)\n",
    "        )\n",
    "\n",
    "    def get_new_beta(is_good_answer, beta, left_asymptote, theta, nb_previous_answers):\n",
    "        return beta - learning_rate_beta(nb_previous_answers) * (\n",
    "            is_good_answer - probability_of_good_answer(theta, beta, left_asymptote)\n",
    "        )\n",
    "\n",
    "    def learning_rate_theta(nb_answers):\n",
    "        return max(0.3 / (1 + 0.01 * nb_answers), 0.04)\n",
    "\n",
    "    def learning_rate_beta(nb_answers):\n",
    "        return 1 / (1 + 0.05 * nb_answers)\n",
    "\n",
    "    def probability_of_good_answer(theta, beta, left_asymptote):\n",
    "        return left_asymptote + (1 - left_asymptote) * sigmoid(theta - beta)\n",
    "\n",
    "    def sigmoid(x):\n",
    "        return 1 / (1 + np.exp(-x))\n",
    "\n",
    "    def estimate_parameters(answers_df, granularity_feature_name=\"assessmentItemID\"):\n",
    "        item_parameters = {\n",
    "            granularity_feature_value: {\"beta\": 0, \"nb_answers\": 0}\n",
    "            for granularity_feature_value in np.unique(\n",
    "                answers_df[granularity_feature_name]\n",
    "            )\n",
    "        }\n",
    "        student_parameters = {\n",
    "            student_id: {\"theta\": 0, \"nb_answers\": 0}\n",
    "            for student_id in np.unique(answers_df.userID)\n",
    "        }\n",
    "\n",
    "        print(\"Parameter estimation is starting...\", flush=True)\n",
    "\n",
    "        for student_id, item_id, left_asymptote, answered_correctly in tqdm(\n",
    "            zip(\n",
    "                answers_df.userID.values,\n",
    "                answers_df[granularity_feature_name].values,\n",
    "                answers_df.left_asymptote.values,\n",
    "                answers_df.answerCode.values,\n",
    "            ),\n",
    "            total=len(answers_df),\n",
    "        ):\n",
    "            theta = student_parameters[student_id][\"theta\"]\n",
    "            beta = item_parameters[item_id][\"beta\"]\n",
    "\n",
    "            item_parameters[item_id][\"beta\"] = get_new_beta(\n",
    "                answered_correctly,\n",
    "                beta,\n",
    "                left_asymptote,\n",
    "                theta,\n",
    "                item_parameters[item_id][\"nb_answers\"],\n",
    "            )\n",
    "            student_parameters[student_id][\"theta\"] = get_new_theta(\n",
    "                answered_correctly,\n",
    "                beta,\n",
    "                left_asymptote,\n",
    "                theta,\n",
    "                student_parameters[student_id][\"nb_answers\"],\n",
    "            )\n",
    "\n",
    "            item_parameters[item_id][\"nb_answers\"] += 1\n",
    "            student_parameters[student_id][\"nb_answers\"] += 1\n",
    "\n",
    "        print(f\"Theta & beta estimations on {granularity_feature_name} are completed.\")\n",
    "        return student_parameters, item_parameters\n",
    "\n",
    "    def gou_func(theta, beta):\n",
    "        return 1 / (1 + np.exp(-(theta - beta)))\n",
    "\n",
    "    df[\"left_asymptote\"] = 0\n",
    "\n",
    "    print(f\"Dataset of shape {df.shape}\")\n",
    "    print(f\"Columns are {list(df.columns)}\")\n",
    "\n",
    "    student_parameters, item_parameters = estimate_parameters(df)\n",
    "\n",
    "    prob = [\n",
    "        gou_func(student_parameters[student][\"theta\"], item_parameters[item][\"beta\"])\n",
    "        for student, item in zip(df.userID.values, df.assessmentItemID.values)\n",
    "    ]\n",
    "\n",
    "    df[\"elo\"] = prob\n",
    "\n",
    "    return df"
   ]
  },
  {
   "cell_type": "markdown",
   "metadata": {},
   "source": [
    "## 3. Train/Test 데이터 셋 분리"
   ]
  },
  {
   "cell_type": "code",
   "execution_count": 19,
   "metadata": {},
   "outputs": [
    {
     "name": "stdout",
     "output_type": "stream",
     "text": [
      "Dataset of shape (2526700, 8)\n",
      "Columns are ['userID', 'assessmentItemID', 'testId', 'answerCode', 'Timestamp', 'KnowledgeTag', 'train', 'left_asymptote']\n",
      "Parameter estimation is starting...\n"
     ]
    },
    {
     "name": "stderr",
     "output_type": "stream",
     "text": [
      "100%|██████████| 2526700/2526700 [00:16<00:00, 149959.85it/s]\n"
     ]
    },
    {
     "name": "stdout",
     "output_type": "stream",
     "text": [
      "Theta & beta estimations on assessmentItemID are completed.\n",
      "Index(['userID', 'assessmentItemID', 'testId', 'answerCode', 'Timestamp',\n",
      "       'KnowledgeTag', 'train', 'left_asymptote', 'elo', 'user_correct_answer',\n",
      "       'user_total_answer', 'user_acc', 'Bigcat', 'Bigcat_avg', 'elapsed'],\n",
      "      dtype='object')\n"
     ]
    }
   ],
   "source": [
    "# wandb.init(project=\"LGBM\", config= config)\n",
    "\n",
    "df, submission = feature_engineering(train_data, test_data)\n",
    "# df = elo(df)\n",
    "\n",
    "# 유저별 분리\n",
    "train, test = custom_train_test_split(df)\n",
    "print(train.columns)\n",
    "\n",
    "# 사용할 Feature 설정\n",
    "# FEATS = ['KnowledgeTag', 'user_correct_answer', 'user_total_answer', \n",
    "#          'user_acc', 'test_mean', 'test_sum', 'tag_mean','tag_sum', 'elapsed','Bigcat','smallcat']\n",
    "# FEATS = ['KnowledgeTag', 'user_correct_answer', 'user_total_answer', \n",
    "#          'user_acc', 'test_mean', 'test_sum', 'tag_mean','tag_sum', 'elapsed', 'Bigcat', 'smallcat', 'item_num', 'item_seq', 'solved_time_shift']\n",
    "# FEATS = ['KnowledgeTag', 'same_item_cnt', 'user_avg', 'item_avg', 'test_avg', 'tag_avg', 'user_time_avg', 'item_time_avg',\n",
    "#        'test_time_avg', 'tag_time_avg', 'user_current_avg', 'user_current_time_avg', 'hour', 'item_num', 'Bigcat','Bigcat_avg']\n",
    "# FEATS = ['assessmentItemID', 'KnowledgeTag','user_acc','Bigcat_avg','elapsed','elo']\n",
    "# FEATS = ['KnowledgeTag', 'same_item_cnt', 'user_avg', 'item_avg', 'test_avg', 'tag_avg']\n",
    "FEATS = ['assessmentItemID', 'KnowledgeTag','Bigcat_avg','item_avg','elapsed','elo','answer_cnt']\n",
    "\n",
    "# X, y 값 분리\n",
    "y_train = train['answerCode']\n",
    "train = train.drop(['answerCode'], axis=1)\n",
    "\n",
    "y_test = test['answerCode']\n",
    "test = test.drop(['answerCode'], axis=1)"
   ]
  },
  {
   "cell_type": "code",
   "execution_count": 20,
   "metadata": {},
   "outputs": [
    {
     "name": "stderr",
     "output_type": "stream",
     "text": [
      "/opt/conda/envs/dkt/lib/python3.10/site-packages/xgboost/sklearn.py:861: UserWarning: `early_stopping_rounds` in `fit` method is deprecated for better compatibility with scikit-learn, use `early_stopping_rounds` in constructor or`set_params` instead.\n",
      "  warnings.warn(\n"
     ]
    },
    {
     "name": "stdout",
     "output_type": "stream",
     "text": [
      "[0]\tvalidation_0-logloss:0.69035\n",
      "[5]\tvalidation_0-logloss:0.67723\n",
      "[10]\tvalidation_0-logloss:0.66523\n",
      "[15]\tvalidation_0-logloss:0.65429\n",
      "[20]\tvalidation_0-logloss:0.64424\n",
      "[25]\tvalidation_0-logloss:0.63504\n",
      "[30]\tvalidation_0-logloss:0.62665\n",
      "[35]\tvalidation_0-logloss:0.61892\n",
      "[40]\tvalidation_0-logloss:0.61181\n",
      "[45]\tvalidation_0-logloss:0.60528\n",
      "[50]\tvalidation_0-logloss:0.59925\n",
      "[55]\tvalidation_0-logloss:0.59380\n",
      "[60]\tvalidation_0-logloss:0.58872\n",
      "[65]\tvalidation_0-logloss:0.58396\n",
      "[69]\tvalidation_0-logloss:0.58048\n",
      "0.7498754359740907 0.8144961240310078\n"
     ]
    }
   ],
   "source": [
    "model = XGBClassifier(\n",
    "    objective=\"binary:logistic\",\n",
    "    booster=\"gbtree\",\n",
    "    learning_rate = 0.01,\n",
    "    max_depth=7,\n",
    "    min_child_weight=4,\n",
    "    n_estimators=70,\n",
    "    nthread=4,\n",
    "    random_state=42,\n",
    "    #enable_categorical=True\n",
    ")\n",
    "\n",
    "model.fit(train[FEATS], y_train,\n",
    "    eval_set=[(test[FEATS] , y_test)],\n",
    "    early_stopping_rounds=100,verbose=5)\n",
    "\n",
    "y_pred_train = model.predict_proba(train[FEATS])[:,1]\n",
    "y_pred_test = model.predict_proba(test[FEATS])[:,1]\n",
    "acc = accuracy_score(y_test, np.where(y_pred_test >= 0.5, 1, 0))\n",
    "auc = roc_auc_score( y_test,y_pred_test)\n",
    "print(acc, auc)"
   ]
  },
  {
   "cell_type": "code",
   "execution_count": 32,
   "metadata": {},
   "outputs": [],
   "source": [
    "X = df.drop(['answerCode'], axis=1)\n",
    "y = df['answerCode']"
   ]
  },
  {
   "cell_type": "code",
   "execution_count": 40,
   "metadata": {},
   "outputs": [
    {
     "name": "stderr",
     "output_type": "stream",
     "text": [
      "/opt/conda/envs/dkt/lib/python3.10/site-packages/xgboost/sklearn.py:861: UserWarning: `early_stopping_rounds` in `fit` method is deprecated for better compatibility with scikit-learn, use `early_stopping_rounds` in constructor or`set_params` instead.\n",
      "  warnings.warn(\n"
     ]
    },
    {
     "name": "stdout",
     "output_type": "stream",
     "text": [
      "[0]\tvalidation_0-logloss:0.68958\n",
      "[5]\tvalidation_0-logloss:0.67276\n",
      "[10]\tvalidation_0-logloss:0.65749\n",
      "[15]\tvalidation_0-logloss:0.64360\n",
      "[20]\tvalidation_0-logloss:0.63094\n",
      "[25]\tvalidation_0-logloss:0.61938\n",
      "[30]\tvalidation_0-logloss:0.60881\n",
      "[35]\tvalidation_0-logloss:0.59912\n",
      "[40]\tvalidation_0-logloss:0.59023\n",
      "[45]\tvalidation_0-logloss:0.58207\n",
      "[50]\tvalidation_0-logloss:0.57456\n",
      "[55]\tvalidation_0-logloss:0.56765\n",
      "[60]\tvalidation_0-logloss:0.56129\n",
      "[65]\tvalidation_0-logloss:0.55542\n",
      "[69]\tvalidation_0-logloss:0.55106\n"
     ]
    },
    {
     "data": {
      "text/html": [
       "Tracking run with wandb version 0.13.5"
      ],
      "text/plain": [
       "<IPython.core.display.HTML object>"
      ]
     },
     "metadata": {},
     "output_type": "display_data"
    },
    {
     "data": {
      "text/html": [
       "Run data is saved locally in <code>/opt/ml/input/code/wandb/run-20221204_100351-1l8rgvu1</code>"
      ],
      "text/plain": [
       "<IPython.core.display.HTML object>"
      ]
     },
     "metadata": {},
     "output_type": "display_data"
    },
    {
     "data": {
      "text/html": [
       "Syncing run <strong><a href=\"https://wandb.ai/recsys-10/XGBC/runs/1l8rgvu1\" target=\"_blank\">genial-sunset-64</a></strong> to <a href=\"https://wandb.ai/recsys-10/XGBC\" target=\"_blank\">Weights & Biases</a> (<a href=\"https://wandb.me/run\" target=\"_blank\">docs</a>)<br/>"
      ],
      "text/plain": [
       "<IPython.core.display.HTML object>"
      ]
     },
     "metadata": {},
     "output_type": "display_data"
    },
    {
     "name": "stderr",
     "output_type": "stream",
     "text": [
      "/opt/conda/envs/dkt/lib/python3.10/site-packages/xgboost/sklearn.py:861: UserWarning: `early_stopping_rounds` in `fit` method is deprecated for better compatibility with scikit-learn, use `early_stopping_rounds` in constructor or`set_params` instead.\n",
      "  warnings.warn(\n"
     ]
    },
    {
     "name": "stdout",
     "output_type": "stream",
     "text": [
      "[0]\tvalidation_0-logloss:0.68958\n",
      "[5]\tvalidation_0-logloss:0.67279\n",
      "[10]\tvalidation_0-logloss:0.65756\n",
      "[15]\tvalidation_0-logloss:0.64370\n",
      "[20]\tvalidation_0-logloss:0.63106\n",
      "[25]\tvalidation_0-logloss:0.61951\n",
      "[30]\tvalidation_0-logloss:0.60896\n",
      "[35]\tvalidation_0-logloss:0.59929\n",
      "[40]\tvalidation_0-logloss:0.59043\n",
      "[45]\tvalidation_0-logloss:0.58229\n",
      "[50]\tvalidation_0-logloss:0.57481\n",
      "[55]\tvalidation_0-logloss:0.56792\n",
      "[60]\tvalidation_0-logloss:0.56156\n",
      "[65]\tvalidation_0-logloss:0.55571\n",
      "[69]\tvalidation_0-logloss:0.55136\n"
     ]
    },
    {
     "data": {
      "text/html": [
       "Finishing last run (ID:1l8rgvu1) before initializing another..."
      ],
      "text/plain": [
       "<IPython.core.display.HTML object>"
      ]
     },
     "metadata": {},
     "output_type": "display_data"
    },
    {
     "data": {
      "text/html": [
       "Waiting for W&B process to finish... <strong style=\"color:green\">(success).</strong>"
      ],
      "text/plain": [
       "<IPython.core.display.HTML object>"
      ]
     },
     "metadata": {},
     "output_type": "display_data"
    },
    {
     "data": {
      "text/html": [
       "<style>\n",
       "    table.wandb td:nth-child(1) { padding: 0 10px; text-align: left ; width: auto;} td:nth-child(2) {text-align: left ; width: 100%}\n",
       "    .wandb-row { display: flex; flex-direction: row; flex-wrap: wrap; justify-content: flex-start; width: 100% }\n",
       "    .wandb-col { display: flex; flex-direction: column; flex-basis: 100%; flex: 1; padding: 10px; }\n",
       "    </style>\n",
       "<div class=\"wandb-row\"><div class=\"wandb-col\"><h3>Run history:</h3><br/><table class=\"wandb\"><tr><td>valid_accuracy</td><td>▁</td></tr><tr><td>valid_roc_auc</td><td>▁</td></tr></table><br/></div><div class=\"wandb-col\"><h3>Run summary:</h3><br/><table class=\"wandb\"><tr><td>valid_accuracy</td><td>0.77158</td></tr><tr><td>valid_roc_auc</td><td>0.81679</td></tr></table><br/></div></div>"
      ],
      "text/plain": [
       "<IPython.core.display.HTML object>"
      ]
     },
     "metadata": {},
     "output_type": "display_data"
    },
    {
     "data": {
      "text/html": [
       "Synced <strong style=\"color:#cdcd00\">genial-sunset-64</strong>: <a href=\"https://wandb.ai/recsys-10/XGBC/runs/1l8rgvu1\" target=\"_blank\">https://wandb.ai/recsys-10/XGBC/runs/1l8rgvu1</a><br/>Synced 6 W&B file(s), 0 media file(s), 0 artifact file(s) and 0 other file(s)"
      ],
      "text/plain": [
       "<IPython.core.display.HTML object>"
      ]
     },
     "metadata": {},
     "output_type": "display_data"
    },
    {
     "data": {
      "text/html": [
       "Find logs at: <code>./wandb/run-20221204_100351-1l8rgvu1/logs</code>"
      ],
      "text/plain": [
       "<IPython.core.display.HTML object>"
      ]
     },
     "metadata": {},
     "output_type": "display_data"
    },
    {
     "data": {
      "text/html": [
       "Successfully finished last run (ID:1l8rgvu1). Initializing new run:<br/>"
      ],
      "text/plain": [
       "<IPython.core.display.HTML object>"
      ]
     },
     "metadata": {},
     "output_type": "display_data"
    },
    {
     "data": {
      "text/html": [
       "Tracking run with wandb version 0.13.5"
      ],
      "text/plain": [
       "<IPython.core.display.HTML object>"
      ]
     },
     "metadata": {},
     "output_type": "display_data"
    },
    {
     "data": {
      "text/html": [
       "Run data is saved locally in <code>/opt/ml/input/code/wandb/run-20221204_100521-32k55kcu</code>"
      ],
      "text/plain": [
       "<IPython.core.display.HTML object>"
      ]
     },
     "metadata": {},
     "output_type": "display_data"
    },
    {
     "data": {
      "text/html": [
       "Syncing run <strong><a href=\"https://wandb.ai/recsys-10/XGBC/runs/32k55kcu\" target=\"_blank\">sunny-capybara-65</a></strong> to <a href=\"https://wandb.ai/recsys-10/XGBC\" target=\"_blank\">Weights & Biases</a> (<a href=\"https://wandb.me/run\" target=\"_blank\">docs</a>)<br/>"
      ],
      "text/plain": [
       "<IPython.core.display.HTML object>"
      ]
     },
     "metadata": {},
     "output_type": "display_data"
    },
    {
     "name": "stderr",
     "output_type": "stream",
     "text": [
      "/opt/conda/envs/dkt/lib/python3.10/site-packages/xgboost/sklearn.py:861: UserWarning: `early_stopping_rounds` in `fit` method is deprecated for better compatibility with scikit-learn, use `early_stopping_rounds` in constructor or`set_params` instead.\n",
      "  warnings.warn(\n"
     ]
    },
    {
     "name": "stdout",
     "output_type": "stream",
     "text": [
      "[0]\tvalidation_0-logloss:0.68960\n",
      "[5]\tvalidation_0-logloss:0.67288\n",
      "[10]\tvalidation_0-logloss:0.65770\n",
      "[15]\tvalidation_0-logloss:0.64390\n",
      "[20]\tvalidation_0-logloss:0.63131\n",
      "[25]\tvalidation_0-logloss:0.61982\n",
      "[30]\tvalidation_0-logloss:0.60931\n",
      "[35]\tvalidation_0-logloss:0.59969\n",
      "[40]\tvalidation_0-logloss:0.59087\n",
      "[45]\tvalidation_0-logloss:0.58277\n",
      "[50]\tvalidation_0-logloss:0.57534\n",
      "[55]\tvalidation_0-logloss:0.56850\n",
      "[60]\tvalidation_0-logloss:0.56218\n",
      "[65]\tvalidation_0-logloss:0.55636\n",
      "[69]\tvalidation_0-logloss:0.55203\n"
     ]
    },
    {
     "data": {
      "text/html": [
       "Finishing last run (ID:32k55kcu) before initializing another..."
      ],
      "text/plain": [
       "<IPython.core.display.HTML object>"
      ]
     },
     "metadata": {},
     "output_type": "display_data"
    },
    {
     "data": {
      "text/html": [
       "Waiting for W&B process to finish... <strong style=\"color:green\">(success).</strong>"
      ],
      "text/plain": [
       "<IPython.core.display.HTML object>"
      ]
     },
     "metadata": {},
     "output_type": "display_data"
    },
    {
     "data": {
      "text/html": [
       "<style>\n",
       "    table.wandb td:nth-child(1) { padding: 0 10px; text-align: left ; width: auto;} td:nth-child(2) {text-align: left ; width: 100%}\n",
       "    .wandb-row { display: flex; flex-direction: row; flex-wrap: wrap; justify-content: flex-start; width: 100% }\n",
       "    .wandb-col { display: flex; flex-direction: column; flex-basis: 100%; flex: 1; padding: 10px; }\n",
       "    </style>\n",
       "<div class=\"wandb-row\"><div class=\"wandb-col\"><h3>Run history:</h3><br/><table class=\"wandb\"><tr><td>valid_accuracy</td><td>▁</td></tr><tr><td>valid_roc_auc</td><td>▁</td></tr></table><br/></div><div class=\"wandb-col\"><h3>Run summary:</h3><br/><table class=\"wandb\"><tr><td>valid_accuracy</td><td>0.77127</td></tr><tr><td>valid_roc_auc</td><td>0.81562</td></tr></table><br/></div></div>"
      ],
      "text/plain": [
       "<IPython.core.display.HTML object>"
      ]
     },
     "metadata": {},
     "output_type": "display_data"
    },
    {
     "data": {
      "text/html": [
       "Synced <strong style=\"color:#cdcd00\">sunny-capybara-65</strong>: <a href=\"https://wandb.ai/recsys-10/XGBC/runs/32k55kcu\" target=\"_blank\">https://wandb.ai/recsys-10/XGBC/runs/32k55kcu</a><br/>Synced 6 W&B file(s), 0 media file(s), 0 artifact file(s) and 0 other file(s)"
      ],
      "text/plain": [
       "<IPython.core.display.HTML object>"
      ]
     },
     "metadata": {},
     "output_type": "display_data"
    },
    {
     "data": {
      "text/html": [
       "Find logs at: <code>./wandb/run-20221204_100521-32k55kcu/logs</code>"
      ],
      "text/plain": [
       "<IPython.core.display.HTML object>"
      ]
     },
     "metadata": {},
     "output_type": "display_data"
    },
    {
     "data": {
      "text/html": [
       "Successfully finished last run (ID:32k55kcu). Initializing new run:<br/>"
      ],
      "text/plain": [
       "<IPython.core.display.HTML object>"
      ]
     },
     "metadata": {},
     "output_type": "display_data"
    },
    {
     "data": {
      "text/html": [
       "Tracking run with wandb version 0.13.5"
      ],
      "text/plain": [
       "<IPython.core.display.HTML object>"
      ]
     },
     "metadata": {},
     "output_type": "display_data"
    },
    {
     "data": {
      "text/html": [
       "Run data is saved locally in <code>/opt/ml/input/code/wandb/run-20221204_100652-180d65zo</code>"
      ],
      "text/plain": [
       "<IPython.core.display.HTML object>"
      ]
     },
     "metadata": {},
     "output_type": "display_data"
    },
    {
     "data": {
      "text/html": [
       "Syncing run <strong><a href=\"https://wandb.ai/recsys-10/XGBC/runs/180d65zo\" target=\"_blank\">dry-disco-66</a></strong> to <a href=\"https://wandb.ai/recsys-10/XGBC\" target=\"_blank\">Weights & Biases</a> (<a href=\"https://wandb.me/run\" target=\"_blank\">docs</a>)<br/>"
      ],
      "text/plain": [
       "<IPython.core.display.HTML object>"
      ]
     },
     "metadata": {},
     "output_type": "display_data"
    },
    {
     "name": "stderr",
     "output_type": "stream",
     "text": [
      "/opt/conda/envs/dkt/lib/python3.10/site-packages/xgboost/sklearn.py:861: UserWarning: `early_stopping_rounds` in `fit` method is deprecated for better compatibility with scikit-learn, use `early_stopping_rounds` in constructor or`set_params` instead.\n",
      "  warnings.warn(\n"
     ]
    },
    {
     "name": "stdout",
     "output_type": "stream",
     "text": [
      "[0]\tvalidation_0-logloss:0.68958\n",
      "[5]\tvalidation_0-logloss:0.67274\n",
      "[10]\tvalidation_0-logloss:0.65746\n",
      "[15]\tvalidation_0-logloss:0.64357\n",
      "[20]\tvalidation_0-logloss:0.63090\n",
      "[25]\tvalidation_0-logloss:0.61933\n",
      "[30]\tvalidation_0-logloss:0.60875\n",
      "[35]\tvalidation_0-logloss:0.59906\n",
      "[40]\tvalidation_0-logloss:0.59018\n",
      "[45]\tvalidation_0-logloss:0.58202\n",
      "[50]\tvalidation_0-logloss:0.57452\n",
      "[55]\tvalidation_0-logloss:0.56762\n",
      "[60]\tvalidation_0-logloss:0.56124\n",
      "[65]\tvalidation_0-logloss:0.55536\n",
      "[69]\tvalidation_0-logloss:0.55099\n"
     ]
    },
    {
     "data": {
      "text/html": [
       "Finishing last run (ID:180d65zo) before initializing another..."
      ],
      "text/plain": [
       "<IPython.core.display.HTML object>"
      ]
     },
     "metadata": {},
     "output_type": "display_data"
    },
    {
     "data": {
      "text/html": [
       "Waiting for W&B process to finish... <strong style=\"color:green\">(success).</strong>"
      ],
      "text/plain": [
       "<IPython.core.display.HTML object>"
      ]
     },
     "metadata": {},
     "output_type": "display_data"
    },
    {
     "data": {
      "text/html": [
       "<style>\n",
       "    table.wandb td:nth-child(1) { padding: 0 10px; text-align: left ; width: auto;} td:nth-child(2) {text-align: left ; width: 100%}\n",
       "    .wandb-row { display: flex; flex-direction: row; flex-wrap: wrap; justify-content: flex-start; width: 100% }\n",
       "    .wandb-col { display: flex; flex-direction: column; flex-basis: 100%; flex: 1; padding: 10px; }\n",
       "    </style>\n",
       "<div class=\"wandb-row\"><div class=\"wandb-col\"><h3>Run history:</h3><br/><table class=\"wandb\"><tr><td>valid_accuracy</td><td>▁</td></tr><tr><td>valid_roc_auc</td><td>▁</td></tr></table><br/></div><div class=\"wandb-col\"><h3>Run summary:</h3><br/><table class=\"wandb\"><tr><td>valid_accuracy</td><td>0.77107</td></tr><tr><td>valid_roc_auc</td><td>0.81471</td></tr></table><br/></div></div>"
      ],
      "text/plain": [
       "<IPython.core.display.HTML object>"
      ]
     },
     "metadata": {},
     "output_type": "display_data"
    },
    {
     "data": {
      "text/html": [
       "Synced <strong style=\"color:#cdcd00\">dry-disco-66</strong>: <a href=\"https://wandb.ai/recsys-10/XGBC/runs/180d65zo\" target=\"_blank\">https://wandb.ai/recsys-10/XGBC/runs/180d65zo</a><br/>Synced 6 W&B file(s), 0 media file(s), 0 artifact file(s) and 0 other file(s)"
      ],
      "text/plain": [
       "<IPython.core.display.HTML object>"
      ]
     },
     "metadata": {},
     "output_type": "display_data"
    },
    {
     "data": {
      "text/html": [
       "Find logs at: <code>./wandb/run-20221204_100652-180d65zo/logs</code>"
      ],
      "text/plain": [
       "<IPython.core.display.HTML object>"
      ]
     },
     "metadata": {},
     "output_type": "display_data"
    },
    {
     "data": {
      "text/html": [
       "Successfully finished last run (ID:180d65zo). Initializing new run:<br/>"
      ],
      "text/plain": [
       "<IPython.core.display.HTML object>"
      ]
     },
     "metadata": {},
     "output_type": "display_data"
    },
    {
     "data": {
      "text/html": [
       "Tracking run with wandb version 0.13.5"
      ],
      "text/plain": [
       "<IPython.core.display.HTML object>"
      ]
     },
     "metadata": {},
     "output_type": "display_data"
    },
    {
     "data": {
      "text/html": [
       "Run data is saved locally in <code>/opt/ml/input/code/wandb/run-20221204_100826-3fu8lr9z</code>"
      ],
      "text/plain": [
       "<IPython.core.display.HTML object>"
      ]
     },
     "metadata": {},
     "output_type": "display_data"
    },
    {
     "data": {
      "text/html": [
       "Syncing run <strong><a href=\"https://wandb.ai/recsys-10/XGBC/runs/3fu8lr9z\" target=\"_blank\">bright-jazz-67</a></strong> to <a href=\"https://wandb.ai/recsys-10/XGBC\" target=\"_blank\">Weights & Biases</a> (<a href=\"https://wandb.me/run\" target=\"_blank\">docs</a>)<br/>"
      ],
      "text/plain": [
       "<IPython.core.display.HTML object>"
      ]
     },
     "metadata": {},
     "output_type": "display_data"
    },
    {
     "name": "stderr",
     "output_type": "stream",
     "text": [
      "/opt/conda/envs/dkt/lib/python3.10/site-packages/xgboost/sklearn.py:861: UserWarning: `early_stopping_rounds` in `fit` method is deprecated for better compatibility with scikit-learn, use `early_stopping_rounds` in constructor or`set_params` instead.\n",
      "  warnings.warn(\n"
     ]
    },
    {
     "name": "stdout",
     "output_type": "stream",
     "text": [
      "[0]\tvalidation_0-logloss:0.68959\n",
      "[5]\tvalidation_0-logloss:0.67282\n",
      "[10]\tvalidation_0-logloss:0.65761\n",
      "[15]\tvalidation_0-logloss:0.64378\n",
      "[20]\tvalidation_0-logloss:0.63117\n",
      "[25]\tvalidation_0-logloss:0.61966\n",
      "[30]\tvalidation_0-logloss:0.60913\n",
      "[35]\tvalidation_0-logloss:0.59948\n",
      "[40]\tvalidation_0-logloss:0.59063\n",
      "[45]\tvalidation_0-logloss:0.58251\n",
      "[50]\tvalidation_0-logloss:0.57504\n",
      "[55]\tvalidation_0-logloss:0.56817\n",
      "[60]\tvalidation_0-logloss:0.56183\n",
      "[65]\tvalidation_0-logloss:0.55599\n",
      "[69]\tvalidation_0-logloss:0.55165\n"
     ]
    },
    {
     "data": {
      "text/html": [
       "Finishing last run (ID:3fu8lr9z) before initializing another..."
      ],
      "text/plain": [
       "<IPython.core.display.HTML object>"
      ]
     },
     "metadata": {},
     "output_type": "display_data"
    },
    {
     "data": {
      "text/html": [
       "Waiting for W&B process to finish... <strong style=\"color:green\">(success).</strong>"
      ],
      "text/plain": [
       "<IPython.core.display.HTML object>"
      ]
     },
     "metadata": {},
     "output_type": "display_data"
    },
    {
     "data": {
      "text/html": [
       "<style>\n",
       "    table.wandb td:nth-child(1) { padding: 0 10px; text-align: left ; width: auto;} td:nth-child(2) {text-align: left ; width: 100%}\n",
       "    .wandb-row { display: flex; flex-direction: row; flex-wrap: wrap; justify-content: flex-start; width: 100% }\n",
       "    .wandb-col { display: flex; flex-direction: column; flex-basis: 100%; flex: 1; padding: 10px; }\n",
       "    </style>\n",
       "<div class=\"wandb-row\"><div class=\"wandb-col\"><h3>Run history:</h3><br/><table class=\"wandb\"><tr><td>valid_accuracy</td><td>▁</td></tr><tr><td>valid_roc_auc</td><td>▁</td></tr></table><br/></div><div class=\"wandb-col\"><h3>Run summary:</h3><br/><table class=\"wandb\"><tr><td>valid_accuracy</td><td>0.77258</td></tr><tr><td>valid_roc_auc</td><td>0.81655</td></tr></table><br/></div></div>"
      ],
      "text/plain": [
       "<IPython.core.display.HTML object>"
      ]
     },
     "metadata": {},
     "output_type": "display_data"
    },
    {
     "data": {
      "text/html": [
       "Synced <strong style=\"color:#cdcd00\">bright-jazz-67</strong>: <a href=\"https://wandb.ai/recsys-10/XGBC/runs/3fu8lr9z\" target=\"_blank\">https://wandb.ai/recsys-10/XGBC/runs/3fu8lr9z</a><br/>Synced 6 W&B file(s), 0 media file(s), 0 artifact file(s) and 0 other file(s)"
      ],
      "text/plain": [
       "<IPython.core.display.HTML object>"
      ]
     },
     "metadata": {},
     "output_type": "display_data"
    },
    {
     "data": {
      "text/html": [
       "Find logs at: <code>./wandb/run-20221204_100826-3fu8lr9z/logs</code>"
      ],
      "text/plain": [
       "<IPython.core.display.HTML object>"
      ]
     },
     "metadata": {},
     "output_type": "display_data"
    },
    {
     "data": {
      "text/html": [
       "Successfully finished last run (ID:3fu8lr9z). Initializing new run:<br/>"
      ],
      "text/plain": [
       "<IPython.core.display.HTML object>"
      ]
     },
     "metadata": {},
     "output_type": "display_data"
    },
    {
     "data": {
      "text/html": [
       "Tracking run with wandb version 0.13.5"
      ],
      "text/plain": [
       "<IPython.core.display.HTML object>"
      ]
     },
     "metadata": {},
     "output_type": "display_data"
    },
    {
     "data": {
      "text/html": [
       "Run data is saved locally in <code>/opt/ml/input/code/wandb/run-20221204_101003-u1uncjbw</code>"
      ],
      "text/plain": [
       "<IPython.core.display.HTML object>"
      ]
     },
     "metadata": {},
     "output_type": "display_data"
    },
    {
     "data": {
      "text/html": [
       "Syncing run <strong><a href=\"https://wandb.ai/recsys-10/XGBC/runs/u1uncjbw\" target=\"_blank\">bumbling-sun-68</a></strong> to <a href=\"https://wandb.ai/recsys-10/XGBC\" target=\"_blank\">Weights & Biases</a> (<a href=\"https://wandb.me/run\" target=\"_blank\">docs</a>)<br/>"
      ],
      "text/plain": [
       "<IPython.core.display.HTML object>"
      ]
     },
     "metadata": {},
     "output_type": "display_data"
    },
    {
     "name": "stdout",
     "output_type": "stream",
     "text": [
      "\n",
      "\n",
      "Mean training AUC: 0.8164782021767565\n",
      "Mean testing AUC: 0.8157452913843495\n"
     ]
    }
   ],
   "source": [
    "score_train, score_test = [], [] \n",
    "# 유저별 분리\n",
    "fold = StratifiedKFold(n_splits = 5, shuffle =True)\n",
    "\n",
    "for train_index , test_index in fold.split(X, y):\n",
    "    X_train,X_test = X.iloc[train_index], X.iloc[test_index]\n",
    "    y_train,y_test = y.iloc[train_index], y.iloc[test_index]\n",
    "\n",
    "    model = XGBClassifier(\n",
    "    objective=\"binary:logistic\",\n",
    "    booster=\"gbtree\",\n",
    "    learning_rate = 0.01,\n",
    "    max_depth=7,\n",
    "    min_child_weight=4,\n",
    "    n_estimators=70,\n",
    "    nthread=4,\n",
    "    random_state=42,\n",
    "    #enable_categorical=True\n",
    "    )\n",
    "\n",
    "    model.fit(X_train[FEATS], y_train,\n",
    "    eval_set=[(X_test[FEATS] , y_test)],\n",
    "    early_stopping_rounds=100,verbose=5)\n",
    "\n",
    "    y_pred_train = model.predict_proba(X_train[FEATS])[:,1]\n",
    "    y_pred_test = model.predict_proba(X_test[FEATS])[:,1]\n",
    "    score_train.append(roc_auc_score( y_train,y_pred_train))\n",
    "    score_test.append(roc_auc_score( y_test,y_pred_test))\n",
    "    # make predictions on test\n",
    "\n",
    "    acc = accuracy_score(y_test, np.where(y_pred_test >= 0.5, 1, 0))\n",
    "    auc = roc_auc_score( y_test,y_pred_test)\n",
    "    wandb.init(project = \"XGBC\")\n",
    "    wandb.log({\"valid_accuracy\": acc})\n",
    "    wandb.log({\"valid_roc_auc\": auc})\n",
    "\n",
    "print('\\n')\n",
    "print('Mean training AUC:',np.mean(score_train))\n",
    "print('Mean testing AUC:',np.mean(score_test))"
   ]
  },
  {
   "cell_type": "code",
   "execution_count": 33,
   "metadata": {},
   "outputs": [
    {
     "data": {
      "text/html": [
       "<div>\n",
       "<style scoped>\n",
       "    .dataframe tbody tr th:only-of-type {\n",
       "        vertical-align: middle;\n",
       "    }\n",
       "\n",
       "    .dataframe tbody tr th {\n",
       "        vertical-align: top;\n",
       "    }\n",
       "\n",
       "    .dataframe thead th {\n",
       "        text-align: right;\n",
       "    }\n",
       "</style>\n",
       "<table border=\"1\" class=\"dataframe\">\n",
       "  <thead>\n",
       "    <tr style=\"text-align: right;\">\n",
       "      <th></th>\n",
       "      <th>userID</th>\n",
       "      <th>assessmentItemID</th>\n",
       "      <th>testId</th>\n",
       "      <th>answerCode</th>\n",
       "      <th>Timestamp</th>\n",
       "      <th>KnowledgeTag</th>\n",
       "      <th>train</th>\n",
       "      <th>left_asymptote</th>\n",
       "      <th>elo</th>\n",
       "      <th>user_correct_answer</th>\n",
       "      <th>user_total_answer</th>\n",
       "      <th>user_acc</th>\n",
       "      <th>Bigcat</th>\n",
       "      <th>Bigcat_avg</th>\n",
       "      <th>elapsed</th>\n",
       "    </tr>\n",
       "  </thead>\n",
       "  <tbody>\n",
       "    <tr>\n",
       "      <th>0</th>\n",
       "      <td>0</td>\n",
       "      <td>5354</td>\n",
       "      <td>A060000001</td>\n",
       "      <td>1</td>\n",
       "      <td>2020-03-24 00:17:11</td>\n",
       "      <td>556</td>\n",
       "      <td>1</td>\n",
       "      <td>0</td>\n",
       "      <td>0.979350</td>\n",
       "      <td>NaN</td>\n",
       "      <td>0</td>\n",
       "      <td>NaN</td>\n",
       "      <td>5</td>\n",
       "      <td>0.711898</td>\n",
       "      <td>0.0</td>\n",
       "    </tr>\n",
       "    <tr>\n",
       "      <th>1</th>\n",
       "      <td>0</td>\n",
       "      <td>5355</td>\n",
       "      <td>A060000001</td>\n",
       "      <td>1</td>\n",
       "      <td>2020-03-24 00:17:14</td>\n",
       "      <td>557</td>\n",
       "      <td>1</td>\n",
       "      <td>0</td>\n",
       "      <td>0.970579</td>\n",
       "      <td>1.0</td>\n",
       "      <td>1</td>\n",
       "      <td>1.0</td>\n",
       "      <td>5</td>\n",
       "      <td>0.711898</td>\n",
       "      <td>3.0</td>\n",
       "    </tr>\n",
       "  </tbody>\n",
       "</table>\n",
       "</div>"
      ],
      "text/plain": [
       "   userID  assessmentItemID      testId  answerCode           Timestamp  \\\n",
       "0       0              5354  A060000001           1 2020-03-24 00:17:11   \n",
       "1       0              5355  A060000001           1 2020-03-24 00:17:14   \n",
       "\n",
       "   KnowledgeTag  train  left_asymptote       elo  user_correct_answer  \\\n",
       "0           556      1               0  0.979350                  NaN   \n",
       "1           557      1               0  0.970579                  1.0   \n",
       "\n",
       "   user_total_answer  user_acc  Bigcat  Bigcat_avg  elapsed  \n",
       "0                  0       NaN       5    0.711898      0.0  \n",
       "1                  1       1.0       5    0.711898      3.0  "
      ]
     },
     "execution_count": 33,
     "metadata": {},
     "output_type": "execute_result"
    }
   ],
   "source": [
    "df[:2]"
   ]
  },
  {
   "cell_type": "code",
   "execution_count": 25,
   "metadata": {},
   "outputs": [],
   "source": [
    "pd.options.display.max_columns = 100"
   ]
  },
  {
   "cell_type": "code",
   "execution_count": 26,
   "metadata": {},
   "outputs": [
    {
     "data": {
      "text/plain": [
       "6698"
      ]
     },
     "execution_count": 26,
     "metadata": {},
     "output_type": "execute_result"
    }
   ],
   "source": [
    "df['userID'].nunique()"
   ]
  },
  {
   "cell_type": "code",
   "execution_count": 27,
   "metadata": {},
   "outputs": [
    {
     "data": {
      "text/html": [
       "<div>\n",
       "<style scoped>\n",
       "    .dataframe tbody tr th:only-of-type {\n",
       "        vertical-align: middle;\n",
       "    }\n",
       "\n",
       "    .dataframe tbody tr th {\n",
       "        vertical-align: top;\n",
       "    }\n",
       "\n",
       "    .dataframe thead th {\n",
       "        text-align: right;\n",
       "    }\n",
       "</style>\n",
       "<table border=\"1\" class=\"dataframe\">\n",
       "  <thead>\n",
       "    <tr style=\"text-align: right;\">\n",
       "      <th></th>\n",
       "      <th>userID</th>\n",
       "      <th>assessmentItemID</th>\n",
       "      <th>testId</th>\n",
       "      <th>answerCode</th>\n",
       "      <th>Timestamp</th>\n",
       "      <th>KnowledgeTag</th>\n",
       "      <th>train</th>\n",
       "      <th>left_asymptote</th>\n",
       "      <th>elo</th>\n",
       "      <th>user_correct_answer</th>\n",
       "      <th>user_total_answer</th>\n",
       "      <th>user_acc</th>\n",
       "      <th>Bigcat</th>\n",
       "      <th>Bigcat_avg</th>\n",
       "      <th>elapsed</th>\n",
       "    </tr>\n",
       "  </thead>\n",
       "  <tbody>\n",
       "    <tr>\n",
       "      <th>2267621</th>\n",
       "      <td>3</td>\n",
       "      <td>4965</td>\n",
       "      <td>A050000133</td>\n",
       "      <td>-1</td>\n",
       "      <td>2020-10-26 13:13:57</td>\n",
       "      <td>469</td>\n",
       "      <td>0</td>\n",
       "      <td>0</td>\n",
       "      <td>0.431119</td>\n",
       "      <td>717.0</td>\n",
       "      <td>1035</td>\n",
       "      <td>0.692754</td>\n",
       "      <td>4</td>\n",
       "      <td>0.658649</td>\n",
       "      <td>46.0</td>\n",
       "    </tr>\n",
       "    <tr>\n",
       "      <th>2268292</th>\n",
       "      <td>4</td>\n",
       "      <td>7748</td>\n",
       "      <td>A070000146</td>\n",
       "      <td>-1</td>\n",
       "      <td>2020-12-27 02:47:54</td>\n",
       "      <td>781</td>\n",
       "      <td>0</td>\n",
       "      <td>0</td>\n",
       "      <td>0.508981</td>\n",
       "      <td>465.0</td>\n",
       "      <td>670</td>\n",
       "      <td>0.694030</td>\n",
       "      <td>6</td>\n",
       "      <td>0.521167</td>\n",
       "      <td>23.0</td>\n",
       "    </tr>\n",
       "  </tbody>\n",
       "</table>\n",
       "</div>"
      ],
      "text/plain": [
       "         userID  assessmentItemID      testId  answerCode           Timestamp  \\\n",
       "2267621       3              4965  A050000133          -1 2020-10-26 13:13:57   \n",
       "2268292       4              7748  A070000146          -1 2020-12-27 02:47:54   \n",
       "\n",
       "         KnowledgeTag  train  left_asymptote       elo  user_correct_answer  \\\n",
       "2267621           469      0               0  0.431119                717.0   \n",
       "2268292           781      0               0  0.508981                465.0   \n",
       "\n",
       "         user_total_answer  user_acc  Bigcat  Bigcat_avg  elapsed  \n",
       "2267621               1035  0.692754       4    0.658649     46.0  \n",
       "2268292                670  0.694030       6    0.521167     23.0  "
      ]
     },
     "execution_count": 27,
     "metadata": {},
     "output_type": "execute_result"
    }
   ],
   "source": [
    "submission[:2]"
   ]
  },
  {
   "cell_type": "code",
   "execution_count": 28,
   "metadata": {},
   "outputs": [
    {
     "data": {
      "text/plain": [
       "Index(['userID', 'assessmentItemID', 'testId', 'answerCode', 'Timestamp',\n",
       "       'KnowledgeTag', 'train', 'left_asymptote', 'elo', 'user_correct_answer',\n",
       "       'user_total_answer', 'user_acc', 'Bigcat', 'Bigcat_avg', 'elapsed'],\n",
       "      dtype='object')"
      ]
     },
     "execution_count": 28,
     "metadata": {},
     "output_type": "execute_result"
    }
   ],
   "source": [
    "df.columns"
   ]
  },
  {
   "cell_type": "markdown",
   "metadata": {
    "id": "KiHss_BBhfQ2"
   },
   "source": [
    "## 4. 훈련 및 검증"
   ]
  },
  {
   "cell_type": "markdown",
   "metadata": {
    "id": "8Bsff1ZVhfQ3"
   },
   "source": [
    "## 5. Inference"
   ]
  },
  {
   "cell_type": "code",
   "execution_count": 41,
   "metadata": {
    "ExecuteTime": {
     "end_time": "2021-05-24T09:49:29.691738Z",
     "start_time": "2021-05-24T09:49:28.992Z"
    },
    "id": "N6YEFm8IhfQ3"
   },
   "outputs": [
    {
     "data": {
      "text/html": [
       "<div>\n",
       "<style scoped>\n",
       "    .dataframe tbody tr th:only-of-type {\n",
       "        vertical-align: middle;\n",
       "    }\n",
       "\n",
       "    .dataframe tbody tr th {\n",
       "        vertical-align: top;\n",
       "    }\n",
       "\n",
       "    .dataframe thead th {\n",
       "        text-align: right;\n",
       "    }\n",
       "</style>\n",
       "<table border=\"1\" class=\"dataframe\">\n",
       "  <thead>\n",
       "    <tr style=\"text-align: right;\">\n",
       "      <th></th>\n",
       "      <th>userID</th>\n",
       "      <th>assessmentItemID</th>\n",
       "      <th>testId</th>\n",
       "      <th>answerCode</th>\n",
       "      <th>Timestamp</th>\n",
       "      <th>KnowledgeTag</th>\n",
       "      <th>train</th>\n",
       "      <th>left_asymptote</th>\n",
       "      <th>elo</th>\n",
       "      <th>user_correct_answer</th>\n",
       "      <th>user_total_answer</th>\n",
       "      <th>user_acc</th>\n",
       "      <th>Bigcat</th>\n",
       "      <th>Bigcat_avg</th>\n",
       "      <th>elapsed</th>\n",
       "    </tr>\n",
       "  </thead>\n",
       "  <tbody>\n",
       "    <tr>\n",
       "      <th>2267621</th>\n",
       "      <td>3</td>\n",
       "      <td>4965</td>\n",
       "      <td>A050000133</td>\n",
       "      <td>-1</td>\n",
       "      <td>2020-10-26 13:13:57</td>\n",
       "      <td>469</td>\n",
       "      <td>0</td>\n",
       "      <td>0</td>\n",
       "      <td>0.431119</td>\n",
       "      <td>717.0</td>\n",
       "      <td>1035</td>\n",
       "      <td>0.692754</td>\n",
       "      <td>4</td>\n",
       "      <td>0.658649</td>\n",
       "      <td>46.0</td>\n",
       "    </tr>\n",
       "    <tr>\n",
       "      <th>2268292</th>\n",
       "      <td>4</td>\n",
       "      <td>7748</td>\n",
       "      <td>A070000146</td>\n",
       "      <td>-1</td>\n",
       "      <td>2020-12-27 02:47:54</td>\n",
       "      <td>781</td>\n",
       "      <td>0</td>\n",
       "      <td>0</td>\n",
       "      <td>0.508981</td>\n",
       "      <td>465.0</td>\n",
       "      <td>670</td>\n",
       "      <td>0.694030</td>\n",
       "      <td>6</td>\n",
       "      <td>0.521167</td>\n",
       "      <td>23.0</td>\n",
       "    </tr>\n",
       "    <tr>\n",
       "      <th>2269609</th>\n",
       "      <td>13</td>\n",
       "      <td>7484</td>\n",
       "      <td>A070000111</td>\n",
       "      <td>-1</td>\n",
       "      <td>2020-12-27 04:35:09</td>\n",
       "      <td>820</td>\n",
       "      <td>0</td>\n",
       "      <td>0</td>\n",
       "      <td>0.307210</td>\n",
       "      <td>915.0</td>\n",
       "      <td>1316</td>\n",
       "      <td>0.695289</td>\n",
       "      <td>6</td>\n",
       "      <td>0.521167</td>\n",
       "      <td>8.0</td>\n",
       "    </tr>\n",
       "    <tr>\n",
       "      <th>2270869</th>\n",
       "      <td>17</td>\n",
       "      <td>9381</td>\n",
       "      <td>A090000064</td>\n",
       "      <td>-1</td>\n",
       "      <td>2020-10-30 05:48:37</td>\n",
       "      <td>309</td>\n",
       "      <td>0</td>\n",
       "      <td>0</td>\n",
       "      <td>0.447042</td>\n",
       "      <td>1031.0</td>\n",
       "      <td>1259</td>\n",
       "      <td>0.818904</td>\n",
       "      <td>8</td>\n",
       "      <td>0.454470</td>\n",
       "      <td>75.0</td>\n",
       "    </tr>\n",
       "    <tr>\n",
       "      <th>2271256</th>\n",
       "      <td>26</td>\n",
       "      <td>6231</td>\n",
       "      <td>A060000135</td>\n",
       "      <td>-1</td>\n",
       "      <td>2020-10-23 11:44:18</td>\n",
       "      <td>183</td>\n",
       "      <td>0</td>\n",
       "      <td>0</td>\n",
       "      <td>0.247744</td>\n",
       "      <td>293.0</td>\n",
       "      <td>386</td>\n",
       "      <td>0.759067</td>\n",
       "      <td>5</td>\n",
       "      <td>0.711898</td>\n",
       "      <td>17.0</td>\n",
       "    </tr>\n",
       "    <tr>\n",
       "      <th>2272110</th>\n",
       "      <td>29</td>\n",
       "      <td>1967</td>\n",
       "      <td>A020000190</td>\n",
       "      <td>-1</td>\n",
       "      <td>2020-10-22 04:38:45</td>\n",
       "      <td>680</td>\n",
       "      <td>0</td>\n",
       "      <td>0</td>\n",
       "      <td>0.867810</td>\n",
       "      <td>723.0</td>\n",
       "      <td>853</td>\n",
       "      <td>0.847597</td>\n",
       "      <td>1</td>\n",
       "      <td>0.737515</td>\n",
       "      <td>30.0</td>\n",
       "    </tr>\n",
       "    <tr>\n",
       "      <th>2273194</th>\n",
       "      <td>45</td>\n",
       "      <td>3759</td>\n",
       "      <td>A040000136</td>\n",
       "      <td>-1</td>\n",
       "      <td>2020-10-23 08:24:19</td>\n",
       "      <td>276</td>\n",
       "      <td>0</td>\n",
       "      <td>0</td>\n",
       "      <td>0.677722</td>\n",
       "      <td>746.0</td>\n",
       "      <td>1083</td>\n",
       "      <td>0.688827</td>\n",
       "      <td>3</td>\n",
       "      <td>0.679714</td>\n",
       "      <td>4.0</td>\n",
       "    </tr>\n",
       "    <tr>\n",
       "      <th>2273887</th>\n",
       "      <td>53</td>\n",
       "      <td>3779</td>\n",
       "      <td>A040000140</td>\n",
       "      <td>-1</td>\n",
       "      <td>2020-10-26 09:13:20</td>\n",
       "      <td>279</td>\n",
       "      <td>0</td>\n",
       "      <td>0</td>\n",
       "      <td>0.040234</td>\n",
       "      <td>362.0</td>\n",
       "      <td>692</td>\n",
       "      <td>0.523121</td>\n",
       "      <td>3</td>\n",
       "      <td>0.679714</td>\n",
       "      <td>20.0</td>\n",
       "    </tr>\n",
       "    <tr>\n",
       "      <th>2274698</th>\n",
       "      <td>58</td>\n",
       "      <td>7847</td>\n",
       "      <td>A070000159</td>\n",
       "      <td>-1</td>\n",
       "      <td>2020-12-24 21:09:29</td>\n",
       "      <td>792</td>\n",
       "      <td>0</td>\n",
       "      <td>0</td>\n",
       "      <td>0.182091</td>\n",
       "      <td>295.0</td>\n",
       "      <td>810</td>\n",
       "      <td>0.364198</td>\n",
       "      <td>6</td>\n",
       "      <td>0.521167</td>\n",
       "      <td>2.0</td>\n",
       "    </tr>\n",
       "    <tr>\n",
       "      <th>2275968</th>\n",
       "      <td>64</td>\n",
       "      <td>7748</td>\n",
       "      <td>A070000146</td>\n",
       "      <td>-1</td>\n",
       "      <td>2020-12-29 04:30:22</td>\n",
       "      <td>781</td>\n",
       "      <td>0</td>\n",
       "      <td>0</td>\n",
       "      <td>0.755090</td>\n",
       "      <td>1058.0</td>\n",
       "      <td>1269</td>\n",
       "      <td>0.833727</td>\n",
       "      <td>6</td>\n",
       "      <td>0.521167</td>\n",
       "      <td>2.0</td>\n",
       "    </tr>\n",
       "  </tbody>\n",
       "</table>\n",
       "</div>"
      ],
      "text/plain": [
       "         userID  assessmentItemID      testId  answerCode           Timestamp  \\\n",
       "2267621       3              4965  A050000133          -1 2020-10-26 13:13:57   \n",
       "2268292       4              7748  A070000146          -1 2020-12-27 02:47:54   \n",
       "2269609      13              7484  A070000111          -1 2020-12-27 04:35:09   \n",
       "2270869      17              9381  A090000064          -1 2020-10-30 05:48:37   \n",
       "2271256      26              6231  A060000135          -1 2020-10-23 11:44:18   \n",
       "2272110      29              1967  A020000190          -1 2020-10-22 04:38:45   \n",
       "2273194      45              3759  A040000136          -1 2020-10-23 08:24:19   \n",
       "2273887      53              3779  A040000140          -1 2020-10-26 09:13:20   \n",
       "2274698      58              7847  A070000159          -1 2020-12-24 21:09:29   \n",
       "2275968      64              7748  A070000146          -1 2020-12-29 04:30:22   \n",
       "\n",
       "         KnowledgeTag  train  left_asymptote       elo  user_correct_answer  \\\n",
       "2267621           469      0               0  0.431119                717.0   \n",
       "2268292           781      0               0  0.508981                465.0   \n",
       "2269609           820      0               0  0.307210                915.0   \n",
       "2270869           309      0               0  0.447042               1031.0   \n",
       "2271256           183      0               0  0.247744                293.0   \n",
       "2272110           680      0               0  0.867810                723.0   \n",
       "2273194           276      0               0  0.677722                746.0   \n",
       "2273887           279      0               0  0.040234                362.0   \n",
       "2274698           792      0               0  0.182091                295.0   \n",
       "2275968           781      0               0  0.755090               1058.0   \n",
       "\n",
       "         user_total_answer  user_acc  Bigcat  Bigcat_avg  elapsed  \n",
       "2267621               1035  0.692754       4    0.658649     46.0  \n",
       "2268292                670  0.694030       6    0.521167     23.0  \n",
       "2269609               1316  0.695289       6    0.521167      8.0  \n",
       "2270869               1259  0.818904       8    0.454470     75.0  \n",
       "2271256                386  0.759067       5    0.711898     17.0  \n",
       "2272110                853  0.847597       1    0.737515     30.0  \n",
       "2273194               1083  0.688827       3    0.679714      4.0  \n",
       "2273887                692  0.523121       3    0.679714     20.0  \n",
       "2274698                810  0.364198       6    0.521167      2.0  \n",
       "2275968               1269  0.833727       6    0.521167      2.0  "
      ]
     },
     "execution_count": 41,
     "metadata": {},
     "output_type": "execute_result"
    }
   ],
   "source": [
    "# # LOAD TESTDATA\n",
    "# test_csv_file_path = os.path.join(data_dir, 'test_data.csv')\n",
    "# test_df = pd.read_csv(test_csv_file_path)\n",
    "\n",
    "# # FEATURE ENGINEERING\n",
    "# test_df = feature_engineering(test_df)\n",
    "\n",
    "# # LEAVE LAST INTERACTION ONLY\n",
    "# test_df = test_df[test_df['userID'] != test_df['userID'].shift(-1)]\n",
    "\n",
    "# submission = submission[FEATS]\n",
    "submission.head(10)\n",
    "\n",
    "\n",
    "# # DROP ANSWERCODE\n",
    "# test_df = test_df.drop(['answerCode'], axis=1)"
   ]
  },
  {
   "cell_type": "code",
   "execution_count": 42,
   "metadata": {
    "ExecuteTime": {
     "end_time": "2021-05-24T09:49:29.692739Z",
     "start_time": "2021-05-24T09:49:28.993Z"
    },
    "id": "XnwXJs_shfQ4"
   },
   "outputs": [
    {
     "data": {
      "text/plain": [
       "array([0.5273881 , 0.55462515, 0.37222853, 0.5635203 , 0.40078378,\n",
       "       0.68049055, 0.35328853, 0.3022312 , 0.33937305, 0.5462816 ],\n",
       "      dtype=float32)"
      ]
     },
     "execution_count": 42,
     "metadata": {},
     "output_type": "execute_result"
    }
   ],
   "source": [
    "# MAKE PREDICTION\n",
    "total_preds = model.predict_proba(submission[FEATS])[:,1]\n",
    "total_preds[:10]"
   ]
  },
  {
   "cell_type": "code",
   "execution_count": 35,
   "metadata": {},
   "outputs": [
    {
     "ename": "XGBoostError",
     "evalue": "[09:58:14] ../src/gbm/gbtree.h:338: Unknown feature importance type, expected one of: {\"weight\", \"total_gain\", \"total_cover\", \"gain\", \"cover\"}, got: split\nStack trace:\n  [bt] (0) /opt/conda/envs/dkt/lib/python3.10/site-packages/xgboost/lib/libxgboost.so(+0x29da59) [0x7fa2cd28ea59]\n  [bt] (1) /opt/conda/envs/dkt/lib/python3.10/site-packages/xgboost/lib/libxgboost.so(+0x2bb1ba) [0x7fa2cd2ac1ba]\n  [bt] (2) /opt/conda/envs/dkt/lib/python3.10/site-packages/xgboost/lib/libxgboost.so(+0x2ce164) [0x7fa2cd2bf164]\n  [bt] (3) /opt/conda/envs/dkt/lib/python3.10/site-packages/xgboost/lib/libxgboost.so(XGBoosterFeatureScore+0x6e5) [0x7fa2cd127275]\n  [bt] (4) /opt/conda/envs/dkt/lib/python3.10/lib-dynload/../../libffi.so.7(+0x69dd) [0x7fa3350939dd]\n  [bt] (5) /opt/conda/envs/dkt/lib/python3.10/lib-dynload/../../libffi.so.7(+0x6067) [0x7fa335093067]\n  [bt] (6) /opt/conda/envs/dkt/lib/python3.10/lib-dynload/_ctypes.cpython-310-x86_64-linux-gnu.so(+0x93ef) [0x7fa3350a23ef]\n  [bt] (7) /opt/conda/envs/dkt/lib/python3.10/lib-dynload/_ctypes.cpython-310-x86_64-linux-gnu.so(+0x865a) [0x7fa3350a165a]\n  [bt] (8) /opt/conda/envs/dkt/bin/python(_PyObject_MakeTpCall+0x25b) [0x4f7e1b]\n\n",
     "output_type": "error",
     "traceback": [
      "\u001b[0;31m---------------------------------------------------------------------------\u001b[0m",
      "\u001b[0;31mXGBoostError\u001b[0m                              Traceback (most recent call last)",
      "Cell \u001b[0;32mIn [35], line 6\u001b[0m\n\u001b[1;32m      1\u001b[0m \u001b[39m# model: 이미 학습이 완료된 LGBMModel, or Booster\u001b[39;00m\n\u001b[1;32m      2\u001b[0m \u001b[39m# FEATURES: model 학습에 사용된 모든 features\u001b[39;00m\n\u001b[1;32m      3\u001b[0m \u001b[39m# PATH: 그림을 저장할 경로\u001b[39;00m\n\u001b[1;32m      4\u001b[0m \n\u001b[1;32m      5\u001b[0m \u001b[39m# SPLIT\u001b[39;00m\n\u001b[0;32m----> 6\u001b[0m ax \u001b[39m=\u001b[39m plot_importance(model, max_num_features\u001b[39m=\u001b[39;49m\u001b[39mlen\u001b[39;49m(FEATS), importance_type\u001b[39m=\u001b[39;49m\u001b[39m'\u001b[39;49m\u001b[39msplit\u001b[39;49m\u001b[39m'\u001b[39;49m)\n\u001b[1;32m      7\u001b[0m ax\u001b[39m.\u001b[39mset(title\u001b[39m=\u001b[39m\u001b[39mf\u001b[39m\u001b[39m'\u001b[39m\u001b[39mFeature Importance (split)\u001b[39m\u001b[39m'\u001b[39m,\n\u001b[1;32m      8\u001b[0m \txlabel\u001b[39m=\u001b[39m\u001b[39m'\u001b[39m\u001b[39mFeature Importance\u001b[39m\u001b[39m'\u001b[39m,\n\u001b[1;32m      9\u001b[0m \tylabel\u001b[39m=\u001b[39m\u001b[39m'\u001b[39m\u001b[39mFeatures\u001b[39m\u001b[39m'\u001b[39m)\n\u001b[1;32m     10\u001b[0m ax\u001b[39m.\u001b[39mfigure\u001b[39m.\u001b[39msavefig(\u001b[39mf\u001b[39m\u001b[39m'\u001b[39m\u001b[39m./output/fi_split.png\u001b[39m\u001b[39m'\u001b[39m, dpi\u001b[39m=\u001b[39m\u001b[39m300\u001b[39m)\n",
      "File \u001b[0;32m/opt/conda/envs/dkt/lib/python3.10/site-packages/xgboost/plotting.py:82\u001b[0m, in \u001b[0;36mplot_importance\u001b[0;34m(booster, ax, height, xlim, ylim, title, xlabel, ylabel, fmap, importance_type, max_num_features, grid, show_values, **kwargs)\u001b[0m\n\u001b[1;32m     79\u001b[0m     \u001b[39mraise\u001b[39;00m \u001b[39mImportError\u001b[39;00m(\u001b[39m'\u001b[39m\u001b[39mYou must install matplotlib to plot importance\u001b[39m\u001b[39m'\u001b[39m) \u001b[39mfrom\u001b[39;00m \u001b[39me\u001b[39;00m\n\u001b[1;32m     81\u001b[0m \u001b[39mif\u001b[39;00m \u001b[39misinstance\u001b[39m(booster, XGBModel):\n\u001b[0;32m---> 82\u001b[0m     importance \u001b[39m=\u001b[39m booster\u001b[39m.\u001b[39;49mget_booster()\u001b[39m.\u001b[39;49mget_score(\n\u001b[1;32m     83\u001b[0m         importance_type\u001b[39m=\u001b[39;49mimportance_type, fmap\u001b[39m=\u001b[39;49mfmap)\n\u001b[1;32m     84\u001b[0m \u001b[39melif\u001b[39;00m \u001b[39misinstance\u001b[39m(booster, Booster):\n\u001b[1;32m     85\u001b[0m     importance \u001b[39m=\u001b[39m booster\u001b[39m.\u001b[39mget_score(importance_type\u001b[39m=\u001b[39mimportance_type, fmap\u001b[39m=\u001b[39mfmap)\n",
      "File \u001b[0;32m/opt/conda/envs/dkt/lib/python3.10/site-packages/xgboost/core.py:2608\u001b[0m, in \u001b[0;36mBooster.get_score\u001b[0;34m(self, fmap, importance_type)\u001b[0m\n\u001b[1;32m   2605\u001b[0m out_dim \u001b[39m=\u001b[39m c_bst_ulong()\n\u001b[1;32m   2606\u001b[0m shape \u001b[39m=\u001b[39m ctypes\u001b[39m.\u001b[39mPOINTER(c_bst_ulong)()\n\u001b[0;32m-> 2608\u001b[0m _check_call(\n\u001b[1;32m   2609\u001b[0m     _LIB\u001b[39m.\u001b[39;49mXGBoosterFeatureScore(\n\u001b[1;32m   2610\u001b[0m         \u001b[39mself\u001b[39;49m\u001b[39m.\u001b[39;49mhandle,\n\u001b[1;32m   2611\u001b[0m         make_jcargs(importance_type\u001b[39m=\u001b[39;49mimportance_type, feature_map\u001b[39m=\u001b[39;49mfmap),\n\u001b[1;32m   2612\u001b[0m         ctypes\u001b[39m.\u001b[39;49mbyref(n_out_features),\n\u001b[1;32m   2613\u001b[0m         ctypes\u001b[39m.\u001b[39;49mbyref(features),\n\u001b[1;32m   2614\u001b[0m         ctypes\u001b[39m.\u001b[39;49mbyref(out_dim),\n\u001b[1;32m   2615\u001b[0m         ctypes\u001b[39m.\u001b[39;49mbyref(shape),\n\u001b[1;32m   2616\u001b[0m         ctypes\u001b[39m.\u001b[39;49mbyref(scores),\n\u001b[1;32m   2617\u001b[0m     )\n\u001b[1;32m   2618\u001b[0m )\n\u001b[1;32m   2619\u001b[0m features_arr \u001b[39m=\u001b[39m from_cstr_to_pystr(features, n_out_features)\n\u001b[1;32m   2620\u001b[0m scores_arr \u001b[39m=\u001b[39m _prediction_output(shape, out_dim, scores, \u001b[39mFalse\u001b[39;00m)\n",
      "File \u001b[0;32m/opt/conda/envs/dkt/lib/python3.10/site-packages/xgboost/core.py:279\u001b[0m, in \u001b[0;36m_check_call\u001b[0;34m(ret)\u001b[0m\n\u001b[1;32m    268\u001b[0m \u001b[39m\"\"\"Check the return value of C API call\u001b[39;00m\n\u001b[1;32m    269\u001b[0m \n\u001b[1;32m    270\u001b[0m \u001b[39mThis function will raise exception when error occurs.\u001b[39;00m\n\u001b[0;32m   (...)\u001b[0m\n\u001b[1;32m    276\u001b[0m \u001b[39m    return value from API calls\u001b[39;00m\n\u001b[1;32m    277\u001b[0m \u001b[39m\"\"\"\u001b[39;00m\n\u001b[1;32m    278\u001b[0m \u001b[39mif\u001b[39;00m ret \u001b[39m!=\u001b[39m \u001b[39m0\u001b[39m:\n\u001b[0;32m--> 279\u001b[0m     \u001b[39mraise\u001b[39;00m XGBoostError(py_str(_LIB\u001b[39m.\u001b[39mXGBGetLastError()))\n",
      "\u001b[0;31mXGBoostError\u001b[0m: [09:58:14] ../src/gbm/gbtree.h:338: Unknown feature importance type, expected one of: {\"weight\", \"total_gain\", \"total_cover\", \"gain\", \"cover\"}, got: split\nStack trace:\n  [bt] (0) /opt/conda/envs/dkt/lib/python3.10/site-packages/xgboost/lib/libxgboost.so(+0x29da59) [0x7fa2cd28ea59]\n  [bt] (1) /opt/conda/envs/dkt/lib/python3.10/site-packages/xgboost/lib/libxgboost.so(+0x2bb1ba) [0x7fa2cd2ac1ba]\n  [bt] (2) /opt/conda/envs/dkt/lib/python3.10/site-packages/xgboost/lib/libxgboost.so(+0x2ce164) [0x7fa2cd2bf164]\n  [bt] (3) /opt/conda/envs/dkt/lib/python3.10/site-packages/xgboost/lib/libxgboost.so(XGBoosterFeatureScore+0x6e5) [0x7fa2cd127275]\n  [bt] (4) /opt/conda/envs/dkt/lib/python3.10/lib-dynload/../../libffi.so.7(+0x69dd) [0x7fa3350939dd]\n  [bt] (5) /opt/conda/envs/dkt/lib/python3.10/lib-dynload/../../libffi.so.7(+0x6067) [0x7fa335093067]\n  [bt] (6) /opt/conda/envs/dkt/lib/python3.10/lib-dynload/_ctypes.cpython-310-x86_64-linux-gnu.so(+0x93ef) [0x7fa3350a23ef]\n  [bt] (7) /opt/conda/envs/dkt/lib/python3.10/lib-dynload/_ctypes.cpython-310-x86_64-linux-gnu.so(+0x865a) [0x7fa3350a165a]\n  [bt] (8) /opt/conda/envs/dkt/bin/python(_PyObject_MakeTpCall+0x25b) [0x4f7e1b]\n\n"
     ]
    }
   ],
   "source": [
    "# model: 이미 학습이 완료된 LGBMModel, or Booster\n",
    "# FEATURES: model 학습에 사용된 모든 features\n",
    "# PATH: 그림을 저장할 경로\n",
    "\n",
    "# SPLIT\n",
    "ax = plot_importance(model, max_num_features=len(FEATS), importance_type='split')\n",
    "ax.set(title=f'Feature Importance (split)',\n",
    "\txlabel='Feature Importance',\n",
    "\tylabel='Features')\n",
    "ax.figure.savefig(f'./output/fi_split.png', dpi=300)\n",
    "\n",
    "\n",
    "# GAIN\n",
    "ax = plot_importance(model, max_num_features=len(FEATS), importance_type='gain')\n",
    "ax.set(title=f'Feature Importance (gain)',\n",
    "\txlabel='Feature Importance',\n",
    "\tylabel='Features')\n",
    "ax.figure.savefig(f'./output/fi_gain.png', dpi=300)"
   ]
  },
  {
   "cell_type": "code",
   "execution_count": 43,
   "metadata": {
    "ExecuteTime": {
     "end_time": "2021-05-24T09:49:29.694736Z",
     "start_time": "2021-05-24T09:49:28.995Z"
    },
    "id": "f8PvohzwhfQ4"
   },
   "outputs": [
    {
     "name": "stdout",
     "output_type": "stream",
     "text": [
      "writing prediction : output/xgbacckfold_submission.csv\n"
     ]
    }
   ],
   "source": [
    "# SAVE OUTPUT\n",
    "output_dir = 'output/'\n",
    "write_path = os.path.join(output_dir, \"xgbacckfold_submission.csv\")\n",
    "if not os.path.exists(output_dir):\n",
    "    os.makedirs(output_dir)\n",
    "with open(write_path, 'w', encoding='utf8') as w:\n",
    "    print(\"writing prediction : {}\".format(write_path))\n",
    "    w.write(\"id,prediction\\n\")\n",
    "    for id, p in enumerate(total_preds):\n",
    "        w.write('{},{}\\n'.format(id,p))"
   ]
  },
  {
   "cell_type": "markdown",
   "metadata": {
    "id": "eAW3-StWRFOK"
   },
   "source": [
    "###**콘텐츠 라이선스**\n",
    "\n",
    "<font color='red'><b>**WARNING**</b></font> : **본 교육 콘텐츠의 지식재산권은 재단법인 네이버커넥트에 귀속됩니다. 본 콘텐츠를 어떠한 경로로든 외부로 유출 및 수정하는 행위를 엄격히 금합니다.** 다만, 비영리적 교육 및 연구활동에 한정되어 사용할 수 있으나 재단의 허락을 받아야 합니다. 이를 위반하는 경우, 관련 법률에 따라 책임을 질 수 있습니다.\n",
    "\n"
   ]
  }
 ],
 "metadata": {
  "colab": {
   "collapsed_sections": [],
   "provenance": []
  },
  "kernelspec": {
   "display_name": "Python 3 (ipykernel)",
   "language": "python",
   "name": "python3"
  },
  "language_info": {
   "codemirror_mode": {
    "name": "ipython",
    "version": 3
   },
   "file_extension": ".py",
   "mimetype": "text/x-python",
   "name": "python",
   "nbconvert_exporter": "python",
   "pygments_lexer": "ipython3",
   "version": "3.10.8"
  },
  "toc": {
   "base_numbering": 1,
   "nav_menu": {},
   "number_sections": false,
   "sideBar": true,
   "skip_h1_title": false,
   "title_cell": "Table of Contents",
   "title_sidebar": "Contents",
   "toc_cell": false,
   "toc_position": {},
   "toc_section_display": true,
   "toc_window_display": true
  },
  "vscode": {
   "interpreter": {
    "hash": "09d4b5de27b89318d6e35b29f9634657110a12e6b33fcea780feda7aad3e9c4b"
   }
  }
 },
 "nbformat": 4,
 "nbformat_minor": 4
}
