{
  "cells": [
    {
      "cell_type": "markdown",
      "metadata": {
        "id": "yt7sDAqHhfQp"
      },
      "source": [
        "# LGBM을 활용한 베이스라인"
      ]
    },
    {
      "cell_type": "code",
      "execution_count": 17,
      "metadata": {
        "ExecuteTime": {
          "end_time": "2021-05-24T09:49:29.375544Z",
          "start_time": "2021-05-24T09:49:28.999092Z"
        },
        "id": "Uq_TJqbdhfQu"
      },
      "outputs": [],
      "source": [
        "import pandas as pd\n",
        "import os\n",
        "import random"
      ]
    },
    {
      "cell_type": "markdown",
      "metadata": {
        "id": "QZlm5HSmhfQv"
      },
      "source": [
        "## 1. 데이터 로딩"
      ]
    },
    {
      "cell_type": "code",
      "execution_count": 18,
      "metadata": {
        "ExecuteTime": {
          "end_time": "2021-05-24T09:49:29.678737Z",
          "start_time": "2021-05-24T09:49:29.376581Z"
        },
        "id": "s6qgJ8MLhfQw"
      },
      "outputs": [],
      "source": [
        "data_dir = '/opt/ml/input/data/' # 경로는 상황에 맞춰서 수정해주세요!\n",
        "csv_file_path = os.path.join(data_dir, 'train_data.csv') # 데이터는 대회홈페이지에서 받아주세요 :)\n",
        "df = pd.read_csv(csv_file_path) "
      ]
    },
    {
      "cell_type": "markdown",
      "metadata": {
        "id": "p_oCGAgEhfQw"
      },
      "source": [
        "## 2. Feature Engineering"
      ]
    },
    {
      "cell_type": "code",
      "execution_count": 19,
      "metadata": {
        "ExecuteTime": {
          "end_time": "2021-05-24T09:49:29.682739Z",
          "start_time": "2021-05-24T09:49:28.979Z"
        },
        "id": "URNLoukChfQx"
      },
      "outputs": [],
      "source": [
        "def feature_engineering(df):\n",
        "    \n",
        "    #유저별 시퀀스를 고려하기 위해 아래와 같이 정렬\n",
        "    df.sort_values(by=['userID','Timestamp'], inplace=True)\n",
        "    \n",
        "    #유저들의 문제 풀이수, 정답 수, 정답률을 시간순으로 누적해서 계산\n",
        "    df['user_correct_answer'] = df.groupby('userID')['answerCode'].transform(lambda x: x.cumsum().shift(1))\n",
        "    df['user_total_answer'] = df.groupby('userID')['answerCode'].cumcount()\n",
        "    df['user_acc'] = df['user_correct_answer']/df['user_total_answer']\n",
        "    df['Timestamp'] = pd.to_datetime(df['Timestamp'])\n",
        "    df['hour'] = df['Timestamp'].dt.hour\n",
        "    diff = df.loc[:, ['userID', 'Timestamp']].groupby('userID').diff().fillna(pd.Timedelta(seconds=0))\n",
        "    diff = diff.fillna(pd.Timedelta(seconds=0))\n",
        "    diff = diff['Timestamp'].apply(lambda x: x.total_seconds())\n",
        "    df['elapsed'] = diff\n",
        "    df['Bigcat'] = df['testId'].str[2]\n",
        "    df['Bigcat'] = df['Bigcat'].astype('category')\n",
        "\n",
        "\n",
        "    # testId와 KnowledgeTag의 전체 정답률은 한번에 계산\n",
        "    # 아래 데이터는 제출용 데이터셋에 대해서도 재사용\n",
        "    correct_t = df.groupby(['testId'])['answerCode'].agg(['mean', 'sum'])\n",
        "    correct_t.columns = [\"test_mean\", 'test_sum']\n",
        "    correct_k = df.groupby(['KnowledgeTag'])['answerCode'].agg(['mean', 'sum'])\n",
        "    correct_k.columns = [\"tag_mean\", 'tag_sum']\n",
        "\n",
        "    df = pd.merge(df, correct_t, on=['testId'], how=\"left\")\n",
        "    df = pd.merge(df, correct_k, on=['KnowledgeTag'], how=\"left\")\n",
        "    \n",
        "    return df"
      ]
    },
    {
      "cell_type": "code",
      "execution_count": 20,
      "metadata": {
        "ExecuteTime": {
          "end_time": "2021-05-24T09:49:29.683739Z",
          "start_time": "2021-05-24T09:49:28.981Z"
        },
        "id": "2vsUwksMhfQy",
        "scrolled": false
      },
      "outputs": [
        {
          "data": {
            "text/html": [
              "<div>\n",
              "<style scoped>\n",
              "    .dataframe tbody tr th:only-of-type {\n",
              "        vertical-align: middle;\n",
              "    }\n",
              "\n",
              "    .dataframe tbody tr th {\n",
              "        vertical-align: top;\n",
              "    }\n",
              "\n",
              "    .dataframe thead th {\n",
              "        text-align: right;\n",
              "    }\n",
              "</style>\n",
              "<table border=\"1\" class=\"dataframe\">\n",
              "  <thead>\n",
              "    <tr style=\"text-align: right;\">\n",
              "      <th></th>\n",
              "      <th>userID</th>\n",
              "      <th>assessmentItemID</th>\n",
              "      <th>testId</th>\n",
              "      <th>answerCode</th>\n",
              "      <th>Timestamp</th>\n",
              "      <th>KnowledgeTag</th>\n",
              "      <th>user_correct_answer</th>\n",
              "      <th>user_total_answer</th>\n",
              "      <th>user_acc</th>\n",
              "      <th>hour</th>\n",
              "      <th>elapsed</th>\n",
              "      <th>Bigcat</th>\n",
              "      <th>test_mean</th>\n",
              "      <th>test_sum</th>\n",
              "      <th>tag_mean</th>\n",
              "      <th>tag_sum</th>\n",
              "    </tr>\n",
              "  </thead>\n",
              "  <tbody>\n",
              "    <tr>\n",
              "      <th>0</th>\n",
              "      <td>0</td>\n",
              "      <td>A060001001</td>\n",
              "      <td>A060000001</td>\n",
              "      <td>1</td>\n",
              "      <td>2020-03-24 00:17:11</td>\n",
              "      <td>7224</td>\n",
              "      <td>NaN</td>\n",
              "      <td>0</td>\n",
              "      <td>NaN</td>\n",
              "      <td>0</td>\n",
              "      <td>0.0</td>\n",
              "      <td>6</td>\n",
              "      <td>0.947683</td>\n",
              "      <td>1268</td>\n",
              "      <td>0.955022</td>\n",
              "      <td>637</td>\n",
              "    </tr>\n",
              "    <tr>\n",
              "      <th>1</th>\n",
              "      <td>0</td>\n",
              "      <td>A060001002</td>\n",
              "      <td>A060000001</td>\n",
              "      <td>1</td>\n",
              "      <td>2020-03-24 00:17:14</td>\n",
              "      <td>7225</td>\n",
              "      <td>1.0</td>\n",
              "      <td>1</td>\n",
              "      <td>1.0</td>\n",
              "      <td>0</td>\n",
              "      <td>3.0</td>\n",
              "      <td>6</td>\n",
              "      <td>0.947683</td>\n",
              "      <td>1268</td>\n",
              "      <td>0.913187</td>\n",
              "      <td>3040</td>\n",
              "    </tr>\n",
              "    <tr>\n",
              "      <th>2</th>\n",
              "      <td>0</td>\n",
              "      <td>A060001003</td>\n",
              "      <td>A060000001</td>\n",
              "      <td>1</td>\n",
              "      <td>2020-03-24 00:17:22</td>\n",
              "      <td>7225</td>\n",
              "      <td>2.0</td>\n",
              "      <td>2</td>\n",
              "      <td>1.0</td>\n",
              "      <td>0</td>\n",
              "      <td>8.0</td>\n",
              "      <td>6</td>\n",
              "      <td>0.947683</td>\n",
              "      <td>1268</td>\n",
              "      <td>0.913187</td>\n",
              "      <td>3040</td>\n",
              "    </tr>\n",
              "    <tr>\n",
              "      <th>3</th>\n",
              "      <td>0</td>\n",
              "      <td>A060001004</td>\n",
              "      <td>A060000001</td>\n",
              "      <td>1</td>\n",
              "      <td>2020-03-24 00:17:29</td>\n",
              "      <td>7225</td>\n",
              "      <td>3.0</td>\n",
              "      <td>3</td>\n",
              "      <td>1.0</td>\n",
              "      <td>0</td>\n",
              "      <td>7.0</td>\n",
              "      <td>6</td>\n",
              "      <td>0.947683</td>\n",
              "      <td>1268</td>\n",
              "      <td>0.913187</td>\n",
              "      <td>3040</td>\n",
              "    </tr>\n",
              "    <tr>\n",
              "      <th>4</th>\n",
              "      <td>0</td>\n",
              "      <td>A060001005</td>\n",
              "      <td>A060000001</td>\n",
              "      <td>1</td>\n",
              "      <td>2020-03-24 00:17:36</td>\n",
              "      <td>7225</td>\n",
              "      <td>4.0</td>\n",
              "      <td>4</td>\n",
              "      <td>1.0</td>\n",
              "      <td>0</td>\n",
              "      <td>7.0</td>\n",
              "      <td>6</td>\n",
              "      <td>0.947683</td>\n",
              "      <td>1268</td>\n",
              "      <td>0.913187</td>\n",
              "      <td>3040</td>\n",
              "    </tr>\n",
              "  </tbody>\n",
              "</table>\n",
              "</div>"
            ],
            "text/plain": [
              "   userID assessmentItemID      testId  answerCode           Timestamp  \\\n",
              "0       0       A060001001  A060000001           1 2020-03-24 00:17:11   \n",
              "1       0       A060001002  A060000001           1 2020-03-24 00:17:14   \n",
              "2       0       A060001003  A060000001           1 2020-03-24 00:17:22   \n",
              "3       0       A060001004  A060000001           1 2020-03-24 00:17:29   \n",
              "4       0       A060001005  A060000001           1 2020-03-24 00:17:36   \n",
              "\n",
              "   KnowledgeTag  user_correct_answer  user_total_answer  user_acc  hour  \\\n",
              "0          7224                  NaN                  0       NaN     0   \n",
              "1          7225                  1.0                  1       1.0     0   \n",
              "2          7225                  2.0                  2       1.0     0   \n",
              "3          7225                  3.0                  3       1.0     0   \n",
              "4          7225                  4.0                  4       1.0     0   \n",
              "\n",
              "   elapsed Bigcat  test_mean  test_sum  tag_mean  tag_sum  \n",
              "0      0.0      6   0.947683      1268  0.955022      637  \n",
              "1      3.0      6   0.947683      1268  0.913187     3040  \n",
              "2      8.0      6   0.947683      1268  0.913187     3040  \n",
              "3      7.0      6   0.947683      1268  0.913187     3040  \n",
              "4      7.0      6   0.947683      1268  0.913187     3040  "
            ]
          },
          "execution_count": 20,
          "metadata": {},
          "output_type": "execute_result"
        }
      ],
      "source": [
        "df = feature_engineering(df)\n",
        "df.head()"
      ]
    },
    {
      "cell_type": "markdown",
      "metadata": {
        "id": "5VZzei3DhfQy"
      },
      "source": [
        "## 3. Train/Test 데이터 셋 분리"
      ]
    },
    {
      "cell_type": "code",
      "execution_count": 21,
      "metadata": {
        "ExecuteTime": {
          "end_time": "2021-05-24T09:49:29.684739Z",
          "start_time": "2021-05-24T09:49:28.982Z"
        },
        "id": "YOPWK7ckhfQz"
      },
      "outputs": [],
      "source": [
        "# train과 test 데이터셋은 사용자 별로 묶어서 분리를 해주어야함\n",
        "random.seed(42)\n",
        "def custom_train_test_split(df, ratio=0.7, split=True):\n",
        "    \n",
        "    users = list(zip(df['userID'].value_counts().index, df['userID'].value_counts()))\n",
        "    random.shuffle(users)\n",
        "    \n",
        "    max_train_data_len = ratio*len(df)\n",
        "    sum_of_train_data = 0\n",
        "    user_ids =[]\n",
        "\n",
        "    for user_id, count in users:\n",
        "        sum_of_train_data += count\n",
        "        if max_train_data_len < sum_of_train_data:\n",
        "            break\n",
        "        user_ids.append(user_id)\n",
        "\n",
        "\n",
        "    train = df[df['userID'].isin(user_ids)]\n",
        "    test = df[df['userID'].isin(user_ids) == False]\n",
        "\n",
        "    #test데이터셋은 각 유저의 마지막 interaction만 추출\n",
        "    test = test[test['userID'] != test['userID'].shift(-1)]\n",
        "    return train, test"
      ]
    },
    {
      "cell_type": "code",
      "execution_count": 22,
      "metadata": {
        "ExecuteTime": {
          "end_time": "2021-05-24T09:49:29.686739Z",
          "start_time": "2021-05-24T09:49:28.984Z"
        },
        "id": "i3HzdoybhfQ0"
      },
      "outputs": [],
      "source": [
        "# 유저별 분리\n",
        "train, test = custom_train_test_split(df)\n",
        "\n",
        "# 사용할 Feature 설정\n",
        "FEATS = ['KnowledgeTag', 'user_correct_answer', 'user_total_answer', \n",
        "         'user_acc', 'test_mean', 'test_sum', 'tag_mean','tag_sum', 'elapsed','Bigcat']\n",
        "\n",
        "# X, y 값 분리\n",
        "y_train = train['answerCode']\n",
        "train = train.drop(['answerCode'], axis=1)\n",
        "\n",
        "y_test = test['answerCode']\n",
        "test = test.drop(['answerCode'], axis=1)"
      ]
    },
    {
      "cell_type": "code",
      "execution_count": 23,
      "metadata": {
        "ExecuteTime": {
          "end_time": "2021-05-24T09:49:29.687739Z",
          "start_time": "2021-05-24T09:49:28.985Z"
        },
        "id": "mwAF79FbhfQ1"
      },
      "outputs": [],
      "source": [
        "import lightgbm as lgb\n",
        "from sklearn.metrics import roc_auc_score\n",
        "from sklearn.metrics import accuracy_score\n",
        "import numpy as np"
      ]
    },
    {
      "cell_type": "code",
      "execution_count": 24,
      "metadata": {
        "ExecuteTime": {
          "end_time": "2021-05-24T09:49:29.688736Z",
          "start_time": "2021-05-24T09:49:28.986Z"
        },
        "id": "o59GhDdVhfQ1"
      },
      "outputs": [],
      "source": [
        "lgb_train = lgb.Dataset(train[FEATS], y_train)\n",
        "lgb_test = lgb.Dataset(test[FEATS], y_test)"
      ]
    },
    {
      "cell_type": "code",
      "execution_count": 25,
      "metadata": {},
      "outputs": [
        {
          "name": "stdout",
          "output_type": "stream",
          "text": [
            "<class 'pandas.core.frame.DataFrame'>\n",
            "Int64Index: 2266586 entries, 0 to 2266585\n",
            "Data columns (total 16 columns):\n",
            " #   Column               Dtype         \n",
            "---  ------               -----         \n",
            " 0   userID               int64         \n",
            " 1   assessmentItemID     object        \n",
            " 2   testId               object        \n",
            " 3   answerCode           int64         \n",
            " 4   Timestamp            datetime64[ns]\n",
            " 5   KnowledgeTag         int64         \n",
            " 6   user_correct_answer  float64       \n",
            " 7   user_total_answer    int64         \n",
            " 8   user_acc             float64       \n",
            " 9   hour                 int64         \n",
            " 10  elapsed              float64       \n",
            " 11  Bigcat               category      \n",
            " 12  test_mean            float64       \n",
            " 13  test_sum             int64         \n",
            " 14  tag_mean             float64       \n",
            " 15  tag_sum              int64         \n",
            "dtypes: category(1), datetime64[ns](1), float64(5), int64(7), object(2)\n",
            "memory usage: 278.8+ MB\n"
          ]
        }
      ],
      "source": [
        "df.info()"
      ]
    },
    {
      "cell_type": "markdown",
      "metadata": {
        "id": "KiHss_BBhfQ2"
      },
      "source": [
        "## 4. 훈련 및 검증"
      ]
    },
    {
      "cell_type": "code",
      "execution_count": 26,
      "metadata": {
        "ExecuteTime": {
          "end_time": "2021-05-24T09:49:29.689738Z",
          "start_time": "2021-05-24T09:49:28.988Z"
        },
        "id": "-6FZfjA_hfQ2"
      },
      "outputs": [
        {
          "name": "stderr",
          "output_type": "stream",
          "text": [
            "/opt/conda/envs/dkt/lib/python3.10/site-packages/lightgbm/engine.py:181: UserWarning: 'early_stopping_rounds' argument is deprecated and will be removed in a future release of LightGBM. Pass 'early_stopping()' callback via 'callbacks' argument instead.\n",
            "  _log_warning(\"'early_stopping_rounds' argument is deprecated and will be removed in a future release of LightGBM. \"\n",
            "/opt/conda/envs/dkt/lib/python3.10/site-packages/lightgbm/engine.py:239: UserWarning: 'verbose_eval' argument is deprecated and will be removed in a future release of LightGBM. Pass 'log_evaluation()' callback via 'callbacks' argument instead.\n",
            "  _log_warning(\"'verbose_eval' argument is deprecated and will be removed in a future release of LightGBM. \"\n"
          ]
        },
        {
          "name": "stdout",
          "output_type": "stream",
          "text": [
            "[LightGBM] [Info] Number of positive: 1039565, number of negative: 546592\n",
            "[LightGBM] [Warning] Auto-choosing row-wise multi-threading, the overhead of testing was 0.010229 seconds.\n",
            "You can set `force_row_wise=true` to remove the overhead.\n",
            "And if memory is not enough, you can set `force_col_wise=true`.\n",
            "[LightGBM] [Info] Total Bins 2296\n",
            "[LightGBM] [Info] Number of data points in the train set: 1586157, number of used features: 10\n",
            "[LightGBM] [Info] [binary:BoostFromScore]: pavg=0.655399 -> initscore=0.642855\n",
            "[LightGBM] [Info] Start training from score 0.642855\n",
            "Training until validation scores don't improve for 100 rounds\n"
          ]
        },
        {
          "name": "stderr",
          "output_type": "stream",
          "text": [
            "/opt/conda/envs/dkt/lib/python3.10/site-packages/lightgbm/basic.py:1780: UserWarning: Overriding the parameters from Reference Dataset.\n",
            "  _log_warning('Overriding the parameters from Reference Dataset.')\n",
            "/opt/conda/envs/dkt/lib/python3.10/site-packages/lightgbm/basic.py:1513: UserWarning: categorical_column in param dict is overridden.\n",
            "  _log_warning(f'{cat_alias} in param dict is overridden.')\n"
          ]
        },
        {
          "name": "stdout",
          "output_type": "stream",
          "text": [
            "[100]\ttraining's binary_logloss: 0.520527\tvalid_1's binary_logloss: 0.626146\n",
            "[200]\ttraining's binary_logloss: 0.516732\tvalid_1's binary_logloss: 0.62406\n",
            "[300]\ttraining's binary_logloss: 0.513406\tvalid_1's binary_logloss: 0.6225\n",
            "[400]\ttraining's binary_logloss: 0.511142\tvalid_1's binary_logloss: 0.622238\n",
            "[500]\ttraining's binary_logloss: 0.509054\tvalid_1's binary_logloss: 0.621224\n",
            "Did not meet early stopping. Best iteration is:\n",
            "[500]\ttraining's binary_logloss: 0.509054\tvalid_1's binary_logloss: 0.621224\n",
            "VALID AUC : 0.7391701451003777 ACC : 0.6756352765321375\n",
            "\n"
          ]
        }
      ],
      "source": [
        "model = lgb.train(\n",
        "    {'objective': 'binary'}, \n",
        "    lgb_train,\n",
        "    valid_sets=[lgb_train, lgb_test],\n",
        "    verbose_eval=100,\n",
        "    num_boost_round=500,\n",
        "    early_stopping_rounds=100\n",
        ")\n",
        "\n",
        "preds = model.predict(test[FEATS])\n",
        "acc = accuracy_score(y_test, np.where(preds >= 0.5, 1, 0))\n",
        "auc = roc_auc_score(y_test, preds)\n",
        "\n",
        "print(f'VALID AUC : {auc} ACC : {acc}\\n')"
      ]
    },
    {
      "cell_type": "code",
      "execution_count": 27,
      "metadata": {
        "ExecuteTime": {
          "end_time": "2021-05-24T09:49:29.690738Z",
          "start_time": "2021-05-24T09:49:28.989Z"
        },
        "id": "CKRjM0rxhfQ2"
      },
      "outputs": [],
      "source": [
        "# INSTALL MATPLOTLIB IN ADVANCE\n",
        "# _ = lgb.plot_importance(model)"
      ]
    },
    {
      "cell_type": "markdown",
      "metadata": {
        "id": "8Bsff1ZVhfQ3"
      },
      "source": [
        "## 5. Inference"
      ]
    },
    {
      "cell_type": "code",
      "execution_count": 28,
      "metadata": {
        "ExecuteTime": {
          "end_time": "2021-05-24T09:49:29.691738Z",
          "start_time": "2021-05-24T09:49:28.992Z"
        },
        "id": "N6YEFm8IhfQ3"
      },
      "outputs": [],
      "source": [
        "# LOAD TESTDATA\n",
        "test_csv_file_path = os.path.join(data_dir, 'test_data.csv')\n",
        "test_df = pd.read_csv(test_csv_file_path)\n",
        "\n",
        "# FEATURE ENGINEERING\n",
        "test_df = feature_engineering(test_df)\n",
        "\n",
        "# LEAVE LAST INTERACTION ONLY\n",
        "test_df = test_df[test_df['userID'] != test_df['userID'].shift(-1)]\n",
        "\n",
        "# DROP ANSWERCODE\n",
        "test_df = test_df.drop(['answerCode'], axis=1)"
      ]
    },
    {
      "cell_type": "code",
      "execution_count": 29,
      "metadata": {
        "ExecuteTime": {
          "end_time": "2021-05-24T09:49:29.692739Z",
          "start_time": "2021-05-24T09:49:28.993Z"
        },
        "id": "XnwXJs_shfQ4"
      },
      "outputs": [],
      "source": [
        "# MAKE PREDICTION\n",
        "total_preds = model.predict(test_df[FEATS])"
      ]
    },
    {
      "cell_type": "code",
      "execution_count": 32,
      "metadata": {
        "ExecuteTime": {
          "end_time": "2021-05-24T09:49:29.694736Z",
          "start_time": "2021-05-24T09:49:28.995Z"
        },
        "id": "f8PvohzwhfQ4"
      },
      "outputs": [
        {
          "name": "stdout",
          "output_type": "stream",
          "text": [
            "writing prediction : output/lgbm_cet_submission.csv\n"
          ]
        }
      ],
      "source": [
        "# SAVE OUTPUT\n",
        "output_dir = 'output/'\n",
        "write_path = os.path.join(output_dir, \"lgbm_cet_submission.csv\")\n",
        "if not os.path.exists(output_dir):\n",
        "    os.makedirs(output_dir)\n",
        "with open(write_path, 'w', encoding='utf8') as w:\n",
        "    print(\"writing prediction : {}\".format(write_path))\n",
        "    w.write(\"id,prediction\\n\")\n",
        "    for id, p in enumerate(total_preds):\n",
        "        w.write('{},{}\\n'.format(id,p))"
      ]
    },
    {
      "cell_type": "markdown",
      "metadata": {
        "id": "eAW3-StWRFOK"
      },
      "source": [
        "###**콘텐츠 라이선스**\n",
        "\n",
        "<font color='red'><b>**WARNING**</b></font> : **본 교육 콘텐츠의 지식재산권은 재단법인 네이버커넥트에 귀속됩니다. 본 콘텐츠를 어떠한 경로로든 외부로 유출 및 수정하는 행위를 엄격히 금합니다.** 다만, 비영리적 교육 및 연구활동에 한정되어 사용할 수 있으나 재단의 허락을 받아야 합니다. 이를 위반하는 경우, 관련 법률에 따라 책임을 질 수 있습니다.\n",
        "\n"
      ]
    },
    {
      "cell_type": "code",
      "execution_count": 33,
      "metadata": {
        "id": "A8KRLgpyRFnL"
      },
      "outputs": [
        {
          "data": {
            "image/png": "[encoded data removed]",
            "text/plain": [
              "<Figure size 640x480 with 1 Axes>"
            ]
          },
          "metadata": {},
          "output_type": "display_data"
        },
        {
          "data": {
            "image/png": "[encoded data removed]",
            "text/plain": [
              "<Figure size 640x480 with 1 Axes>"
            ]
          },
          "metadata": {},
          "output_type": "display_data"
        }
      ],
      "source": [
        "# model: 이미 학습이 완료된 LGBMModel, or Booster\n",
        "# FEATURES: model 학습에 사용된 모든 features\n",
        "# PATH: 그림을 저장할 경로\n",
        "\n",
        "# SPLIT\n",
        "ax = lgb.plot_importance(model, max_num_features=len(FEATS), importance_type='split')\n",
        "ax.set(title=f'Feature Importance (split)',\n",
        "\txlabel='Feature Importance',\n",
        "\tylabel='Features')\n",
        "ax.figure.savefig(f'./output/fi_split.png', dpi=300)\n",
        "\n",
        "\n",
        "# GAIN\n",
        "ax = lgb.plot_importance(model, max_num_features=len(FEATS), importance_type='gain')\n",
        "ax.set(title=f'Feature Importance (gain)',\n",
        "\txlabel='Feature Importance',\n",
        "\tylabel='Features')\n",
        "ax.figure.savefig(f'./output/fi_gain).png', dpi=300)"
      ]
    }
  ],
  "metadata": {
    "colab": {
      "collapsed_sections": [],
      "provenance": []
    },
    "kernelspec": {
      "display_name": "Python 3.10.8 ('dkt')",
      "language": "python",
      "name": "python3"
    },
    "language_info": {
      "codemirror_mode": {
        "name": "ipython",
        "version": 3
      },
      "file_extension": ".py",
      "mimetype": "text/x-python",
      "name": "python",
      "nbconvert_exporter": "python",
      "pygments_lexer": "ipython3",
      "version": "3.10.8"
    },
    "toc": {
      "base_numbering": 1,
      "nav_menu": {},
      "number_sections": false,
      "sideBar": true,
      "skip_h1_title": false,
      "title_cell": "Table of Contents",
      "title_sidebar": "Contents",
      "toc_cell": false,
      "toc_position": {},
      "toc_section_display": true,
      "toc_window_display": true
    },
    "vscode": {
      "interpreter": {
        "hash": "09d4b5de27b89318d6e35b29f9634657110a12e6b33fcea780feda7aad3e9c4b"
      }
    }
  },
  "nbformat": 4,
  "nbformat_minor": 0
}
