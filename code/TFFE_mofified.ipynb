{
 "cells": [
  {
   "cell_type": "markdown",
   "metadata": {
    "id": "yt7sDAqHhfQp"
   },
   "source": [
    "# Transformer계열 모델에서 사용할 total data"
   ]
  },
  {
   "cell_type": "code",
   "execution_count": 1,
   "metadata": {
    "ExecuteTime": {
     "end_time": "2021-05-24T09:49:29.375544Z",
     "start_time": "2021-05-24T09:49:28.999092Z"
    },
    "id": "Uq_TJqbdhfQu"
   },
   "outputs": [],
   "source": [
    "import pandas as pd\n",
    "import os\n",
    "import random\n",
    "import numpy as np\n",
    "from tqdm import tqdm\n",
    "\n",
    "import lightgbm as lgb\n",
    "from sklearn.metrics import roc_auc_score\n",
    "from sklearn.metrics import accuracy_score"
   ]
  },
  {
   "cell_type": "markdown",
   "metadata": {
    "id": "QZlm5HSmhfQv"
   },
   "source": [
    "## 1. Data load"
   ]
  },
  {
   "cell_type": "code",
   "execution_count": 2,
   "metadata": {
    "ExecuteTime": {
     "end_time": "2021-05-24T09:49:29.678737Z",
     "start_time": "2021-05-24T09:49:29.376581Z"
    },
    "id": "s6qgJ8MLhfQw"
   },
   "outputs": [],
   "source": [
    "data_dir = '../data/' # 경로는 상황에 맞춰서 수정해주세요!\n",
    "\n",
    "# LOAD TRAINDATA\n",
    "csv_file_path = os.path.join(data_dir, 'train_data.csv') # 데이터는 대회홈페이지에서 받아주세요 :)\n",
    "train_data = pd.read_csv(csv_file_path)\n",
    "\n",
    "# LOAD TESTDATA\n",
    "test_csv_file_path = os.path.join(data_dir, 'test_data.csv')\n",
    "test_data = pd.read_csv(test_csv_file_path)\n",
    "test_data['answerCode'] = test_data['answerCode'].replace(-1, np.nan)\n",
    "\n",
    "# # LEAVE LAST INTERACTION ONLY\n",
    "# train_df = test_df[test_df['userID'] == test_df['userID'].shift(-1)]\n",
    "# test_df = test_df[test_df['userID'] != test_df['userID'].shift(-1)]\n",
    "\n",
    "# df = pd.concat([df, train_df], ignore_index=True)"
   ]
  },
  {
   "cell_type": "markdown",
   "metadata": {},
   "source": [
    "## 2. Outlier"
   ]
  },
  {
   "cell_type": "code",
   "execution_count": 3,
   "metadata": {},
   "outputs": [],
   "source": [
    "userID = pd.unique(train_data.userID).tolist()\n",
    "answer_list = train_data.groupby(\"userID\")[\"answerCode\"].apply(list)\n",
    "answer_rate = np.array(userID)\n",
    "answer_rate = answer_rate[:, np.newaxis].tolist()"
   ]
  },
  {
   "cell_type": "code",
   "execution_count": 4,
   "metadata": {},
   "outputs": [],
   "source": [
    "# answer_rate -> userID, avg_acc, solved_count\n",
    "for u in range(len(answer_list)):\n",
    "    answer_rate[u].append(sum(answer_list[userID[u]])/len(answer_list[userID[u]]))\n",
    "    answer_rate[u].append(len(answer_list[userID[u]]))"
   ]
  },
  {
   "cell_type": "code",
   "execution_count": 5,
   "metadata": {},
   "outputs": [],
   "source": [
    "answer_rate_data = pd.DataFrame(data=answer_rate, index=userID, columns=['userID','answerRate','item_count'])"
   ]
  },
  {
   "cell_type": "code",
   "execution_count": 6,
   "metadata": {},
   "outputs": [
    {
     "data": {
      "text/html": [
       "<div>\n",
       "<style scoped>\n",
       "    .dataframe tbody tr th:only-of-type {\n",
       "        vertical-align: middle;\n",
       "    }\n",
       "\n",
       "    .dataframe tbody tr th {\n",
       "        vertical-align: top;\n",
       "    }\n",
       "\n",
       "    .dataframe thead th {\n",
       "        text-align: right;\n",
       "    }\n",
       "</style>\n",
       "<table border=\"1\" class=\"dataframe\">\n",
       "  <thead>\n",
       "    <tr style=\"text-align: right;\">\n",
       "      <th></th>\n",
       "      <th>userID</th>\n",
       "      <th>answerRate</th>\n",
       "      <th>item_count</th>\n",
       "    </tr>\n",
       "  </thead>\n",
       "  <tbody>\n",
       "    <tr>\n",
       "      <th>0</th>\n",
       "      <td>0</td>\n",
       "      <td>0.630872</td>\n",
       "      <td>745</td>\n",
       "    </tr>\n",
       "    <tr>\n",
       "      <th>1</th>\n",
       "      <td>1</td>\n",
       "      <td>0.853162</td>\n",
       "      <td>933</td>\n",
       "    </tr>\n",
       "    <tr>\n",
       "      <th>2</th>\n",
       "      <td>2</td>\n",
       "      <td>0.612319</td>\n",
       "      <td>276</td>\n",
       "    </tr>\n",
       "    <tr>\n",
       "      <th>5</th>\n",
       "      <td>5</td>\n",
       "      <td>0.795918</td>\n",
       "      <td>833</td>\n",
       "    </tr>\n",
       "    <tr>\n",
       "      <th>6</th>\n",
       "      <td>6</td>\n",
       "      <td>0.442997</td>\n",
       "      <td>921</td>\n",
       "    </tr>\n",
       "    <tr>\n",
       "      <th>...</th>\n",
       "      <td>...</td>\n",
       "      <td>...</td>\n",
       "      <td>...</td>\n",
       "    </tr>\n",
       "    <tr>\n",
       "      <th>7436</th>\n",
       "      <td>7436</td>\n",
       "      <td>0.466667</td>\n",
       "      <td>15</td>\n",
       "    </tr>\n",
       "    <tr>\n",
       "      <th>7437</th>\n",
       "      <td>7437</td>\n",
       "      <td>0.375000</td>\n",
       "      <td>16</td>\n",
       "    </tr>\n",
       "    <tr>\n",
       "      <th>7438</th>\n",
       "      <td>7438</td>\n",
       "      <td>0.750000</td>\n",
       "      <td>16</td>\n",
       "    </tr>\n",
       "    <tr>\n",
       "      <th>7440</th>\n",
       "      <td>7440</td>\n",
       "      <td>0.400000</td>\n",
       "      <td>15</td>\n",
       "    </tr>\n",
       "    <tr>\n",
       "      <th>7441</th>\n",
       "      <td>7441</td>\n",
       "      <td>0.555556</td>\n",
       "      <td>9</td>\n",
       "    </tr>\n",
       "  </tbody>\n",
       "</table>\n",
       "<p>6698 rows × 3 columns</p>\n",
       "</div>"
      ],
      "text/plain": [
       "      userID  answerRate  item_count\n",
       "0          0    0.630872         745\n",
       "1          1    0.853162         933\n",
       "2          2    0.612319         276\n",
       "5          5    0.795918         833\n",
       "6          6    0.442997         921\n",
       "...      ...         ...         ...\n",
       "7436    7436    0.466667          15\n",
       "7437    7437    0.375000          16\n",
       "7438    7438    0.750000          16\n",
       "7440    7440    0.400000          15\n",
       "7441    7441    0.555556           9\n",
       "\n",
       "[6698 rows x 3 columns]"
      ]
     },
     "execution_count": 6,
     "metadata": {},
     "output_type": "execute_result"
    }
   ],
   "source": [
    "answer_rate_data"
   ]
  },
  {
   "cell_type": "code",
   "execution_count": 7,
   "metadata": {},
   "outputs": [
    {
     "data": {
      "text/plain": [
       "(594, 12)"
      ]
     },
     "execution_count": 7,
     "metadata": {},
     "output_type": "execute_result"
    }
   ],
   "source": [
    "# 문제풀이 수가 30 이하인 유저 개수\n",
    "small_solved = answer_rate_data[answer_rate_data['item_count']<=30].userID.tolist()\n",
    "smallacc_bigacc = answer_rate_data[(answer_rate_data['answerRate']<=0.1) | (answer_rate_data['answerRate']>=0.95)].userID.tolist()\n",
    "len(small_solved), len(smallacc_bigacc)   # userID"
   ]
  },
  {
   "cell_type": "code",
   "execution_count": 8,
   "metadata": {},
   "outputs": [
    {
     "name": "stdout",
     "output_type": "stream",
     "text": [
      "original train data length :  2266586\n"
     ]
    },
    {
     "name": "stderr",
     "output_type": "stream",
     "text": [
      "100%|██████████| 594/594 [02:10<00:00,  4.54it/s]"
     ]
    },
    {
     "name": "stdout",
     "output_type": "stream",
     "text": [
      "processed train data length :  2253503\n"
     ]
    },
    {
     "name": "stderr",
     "output_type": "stream",
     "text": [
      "\n"
     ]
    }
   ],
   "source": [
    "print('original train data length : ', len(train_data))\n",
    "for outlier in tqdm(small_solved):\n",
    "    drop_idx = train_data[train_data['userID'] == outlier].index\n",
    "    train_data.drop(inplace=True, axis=0, index=drop_idx)\n",
    "print('processed train data length : ', len(train_data))"
   ]
  },
  {
   "cell_type": "code",
   "execution_count": 9,
   "metadata": {},
   "outputs": [
    {
     "name": "stdout",
     "output_type": "stream",
     "text": [
      "original train data length :  2253503\n"
     ]
    },
    {
     "name": "stderr",
     "output_type": "stream",
     "text": [
      "100%|██████████| 12/12 [00:02<00:00,  5.01it/s]"
     ]
    },
    {
     "name": "stdout",
     "output_type": "stream",
     "text": [
      "processed train data length :  2253154\n"
     ]
    },
    {
     "name": "stderr",
     "output_type": "stream",
     "text": [
      "\n"
     ]
    }
   ],
   "source": [
    "print('original train data length : ', len(train_data))\n",
    "for outlier in tqdm(smallacc_bigacc):\n",
    "    drop_idx = train_data[train_data['userID'] == outlier].index\n",
    "    train_data.drop(inplace=True, axis=0, index=drop_idx)\n",
    "print('processed train data length : ', len(train_data))"
   ]
  },
  {
   "cell_type": "markdown",
   "metadata": {
    "id": "p_oCGAgEhfQw"
   },
   "source": [
    "## 3. Feature Engineering"
   ]
  },
  {
   "cell_type": "code",
   "execution_count": 10,
   "metadata": {},
   "outputs": [],
   "source": [
    "train_data['train'] = 1\n",
    "test_data['train'] = 0"
   ]
  },
  {
   "cell_type": "code",
   "execution_count": 11,
   "metadata": {},
   "outputs": [],
   "source": [
    "test_data['answerCode'] = test_data['answerCode'].replace(-1, np.nan)"
   ]
  },
  {
   "cell_type": "code",
   "execution_count": 12,
   "metadata": {},
   "outputs": [],
   "source": [
    "total = pd.concat((train_data, test_data), axis=0)\n",
    "total = total.sort_values('userID')\n",
    "total.to_csv(data_dir + 'total_data.csv', index=False)"
   ]
  },
  {
   "cell_type": "code",
   "execution_count": 18,
   "metadata": {
    "ExecuteTime": {
     "end_time": "2021-05-24T09:49:29.682739Z",
     "start_time": "2021-05-24T09:49:28.979Z"
    },
    "id": "URNLoukChfQx"
   },
   "outputs": [],
   "source": [
    "def feature_engineering(data_dir):\n",
    "    total = pd.read_csv(os.path.join(data_dir, 'total_data.csv'), parse_dates=[\"Timestamp\"])\n",
    "    \n",
    "    ## 유저별 시퀀스를 고려하기 위해 아래와 같이 정렬\n",
    "    print('Timestamp')\n",
    "    total['Timestamp'] = pd.to_datetime(total['Timestamp'])\n",
    "    total.sort_values(by=['userID','Timestamp'], axis=0, inplace=True)#.reset_index(drop=True)\n",
    "    \n",
    "    ## 문제 푼 시간 재정의\n",
    "    # 같은 문제 몇번째 푸는지\n",
    "    print('same_item_cnt')\n",
    "    total['same_item_cnt'] = total.groupby(['userID', 'assessmentItemID']).cumcount() + 1\n",
    "    \n",
    "    # elapsed\n",
    "    print('prior elapsed')    # 직전 문제 풀이 소요 시간\n",
    "    diff = total.loc[:, ['userID', 'Timestamp']].groupby('userID').diff().fillna(pd.Timedelta(seconds=0))\n",
    "    diff = diff.fillna(pd.Timedelta(seconds=0))\n",
    "    diff = diff['Timestamp'].apply(lambda x: x.total_seconds())\n",
    "    total['prior_elapsed'] = diff\n",
    "    total['prior_elapsed'] = total['prior_elapsed'].apply(lambda x: x if x < 600 and x>=0 else 0)\n",
    "\n",
    "    print('current elapsed')    # 현재 문제 풀이 소요 시간\n",
    "    diff = total.loc[:, ['userID', 'Timestamp']].groupby('userID').diff().shift(-1).fillna(method='ffill') # 마지막 문제 소요시간을 직전 문제 시간으로 채움\n",
    "    diff = diff['Timestamp'].apply(lambda x: x.total_seconds())\n",
    "    total['current_elapsed'] = diff\n",
    "    total['current_elapsed'] = total['current_elapsed'].apply(lambda x: x if x < 600 and x>=0 else np.nan)\n",
    "    total['current_elapsed'] = total['current_elapsed'].fillna(method='ffill')\n",
    "\n",
    "    print('time class')\n",
    "    total['timeClass'] = total['current_elapsed']//5 + 1\n",
    "\n",
    "    print('day_diff')\n",
    "    day_diff = total.loc[:,['userID','Timestamp']].groupby('userID').diff().fillna(pd.Timedelta(seconds=0))\n",
    "    day_diff = day_diff['Timestamp'].apply(lambda x: x.days)\n",
    "    total['day_diff'] = day_diff\n",
    "    total['day_diff'] = total['day_diff'].apply(lambda x: x if x <= 3 and x>=0 else 4)   # 0-3은 그대로 / 나머지 1일로 클립\n",
    "\n",
    "\n",
    "    # 대분류\n",
    "    print('Bigcat')\n",
    "    total['Bigcat'] = total['assessmentItemID'].str[2]\n",
    "    total['Bigcat'] = total['Bigcat'].astype('category')\n",
    "\n",
    "\n",
    "\n",
    "    # # 유저, assessmentItemID, same_item_cnt 구분했을 때 문제 푸는데 걸린 시간 > shift, fillna x\n",
    "    # diff_shift = total.loc[:, ['userID', 'assessmentItemID', 'Timestamp', 'same_item_cnt']].groupby(['userID', 'testId', 'same_item_cnt']).diff().shift(-1)\n",
    "    # diff_shift = diff_shift['Timestamp'].apply(lambda x: x.total_seconds())\n",
    "    # total['solved_time_shift'] = diff_shift\n",
    "    # # total['solved_time_shift'] = total.groupby(['userID', 'testId', 'same_item_cnt'])['solved_time_shift'].apply(lambda x:x.fillna(x.mean()))\n",
    "\n",
    "    # # 맞은 사람의 문제별 평균 풀이시간\n",
    "    # total = total.set_index('assessmentItemID')\n",
    "    # total['Item_mean_solved_time'] = total[total['answerCode'] == 1].groupby('assessmentItemID')['solved_time_shift'].mean()\n",
    "    # total = total.reset_index(drop = False)\n",
    "\n",
    "    \n",
    "    # 1. agg 값 구하기\n",
    "    ## 1-1. 유저/문제/카테고리/태그별 평균 정답률\n",
    "    print('acc_avg')\n",
    "    total['user_avg'] = total.groupby('userID')['answerCode'].transform('mean')\n",
    "    total['test_avg'] = total.groupby('testId')['answerCode'].transform('mean')\n",
    "    total['item_avg'] = total.groupby('assessmentItemID')['answerCode'].transform('mean')\n",
    "    total['Bigcat_avg'] = total.groupby('Bigcat')['answerCode'].transform('mean')\n",
    "    total['tag_avg'] = total.groupby('KnowledgeTag')['answerCode'].transform('mean')\n",
    "\n",
    "    ## 1-2. 유저/문제/카테고리/태그별 평균 풀이시간\n",
    "    print('time_avg')\n",
    "    total['user_time_avg'] = total.groupby('userID')['prior_elapsed'].transform('mean')\n",
    "    total['test_time_avg'] = total.groupby('testId')['prior_elapsed'].transform('mean')\n",
    "    total['item_time_avg'] = total.groupby('assessmentItemID')['prior_elapsed'].transform('mean')\n",
    "    total['Bigcat_time_avg'] = total.groupby('Bigcat')['prior_elapsed'].transform('mean')\n",
    "    total['tag_time_avg'] = total.groupby('KnowledgeTag')['prior_elapsed'].transform('mean')\n",
    "     \n",
    "    ## 1-3 유저/문제/카테고리/태그별 표준편차\n",
    "    print('std')\n",
    "    total['user_std'] = total.groupby('userID')['answerCode'].transform('std')\n",
    "    total['test_std'] = total.groupby('testId')['answerCode'].transform('std')\n",
    "    total['item_std'] = total.groupby('assessmentItemID')['answerCode'].transform('std')\n",
    "    total['Bigcat_std'] = total.groupby('Bigcat')['answerCode'].transform('std')\n",
    "    total['tag_std'] = total.groupby('KnowledgeTag')['answerCode'].transform('std')\n",
    "\n",
    "    ## 1-4-1 유저별 누적 정답횟수\n",
    "    print('correct_answer')\n",
    "    total['user_correct_answer'] = total.groupby('userID')['answerCode'].transform(lambda x: x.cumsum().shift(1))\n",
    "    \n",
    "    ## 1-4-2 유저별 누적 정답률\n",
    "    print('Cumacc')\n",
    "    total['user_total_answer'] = total.groupby('userID')['answerCode'].cumcount()\n",
    "    total['user_Cumacc'] = total['user_correct_answer']/total['user_total_answer'] # 누적정답률\n",
    "    \n",
    "    ## 1-4-3 유저의 카테고리별 누적 정답횟수/정답률\n",
    "    print('Bigcat_Cumacc')\n",
    "    total['user_Bigcat_correct_answer'] = total.groupby(['userID','Bigcat'])['answerCode'].transform(lambda x: x.cumsum().shift(1))\n",
    "    total['user_Bigcat_total_answer'] = total.groupby(['userID','Bigcat'])['answerCode'].cumcount()\n",
    "    total['user_Bigcat_Cumacc'] = total['user_Bigcat_correct_answer']/total['user_Bigcat_total_answer']\n",
    "\n",
    "    ## 1-5. 현재 유저의 해당 문제지 평균 정답률/풀이시간\n",
    "    print('current_avg')\n",
    "    total['user_current_avg'] = total.groupby(['userID', 'testId', 'same_item_cnt'])['answerCode'].transform('mean')\n",
    "    total['user_current_time_avg'] = total.groupby(['userID', 'testId', 'same_item_cnt'])['prior_elapsed'].transform('mean')\n",
    "\n",
    "    # Bigcat_class\n",
    "    print('Bigcat_class')\n",
    "    total['Bigcat_class'] = round(total['Bigcat_avg']*10)\n",
    "    \n",
    "    # count\n",
    "    print('count')\n",
    "    total['assess_count'] = total.groupby('userID')['assessmentItemID'].cumcount()\n",
    "    total['tag_count'] = total.groupby('userID')['KnowledgeTag'].cumcount()\n",
    "    \n",
    "\n",
    "    # 2. 문제 푼 순서 추가 > 상대적 순서?\n",
    "    print('item_seq')\n",
    "    total['item_seq'] = total.groupby(['userID', 'testId', 'same_item_cnt']).cumcount() +1\n",
    "    total['item_seq'] = total['item_seq'].astype('category')\n",
    "\n",
    "    # 2-1 유저/문제별 최근 정답횟수 \n",
    "    print('retCount_correct_answer')\n",
    "    total['user_retCount_correct_answer'] = total.groupby('userID')['answerCode'].transform(lambda x:x.rolling(10, min_periods=1).sum().shift(1))\n",
    "\n",
    "    # 2-1 최근 정답률\n",
    "    print('retCumacc')\n",
    "    total['user_retCount'] = total.groupby('userID')['answerCode'].transform(lambda x:x.rolling(10, min_periods=1).count().shift(1))\n",
    "    total['user_retCumacc'] = total['user_retCount_correct_answer']/total['user_retCount']\n",
    "\n",
    "\n",
    "    # elo 위해서 다시 -1로 변환\n",
    "    total['answerCode'] = total['answerCode'].fillna(0.5)\n",
    "\n",
    "    \n",
    "    total[['user_correct_answer',\n",
    "           'user_Cumacc',\n",
    "           'user_Bigcat_correct_answer', 'user_Bigcat_Cumacc', \n",
    "           'user_retCount_correct_answer',\n",
    "           'user_retCount', 'user_retCumacc']] = total[['user_correct_answer',\n",
    "                                                        'user_Cumacc',\n",
    "                                                        'user_Bigcat_correct_answer', 'user_Bigcat_Cumacc', \n",
    "                                                        'user_retCount_correct_answer',\n",
    "                                                        'user_retCount', 'user_retCumacc']].fillna(0)\n",
    "    \n",
    "    \n",
    "    return total"
   ]
  },
  {
   "cell_type": "code",
   "execution_count": 19,
   "metadata": {
    "ExecuteTime": {
     "end_time": "2021-05-24T09:49:29.683739Z",
     "start_time": "2021-05-24T09:49:28.981Z"
    },
    "id": "2vsUwksMhfQy"
   },
   "outputs": [
    {
     "name": "stdout",
     "output_type": "stream",
     "text": [
      "Timestamp\n",
      "same_item_cnt\n",
      "prior elapsed\n",
      "current elapsed\n",
      "time class\n",
      "day_diff\n",
      "Bigcat\n",
      "acc_avg\n",
      "time_avg\n",
      "std\n",
      "correct_answer\n",
      "Cumacc\n",
      "Bigcat_Cumacc\n",
      "current_avg\n",
      "Bigcat_class\n",
      "count\n",
      "item_seq\n",
      "retCount_correct_answer\n",
      "retCumacc\n"
     ]
    },
    {
     "data": {
      "text/html": [
       "<div>\n",
       "<style scoped>\n",
       "    .dataframe tbody tr th:only-of-type {\n",
       "        vertical-align: middle;\n",
       "    }\n",
       "\n",
       "    .dataframe tbody tr th {\n",
       "        vertical-align: top;\n",
       "    }\n",
       "\n",
       "    .dataframe thead th {\n",
       "        text-align: right;\n",
       "    }\n",
       "</style>\n",
       "<table border=\"1\" class=\"dataframe\">\n",
       "  <thead>\n",
       "    <tr style=\"text-align: right;\">\n",
       "      <th></th>\n",
       "      <th>userID</th>\n",
       "      <th>assessmentItemID</th>\n",
       "      <th>testId</th>\n",
       "      <th>answerCode</th>\n",
       "      <th>Timestamp</th>\n",
       "      <th>KnowledgeTag</th>\n",
       "      <th>train</th>\n",
       "      <th>same_item_cnt</th>\n",
       "      <th>prior_elapsed</th>\n",
       "      <th>current_elapsed</th>\n",
       "      <th>...</th>\n",
       "      <th>user_Bigcat_Cumacc</th>\n",
       "      <th>user_current_avg</th>\n",
       "      <th>user_current_time_avg</th>\n",
       "      <th>Bigcat_class</th>\n",
       "      <th>assess_count</th>\n",
       "      <th>tag_count</th>\n",
       "      <th>item_seq</th>\n",
       "      <th>user_retCount_correct_answer</th>\n",
       "      <th>user_retCount</th>\n",
       "      <th>user_retCumacc</th>\n",
       "    </tr>\n",
       "  </thead>\n",
       "  <tbody>\n",
       "    <tr>\n",
       "      <th>0</th>\n",
       "      <td>0</td>\n",
       "      <td>A060001001</td>\n",
       "      <td>A060000001</td>\n",
       "      <td>1.0</td>\n",
       "      <td>2020-03-24 00:17:11</td>\n",
       "      <td>7224</td>\n",
       "      <td>1</td>\n",
       "      <td>1</td>\n",
       "      <td>0.0</td>\n",
       "      <td>3.0</td>\n",
       "      <td>...</td>\n",
       "      <td>0.000000</td>\n",
       "      <td>1.00</td>\n",
       "      <td>6.0</td>\n",
       "      <td>7.0</td>\n",
       "      <td>0</td>\n",
       "      <td>0</td>\n",
       "      <td>1</td>\n",
       "      <td>0.0</td>\n",
       "      <td>0.0</td>\n",
       "      <td>0.0</td>\n",
       "    </tr>\n",
       "    <tr>\n",
       "      <th>491</th>\n",
       "      <td>0</td>\n",
       "      <td>A060001002</td>\n",
       "      <td>A060000001</td>\n",
       "      <td>1.0</td>\n",
       "      <td>2020-03-24 00:17:14</td>\n",
       "      <td>7225</td>\n",
       "      <td>1</td>\n",
       "      <td>1</td>\n",
       "      <td>3.0</td>\n",
       "      <td>8.0</td>\n",
       "      <td>...</td>\n",
       "      <td>1.000000</td>\n",
       "      <td>1.00</td>\n",
       "      <td>6.0</td>\n",
       "      <td>7.0</td>\n",
       "      <td>1</td>\n",
       "      <td>1</td>\n",
       "      <td>2</td>\n",
       "      <td>1.0</td>\n",
       "      <td>1.0</td>\n",
       "      <td>1.0</td>\n",
       "    </tr>\n",
       "    <tr>\n",
       "      <th>492</th>\n",
       "      <td>0</td>\n",
       "      <td>A060001003</td>\n",
       "      <td>A060000001</td>\n",
       "      <td>1.0</td>\n",
       "      <td>2020-03-24 00:17:22</td>\n",
       "      <td>7225</td>\n",
       "      <td>1</td>\n",
       "      <td>1</td>\n",
       "      <td>8.0</td>\n",
       "      <td>7.0</td>\n",
       "      <td>...</td>\n",
       "      <td>1.000000</td>\n",
       "      <td>1.00</td>\n",
       "      <td>6.0</td>\n",
       "      <td>7.0</td>\n",
       "      <td>2</td>\n",
       "      <td>2</td>\n",
       "      <td>3</td>\n",
       "      <td>2.0</td>\n",
       "      <td>2.0</td>\n",
       "      <td>1.0</td>\n",
       "    </tr>\n",
       "    <tr>\n",
       "      <th>493</th>\n",
       "      <td>0</td>\n",
       "      <td>A060001004</td>\n",
       "      <td>A060000001</td>\n",
       "      <td>1.0</td>\n",
       "      <td>2020-03-24 00:17:29</td>\n",
       "      <td>7225</td>\n",
       "      <td>1</td>\n",
       "      <td>1</td>\n",
       "      <td>7.0</td>\n",
       "      <td>7.0</td>\n",
       "      <td>...</td>\n",
       "      <td>1.000000</td>\n",
       "      <td>1.00</td>\n",
       "      <td>6.0</td>\n",
       "      <td>7.0</td>\n",
       "      <td>3</td>\n",
       "      <td>3</td>\n",
       "      <td>4</td>\n",
       "      <td>3.0</td>\n",
       "      <td>3.0</td>\n",
       "      <td>1.0</td>\n",
       "    </tr>\n",
       "    <tr>\n",
       "      <th>494</th>\n",
       "      <td>0</td>\n",
       "      <td>A060001005</td>\n",
       "      <td>A060000001</td>\n",
       "      <td>1.0</td>\n",
       "      <td>2020-03-24 00:17:36</td>\n",
       "      <td>7225</td>\n",
       "      <td>1</td>\n",
       "      <td>1</td>\n",
       "      <td>7.0</td>\n",
       "      <td>11.0</td>\n",
       "      <td>...</td>\n",
       "      <td>1.000000</td>\n",
       "      <td>1.00</td>\n",
       "      <td>6.0</td>\n",
       "      <td>7.0</td>\n",
       "      <td>4</td>\n",
       "      <td>4</td>\n",
       "      <td>5</td>\n",
       "      <td>4.0</td>\n",
       "      <td>4.0</td>\n",
       "      <td>1.0</td>\n",
       "    </tr>\n",
       "    <tr>\n",
       "      <th>...</th>\n",
       "      <td>...</td>\n",
       "      <td>...</td>\n",
       "      <td>...</td>\n",
       "      <td>...</td>\n",
       "      <td>...</td>\n",
       "      <td>...</td>\n",
       "      <td>...</td>\n",
       "      <td>...</td>\n",
       "      <td>...</td>\n",
       "      <td>...</td>\n",
       "      <td>...</td>\n",
       "      <td>...</td>\n",
       "      <td>...</td>\n",
       "      <td>...</td>\n",
       "      <td>...</td>\n",
       "      <td>...</td>\n",
       "      <td>...</td>\n",
       "      <td>...</td>\n",
       "      <td>...</td>\n",
       "      <td>...</td>\n",
       "      <td>...</td>\n",
       "    </tr>\n",
       "    <tr>\n",
       "      <th>2513254</th>\n",
       "      <td>7439</td>\n",
       "      <td>A040130001</td>\n",
       "      <td>A040000130</td>\n",
       "      <td>0.0</td>\n",
       "      <td>2020-10-14 23:07:23</td>\n",
       "      <td>8832</td>\n",
       "      <td>0</td>\n",
       "      <td>1</td>\n",
       "      <td>0.0</td>\n",
       "      <td>18.0</td>\n",
       "      <td>...</td>\n",
       "      <td>0.727273</td>\n",
       "      <td>0.75</td>\n",
       "      <td>32.0</td>\n",
       "      <td>7.0</td>\n",
       "      <td>11</td>\n",
       "      <td>11</td>\n",
       "      <td>1</td>\n",
       "      <td>7.0</td>\n",
       "      <td>10.0</td>\n",
       "      <td>0.7</td>\n",
       "    </tr>\n",
       "    <tr>\n",
       "      <th>2513253</th>\n",
       "      <td>7439</td>\n",
       "      <td>A040130002</td>\n",
       "      <td>A040000130</td>\n",
       "      <td>1.0</td>\n",
       "      <td>2020-10-14 23:07:41</td>\n",
       "      <td>8832</td>\n",
       "      <td>0</td>\n",
       "      <td>1</td>\n",
       "      <td>18.0</td>\n",
       "      <td>21.0</td>\n",
       "      <td>...</td>\n",
       "      <td>0.666667</td>\n",
       "      <td>0.75</td>\n",
       "      <td>32.0</td>\n",
       "      <td>7.0</td>\n",
       "      <td>12</td>\n",
       "      <td>12</td>\n",
       "      <td>2</td>\n",
       "      <td>6.0</td>\n",
       "      <td>10.0</td>\n",
       "      <td>0.6</td>\n",
       "    </tr>\n",
       "    <tr>\n",
       "      <th>2513252</th>\n",
       "      <td>7439</td>\n",
       "      <td>A040130003</td>\n",
       "      <td>A040000130</td>\n",
       "      <td>1.0</td>\n",
       "      <td>2020-10-14 23:08:02</td>\n",
       "      <td>8244</td>\n",
       "      <td>0</td>\n",
       "      <td>1</td>\n",
       "      <td>21.0</td>\n",
       "      <td>89.0</td>\n",
       "      <td>...</td>\n",
       "      <td>0.692308</td>\n",
       "      <td>0.75</td>\n",
       "      <td>32.0</td>\n",
       "      <td>7.0</td>\n",
       "      <td>13</td>\n",
       "      <td>13</td>\n",
       "      <td>3</td>\n",
       "      <td>6.0</td>\n",
       "      <td>10.0</td>\n",
       "      <td>0.6</td>\n",
       "    </tr>\n",
       "    <tr>\n",
       "      <th>2513265</th>\n",
       "      <td>7439</td>\n",
       "      <td>A040130004</td>\n",
       "      <td>A040000130</td>\n",
       "      <td>1.0</td>\n",
       "      <td>2020-10-14 23:09:31</td>\n",
       "      <td>8244</td>\n",
       "      <td>0</td>\n",
       "      <td>1</td>\n",
       "      <td>89.0</td>\n",
       "      <td>32.0</td>\n",
       "      <td>...</td>\n",
       "      <td>0.714286</td>\n",
       "      <td>0.75</td>\n",
       "      <td>32.0</td>\n",
       "      <td>7.0</td>\n",
       "      <td>14</td>\n",
       "      <td>14</td>\n",
       "      <td>4</td>\n",
       "      <td>6.0</td>\n",
       "      <td>10.0</td>\n",
       "      <td>0.6</td>\n",
       "    </tr>\n",
       "    <tr>\n",
       "      <th>2513267</th>\n",
       "      <td>7439</td>\n",
       "      <td>A040130005</td>\n",
       "      <td>A040000130</td>\n",
       "      <td>0.5</td>\n",
       "      <td>2020-10-14 23:10:03</td>\n",
       "      <td>8832</td>\n",
       "      <td>0</td>\n",
       "      <td>1</td>\n",
       "      <td>32.0</td>\n",
       "      <td>32.0</td>\n",
       "      <td>...</td>\n",
       "      <td>0.733333</td>\n",
       "      <td>0.75</td>\n",
       "      <td>32.0</td>\n",
       "      <td>7.0</td>\n",
       "      <td>15</td>\n",
       "      <td>15</td>\n",
       "      <td>5</td>\n",
       "      <td>7.0</td>\n",
       "      <td>10.0</td>\n",
       "      <td>0.7</td>\n",
       "    </tr>\n",
       "  </tbody>\n",
       "</table>\n",
       "<p>2513268 rows × 43 columns</p>\n",
       "</div>"
      ],
      "text/plain": [
       "         userID assessmentItemID      testId  answerCode           Timestamp  \\\n",
       "0             0       A060001001  A060000001         1.0 2020-03-24 00:17:11   \n",
       "491           0       A060001002  A060000001         1.0 2020-03-24 00:17:14   \n",
       "492           0       A060001003  A060000001         1.0 2020-03-24 00:17:22   \n",
       "493           0       A060001004  A060000001         1.0 2020-03-24 00:17:29   \n",
       "494           0       A060001005  A060000001         1.0 2020-03-24 00:17:36   \n",
       "...         ...              ...         ...         ...                 ...   \n",
       "2513254    7439       A040130001  A040000130         0.0 2020-10-14 23:07:23   \n",
       "2513253    7439       A040130002  A040000130         1.0 2020-10-14 23:07:41   \n",
       "2513252    7439       A040130003  A040000130         1.0 2020-10-14 23:08:02   \n",
       "2513265    7439       A040130004  A040000130         1.0 2020-10-14 23:09:31   \n",
       "2513267    7439       A040130005  A040000130         0.5 2020-10-14 23:10:03   \n",
       "\n",
       "         KnowledgeTag  train  same_item_cnt  prior_elapsed  current_elapsed  \\\n",
       "0                7224      1              1            0.0              3.0   \n",
       "491              7225      1              1            3.0              8.0   \n",
       "492              7225      1              1            8.0              7.0   \n",
       "493              7225      1              1            7.0              7.0   \n",
       "494              7225      1              1            7.0             11.0   \n",
       "...               ...    ...            ...            ...              ...   \n",
       "2513254          8832      0              1            0.0             18.0   \n",
       "2513253          8832      0              1           18.0             21.0   \n",
       "2513252          8244      0              1           21.0             89.0   \n",
       "2513265          8244      0              1           89.0             32.0   \n",
       "2513267          8832      0              1           32.0             32.0   \n",
       "\n",
       "         ...  user_Bigcat_Cumacc  user_current_avg user_current_time_avg  \\\n",
       "0        ...            0.000000              1.00                   6.0   \n",
       "491      ...            1.000000              1.00                   6.0   \n",
       "492      ...            1.000000              1.00                   6.0   \n",
       "493      ...            1.000000              1.00                   6.0   \n",
       "494      ...            1.000000              1.00                   6.0   \n",
       "...      ...                 ...               ...                   ...   \n",
       "2513254  ...            0.727273              0.75                  32.0   \n",
       "2513253  ...            0.666667              0.75                  32.0   \n",
       "2513252  ...            0.692308              0.75                  32.0   \n",
       "2513265  ...            0.714286              0.75                  32.0   \n",
       "2513267  ...            0.733333              0.75                  32.0   \n",
       "\n",
       "         Bigcat_class  assess_count  tag_count  item_seq  \\\n",
       "0                 7.0             0          0         1   \n",
       "491               7.0             1          1         2   \n",
       "492               7.0             2          2         3   \n",
       "493               7.0             3          3         4   \n",
       "494               7.0             4          4         5   \n",
       "...               ...           ...        ...       ...   \n",
       "2513254           7.0            11         11         1   \n",
       "2513253           7.0            12         12         2   \n",
       "2513252           7.0            13         13         3   \n",
       "2513265           7.0            14         14         4   \n",
       "2513267           7.0            15         15         5   \n",
       "\n",
       "         user_retCount_correct_answer  user_retCount  user_retCumacc  \n",
       "0                                 0.0            0.0             0.0  \n",
       "491                               1.0            1.0             1.0  \n",
       "492                               2.0            2.0             1.0  \n",
       "493                               3.0            3.0             1.0  \n",
       "494                               4.0            4.0             1.0  \n",
       "...                               ...            ...             ...  \n",
       "2513254                           7.0           10.0             0.7  \n",
       "2513253                           6.0           10.0             0.6  \n",
       "2513252                           6.0           10.0             0.6  \n",
       "2513265                           6.0           10.0             0.6  \n",
       "2513267                           7.0           10.0             0.7  \n",
       "\n",
       "[2513268 rows x 43 columns]"
      ]
     },
     "execution_count": 19,
     "metadata": {},
     "output_type": "execute_result"
    }
   ],
   "source": [
    "total = feature_engineering(data_dir)\n",
    "total"
   ]
  },
  {
   "cell_type": "code",
   "execution_count": 20,
   "metadata": {},
   "outputs": [
    {
     "data": {
      "text/plain": [
       "userID                          0\n",
       "assessmentItemID                0\n",
       "testId                          0\n",
       "answerCode                      0\n",
       "Timestamp                       0\n",
       "KnowledgeTag                    0\n",
       "train                           0\n",
       "same_item_cnt                   0\n",
       "prior_elapsed                   0\n",
       "current_elapsed                 0\n",
       "timeClass                       0\n",
       "day_diff                        0\n",
       "Bigcat                          0\n",
       "user_avg                        0\n",
       "test_avg                        0\n",
       "item_avg                        0\n",
       "Bigcat_avg                      0\n",
       "tag_avg                         0\n",
       "user_time_avg                   0\n",
       "test_time_avg                   0\n",
       "item_time_avg                   0\n",
       "Bigcat_time_avg                 0\n",
       "tag_time_avg                    0\n",
       "user_std                        0\n",
       "test_std                        0\n",
       "item_std                        0\n",
       "Bigcat_std                      0\n",
       "tag_std                         0\n",
       "user_correct_answer             0\n",
       "user_total_answer               0\n",
       "user_Cumacc                     0\n",
       "user_Bigcat_correct_answer      0\n",
       "user_Bigcat_total_answer        0\n",
       "user_Bigcat_Cumacc              0\n",
       "user_current_avg                0\n",
       "user_current_time_avg           0\n",
       "Bigcat_class                    0\n",
       "assess_count                    0\n",
       "tag_count                       0\n",
       "item_seq                        0\n",
       "user_retCount_correct_answer    0\n",
       "user_retCount                   0\n",
       "user_retCumacc                  0\n",
       "dtype: int64"
      ]
     },
     "execution_count": 20,
     "metadata": {},
     "output_type": "execute_result"
    }
   ],
   "source": [
    "total.isna().sum()"
   ]
  },
  {
   "cell_type": "code",
   "execution_count": 21,
   "metadata": {},
   "outputs": [
    {
     "data": {
      "text/plain": [
       "Index(['userID', 'assessmentItemID', 'testId', 'answerCode', 'Timestamp',\n",
       "       'KnowledgeTag', 'train', 'same_item_cnt', 'prior_elapsed',\n",
       "       'current_elapsed', 'timeClass', 'day_diff', 'Bigcat', 'user_avg',\n",
       "       'test_avg', 'item_avg', 'Bigcat_avg', 'tag_avg', 'user_time_avg',\n",
       "       'test_time_avg', 'item_time_avg', 'Bigcat_time_avg', 'tag_time_avg',\n",
       "       'user_std', 'test_std', 'item_std', 'Bigcat_std', 'tag_std',\n",
       "       'user_correct_answer', 'user_total_answer', 'user_Cumacc',\n",
       "       'user_Bigcat_correct_answer', 'user_Bigcat_total_answer',\n",
       "       'user_Bigcat_Cumacc', 'user_current_avg', 'user_current_time_avg',\n",
       "       'Bigcat_class', 'assess_count', 'tag_count', 'item_seq',\n",
       "       'user_retCount_correct_answer', 'user_retCount', 'user_retCumacc'],\n",
       "      dtype='object')"
      ]
     },
     "execution_count": 21,
     "metadata": {},
     "output_type": "execute_result"
    }
   ],
   "source": [
    "total.columns"
   ]
  },
  {
   "cell_type": "code",
   "execution_count": 22,
   "metadata": {},
   "outputs": [
    {
     "data": {
      "text/plain": [
       "array([0, 2, 4, 1, 3], dtype=int64)"
      ]
     },
     "execution_count": 22,
     "metadata": {},
     "output_type": "execute_result"
    }
   ],
   "source": [
    "total.day_diff.unique()"
   ]
  },
  {
   "cell_type": "markdown",
   "metadata": {},
   "source": [
    "## 4. Elo"
   ]
  },
  {
   "cell_type": "code",
   "execution_count": 23,
   "metadata": {},
   "outputs": [],
   "source": [
    "def elo(df, key):\n",
    "    def get_new_theta(is_good_answer, beta, left_asymptote, theta, nb_previous_answers):\n",
    "        return theta + learning_rate_theta(nb_previous_answers) * (\n",
    "            is_good_answer - probability_of_good_answer(theta, beta, left_asymptote)\n",
    "        )\n",
    "\n",
    "    def get_new_beta(is_good_answer, beta, left_asymptote, theta, nb_previous_answers):\n",
    "        return beta - learning_rate_beta(nb_previous_answers) * (\n",
    "            is_good_answer - probability_of_good_answer(theta, beta, left_asymptote)\n",
    "        )\n",
    "\n",
    "    def learning_rate_theta(nb_answers):\n",
    "        return max(0.3 / (1 + 0.01 * nb_answers), 0.04)\n",
    "\n",
    "    def learning_rate_beta(nb_answers):\n",
    "        return 1 / (1 + 0.05 * nb_answers)\n",
    "\n",
    "    def probability_of_good_answer(theta, beta, left_asymptote):\n",
    "        return left_asymptote + (1 - left_asymptote) * sigmoid(theta - beta)\n",
    "\n",
    "    def sigmoid(x):\n",
    "        return 1 / (1 + np.exp(-x))\n",
    "\n",
    "    def estimate_parameters(answers_df, granularity_feature_name=key):\n",
    "        item_parameters = {\n",
    "            granularity_feature_value: {\"beta\": 0, \"nb_answers\": 0}\n",
    "            for granularity_feature_value in np.unique(\n",
    "                answers_df[granularity_feature_name]\n",
    "            )\n",
    "        }\n",
    "        student_parameters = {\n",
    "            student_id: {\"theta\": 0, \"nb_answers\": 0}\n",
    "            for student_id in np.unique(answers_df.userID)\n",
    "        }\n",
    "\n",
    "        print(\"\\nParameter estimation is starting...\", flush=True)\n",
    "\n",
    "        for student_id, item_id, left_asymptote, answered_correctly in tqdm(\n",
    "            zip(\n",
    "                answers_df['userID'].values,\n",
    "                answers_df[granularity_feature_name].values,\n",
    "                answers_df['left_asymptote'].values,\n",
    "                answers_df['answerCode'].values,\n",
    "            ),\n",
    "            total=len(answers_df),\n",
    "        ):\n",
    "            theta = student_parameters[student_id][\"theta\"]\n",
    "            beta = item_parameters[item_id][\"beta\"]\n",
    "\n",
    "            item_parameters[item_id][\"beta\"] = get_new_beta(\n",
    "                answered_correctly,\n",
    "                beta,\n",
    "                left_asymptote,\n",
    "                theta,\n",
    "                item_parameters[item_id][\"nb_answers\"],\n",
    "            )\n",
    "            student_parameters[student_id][\"theta\"] = get_new_theta(\n",
    "                answered_correctly,\n",
    "                beta,\n",
    "                left_asymptote,\n",
    "                theta,\n",
    "                student_parameters[student_id][\"nb_answers\"],\n",
    "            )\n",
    "\n",
    "            item_parameters[item_id][\"nb_answers\"] += 1\n",
    "            student_parameters[student_id][\"nb_answers\"] += 1\n",
    "\n",
    "        print(f\"Theta & beta estimations on {granularity_feature_name} are completed.\\n\")\n",
    "        return student_parameters, item_parameters\n",
    "\n",
    "    def gou_func(theta, beta):\n",
    "        return 1 / (1 + np.exp(-(theta - beta)))\n",
    "\n",
    "    df[\"left_asymptote\"] = 0\n",
    "\n",
    "    print('======================================')\n",
    "    print(f\"Dataset of shape {df.shape}\")\n",
    "    # print(f\"Columns are {list(df.columns)}\")\n",
    "\n",
    "    student_parameters, item_parameters = estimate_parameters(df)\n",
    "\n",
    "    prob = [\n",
    "        gou_func(student_parameters[student][\"theta\"], item_parameters[item][\"beta\"])\n",
    "        for student, item in zip(df.userID.values, df[key].values)\n",
    "    ]\n",
    "    if key == 'assessmentItemID':\n",
    "        df['elo'] = prob\n",
    "    else:\n",
    "        df[f\"{key}_elo\"] = prob\n",
    "    df = df.drop(columns=[\"left_asymptote\"])\n",
    "\n",
    "    return df"
   ]
  },
  {
   "cell_type": "code",
   "execution_count": 24,
   "metadata": {},
   "outputs": [],
   "source": [
    "total['userID'] = total['userID'].astype(np.int64)\n",
    "total['answerCode'] = total['answerCode'].astype(np.int64)\n",
    "total['KnowledgeTag'] = total['KnowledgeTag'].astype(np.int64)"
   ]
  },
  {
   "cell_type": "code",
   "execution_count": 25,
   "metadata": {},
   "outputs": [
    {
     "name": "stdout",
     "output_type": "stream",
     "text": [
      "assessmentItemID_elo...\n",
      "======================================\n",
      "Dataset of shape (2513268, 44)\n",
      "\n",
      "Parameter estimation is starting...\n"
     ]
    },
    {
     "name": "stderr",
     "output_type": "stream",
     "text": [
      "100%|██████████| 2513268/2513268 [00:17<00:00, 146139.39it/s]\n"
     ]
    },
    {
     "name": "stdout",
     "output_type": "stream",
     "text": [
      "Theta & beta estimations on assessmentItemID are completed.\n",
      "\n",
      "KnowledgeTag_elo...\n",
      "======================================\n",
      "Dataset of shape (2513268, 45)\n",
      "\n",
      "Parameter estimation is starting...\n"
     ]
    },
    {
     "name": "stderr",
     "output_type": "stream",
     "text": [
      "100%|██████████| 2513268/2513268 [00:17<00:00, 145942.90it/s]\n"
     ]
    },
    {
     "name": "stdout",
     "output_type": "stream",
     "text": [
      "Theta & beta estimations on KnowledgeTag are completed.\n",
      "\n",
      "Bigcat_elo...\n",
      "======================================\n",
      "Dataset of shape (2513268, 46)\n",
      "\n",
      "Parameter estimation is starting...\n"
     ]
    },
    {
     "name": "stderr",
     "output_type": "stream",
     "text": [
      "100%|██████████| 2513268/2513268 [00:16<00:00, 153971.26it/s]\n"
     ]
    },
    {
     "name": "stdout",
     "output_type": "stream",
     "text": [
      "Theta & beta estimations on Bigcat are completed.\n",
      "\n"
     ]
    }
   ],
   "source": [
    "total = total.sort_values(by=[\"userID\", \"Timestamp\"]).reset_index(drop=True)\n",
    "print('assessmentItemID_elo...')\n",
    "total = elo(total, 'assessmentItemID')\n",
    "print('KnowledgeTag_elo...')\n",
    "total = elo(total, 'KnowledgeTag')\n",
    "print('Bigcat_elo...')\n",
    "total = elo(total, 'Bigcat')\n"
   ]
  },
  {
   "cell_type": "code",
   "execution_count": 26,
   "metadata": {},
   "outputs": [],
   "source": [
    "# save total_data\n",
    "total.to_csv(data_dir + 'total_data.csv', index=False)"
   ]
  },
  {
   "cell_type": "code",
   "execution_count": null,
   "metadata": {},
   "outputs": [],
   "source": []
  }
 ],
 "metadata": {
  "colab": {
   "collapsed_sections": [],
   "provenance": []
  },
  "kernelspec": {
   "display_name": "Python 3.10.8 ('DKT')",
   "language": "python",
   "name": "python3"
  },
  "language_info": {
   "codemirror_mode": {
    "name": "ipython",
    "version": 3
   },
   "file_extension": ".py",
   "mimetype": "text/x-python",
   "name": "python",
   "nbconvert_exporter": "python",
   "pygments_lexer": "ipython3",
   "version": "3.10.8"
  },
  "toc": {
   "base_numbering": 1,
   "nav_menu": {},
   "number_sections": false,
   "sideBar": true,
   "skip_h1_title": false,
   "title_cell": "Table of Contents",
   "title_sidebar": "Contents",
   "toc_cell": false,
   "toc_position": {},
   "toc_section_display": true,
   "toc_window_display": true
  },
  "vscode": {
   "interpreter": {
    "hash": "98e00b988309a6a2b4bf5da131e8a00bb5c1d7ca57880f6a90a6545e6b31c465"
   }
  }
 },
 "nbformat": 4,
 "nbformat_minor": 4
}
