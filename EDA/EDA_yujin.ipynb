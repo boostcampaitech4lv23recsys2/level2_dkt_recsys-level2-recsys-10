{
 "cells": [
  {
   "cell_type": "code",
   "execution_count": 1,
   "id": "f035b0e9-417a-4ac7-b445-f46d812ef615",
   "metadata": {},
   "outputs": [],
   "source": [
    "path = '../data/'"
   ]
  },
  {
   "cell_type": "code",
   "execution_count": 79,
   "id": "d8bb0ef9-c45c-4bcb-a540-f5b0465aa2fc",
   "metadata": {},
   "outputs": [],
   "source": [
    "import os\n",
    "import numpy as np\n",
    "import pandas as pd\n",
    "import matplotlib.pyplot as plt\n",
    "import seaborn as sns"
   ]
  },
  {
   "cell_type": "code",
   "execution_count": 75,
   "id": "60851752-8f34-46fc-b9a2-d4963a0ca025",
   "metadata": {},
   "outputs": [
    {
     "data": {
      "text/plain": [
       "['test_data.csv',\n",
       " 'train_data.csv',\n",
       " 'sample_submission.csv',\n",
       " '.ipynb_checkpoints']"
      ]
     },
     "execution_count": 75,
     "metadata": {},
     "output_type": "execute_result"
    }
   ],
   "source": [
    "os.listdir(path)"
   ]
  },
  {
   "cell_type": "code",
   "execution_count": 3,
   "id": "98d4feb7-818b-4aae-9a93-7544d624f72c",
   "metadata": {},
   "outputs": [],
   "source": [
    "train = pd.read_csv(path + 'train_data.csv')\n",
    "test = pd.read_csv(path + 'test_data.csv')\n",
    "submission = pd.read_csv(path + 'sample_submission.csv')"
   ]
  },
  {
   "cell_type": "code",
   "execution_count": 4,
   "id": "3ab79be9-0e7d-42e5-ad18-11bc50de8bb3",
   "metadata": {},
   "outputs": [
    {
     "name": "stdout",
     "output_type": "stream",
     "text": [
      "(2266586, 6)\n",
      "(260114, 6)\n",
      "(744, 2)\n"
     ]
    }
   ],
   "source": [
    "print(train.shape)\n",
    "print(test.shape)\n",
    "print(submission.shape)"
   ]
  },
  {
   "cell_type": "markdown",
   "id": "e169e263-1efa-48e4-9b8e-7feeb3964dca",
   "metadata": {},
   "source": [
    "## Train, Test 기본 정보 확인\n",
    "- train 과 test 데이터에는 겹치는 userID 가 없다.\n",
    "- train 과 test 데이터는 동일한 KnowledgeTag 를 사용하며, 912 개 있다.\n",
    "- null data 가 없다."
   ]
  },
  {
   "cell_type": "code",
   "execution_count": 41,
   "id": "d6a5b18f-db7c-4918-920c-92e7270d9040",
   "metadata": {},
   "outputs": [
    {
     "data": {
      "text/html": [
       "<div>\n",
       "<style scoped>\n",
       "    .dataframe tbody tr th:only-of-type {\n",
       "        vertical-align: middle;\n",
       "    }\n",
       "\n",
       "    .dataframe tbody tr th {\n",
       "        vertical-align: top;\n",
       "    }\n",
       "\n",
       "    .dataframe thead th {\n",
       "        text-align: right;\n",
       "    }\n",
       "</style>\n",
       "<table border=\"1\" class=\"dataframe\">\n",
       "  <thead>\n",
       "    <tr style=\"text-align: right;\">\n",
       "      <th></th>\n",
       "      <th>userID</th>\n",
       "      <th>assessmentItemID</th>\n",
       "      <th>testId</th>\n",
       "      <th>answerCode</th>\n",
       "      <th>Timestamp</th>\n",
       "      <th>KnowledgeTag</th>\n",
       "    </tr>\n",
       "  </thead>\n",
       "  <tbody>\n",
       "    <tr>\n",
       "      <th>0</th>\n",
       "      <td>0</td>\n",
       "      <td>A060001001</td>\n",
       "      <td>A060000001</td>\n",
       "      <td>1</td>\n",
       "      <td>2020-03-24 00:17:11</td>\n",
       "      <td>7224</td>\n",
       "    </tr>\n",
       "    <tr>\n",
       "      <th>1</th>\n",
       "      <td>0</td>\n",
       "      <td>A060001002</td>\n",
       "      <td>A060000001</td>\n",
       "      <td>1</td>\n",
       "      <td>2020-03-24 00:17:14</td>\n",
       "      <td>7225</td>\n",
       "    </tr>\n",
       "  </tbody>\n",
       "</table>\n",
       "</div>"
      ],
      "text/plain": [
       "   userID assessmentItemID      testId  answerCode            Timestamp  \\\n",
       "0       0       A060001001  A060000001           1  2020-03-24 00:17:11   \n",
       "1       0       A060001002  A060000001           1  2020-03-24 00:17:14   \n",
       "\n",
       "   KnowledgeTag  \n",
       "0          7224  \n",
       "1          7225  "
      ]
     },
     "execution_count": 41,
     "metadata": {},
     "output_type": "execute_result"
    }
   ],
   "source": [
    "train.head(2)"
   ]
  },
  {
   "cell_type": "code",
   "execution_count": 42,
   "id": "43f0af74-1517-4b56-9033-ed7eb26b38d8",
   "metadata": {},
   "outputs": [
    {
     "data": {
      "text/html": [
       "<div>\n",
       "<style scoped>\n",
       "    .dataframe tbody tr th:only-of-type {\n",
       "        vertical-align: middle;\n",
       "    }\n",
       "\n",
       "    .dataframe tbody tr th {\n",
       "        vertical-align: top;\n",
       "    }\n",
       "\n",
       "    .dataframe thead th {\n",
       "        text-align: right;\n",
       "    }\n",
       "</style>\n",
       "<table border=\"1\" class=\"dataframe\">\n",
       "  <thead>\n",
       "    <tr style=\"text-align: right;\">\n",
       "      <th></th>\n",
       "      <th>userID</th>\n",
       "      <th>assessmentItemID</th>\n",
       "      <th>testId</th>\n",
       "      <th>answerCode</th>\n",
       "      <th>Timestamp</th>\n",
       "      <th>KnowledgeTag</th>\n",
       "    </tr>\n",
       "  </thead>\n",
       "  <tbody>\n",
       "    <tr>\n",
       "      <th>0</th>\n",
       "      <td>3</td>\n",
       "      <td>A050023001</td>\n",
       "      <td>A050000023</td>\n",
       "      <td>1</td>\n",
       "      <td>2020-01-09 10:56:31</td>\n",
       "      <td>2626</td>\n",
       "    </tr>\n",
       "    <tr>\n",
       "      <th>1</th>\n",
       "      <td>3</td>\n",
       "      <td>A050023002</td>\n",
       "      <td>A050000023</td>\n",
       "      <td>1</td>\n",
       "      <td>2020-01-09 10:56:57</td>\n",
       "      <td>2626</td>\n",
       "    </tr>\n",
       "  </tbody>\n",
       "</table>\n",
       "</div>"
      ],
      "text/plain": [
       "   userID assessmentItemID      testId  answerCode            Timestamp  \\\n",
       "0       3       A050023001  A050000023           1  2020-01-09 10:56:31   \n",
       "1       3       A050023002  A050000023           1  2020-01-09 10:56:57   \n",
       "\n",
       "   KnowledgeTag  \n",
       "0          2626  \n",
       "1          2626  "
      ]
     },
     "execution_count": 42,
     "metadata": {},
     "output_type": "execute_result"
    }
   ],
   "source": [
    "test.head(2)"
   ]
  },
  {
   "cell_type": "code",
   "execution_count": 43,
   "id": "1da67592-febc-4c7f-bed3-05a02d01e6c1",
   "metadata": {},
   "outputs": [
    {
     "data": {
      "text/html": [
       "<div>\n",
       "<style scoped>\n",
       "    .dataframe tbody tr th:only-of-type {\n",
       "        vertical-align: middle;\n",
       "    }\n",
       "\n",
       "    .dataframe tbody tr th {\n",
       "        vertical-align: top;\n",
       "    }\n",
       "\n",
       "    .dataframe thead th {\n",
       "        text-align: right;\n",
       "    }\n",
       "</style>\n",
       "<table border=\"1\" class=\"dataframe\">\n",
       "  <thead>\n",
       "    <tr style=\"text-align: right;\">\n",
       "      <th></th>\n",
       "      <th>id</th>\n",
       "      <th>prediction</th>\n",
       "    </tr>\n",
       "  </thead>\n",
       "  <tbody>\n",
       "    <tr>\n",
       "      <th>0</th>\n",
       "      <td>0</td>\n",
       "      <td>0.5</td>\n",
       "    </tr>\n",
       "    <tr>\n",
       "      <th>1</th>\n",
       "      <td>1</td>\n",
       "      <td>0.5</td>\n",
       "    </tr>\n",
       "  </tbody>\n",
       "</table>\n",
       "</div>"
      ],
      "text/plain": [
       "   id  prediction\n",
       "0   0         0.5\n",
       "1   1         0.5"
      ]
     },
     "execution_count": 43,
     "metadata": {},
     "output_type": "execute_result"
    }
   ],
   "source": [
    "submission.head(2)"
   ]
  },
  {
   "cell_type": "code",
   "execution_count": 50,
   "id": "4909e7cd-fc1e-4ef1-a422-a65c91e4a27a",
   "metadata": {},
   "outputs": [
    {
     "data": {
      "text/plain": [
       "744"
      ]
     },
     "execution_count": 50,
     "metadata": {},
     "output_type": "execute_result"
    }
   ],
   "source": [
    "# test data 의 마지막 문제를 예측하는 문제\n",
    "test.userID.nunique()"
   ]
  },
  {
   "cell_type": "code",
   "execution_count": 44,
   "id": "aef3bfca-e5e7-43a9-9d97-b1c9afb27353",
   "metadata": {},
   "outputs": [
    {
     "data": {
      "text/plain": [
       "0"
      ]
     },
     "execution_count": 44,
     "metadata": {},
     "output_type": "execute_result"
    }
   ],
   "source": [
    "# train 과 test 에는 겹치는 userID 가 없다.\n",
    "len(set(train.userID) & set(test.userID))"
   ]
  },
  {
   "cell_type": "code",
   "execution_count": 45,
   "id": "648cf28d-ac1c-4795-b0b2-1a6a80bb0bba",
   "metadata": {},
   "outputs": [
    {
     "data": {
      "text/plain": [
       "0"
      ]
     },
     "execution_count": 45,
     "metadata": {},
     "output_type": "execute_result"
    }
   ],
   "source": [
    "# train 과 test 에서 사용된 knowledgeTage 는 동일하다. \n",
    "len(set(train.KnowledgeTag) - set(test.KnowledgeTag))"
   ]
  },
  {
   "cell_type": "code",
   "execution_count": 46,
   "id": "fa2d0cde-237c-4bba-b3a8-7234b30e5669",
   "metadata": {},
   "outputs": [
    {
     "name": "stdout",
     "output_type": "stream",
     "text": [
      "column:     userID\t Percent of NaN value: 0.00%\n",
      "column: assessmentItemID\t Percent of NaN value: 0.00%\n",
      "column:     testId\t Percent of NaN value: 0.00%\n",
      "column: answerCode\t Percent of NaN value: 0.00%\n",
      "column:  Timestamp\t Percent of NaN value: 0.00%\n",
      "column: KnowledgeTag\t Percent of NaN value: 0.00%\n"
     ]
    }
   ],
   "source": [
    "for col in train.columns:\n",
    "    msg = 'column: {:>10}\\t Percent of NaN value: {:.2f}%'.format(col, 100 * (train[col].isnull().sum() / train[col].shape[0]))\n",
    "    print(msg)"
   ]
  },
  {
   "cell_type": "code",
   "execution_count": 47,
   "id": "9071e586-9e63-48c3-9260-976088037f25",
   "metadata": {},
   "outputs": [
    {
     "name": "stdout",
     "output_type": "stream",
     "text": [
      "column:     userID\t Percent of NaN value: 0.00%\n",
      "column: assessmentItemID\t Percent of NaN value: 0.00%\n",
      "column:     testId\t Percent of NaN value: 0.00%\n",
      "column: answerCode\t Percent of NaN value: 0.00%\n",
      "column:  Timestamp\t Percent of NaN value: 0.00%\n",
      "column: KnowledgeTag\t Percent of NaN value: 0.00%\n"
     ]
    }
   ],
   "source": [
    "for col in test.columns:\n",
    "    msg = 'column: {:>10}\\t Percent of NaN value: {:.2f}%'.format(col, 100 * (test[col].isnull().sum() / test[col].shape[0]))\n",
    "    print(msg)"
   ]
  },
  {
   "cell_type": "code",
   "execution_count": 65,
   "id": "e9beebb4-470a-4303-b80d-47350b77227f",
   "metadata": {},
   "outputs": [],
   "source": [
    "total_df = pd.concat( [train,test[test['answerCode'] != -1] ])"
   ]
  },
  {
   "cell_type": "code",
   "execution_count": 67,
   "id": "7c384e55-065d-4a07-a99f-413147bfb608",
   "metadata": {},
   "outputs": [
    {
     "name": "stdout",
     "output_type": "stream",
     "text": [
      "--- BASIC INFORMATIONS ---\n",
      "userID           : 7442\n",
      "assessmentItemID : 9454\n",
      "testID           : 1537\n",
      "mean answer rate : 65.46%\n",
      "KnowledgeTag     : 912\n",
      "--------------------------\n"
     ]
    }
   ],
   "source": [
    "print(f\"\"\"--- BASIC INFORMATIONS ---\n",
    "userID           : {total_df.userID.nunique()}\n",
    "assessmentItemID : {total_df.assessmentItemID.nunique()}\n",
    "testID           : {total_df.testId.nunique()}\n",
    "mean answer rate : {total_df.answerCode.sum() / total_df.shape[0] * 100:.2f}%\n",
    "KnowledgeTag     : {total_df.KnowledgeTag.nunique()}\n",
    "{'-'*26}\"\"\")"
   ]
  },
  {
   "cell_type": "code",
   "execution_count": 69,
   "id": "10aa3136-6ae7-47ed-9090-bc3b8c4f5412",
   "metadata": {},
   "outputs": [
    {
     "name": "stdout",
     "output_type": "stream",
     "text": [
      "--- BASIC INFORMATIONS ---\n",
      "userID           : 6698\n",
      "assessmentItemID : 9454\n",
      "testID           : 1537\n",
      "mean answer rate : 65.44%\n",
      "KnowledgeTag     : 912\n",
      "--------------------------\n"
     ]
    }
   ],
   "source": [
    "print(f\"\"\"--- BASIC INFORMATIONS ---\n",
    "userID           : {train.userID.nunique()}\n",
    "assessmentItemID : {train.assessmentItemID.nunique()}\n",
    "testID           : {train.testId.nunique()}\n",
    "mean answer rate : {train.answerCode.sum() / train.shape[0] * 100:.2f}%\n",
    "KnowledgeTag     : {train.KnowledgeTag.nunique()}\n",
    "{'-'*26}\"\"\")"
   ]
  },
  {
   "cell_type": "markdown",
   "id": "866ea980-327f-4451-9d57-926dc6b0c82f",
   "metadata": {},
   "source": [
    "## 1. UserID \n",
    "- [x] 문제 풀이 갯수\n",
    "- [x] 정답 확률\n",
    "- [x] 맞춘 갯수\n",
    "    - 정답 확률로 계산하는 것이 적절해보인다. \n",
    "- [x] 각 유저별 과거 정답률: 과거에 맞춘 문제 수 / 과거에 푼 문제 수\n"
   ]
  },
  {
   "cell_type": "code",
   "execution_count": 88,
   "id": "7bcb4f48-ea98-45fa-89d6-822acbb05097",
   "metadata": {},
   "outputs": [],
   "source": [
    "def percentile(s):\n",
    "    return np.sum(s) / len(s)"
   ]
  },
  {
   "cell_type": "code",
   "execution_count": null,
   "id": "07889b5e-080d-435b-aef2-545c17b963dc",
   "metadata": {},
   "outputs": [],
   "source": [
    "# userID 별 푼 문항 수와 정답률 \n",
    "stu_groupby = train.groupby('userID').agg({\n",
    "    'assessmentItemID': 'count',\n",
    "    'answerCode': percentile\n",
    "})\n",
    "stu_groupby.describe().T"
   ]
  },
  {
   "cell_type": "markdown",
   "id": "5ca33374-0f6c-4980-8b47-ff34e7cf6700",
   "metadata": {},
   "source": [
    "### a ) user 별 문제 풀이 갯수"
   ]
  },
  {
   "cell_type": "code",
   "execution_count": 85,
   "id": "5c3f7a54-0c1b-44c3-bb52-d63c5722cfd5",
   "metadata": {},
   "outputs": [
    {
     "name": "stderr",
     "output_type": "stream",
     "text": [
      "/tmp/ipykernel_28232/417151868.py:9: MatplotlibDeprecationWarning: The 'b' parameter of grid() has been renamed 'visible' since Matplotlib 3.5; support for the old name will be dropped two minor releases later.\n",
      "  ax.grid(b=True)\n"
     ]
    },
    {
     "data": {
      "image/png": "[encoded data removed]",
      "text/plain": [
       "<Figure size 640x480 with 1 Axes>"
      ]
     },
     "metadata": {},
     "output_type": "display_data"
    }
   ],
   "source": [
    "fig, ax = plt.subplots()\n",
    "\n",
    "stu_groupby['assessmentItemID'].hist(bins=20, ax=ax)\n",
    "\n",
    "ax.set_title('Student # of items Histogram')\n",
    "ax.set_xlabel('# of items solved')\n",
    "ax.set_ylabel('Count')\n",
    "ax.axvline(stu_groupby['assessmentItemID'].mean(), color='red')\n",
    "ax.grid(b=True)"
   ]
  },
  {
   "cell_type": "markdown",
   "id": "383b5690-45ba-40b0-9696-a7661b8e2253",
   "metadata": {},
   "source": [
    "### b ) 정답률 비율"
   ]
  },
  {
   "cell_type": "code",
   "execution_count": 86,
   "id": "3d67b6c6-06f4-47b9-9d76-704642ee613b",
   "metadata": {},
   "outputs": [
    {
     "name": "stderr",
     "output_type": "stream",
     "text": [
      "/tmp/ipykernel_28232/1795024208.py:9: MatplotlibDeprecationWarning: The 'b' parameter of grid() has been renamed 'visible' since Matplotlib 3.5; support for the old name will be dropped two minor releases later.\n",
      "  ax.grid(b=True)\n"
     ]
    },
    {
     "data": {
      "image/png": "[encoded data removed]",
      "text/plain": [
       "<Figure size 640x480 with 1 Axes>"
      ]
     },
     "metadata": {},
     "output_type": "display_data"
    }
   ],
   "source": [
    "fig, ax = plt.subplots()\n",
    "\n",
    "stu_groupby['answerCode'].hist(bins=20)\n",
    "\n",
    "ax.set_title('Student Answer Rate Histogram')\n",
    "ax.set_xlabel('Answer Rate')\n",
    "ax.set_ylabel('Count')\n",
    "ax.axvline(stu_groupby['answerCode'].mean(), color='red')\n",
    "ax.grid(b=True)"
   ]
  },
  {
   "cell_type": "markdown",
   "id": "869915fc-7c85-4492-810f-a626e58673d9",
   "metadata": {},
   "source": [
    "### c ) 정답 문항 갯수"
   ]
  },
  {
   "cell_type": "code",
   "execution_count": 92,
   "id": "3367b1d0-6efd-4736-83ac-20ed6b251fa9",
   "metadata": {},
   "outputs": [
    {
     "data": {
      "text/html": [
       "<div>\n",
       "<style scoped>\n",
       "    .dataframe tbody tr th:only-of-type {\n",
       "        vertical-align: middle;\n",
       "    }\n",
       "\n",
       "    .dataframe tbody tr th {\n",
       "        vertical-align: top;\n",
       "    }\n",
       "\n",
       "    .dataframe thead th {\n",
       "        text-align: right;\n",
       "    }\n",
       "</style>\n",
       "<table border=\"1\" class=\"dataframe\">\n",
       "  <thead>\n",
       "    <tr style=\"text-align: right;\">\n",
       "      <th></th>\n",
       "      <th>count</th>\n",
       "      <th>mean</th>\n",
       "      <th>std</th>\n",
       "      <th>min</th>\n",
       "      <th>25%</th>\n",
       "      <th>50%</th>\n",
       "      <th>75%</th>\n",
       "      <th>max</th>\n",
       "    </tr>\n",
       "  </thead>\n",
       "  <tbody>\n",
       "    <tr>\n",
       "      <th>assessmentItemID</th>\n",
       "      <td>6698.0</td>\n",
       "      <td>338.397432</td>\n",
       "      <td>321.331429</td>\n",
       "      <td>9.0</td>\n",
       "      <td>78.0</td>\n",
       "      <td>231.5</td>\n",
       "      <td>513.0</td>\n",
       "      <td>1860.0</td>\n",
       "    </tr>\n",
       "    <tr>\n",
       "      <th>answerCode</th>\n",
       "      <td>6698.0</td>\n",
       "      <td>221.439982</td>\n",
       "      <td>228.725932</td>\n",
       "      <td>0.0</td>\n",
       "      <td>46.0</td>\n",
       "      <td>140.0</td>\n",
       "      <td>327.0</td>\n",
       "      <td>1552.0</td>\n",
       "    </tr>\n",
       "  </tbody>\n",
       "</table>\n",
       "</div>"
      ],
      "text/plain": [
       "                   count        mean         std  min   25%    50%    75%  \\\n",
       "assessmentItemID  6698.0  338.397432  321.331429  9.0  78.0  231.5  513.0   \n",
       "answerCode        6698.0  221.439982  228.725932  0.0  46.0  140.0  327.0   \n",
       "\n",
       "                     max  \n",
       "assessmentItemID  1860.0  \n",
       "answerCode        1552.0  "
      ]
     },
     "execution_count": 92,
     "metadata": {},
     "output_type": "execute_result"
    }
   ],
   "source": [
    "# userID 별 푼 문항 수와 정답 문항 갯수 \n",
    "train.groupby('userID').agg({\n",
    "    'assessmentItemID': 'count',\n",
    "    'answerCode': 'sum'\n",
    "}).describe().T"
   ]
  },
  {
   "cell_type": "markdown",
   "id": "9a6e30b5-0a38-4ede-88d0-e90bff6f81d5",
   "metadata": {},
   "source": [
    "### d ) 각 유저별 과거 정답률: 과거에 맞춘 문제 수 / 과거에 푼 문제 수"
   ]
  },
  {
   "cell_type": "code",
   "execution_count": 129,
   "id": "80a47f18-c70f-4aaa-be98-8953ffbe5e51",
   "metadata": {},
   "outputs": [
    {
     "data": {
      "text/html": [
       "<div>\n",
       "<style scoped>\n",
       "    .dataframe tbody tr th:only-of-type {\n",
       "        vertical-align: middle;\n",
       "    }\n",
       "\n",
       "    .dataframe tbody tr th {\n",
       "        vertical-align: top;\n",
       "    }\n",
       "\n",
       "    .dataframe thead th {\n",
       "        text-align: right;\n",
       "    }\n",
       "</style>\n",
       "<table border=\"1\" class=\"dataframe\">\n",
       "  <thead>\n",
       "    <tr style=\"text-align: right;\">\n",
       "      <th></th>\n",
       "      <th>userID</th>\n",
       "      <th>answerCode</th>\n",
       "      <th>average_correct</th>\n",
       "    </tr>\n",
       "  </thead>\n",
       "  <tbody>\n",
       "    <tr>\n",
       "      <th>0</th>\n",
       "      <td>0</td>\n",
       "      <td>1</td>\n",
       "      <td>0.000000</td>\n",
       "    </tr>\n",
       "    <tr>\n",
       "      <th>1</th>\n",
       "      <td>0</td>\n",
       "      <td>1</td>\n",
       "      <td>1.000000</td>\n",
       "    </tr>\n",
       "    <tr>\n",
       "      <th>2</th>\n",
       "      <td>0</td>\n",
       "      <td>1</td>\n",
       "      <td>1.000000</td>\n",
       "    </tr>\n",
       "    <tr>\n",
       "      <th>3</th>\n",
       "      <td>0</td>\n",
       "      <td>1</td>\n",
       "      <td>1.000000</td>\n",
       "    </tr>\n",
       "    <tr>\n",
       "      <th>4</th>\n",
       "      <td>0</td>\n",
       "      <td>1</td>\n",
       "      <td>1.000000</td>\n",
       "    </tr>\n",
       "    <tr>\n",
       "      <th>...</th>\n",
       "      <td>...</td>\n",
       "      <td>...</td>\n",
       "      <td>...</td>\n",
       "    </tr>\n",
       "    <tr>\n",
       "      <th>2266581</th>\n",
       "      <td>7441</td>\n",
       "      <td>0</td>\n",
       "      <td>0.250000</td>\n",
       "    </tr>\n",
       "    <tr>\n",
       "      <th>2266582</th>\n",
       "      <td>7441</td>\n",
       "      <td>1</td>\n",
       "      <td>0.200000</td>\n",
       "    </tr>\n",
       "    <tr>\n",
       "      <th>2266583</th>\n",
       "      <td>7441</td>\n",
       "      <td>1</td>\n",
       "      <td>0.333333</td>\n",
       "    </tr>\n",
       "    <tr>\n",
       "      <th>2266584</th>\n",
       "      <td>7441</td>\n",
       "      <td>1</td>\n",
       "      <td>0.428571</td>\n",
       "    </tr>\n",
       "    <tr>\n",
       "      <th>2266585</th>\n",
       "      <td>7441</td>\n",
       "      <td>1</td>\n",
       "      <td>0.500000</td>\n",
       "    </tr>\n",
       "  </tbody>\n",
       "</table>\n",
       "<p>2266586 rows × 3 columns</p>\n",
       "</div>"
      ],
      "text/plain": [
       "         userID  answerCode  average_correct\n",
       "0             0           1         0.000000\n",
       "1             0           1         1.000000\n",
       "2             0           1         1.000000\n",
       "3             0           1         1.000000\n",
       "4             0           1         1.000000\n",
       "...         ...         ...              ...\n",
       "2266581    7441           0         0.250000\n",
       "2266582    7441           1         0.200000\n",
       "2266583    7441           1         0.333333\n",
       "2266584    7441           1         0.428571\n",
       "2266585    7441           1         0.500000\n",
       "\n",
       "[2266586 rows x 3 columns]"
      ]
     },
     "execution_count": 129,
     "metadata": {},
     "output_type": "execute_result"
    }
   ],
   "source": [
    "stu_correct_df = train.copy()\n",
    "\n",
    "# 과거에 푼 문제 수 \n",
    "stu_correct_df['past_count'] = stu_correct_df.groupby('userID').cumcount()\n",
    "\n",
    "# 과거에 맞춘 문제 수 \n",
    "stu_correct_df['shift'] = stu_correct_df.groupby('userID')['answerCode'].shift().fillna(0)\n",
    "stu_correct_df['past_correct'] = stu_correct_df.groupby('userID')['shift'].cumsum()\n",
    "\n",
    "# 과거 평균 정답률\n",
    "stu_correct_df['average_correct'] = (stu_correct_df['past_correct'] / stu_correct_df['past_count']).fillna(0)\n",
    "\n",
    "stu_correct_df[['userID','answerCode', 'average_correct']]"
   ]
  },
  {
   "cell_type": "markdown",
   "id": "5f5f0f29-8375-4363-b32c-1687c161b7dd",
   "metadata": {},
   "source": [
    "### e ) 풀이 시간이 짧은 경우와 정답 확률\n",
    "🐬 시험지 난이도를 상/중/하 로 구분 ? ${\\rightarrow}$ 상/중/하에 대한 주관이 들어간다 ."
   ]
  },
  {
   "cell_type": "code",
   "execution_count": 103,
   "id": "dc27220b-42df-44a2-977b-40cb4746ce01",
   "metadata": {},
   "outputs": [],
   "source": [
    "stu_guess = train.groupby(['userID','Timestamp']).filter(lambda x: len(x) > 1)"
   ]
  },
  {
   "cell_type": "code",
   "execution_count": 429,
   "id": "1eabe669-ee0d-4c0d-8e81-3de7bf821ec8",
   "metadata": {},
   "outputs": [
    {
     "data": {
      "text/html": [
       "<div>\n",
       "<style scoped>\n",
       "    .dataframe tbody tr th:only-of-type {\n",
       "        vertical-align: middle;\n",
       "    }\n",
       "\n",
       "    .dataframe tbody tr th {\n",
       "        vertical-align: top;\n",
       "    }\n",
       "\n",
       "    .dataframe thead th {\n",
       "        text-align: right;\n",
       "    }\n",
       "</style>\n",
       "<table border=\"1\" class=\"dataframe\">\n",
       "  <thead>\n",
       "    <tr style=\"text-align: right;\">\n",
       "      <th></th>\n",
       "      <th>userID</th>\n",
       "      <th>assessmentItemID</th>\n",
       "      <th>testId</th>\n",
       "      <th>answerCode</th>\n",
       "      <th>Timestamp</th>\n",
       "      <th>KnowledgeTag</th>\n",
       "    </tr>\n",
       "  </thead>\n",
       "  <tbody>\n",
       "    <tr>\n",
       "      <th>122</th>\n",
       "      <td>0</td>\n",
       "      <td>A080016007</td>\n",
       "      <td>A080000016</td>\n",
       "      <td>1</td>\n",
       "      <td>2020-05-07 00:52:47</td>\n",
       "      <td>4672</td>\n",
       "    </tr>\n",
       "    <tr>\n",
       "      <th>123</th>\n",
       "      <td>0</td>\n",
       "      <td>A080016008</td>\n",
       "      <td>A080000016</td>\n",
       "      <td>0</td>\n",
       "      <td>2020-05-07 00:52:47</td>\n",
       "      <td>4672</td>\n",
       "    </tr>\n",
       "    <tr>\n",
       "      <th>145</th>\n",
       "      <td>0</td>\n",
       "      <td>A080020007</td>\n",
       "      <td>A080000020</td>\n",
       "      <td>0</td>\n",
       "      <td>2020-05-14 01:35:29</td>\n",
       "      <td>4673</td>\n",
       "    </tr>\n",
       "    <tr>\n",
       "      <th>146</th>\n",
       "      <td>0</td>\n",
       "      <td>A080020006</td>\n",
       "      <td>A080000020</td>\n",
       "      <td>0</td>\n",
       "      <td>2020-05-14 01:35:29</td>\n",
       "      <td>4673</td>\n",
       "    </tr>\n",
       "    <tr>\n",
       "      <th>262</th>\n",
       "      <td>0</td>\n",
       "      <td>A080039003</td>\n",
       "      <td>A080000039</td>\n",
       "      <td>0</td>\n",
       "      <td>2020-06-11 02:02:22</td>\n",
       "      <td>4688</td>\n",
       "    </tr>\n",
       "    <tr>\n",
       "      <th>...</th>\n",
       "      <td>...</td>\n",
       "      <td>...</td>\n",
       "      <td>...</td>\n",
       "      <td>...</td>\n",
       "      <td>...</td>\n",
       "      <td>...</td>\n",
       "    </tr>\n",
       "    <tr>\n",
       "      <th>2264692</th>\n",
       "      <td>7320</td>\n",
       "      <td>A080106008</td>\n",
       "      <td>A080000106</td>\n",
       "      <td>0</td>\n",
       "      <td>2020-11-06 06:47:34</td>\n",
       "      <td>1182</td>\n",
       "    </tr>\n",
       "    <tr>\n",
       "      <th>2265774</th>\n",
       "      <td>7387</td>\n",
       "      <td>A070081005</td>\n",
       "      <td>A070000081</td>\n",
       "      <td>0</td>\n",
       "      <td>2020-04-21 03:12:08</td>\n",
       "      <td>9186</td>\n",
       "    </tr>\n",
       "    <tr>\n",
       "      <th>2265775</th>\n",
       "      <td>7387</td>\n",
       "      <td>A070081006</td>\n",
       "      <td>A070000081</td>\n",
       "      <td>0</td>\n",
       "      <td>2020-04-21 03:12:08</td>\n",
       "      <td>9186</td>\n",
       "    </tr>\n",
       "    <tr>\n",
       "      <th>2266223</th>\n",
       "      <td>7419</td>\n",
       "      <td>A030126003</td>\n",
       "      <td>A030000126</td>\n",
       "      <td>0</td>\n",
       "      <td>2020-10-15 13:29:56</td>\n",
       "      <td>574</td>\n",
       "    </tr>\n",
       "    <tr>\n",
       "      <th>2266224</th>\n",
       "      <td>7419</td>\n",
       "      <td>A030126004</td>\n",
       "      <td>A030000126</td>\n",
       "      <td>0</td>\n",
       "      <td>2020-10-15 13:29:56</td>\n",
       "      <td>574</td>\n",
       "    </tr>\n",
       "  </tbody>\n",
       "</table>\n",
       "<p>14664 rows × 6 columns</p>\n",
       "</div>"
      ],
      "text/plain": [
       "         userID assessmentItemID      testId  answerCode            Timestamp  \\\n",
       "122           0       A080016007  A080000016           1  2020-05-07 00:52:47   \n",
       "123           0       A080016008  A080000016           0  2020-05-07 00:52:47   \n",
       "145           0       A080020007  A080000020           0  2020-05-14 01:35:29   \n",
       "146           0       A080020006  A080000020           0  2020-05-14 01:35:29   \n",
       "262           0       A080039003  A080000039           0  2020-06-11 02:02:22   \n",
       "...         ...              ...         ...         ...                  ...   \n",
       "2264692    7320       A080106008  A080000106           0  2020-11-06 06:47:34   \n",
       "2265774    7387       A070081005  A070000081           0  2020-04-21 03:12:08   \n",
       "2265775    7387       A070081006  A070000081           0  2020-04-21 03:12:08   \n",
       "2266223    7419       A030126003  A030000126           0  2020-10-15 13:29:56   \n",
       "2266224    7419       A030126004  A030000126           0  2020-10-15 13:29:56   \n",
       "\n",
       "         KnowledgeTag  \n",
       "122              4672  \n",
       "123              4672  \n",
       "145              4673  \n",
       "146              4673  \n",
       "262              4688  \n",
       "...               ...  \n",
       "2264692          1182  \n",
       "2265774          9186  \n",
       "2265775          9186  \n",
       "2266223           574  \n",
       "2266224           574  \n",
       "\n",
       "[14664 rows x 6 columns]"
      ]
     },
     "execution_count": 429,
     "metadata": {},
     "output_type": "execute_result"
    }
   ],
   "source": [
    "stu_guess"
   ]
  },
  {
   "cell_type": "code",
   "execution_count": 104,
   "id": "ad0f98cb-eb0a-40b2-aa15-e5f35626e512",
   "metadata": {},
   "outputs": [
    {
     "data": {
      "text/html": [
       "<div>\n",
       "<style scoped>\n",
       "    .dataframe tbody tr th:only-of-type {\n",
       "        vertical-align: middle;\n",
       "    }\n",
       "\n",
       "    .dataframe tbody tr th {\n",
       "        vertical-align: top;\n",
       "    }\n",
       "\n",
       "    .dataframe thead th {\n",
       "        text-align: right;\n",
       "    }\n",
       "</style>\n",
       "<table border=\"1\" class=\"dataframe\">\n",
       "  <thead>\n",
       "    <tr style=\"text-align: right;\">\n",
       "      <th></th>\n",
       "      <th>count</th>\n",
       "      <th>mean</th>\n",
       "      <th>std</th>\n",
       "      <th>min</th>\n",
       "      <th>25%</th>\n",
       "      <th>50%</th>\n",
       "      <th>75%</th>\n",
       "      <th>max</th>\n",
       "    </tr>\n",
       "  </thead>\n",
       "  <tbody>\n",
       "    <tr>\n",
       "      <th>assessmentItemID</th>\n",
       "      <td>1949.0</td>\n",
       "      <td>7.523858</td>\n",
       "      <td>9.639608</td>\n",
       "      <td>2.0</td>\n",
       "      <td>2.0</td>\n",
       "      <td>4.0</td>\n",
       "      <td>8.000</td>\n",
       "      <td>147.0</td>\n",
       "    </tr>\n",
       "    <tr>\n",
       "      <th>answerCode</th>\n",
       "      <td>1949.0</td>\n",
       "      <td>0.416832</td>\n",
       "      <td>0.335994</td>\n",
       "      <td>0.0</td>\n",
       "      <td>0.0</td>\n",
       "      <td>0.5</td>\n",
       "      <td>0.625</td>\n",
       "      <td>1.0</td>\n",
       "    </tr>\n",
       "  </tbody>\n",
       "</table>\n",
       "</div>"
      ],
      "text/plain": [
       "                   count      mean       std  min  25%  50%    75%    max\n",
       "assessmentItemID  1949.0  7.523858  9.639608  2.0  2.0  4.0  8.000  147.0\n",
       "answerCode        1949.0  0.416832  0.335994  0.0  0.0  0.5  0.625    1.0"
      ]
     },
     "execution_count": 104,
     "metadata": {},
     "output_type": "execute_result"
    }
   ],
   "source": [
    "stu_guess_groupby = stu_guess.groupby('userID').agg({\n",
    "    'assessmentItemID': 'count',\n",
    "    'answerCode': percentile\n",
    "})\n",
    "stu_guess_groupby.describe().T"
   ]
  },
  {
   "cell_type": "markdown",
   "id": "2493c165-e413-47af-a2f4-b0a0c1d7fe50",
   "metadata": {},
   "source": [
    "#### e - 1 ) 학생들이 많이 찍은 시험 ${\\rightarrow}$ 어려운 시험 "
   ]
  },
  {
   "cell_type": "code",
   "execution_count": 121,
   "id": "df43f12f-a10d-4cff-b7c8-7f4f20429a4a",
   "metadata": {},
   "outputs": [],
   "source": [
    "stu_guess_groupby_testId = stu_guess.groupby('testId').agg({ 'userID' : 'count' , 'answerCode' : percentile}).reset_index()\n"
   ]
  },
  {
   "cell_type": "code",
   "execution_count": 128,
   "id": "27cd51de-a3e5-4e35-b487-90f0283051b3",
   "metadata": {},
   "outputs": [
    {
     "data": {
      "text/html": [
       "<div>\n",
       "<style scoped>\n",
       "    .dataframe tbody tr th:only-of-type {\n",
       "        vertical-align: middle;\n",
       "    }\n",
       "\n",
       "    .dataframe tbody tr th {\n",
       "        vertical-align: top;\n",
       "    }\n",
       "\n",
       "    .dataframe thead th {\n",
       "        text-align: right;\n",
       "    }\n",
       "</style>\n",
       "<table border=\"1\" class=\"dataframe\">\n",
       "  <thead>\n",
       "    <tr style=\"text-align: right;\">\n",
       "      <th></th>\n",
       "      <th>testId</th>\n",
       "      <th>userID</th>\n",
       "      <th>answerCode</th>\n",
       "    </tr>\n",
       "  </thead>\n",
       "  <tbody>\n",
       "    <tr>\n",
       "      <th>412</th>\n",
       "      <td>A070000087</td>\n",
       "      <td>48</td>\n",
       "      <td>0.520833</td>\n",
       "    </tr>\n",
       "    <tr>\n",
       "      <th>429</th>\n",
       "      <td>A070000104</td>\n",
       "      <td>49</td>\n",
       "      <td>0.693878</td>\n",
       "    </tr>\n",
       "    <tr>\n",
       "      <th>619</th>\n",
       "      <td>A080000130</td>\n",
       "      <td>49</td>\n",
       "      <td>0.428571</td>\n",
       "    </tr>\n",
       "    <tr>\n",
       "      <th>626</th>\n",
       "      <td>A080000137</td>\n",
       "      <td>50</td>\n",
       "      <td>0.480000</td>\n",
       "    </tr>\n",
       "    <tr>\n",
       "      <th>671</th>\n",
       "      <td>A090000045</td>\n",
       "      <td>50</td>\n",
       "      <td>0.520000</td>\n",
       "    </tr>\n",
       "    <tr>\n",
       "      <th>...</th>\n",
       "      <td>...</td>\n",
       "      <td>...</td>\n",
       "      <td>...</td>\n",
       "    </tr>\n",
       "    <tr>\n",
       "      <th>538</th>\n",
       "      <td>A080000049</td>\n",
       "      <td>78</td>\n",
       "      <td>0.166667</td>\n",
       "    </tr>\n",
       "    <tr>\n",
       "      <th>498</th>\n",
       "      <td>A080000009</td>\n",
       "      <td>82</td>\n",
       "      <td>0.414634</td>\n",
       "    </tr>\n",
       "    <tr>\n",
       "      <th>517</th>\n",
       "      <td>A080000028</td>\n",
       "      <td>85</td>\n",
       "      <td>0.317647</td>\n",
       "    </tr>\n",
       "    <tr>\n",
       "      <th>624</th>\n",
       "      <td>A080000135</td>\n",
       "      <td>92</td>\n",
       "      <td>0.445652</td>\n",
       "    </tr>\n",
       "    <tr>\n",
       "      <th>620</th>\n",
       "      <td>A080000131</td>\n",
       "      <td>96</td>\n",
       "      <td>0.500000</td>\n",
       "    </tr>\n",
       "  </tbody>\n",
       "</table>\n",
       "<p>100 rows × 3 columns</p>\n",
       "</div>"
      ],
      "text/plain": [
       "         testId  userID  answerCode\n",
       "412  A070000087      48    0.520833\n",
       "429  A070000104      49    0.693878\n",
       "619  A080000130      49    0.428571\n",
       "626  A080000137      50    0.480000\n",
       "671  A090000045      50    0.520000\n",
       "..          ...     ...         ...\n",
       "538  A080000049      78    0.166667\n",
       "498  A080000009      82    0.414634\n",
       "517  A080000028      85    0.317647\n",
       "624  A080000135      92    0.445652\n",
       "620  A080000131      96    0.500000\n",
       "\n",
       "[100 rows x 3 columns]"
      ]
     },
     "execution_count": 128,
     "metadata": {},
     "output_type": "execute_result"
    }
   ],
   "source": [
    "stu_guess_groupby_testId.sort_values(by='userID')"
   ]
  },
  {
   "cell_type": "markdown",
   "id": "0740ff16-28c4-44ef-b837-da8904138ea7",
   "metadata": {},
   "source": [
    "#### e - 2 ) 풀이 횟수 별 평균 정답률 "
   ]
  },
  {
   "cell_type": "markdown",
   "id": "e3f71666-1c3f-4df0-a0a6-a77f4f9b67bc",
   "metadata": {},
   "source": [
    "- userID 별 한 번 푼 문제인데 timestamp 가 겹치는 경우 "
   ]
  },
  {
   "cell_type": "code",
   "execution_count": 155,
   "id": "4c199c86-f90f-4101-8f24-28fdbda0b03e",
   "metadata": {},
   "outputs": [],
   "source": [
    "stu_assessmentID_group = train.groupby(['userID','assessmentItemID']).filter(lambda x: len(x) == 1)"
   ]
  },
  {
   "cell_type": "code",
   "execution_count": 156,
   "id": "4d68516e-2c8d-4131-9121-1b4ecfe70596",
   "metadata": {},
   "outputs": [],
   "source": [
    "stu_assessmentID_guess_group = stu_assessmentID_group.groupby(['userID','Timestamp']).filter(lambda x: len(x) > 1)"
   ]
  },
  {
   "cell_type": "code",
   "execution_count": 157,
   "id": "fdea6946-86a1-468f-b4a1-ecb8dac8740a",
   "metadata": {},
   "outputs": [
    {
     "data": {
      "text/html": [
       "<div>\n",
       "<style scoped>\n",
       "    .dataframe tbody tr th:only-of-type {\n",
       "        vertical-align: middle;\n",
       "    }\n",
       "\n",
       "    .dataframe tbody tr th {\n",
       "        vertical-align: top;\n",
       "    }\n",
       "\n",
       "    .dataframe thead th {\n",
       "        text-align: right;\n",
       "    }\n",
       "</style>\n",
       "<table border=\"1\" class=\"dataframe\">\n",
       "  <thead>\n",
       "    <tr style=\"text-align: right;\">\n",
       "      <th></th>\n",
       "      <th>userID</th>\n",
       "      <th>assessmentItemID</th>\n",
       "      <th>testId</th>\n",
       "      <th>answerCode</th>\n",
       "      <th>Timestamp</th>\n",
       "      <th>KnowledgeTag</th>\n",
       "    </tr>\n",
       "  </thead>\n",
       "  <tbody>\n",
       "    <tr>\n",
       "      <th>122</th>\n",
       "      <td>0</td>\n",
       "      <td>A080016007</td>\n",
       "      <td>A080000016</td>\n",
       "      <td>1</td>\n",
       "      <td>2020-05-07 00:52:47</td>\n",
       "      <td>4672</td>\n",
       "    </tr>\n",
       "    <tr>\n",
       "      <th>123</th>\n",
       "      <td>0</td>\n",
       "      <td>A080016008</td>\n",
       "      <td>A080000016</td>\n",
       "      <td>0</td>\n",
       "      <td>2020-05-07 00:52:47</td>\n",
       "      <td>4672</td>\n",
       "    </tr>\n",
       "    <tr>\n",
       "      <th>145</th>\n",
       "      <td>0</td>\n",
       "      <td>A080020007</td>\n",
       "      <td>A080000020</td>\n",
       "      <td>0</td>\n",
       "      <td>2020-05-14 01:35:29</td>\n",
       "      <td>4673</td>\n",
       "    </tr>\n",
       "    <tr>\n",
       "      <th>146</th>\n",
       "      <td>0</td>\n",
       "      <td>A080020006</td>\n",
       "      <td>A080000020</td>\n",
       "      <td>0</td>\n",
       "      <td>2020-05-14 01:35:29</td>\n",
       "      <td>4673</td>\n",
       "    </tr>\n",
       "    <tr>\n",
       "      <th>262</th>\n",
       "      <td>0</td>\n",
       "      <td>A080039003</td>\n",
       "      <td>A080000039</td>\n",
       "      <td>0</td>\n",
       "      <td>2020-06-11 02:02:22</td>\n",
       "      <td>4688</td>\n",
       "    </tr>\n",
       "    <tr>\n",
       "      <th>...</th>\n",
       "      <td>...</td>\n",
       "      <td>...</td>\n",
       "      <td>...</td>\n",
       "      <td>...</td>\n",
       "      <td>...</td>\n",
       "      <td>...</td>\n",
       "    </tr>\n",
       "    <tr>\n",
       "      <th>2264692</th>\n",
       "      <td>7320</td>\n",
       "      <td>A080106008</td>\n",
       "      <td>A080000106</td>\n",
       "      <td>0</td>\n",
       "      <td>2020-11-06 06:47:34</td>\n",
       "      <td>1182</td>\n",
       "    </tr>\n",
       "    <tr>\n",
       "      <th>2265774</th>\n",
       "      <td>7387</td>\n",
       "      <td>A070081005</td>\n",
       "      <td>A070000081</td>\n",
       "      <td>0</td>\n",
       "      <td>2020-04-21 03:12:08</td>\n",
       "      <td>9186</td>\n",
       "    </tr>\n",
       "    <tr>\n",
       "      <th>2265775</th>\n",
       "      <td>7387</td>\n",
       "      <td>A070081006</td>\n",
       "      <td>A070000081</td>\n",
       "      <td>0</td>\n",
       "      <td>2020-04-21 03:12:08</td>\n",
       "      <td>9186</td>\n",
       "    </tr>\n",
       "    <tr>\n",
       "      <th>2266223</th>\n",
       "      <td>7419</td>\n",
       "      <td>A030126003</td>\n",
       "      <td>A030000126</td>\n",
       "      <td>0</td>\n",
       "      <td>2020-10-15 13:29:56</td>\n",
       "      <td>574</td>\n",
       "    </tr>\n",
       "    <tr>\n",
       "      <th>2266224</th>\n",
       "      <td>7419</td>\n",
       "      <td>A030126004</td>\n",
       "      <td>A030000126</td>\n",
       "      <td>0</td>\n",
       "      <td>2020-10-15 13:29:56</td>\n",
       "      <td>574</td>\n",
       "    </tr>\n",
       "  </tbody>\n",
       "</table>\n",
       "<p>14058 rows × 6 columns</p>\n",
       "</div>"
      ],
      "text/plain": [
       "         userID assessmentItemID      testId  answerCode            Timestamp  \\\n",
       "122           0       A080016007  A080000016           1  2020-05-07 00:52:47   \n",
       "123           0       A080016008  A080000016           0  2020-05-07 00:52:47   \n",
       "145           0       A080020007  A080000020           0  2020-05-14 01:35:29   \n",
       "146           0       A080020006  A080000020           0  2020-05-14 01:35:29   \n",
       "262           0       A080039003  A080000039           0  2020-06-11 02:02:22   \n",
       "...         ...              ...         ...         ...                  ...   \n",
       "2264692    7320       A080106008  A080000106           0  2020-11-06 06:47:34   \n",
       "2265774    7387       A070081005  A070000081           0  2020-04-21 03:12:08   \n",
       "2265775    7387       A070081006  A070000081           0  2020-04-21 03:12:08   \n",
       "2266223    7419       A030126003  A030000126           0  2020-10-15 13:29:56   \n",
       "2266224    7419       A030126004  A030000126           0  2020-10-15 13:29:56   \n",
       "\n",
       "         KnowledgeTag  \n",
       "122              4672  \n",
       "123              4672  \n",
       "145              4673  \n",
       "146              4673  \n",
       "262              4688  \n",
       "...               ...  \n",
       "2264692          1182  \n",
       "2265774          9186  \n",
       "2265775          9186  \n",
       "2266223           574  \n",
       "2266224           574  \n",
       "\n",
       "[14058 rows x 6 columns]"
      ]
     },
     "execution_count": 157,
     "metadata": {},
     "output_type": "execute_result"
    }
   ],
   "source": [
    "stu_assessmentID_guess_group"
   ]
  },
  {
   "cell_type": "code",
   "execution_count": 158,
   "id": "83c37e62-f6ff-4788-9e1e-426f372444a3",
   "metadata": {},
   "outputs": [
    {
     "data": {
      "text/html": [
       "<div>\n",
       "<style scoped>\n",
       "    .dataframe tbody tr th:only-of-type {\n",
       "        vertical-align: middle;\n",
       "    }\n",
       "\n",
       "    .dataframe tbody tr th {\n",
       "        vertical-align: top;\n",
       "    }\n",
       "\n",
       "    .dataframe thead th {\n",
       "        text-align: right;\n",
       "    }\n",
       "</style>\n",
       "<table border=\"1\" class=\"dataframe\">\n",
       "  <thead>\n",
       "    <tr style=\"text-align: right;\">\n",
       "      <th></th>\n",
       "      <th>count</th>\n",
       "      <th>mean</th>\n",
       "      <th>std</th>\n",
       "      <th>min</th>\n",
       "      <th>25%</th>\n",
       "      <th>50%</th>\n",
       "      <th>75%</th>\n",
       "      <th>max</th>\n",
       "    </tr>\n",
       "  </thead>\n",
       "  <tbody>\n",
       "    <tr>\n",
       "      <th>assessmentItemID</th>\n",
       "      <td>1922.0</td>\n",
       "      <td>7.314256</td>\n",
       "      <td>9.301089</td>\n",
       "      <td>2.0</td>\n",
       "      <td>2.0</td>\n",
       "      <td>4.0</td>\n",
       "      <td>8.000000</td>\n",
       "      <td>147.0</td>\n",
       "    </tr>\n",
       "    <tr>\n",
       "      <th>answerCode</th>\n",
       "      <td>1922.0</td>\n",
       "      <td>0.417277</td>\n",
       "      <td>0.338276</td>\n",
       "      <td>0.0</td>\n",
       "      <td>0.0</td>\n",
       "      <td>0.5</td>\n",
       "      <td>0.642857</td>\n",
       "      <td>1.0</td>\n",
       "    </tr>\n",
       "  </tbody>\n",
       "</table>\n",
       "</div>"
      ],
      "text/plain": [
       "                   count      mean       std  min  25%  50%       75%    max\n",
       "assessmentItemID  1922.0  7.314256  9.301089  2.0  2.0  4.0  8.000000  147.0\n",
       "answerCode        1922.0  0.417277  0.338276  0.0  0.0  0.5  0.642857    1.0"
      ]
     },
     "execution_count": 158,
     "metadata": {},
     "output_type": "execute_result"
    }
   ],
   "source": [
    "stu_assessmentID_guess_groupby = stu_assessmentID_guess_group.groupby('userID').agg({\n",
    "    'assessmentItemID': 'count',\n",
    "    'answerCode': percentile\n",
    "})\n",
    "stu_assessmentID_guess_groupby.describe().T"
   ]
  },
  {
   "cell_type": "markdown",
   "id": "158806b1-ae5d-45c2-a0b9-718eafe32dff",
   "metadata": {},
   "source": [
    "- 해당 문제에서 timestamp 가 겹친 사람이 몇 명인지, 정답률 평균은 얼마인지 확인"
   ]
  },
  {
   "cell_type": "code",
   "execution_count": 160,
   "id": "0189e6ef-c159-4930-85cc-741787d4edb3",
   "metadata": {},
   "outputs": [],
   "source": [
    "stu_assessmentID_guess_groupby_testId = stu_assessmentID_guess_group.groupby('testId').agg({ 'userID' : 'count' , 'answerCode' : percentile}).reset_index()\n"
   ]
  },
  {
   "cell_type": "code",
   "execution_count": 161,
   "id": "b9330e9b-94eb-4587-aad6-5da6178e9d7f",
   "metadata": {},
   "outputs": [
    {
     "data": {
      "text/html": [
       "<div>\n",
       "<style scoped>\n",
       "    .dataframe tbody tr th:only-of-type {\n",
       "        vertical-align: middle;\n",
       "    }\n",
       "\n",
       "    .dataframe tbody tr th {\n",
       "        vertical-align: top;\n",
       "    }\n",
       "\n",
       "    .dataframe thead th {\n",
       "        text-align: right;\n",
       "    }\n",
       "</style>\n",
       "<table border=\"1\" class=\"dataframe\">\n",
       "  <thead>\n",
       "    <tr style=\"text-align: right;\">\n",
       "      <th></th>\n",
       "      <th>userID</th>\n",
       "      <th>assessmentItemID</th>\n",
       "      <th>testId</th>\n",
       "      <th>answerCode</th>\n",
       "      <th>Timestamp</th>\n",
       "      <th>KnowledgeTag</th>\n",
       "    </tr>\n",
       "  </thead>\n",
       "  <tbody>\n",
       "    <tr>\n",
       "      <th>551734</th>\n",
       "      <td>779</td>\n",
       "      <td>A010006001</td>\n",
       "      <td>A010000006</td>\n",
       "      <td>1</td>\n",
       "      <td>2020-06-17 13:44:11</td>\n",
       "      <td>5846</td>\n",
       "    </tr>\n",
       "    <tr>\n",
       "      <th>551735</th>\n",
       "      <td>779</td>\n",
       "      <td>A010006002</td>\n",
       "      <td>A010000006</td>\n",
       "      <td>1</td>\n",
       "      <td>2020-06-17 13:44:11</td>\n",
       "      <td>6308</td>\n",
       "    </tr>\n",
       "  </tbody>\n",
       "</table>\n",
       "</div>"
      ],
      "text/plain": [
       "        userID assessmentItemID      testId  answerCode            Timestamp  \\\n",
       "551734     779       A010006001  A010000006           1  2020-06-17 13:44:11   \n",
       "551735     779       A010006002  A010000006           1  2020-06-17 13:44:11   \n",
       "\n",
       "        KnowledgeTag  \n",
       "551734          5846  \n",
       "551735          6308  "
      ]
     },
     "execution_count": 161,
     "metadata": {},
     "output_type": "execute_result"
    }
   ],
   "source": [
    "# sample data check : testId = A010000006\n",
    "stu_assessmentID_guess_group[stu_assessmentID_guess_group['testId'] == 'A010000006']"
   ]
  },
  {
   "cell_type": "code",
   "execution_count": 162,
   "id": "f9253ae8-a598-4098-a743-368e85039855",
   "metadata": {},
   "outputs": [
    {
     "data": {
      "text/html": [
       "<div>\n",
       "<style scoped>\n",
       "    .dataframe tbody tr th:only-of-type {\n",
       "        vertical-align: middle;\n",
       "    }\n",
       "\n",
       "    .dataframe tbody tr th {\n",
       "        vertical-align: top;\n",
       "    }\n",
       "\n",
       "    .dataframe thead th {\n",
       "        text-align: right;\n",
       "    }\n",
       "</style>\n",
       "<table border=\"1\" class=\"dataframe\">\n",
       "  <thead>\n",
       "    <tr style=\"text-align: right;\">\n",
       "      <th></th>\n",
       "      <th>testId</th>\n",
       "      <th>userID</th>\n",
       "      <th>answerCode</th>\n",
       "    </tr>\n",
       "  </thead>\n",
       "  <tbody>\n",
       "    <tr>\n",
       "      <th>153</th>\n",
       "      <td>A040000069</td>\n",
       "      <td>1</td>\n",
       "      <td>0.000000</td>\n",
       "    </tr>\n",
       "    <tr>\n",
       "      <th>209</th>\n",
       "      <td>A050000070</td>\n",
       "      <td>1</td>\n",
       "      <td>1.000000</td>\n",
       "    </tr>\n",
       "    <tr>\n",
       "      <th>230</th>\n",
       "      <td>A050000138</td>\n",
       "      <td>1</td>\n",
       "      <td>1.000000</td>\n",
       "    </tr>\n",
       "    <tr>\n",
       "      <th>81</th>\n",
       "      <td>A030000011</td>\n",
       "      <td>1</td>\n",
       "      <td>1.000000</td>\n",
       "    </tr>\n",
       "    <tr>\n",
       "      <th>90</th>\n",
       "      <td>A030000059</td>\n",
       "      <td>1</td>\n",
       "      <td>1.000000</td>\n",
       "    </tr>\n",
       "    <tr>\n",
       "      <th>...</th>\n",
       "      <td>...</td>\n",
       "      <td>...</td>\n",
       "      <td>...</td>\n",
       "    </tr>\n",
       "    <tr>\n",
       "      <th>607</th>\n",
       "      <td>A080000136</td>\n",
       "      <td>77</td>\n",
       "      <td>0.454545</td>\n",
       "    </tr>\n",
       "    <tr>\n",
       "      <th>499</th>\n",
       "      <td>A080000028</td>\n",
       "      <td>82</td>\n",
       "      <td>0.329268</td>\n",
       "    </tr>\n",
       "    <tr>\n",
       "      <th>480</th>\n",
       "      <td>A080000009</td>\n",
       "      <td>82</td>\n",
       "      <td>0.414634</td>\n",
       "    </tr>\n",
       "    <tr>\n",
       "      <th>606</th>\n",
       "      <td>A080000135</td>\n",
       "      <td>90</td>\n",
       "      <td>0.444444</td>\n",
       "    </tr>\n",
       "    <tr>\n",
       "      <th>602</th>\n",
       "      <td>A080000131</td>\n",
       "      <td>90</td>\n",
       "      <td>0.488889</td>\n",
       "    </tr>\n",
       "  </tbody>\n",
       "</table>\n",
       "<p>683 rows × 3 columns</p>\n",
       "</div>"
      ],
      "text/plain": [
       "         testId  userID  answerCode\n",
       "153  A040000069       1    0.000000\n",
       "209  A050000070       1    1.000000\n",
       "230  A050000138       1    1.000000\n",
       "81   A030000011       1    1.000000\n",
       "90   A030000059       1    1.000000\n",
       "..          ...     ...         ...\n",
       "607  A080000136      77    0.454545\n",
       "499  A080000028      82    0.329268\n",
       "480  A080000009      82    0.414634\n",
       "606  A080000135      90    0.444444\n",
       "602  A080000131      90    0.488889\n",
       "\n",
       "[683 rows x 3 columns]"
      ]
     },
     "execution_count": 162,
     "metadata": {},
     "output_type": "execute_result"
    }
   ],
   "source": [
    "stu_assessmentID_guess_groupby_testId.sort_values(by='userID')"
   ]
  },
  {
   "cell_type": "code",
   "execution_count": 163,
   "id": "7888d5db-d85b-4f47-9ca2-664c2f14ad6a",
   "metadata": {},
   "outputs": [
    {
     "data": {
      "text/html": [
       "<div>\n",
       "<style scoped>\n",
       "    .dataframe tbody tr th:only-of-type {\n",
       "        vertical-align: middle;\n",
       "    }\n",
       "\n",
       "    .dataframe tbody tr th {\n",
       "        vertical-align: top;\n",
       "    }\n",
       "\n",
       "    .dataframe thead th {\n",
       "        text-align: right;\n",
       "    }\n",
       "</style>\n",
       "<table border=\"1\" class=\"dataframe\">\n",
       "  <thead>\n",
       "    <tr style=\"text-align: right;\">\n",
       "      <th></th>\n",
       "      <th>testId</th>\n",
       "      <th>userID</th>\n",
       "      <th>answerCode</th>\n",
       "    </tr>\n",
       "  </thead>\n",
       "  <tbody>\n",
       "    <tr>\n",
       "      <th>153</th>\n",
       "      <td>A040000069</td>\n",
       "      <td>1</td>\n",
       "      <td>0.000000</td>\n",
       "    </tr>\n",
       "    <tr>\n",
       "      <th>209</th>\n",
       "      <td>A050000070</td>\n",
       "      <td>1</td>\n",
       "      <td>1.000000</td>\n",
       "    </tr>\n",
       "    <tr>\n",
       "      <th>230</th>\n",
       "      <td>A050000138</td>\n",
       "      <td>1</td>\n",
       "      <td>1.000000</td>\n",
       "    </tr>\n",
       "    <tr>\n",
       "      <th>81</th>\n",
       "      <td>A030000011</td>\n",
       "      <td>1</td>\n",
       "      <td>1.000000</td>\n",
       "    </tr>\n",
       "    <tr>\n",
       "      <th>90</th>\n",
       "      <td>A030000059</td>\n",
       "      <td>1</td>\n",
       "      <td>1.000000</td>\n",
       "    </tr>\n",
       "    <tr>\n",
       "      <th>...</th>\n",
       "      <td>...</td>\n",
       "      <td>...</td>\n",
       "      <td>...</td>\n",
       "    </tr>\n",
       "    <tr>\n",
       "      <th>607</th>\n",
       "      <td>A080000136</td>\n",
       "      <td>77</td>\n",
       "      <td>0.454545</td>\n",
       "    </tr>\n",
       "    <tr>\n",
       "      <th>499</th>\n",
       "      <td>A080000028</td>\n",
       "      <td>82</td>\n",
       "      <td>0.329268</td>\n",
       "    </tr>\n",
       "    <tr>\n",
       "      <th>480</th>\n",
       "      <td>A080000009</td>\n",
       "      <td>82</td>\n",
       "      <td>0.414634</td>\n",
       "    </tr>\n",
       "    <tr>\n",
       "      <th>606</th>\n",
       "      <td>A080000135</td>\n",
       "      <td>90</td>\n",
       "      <td>0.444444</td>\n",
       "    </tr>\n",
       "    <tr>\n",
       "      <th>602</th>\n",
       "      <td>A080000131</td>\n",
       "      <td>90</td>\n",
       "      <td>0.488889</td>\n",
       "    </tr>\n",
       "  </tbody>\n",
       "</table>\n",
       "<p>683 rows × 3 columns</p>\n",
       "</div>"
      ],
      "text/plain": [
       "         testId  userID  answerCode\n",
       "153  A040000069       1    0.000000\n",
       "209  A050000070       1    1.000000\n",
       "230  A050000138       1    1.000000\n",
       "81   A030000011       1    1.000000\n",
       "90   A030000059       1    1.000000\n",
       "..          ...     ...         ...\n",
       "607  A080000136      77    0.454545\n",
       "499  A080000028      82    0.329268\n",
       "480  A080000009      82    0.414634\n",
       "606  A080000135      90    0.444444\n",
       "602  A080000131      90    0.488889\n",
       "\n",
       "[683 rows x 3 columns]"
      ]
     },
     "execution_count": 163,
     "metadata": {},
     "output_type": "execute_result"
    }
   ],
   "source": [
    "stu_assessmentID_guess_groupby_testId.sort_values('userID')"
   ]
  },
  {
   "cell_type": "markdown",
   "id": "d63b806a-9282-4fda-805d-a881b9b6d249",
   "metadata": {},
   "source": [
    "## 2. assessmentItemID 별 맞춘 갯수, 정답률 평균\n",
    "- [ ] 문항 별 정답률 분석 \n",
    "- [ ] 문항 별 정답률 분석 \n"
   ]
  },
  {
   "cell_type": "markdown",
   "id": "ca85d622-6c39-4c1e-8c2e-f142168d853c",
   "metadata": {},
   "source": [
    "## 3. 시험지별 정답률 \n",
    "🍀 유의미한 차이를 보이므로 assessmentItemID 를 카테고리, 번호, 문항 번호로 나누어 사용 \n",
    "\n",
    "- assessmentItemID : A060001001\n",
    "- testID : A060000001\n",
    "\n",
    "- assessmentItemID : A080082006\n",
    "- testID : A080000082\n",
    "    - category 8, 82번째 시험지, 6번 문항 \n",
    "\n",
    "**따라서**\n",
    "- 시험지 카테고리는 최대 두 자리 수 \n",
    "- 시험지 번호는 최대 네 자리 수 \n",
    "- 문항 번호는 최대 세 자리 수\n"
   ]
  },
  {
   "cell_type": "code",
   "execution_count": 372,
   "id": "1c12fe0a-355a-429f-8569-23db594991d4",
   "metadata": {},
   "outputs": [],
   "source": [
    "ana_assessmentItemID = train.copy()"
   ]
  },
  {
   "cell_type": "code",
   "execution_count": 373,
   "id": "81443b48-545b-469c-9642-39bd3a4f1bdb",
   "metadata": {},
   "outputs": [
    {
     "data": {
      "text/plain": [
       "array(['6', '8', '2', '4', '9', '3', '5', '1', '7'], dtype=object)"
      ]
     },
     "execution_count": 373,
     "metadata": {},
     "output_type": "execute_result"
    }
   ],
   "source": [
    "train['testId'].apply(lambda x: x[2]).unique()"
   ]
  },
  {
   "cell_type": "code",
   "execution_count": 374,
   "id": "4e3b8128-07f0-4187-8d0f-f8c81557bf9f",
   "metadata": {},
   "outputs": [],
   "source": [
    "ana_assessmentItemID[\"test_category\"] = ana_assessmentItemID['testId'].apply(lambda x: x[2])"
   ]
  },
  {
   "cell_type": "code",
   "execution_count": 430,
   "id": "1f4ede9d-3d75-4d0e-8529-d8c9f1d1f58c",
   "metadata": {},
   "outputs": [
    {
     "data": {
      "text/plain": [
       "array(['001', '003', '005', '007', '002', '009', '016', '004', '006',\n",
       "       '018', '020', '008', '010', '022', '012', '014', '024', '031',\n",
       "       '033', '035', '037', '039', '041', '043', '036', '052', '054',\n",
       "       '038', '056', '058', '060', '040', '062', '042', '070', '072',\n",
       "       '074', '044', '076', '078', '046', '048', '085', '087', '089',\n",
       "       '091', '093', '094', '095', '096', '097', '080', '099', '082',\n",
       "       '101', '084', '103', '086', '105', '088', '107', '090', '092',\n",
       "       '098', '172', '121', '100', '123', '125', '102', '174', '181',\n",
       "       '127', '129', '182', '131', '183', '119', '115', '192', '108',\n",
       "       '112', '114', '118', '120', '128', '013', '015', '017', '019',\n",
       "       '021', '049', '051', '063', '065', '073', '075', '081', '083',\n",
       "       '011', '023', '025', '026', '034', '027', '028', '029', '030',\n",
       "       '032', '050', '047', '155', '156', '068', '157', '158', '064',\n",
       "       '066', '160', '059', '161', '162', '163', '164', '165', '104',\n",
       "       '184', '106', '185', '186', '132', '133', '134', '195', '135',\n",
       "       '196', '152', '153', '154', '197', '198', '159', '045', '109',\n",
       "       '111', '113', '117', '053', '136', '138', '140', '142', '144',\n",
       "       '146', '148', '150', '069', '071', '061', '137', '139', '141',\n",
       "       '149', '151', '055', '057', '067', '077', '079', '124', '126',\n",
       "       '110', '130', '122', '168', '176', '178', '180', '187', '189',\n",
       "       '191', '193', '171', '169', '173', '175', '177', '116', '166',\n",
       "       '143', '170', '145', '167', '147', '190', '179', '188', '194'],\n",
       "      dtype=object)"
      ]
     },
     "execution_count": 430,
     "metadata": {},
     "output_type": "execute_result"
    }
   ],
   "source": [
    "ana_assessmentItemID['assessmentItemID'].apply(lambda x: x[4:7]).unique()"
   ]
  },
  {
   "cell_type": "code",
   "execution_count": 375,
   "id": "7f0a83aa-8d04-4da4-8b37-61378afb0a17",
   "metadata": {},
   "outputs": [],
   "source": [
    "ana_assessmentItemID[\"test_seq_id\"] = ana_assessmentItemID['assessmentItemID'].apply(lambda x: x[4:7])"
   ]
  },
  {
   "cell_type": "code",
   "execution_count": 376,
   "id": "96495ec7-31c5-4898-acac-13c83c9a3fb7",
   "metadata": {},
   "outputs": [
    {
     "data": {
      "text/plain": [
       "array(['001', '002', '003', '004', '005', '007', '006', '008', '009',\n",
       "       '010', '011', '012', '013'], dtype=object)"
      ]
     },
     "execution_count": 376,
     "metadata": {},
     "output_type": "execute_result"
    }
   ],
   "source": [
    "train['assessmentItemID'].apply(lambda x: x[7:10]).unique()"
   ]
  },
  {
   "cell_type": "code",
   "execution_count": 377,
   "id": "22456486-c1d9-42a8-aad4-2cea9acf1d13",
   "metadata": {},
   "outputs": [],
   "source": [
    "ana_assessmentItemID[\"num_in_test\"] = ana_assessmentItemID['assessmentItemID'].apply(lambda x: x[7:10])"
   ]
  },
  {
   "cell_type": "code",
   "execution_count": null,
   "id": "1362683a-054f-4d1d-8422-d18766694aec",
   "metadata": {},
   "outputs": [],
   "source": []
  },
  {
   "cell_type": "markdown",
   "id": "303eea66-c4c5-4ff5-8699-b0c1cdba8c17",
   "metadata": {},
   "source": [
    "### 3 - 1 . 시험지 카테고리 별 tag 의 차이가 있을까 ? \n",
    "${\\rightarrow}$ knowledgeTag 는 대개 한 개의 test_category 에 속한다. `예외` : KnowledgeTag 7863, test_category 7, 8"
   ]
  },
  {
   "cell_type": "code",
   "execution_count": 378,
   "id": "22423979-1eea-4f24-b81e-8caddc2cb914",
   "metadata": {},
   "outputs": [
    {
     "data": {
      "text/html": [
       "<div>\n",
       "<style scoped>\n",
       "    .dataframe tbody tr th:only-of-type {\n",
       "        vertical-align: middle;\n",
       "    }\n",
       "\n",
       "    .dataframe tbody tr th {\n",
       "        vertical-align: top;\n",
       "    }\n",
       "\n",
       "    .dataframe thead th {\n",
       "        text-align: right;\n",
       "    }\n",
       "</style>\n",
       "<table border=\"1\" class=\"dataframe\">\n",
       "  <thead>\n",
       "    <tr style=\"text-align: right;\">\n",
       "      <th></th>\n",
       "      <th></th>\n",
       "      <th>userID</th>\n",
       "      <th>assessmentItemID</th>\n",
       "      <th>testId</th>\n",
       "      <th>answerCode</th>\n",
       "      <th>Timestamp</th>\n",
       "      <th>test_seq_id</th>\n",
       "      <th>num_in_test</th>\n",
       "    </tr>\n",
       "    <tr>\n",
       "      <th>KnowledgeTag</th>\n",
       "      <th>test_category</th>\n",
       "      <th></th>\n",
       "      <th></th>\n",
       "      <th></th>\n",
       "      <th></th>\n",
       "      <th></th>\n",
       "      <th></th>\n",
       "      <th></th>\n",
       "    </tr>\n",
       "  </thead>\n",
       "  <tbody>\n",
       "    <tr>\n",
       "      <th rowspan=\"2\" valign=\"top\">7863</th>\n",
       "      <th>7</th>\n",
       "      <td>1691</td>\n",
       "      <td>1691</td>\n",
       "      <td>1691</td>\n",
       "      <td>1691</td>\n",
       "      <td>1691</td>\n",
       "      <td>1691</td>\n",
       "      <td>1691</td>\n",
       "    </tr>\n",
       "    <tr>\n",
       "      <th>8</th>\n",
       "      <td>130</td>\n",
       "      <td>130</td>\n",
       "      <td>130</td>\n",
       "      <td>130</td>\n",
       "      <td>130</td>\n",
       "      <td>130</td>\n",
       "      <td>130</td>\n",
       "    </tr>\n",
       "  </tbody>\n",
       "</table>\n",
       "</div>"
      ],
      "text/plain": [
       "                            userID  assessmentItemID  testId  answerCode  \\\n",
       "KnowledgeTag test_category                                                 \n",
       "7863         7                1691              1691    1691        1691   \n",
       "             8                 130               130     130         130   \n",
       "\n",
       "                            Timestamp  test_seq_id  num_in_test  \n",
       "KnowledgeTag test_category                                       \n",
       "7863         7                   1691         1691         1691  \n",
       "             8                    130          130          130  "
      ]
     },
     "execution_count": 378,
     "metadata": {},
     "output_type": "execute_result"
    }
   ],
   "source": [
    "ana_assessmentItemID.groupby(['KnowledgeTag','test_category']).count().groupby('KnowledgeTag').filter(lambda x: len(x) > 1)"
   ]
  },
  {
   "cell_type": "markdown",
   "id": "1c8691fb-c4a3-4a20-b7c4-19a07e80e7ab",
   "metadata": {},
   "source": [
    "### 3 - 2 . 카테고리별 정답률 \n",
    "- 크게 차이 난다.\n",
    "- 카테고리 별로 KnowledgeTag 가 종속적이므로 당연한 결과 ..? "
   ]
  },
  {
   "cell_type": "code",
   "execution_count": 379,
   "id": "f826664b-e28a-4d33-8f0a-d6ad0538345b",
   "metadata": {},
   "outputs": [],
   "source": [
    "tt = ana_assessmentItemID.groupby('test_category').agg({ 'userID' : 'count' , 'answerCode' : percentile}).reset_index()"
   ]
  },
  {
   "cell_type": "code",
   "execution_count": 380,
   "id": "ff2dde3b-33ea-49fd-bd58-98f26f1fd079",
   "metadata": {},
   "outputs": [
    {
     "data": {
      "text/html": [
       "<div>\n",
       "<style scoped>\n",
       "    .dataframe tbody tr th:only-of-type {\n",
       "        vertical-align: middle;\n",
       "    }\n",
       "\n",
       "    .dataframe tbody tr th {\n",
       "        vertical-align: top;\n",
       "    }\n",
       "\n",
       "    .dataframe thead th {\n",
       "        text-align: right;\n",
       "    }\n",
       "</style>\n",
       "<table border=\"1\" class=\"dataframe\">\n",
       "  <thead>\n",
       "    <tr style=\"text-align: right;\">\n",
       "      <th></th>\n",
       "      <th>test_category</th>\n",
       "      <th>userID</th>\n",
       "      <th>answerCode</th>\n",
       "    </tr>\n",
       "  </thead>\n",
       "  <tbody>\n",
       "    <tr>\n",
       "      <th>0</th>\n",
       "      <td>1</td>\n",
       "      <td>272082</td>\n",
       "      <td>0.800876</td>\n",
       "    </tr>\n",
       "    <tr>\n",
       "      <th>1</th>\n",
       "      <td>2</td>\n",
       "      <td>268327</td>\n",
       "      <td>0.737593</td>\n",
       "    </tr>\n",
       "    <tr>\n",
       "      <th>2</th>\n",
       "      <td>3</td>\n",
       "      <td>273762</td>\n",
       "      <td>0.702238</td>\n",
       "    </tr>\n",
       "    <tr>\n",
       "      <th>3</th>\n",
       "      <td>4</td>\n",
       "      <td>267323</td>\n",
       "      <td>0.684056</td>\n",
       "    </tr>\n",
       "    <tr>\n",
       "      <th>4</th>\n",
       "      <td>5</td>\n",
       "      <td>275773</td>\n",
       "      <td>0.658208</td>\n",
       "    </tr>\n",
       "    <tr>\n",
       "      <th>5</th>\n",
       "      <td>6</td>\n",
       "      <td>264434</td>\n",
       "      <td>0.709232</td>\n",
       "    </tr>\n",
       "    <tr>\n",
       "      <th>6</th>\n",
       "      <td>7</td>\n",
       "      <td>279164</td>\n",
       "      <td>0.521876</td>\n",
       "    </tr>\n",
       "    <tr>\n",
       "      <th>7</th>\n",
       "      <td>8</td>\n",
       "      <td>246336</td>\n",
       "      <td>0.502598</td>\n",
       "    </tr>\n",
       "    <tr>\n",
       "      <th>8</th>\n",
       "      <td>9</td>\n",
       "      <td>119385</td>\n",
       "      <td>0.449948</td>\n",
       "    </tr>\n",
       "  </tbody>\n",
       "</table>\n",
       "</div>"
      ],
      "text/plain": [
       "  test_category  userID  answerCode\n",
       "0             1  272082    0.800876\n",
       "1             2  268327    0.737593\n",
       "2             3  273762    0.702238\n",
       "3             4  267323    0.684056\n",
       "4             5  275773    0.658208\n",
       "5             6  264434    0.709232\n",
       "6             7  279164    0.521876\n",
       "7             8  246336    0.502598\n",
       "8             9  119385    0.449948"
      ]
     },
     "execution_count": 380,
     "metadata": {},
     "output_type": "execute_result"
    }
   ],
   "source": [
    "tt"
   ]
  },
  {
   "cell_type": "code",
   "execution_count": 381,
   "id": "b3edae1c-d630-4ad7-bb1e-914951fd7c4d",
   "metadata": {},
   "outputs": [
    {
     "data": {
      "text/plain": [
       "<AxesSubplot: xlabel='test_category', ylabel='answerCode'>"
      ]
     },
     "execution_count": 381,
     "metadata": {},
     "output_type": "execute_result"
    },
    {
     "data": {
      "image/png": "[encoded data removed]",
      "text/plain": [
       "<Figure size 640x480 with 1 Axes>"
      ]
     },
     "metadata": {},
     "output_type": "display_data"
    }
   ],
   "source": [
    "import seaborn as sns\n",
    " \n",
    "sns.set_style('whitegrid')\n",
    "sns.scatterplot(x=tt[\"test_category\"], y=tt[\"answerCode\"])"
   ]
  },
  {
   "cell_type": "markdown",
   "id": "797d4ca1-9070-4474-ad1b-0dadf7ae1ecb",
   "metadata": {},
   "source": [
    "### 3 - 3 . 시험지 sequence id 별 정답률 \n",
    "- sequence_id 가 증가할수록 정답률이 높아지는 경향\n",
    "- 풀이한 학생 수는 적어짐 \n",
    "- 상위권 학생들이 풀었을 가능성 "
   ]
  },
  {
   "cell_type": "code",
   "execution_count": 382,
   "id": "7394b1a8-c280-4f0d-834e-287924f845ec",
   "metadata": {},
   "outputs": [],
   "source": [
    "t = ana_assessmentItemID.groupby('test_seq_id').agg({ 'userID' : 'count' , 'answerCode' : percentile}).reset_index()"
   ]
  },
  {
   "cell_type": "code",
   "execution_count": 383,
   "id": "b0d6493b-3f5e-4be6-95b1-7ac8897adf5e",
   "metadata": {},
   "outputs": [
    {
     "data": {
      "text/html": [
       "<div>\n",
       "<style scoped>\n",
       "    .dataframe tbody tr th:only-of-type {\n",
       "        vertical-align: middle;\n",
       "    }\n",
       "\n",
       "    .dataframe tbody tr th {\n",
       "        vertical-align: top;\n",
       "    }\n",
       "\n",
       "    .dataframe thead th {\n",
       "        text-align: right;\n",
       "    }\n",
       "</style>\n",
       "<table border=\"1\" class=\"dataframe\">\n",
       "  <thead>\n",
       "    <tr style=\"text-align: right;\">\n",
       "      <th></th>\n",
       "      <th>test_seq_id</th>\n",
       "      <th>userID</th>\n",
       "      <th>answerCode</th>\n",
       "    </tr>\n",
       "  </thead>\n",
       "  <tbody>\n",
       "    <tr>\n",
       "      <th>0</th>\n",
       "      <td>001</td>\n",
       "      <td>14911</td>\n",
       "      <td>0.710348</td>\n",
       "    </tr>\n",
       "    <tr>\n",
       "      <th>1</th>\n",
       "      <td>002</td>\n",
       "      <td>12390</td>\n",
       "      <td>0.774011</td>\n",
       "    </tr>\n",
       "    <tr>\n",
       "      <th>2</th>\n",
       "      <td>003</td>\n",
       "      <td>16970</td>\n",
       "      <td>0.626930</td>\n",
       "    </tr>\n",
       "    <tr>\n",
       "      <th>3</th>\n",
       "      <td>004</td>\n",
       "      <td>12332</td>\n",
       "      <td>0.678803</td>\n",
       "    </tr>\n",
       "    <tr>\n",
       "      <th>4</th>\n",
       "      <td>005</td>\n",
       "      <td>16325</td>\n",
       "      <td>0.617519</td>\n",
       "    </tr>\n",
       "    <tr>\n",
       "      <th>...</th>\n",
       "      <td>...</td>\n",
       "      <td>...</td>\n",
       "      <td>...</td>\n",
       "    </tr>\n",
       "    <tr>\n",
       "      <th>193</th>\n",
       "      <td>194</td>\n",
       "      <td>2596</td>\n",
       "      <td>0.694145</td>\n",
       "    </tr>\n",
       "    <tr>\n",
       "      <th>194</th>\n",
       "      <td>195</td>\n",
       "      <td>4417</td>\n",
       "      <td>0.835409</td>\n",
       "    </tr>\n",
       "    <tr>\n",
       "      <th>195</th>\n",
       "      <td>196</td>\n",
       "      <td>1304</td>\n",
       "      <td>0.895706</td>\n",
       "    </tr>\n",
       "    <tr>\n",
       "      <th>196</th>\n",
       "      <td>197</td>\n",
       "      <td>2973</td>\n",
       "      <td>0.757820</td>\n",
       "    </tr>\n",
       "    <tr>\n",
       "      <th>197</th>\n",
       "      <td>198</td>\n",
       "      <td>951</td>\n",
       "      <td>0.853838</td>\n",
       "    </tr>\n",
       "  </tbody>\n",
       "</table>\n",
       "<p>198 rows × 3 columns</p>\n",
       "</div>"
      ],
      "text/plain": [
       "    test_seq_id  userID  answerCode\n",
       "0           001   14911    0.710348\n",
       "1           002   12390    0.774011\n",
       "2           003   16970    0.626930\n",
       "3           004   12332    0.678803\n",
       "4           005   16325    0.617519\n",
       "..          ...     ...         ...\n",
       "193         194    2596    0.694145\n",
       "194         195    4417    0.835409\n",
       "195         196    1304    0.895706\n",
       "196         197    2973    0.757820\n",
       "197         198     951    0.853838\n",
       "\n",
       "[198 rows x 3 columns]"
      ]
     },
     "execution_count": 383,
     "metadata": {},
     "output_type": "execute_result"
    }
   ],
   "source": [
    "t"
   ]
  },
  {
   "cell_type": "code",
   "execution_count": 384,
   "id": "48cba51e-9439-4b85-af41-eab988cdab3f",
   "metadata": {},
   "outputs": [
    {
     "data": {
      "text/plain": [
       "<AxesSubplot: xlabel='test_seq_id', ylabel='answerCode'>"
      ]
     },
     "execution_count": 384,
     "metadata": {},
     "output_type": "execute_result"
    },
    {
     "data": {
      "image/png": "[encoded data removed]",
      "text/plain": [
       "<Figure size 640x480 with 1 Axes>"
      ]
     },
     "metadata": {},
     "output_type": "display_data"
    }
   ],
   "source": [
    "sns.set_style('whitegrid')\n",
    "sns.scatterplot(x=t[\"test_seq_id\"], y=t[\"answerCode\"])"
   ]
  },
  {
   "cell_type": "code",
   "execution_count": 385,
   "id": "c2782629-6df8-4da7-9576-b4721d5b212e",
   "metadata": {},
   "outputs": [
    {
     "data": {
      "text/plain": [
       "<AxesSubplot: xlabel='test_seq_id', ylabel='userID'>"
      ]
     },
     "execution_count": 385,
     "metadata": {},
     "output_type": "execute_result"
    },
    {
     "data": {
      "image/png": "[encoded data removed]",
      "text/plain": [
       "<Figure size 640x480 with 1 Axes>"
      ]
     },
     "metadata": {},
     "output_type": "display_data"
    }
   ],
   "source": [
    "sns.set_style('whitegrid')\n",
    "sns.scatterplot(x=t[\"test_seq_id\"], y=t[\"userID\"])"
   ]
  },
  {
   "cell_type": "code",
   "execution_count": 386,
   "id": "d965e678-0bb7-4ae0-acd4-27817d891383",
   "metadata": {},
   "outputs": [],
   "source": [
    "ttt = ana_assessmentItemID.groupby(['num_in_test']).agg({ 'userID' : 'count' , 'answerCode' : percentile}).reset_index()"
   ]
  },
  {
   "cell_type": "code",
   "execution_count": 387,
   "id": "6f2946c4-4ee7-4256-9ee0-e4ba2049ef2c",
   "metadata": {},
   "outputs": [
    {
     "data": {
      "text/html": [
       "<div>\n",
       "<style scoped>\n",
       "    .dataframe tbody tr th:only-of-type {\n",
       "        vertical-align: middle;\n",
       "    }\n",
       "\n",
       "    .dataframe tbody tr th {\n",
       "        vertical-align: top;\n",
       "    }\n",
       "\n",
       "    .dataframe thead th {\n",
       "        text-align: right;\n",
       "    }\n",
       "</style>\n",
       "<table border=\"1\" class=\"dataframe\">\n",
       "  <thead>\n",
       "    <tr style=\"text-align: right;\">\n",
       "      <th></th>\n",
       "      <th>num_in_test</th>\n",
       "      <th>userID</th>\n",
       "      <th>answerCode</th>\n",
       "    </tr>\n",
       "  </thead>\n",
       "  <tbody>\n",
       "    <tr>\n",
       "      <th>0</th>\n",
       "      <td>001</td>\n",
       "      <td>371755</td>\n",
       "      <td>0.749916</td>\n",
       "    </tr>\n",
       "    <tr>\n",
       "      <th>1</th>\n",
       "      <td>002</td>\n",
       "      <td>370972</td>\n",
       "      <td>0.720062</td>\n",
       "    </tr>\n",
       "    <tr>\n",
       "      <th>2</th>\n",
       "      <td>003</td>\n",
       "      <td>371640</td>\n",
       "      <td>0.687773</td>\n",
       "    </tr>\n",
       "    <tr>\n",
       "      <th>3</th>\n",
       "      <td>004</td>\n",
       "      <td>369705</td>\n",
       "      <td>0.663364</td>\n",
       "    </tr>\n",
       "    <tr>\n",
       "      <th>4</th>\n",
       "      <td>005</td>\n",
       "      <td>360607</td>\n",
       "      <td>0.599134</td>\n",
       "    </tr>\n",
       "    <tr>\n",
       "      <th>5</th>\n",
       "      <td>006</td>\n",
       "      <td>197772</td>\n",
       "      <td>0.555685</td>\n",
       "    </tr>\n",
       "    <tr>\n",
       "      <th>6</th>\n",
       "      <td>007</td>\n",
       "      <td>127121</td>\n",
       "      <td>0.515399</td>\n",
       "    </tr>\n",
       "    <tr>\n",
       "      <th>7</th>\n",
       "      <td>008</td>\n",
       "      <td>67150</td>\n",
       "      <td>0.457156</td>\n",
       "    </tr>\n",
       "    <tr>\n",
       "      <th>8</th>\n",
       "      <td>009</td>\n",
       "      <td>18417</td>\n",
       "      <td>0.481729</td>\n",
       "    </tr>\n",
       "    <tr>\n",
       "      <th>9</th>\n",
       "      <td>010</td>\n",
       "      <td>5342</td>\n",
       "      <td>0.527892</td>\n",
       "    </tr>\n",
       "    <tr>\n",
       "      <th>10</th>\n",
       "      <td>011</td>\n",
       "      <td>3352</td>\n",
       "      <td>0.480609</td>\n",
       "    </tr>\n",
       "    <tr>\n",
       "      <th>11</th>\n",
       "      <td>012</td>\n",
       "      <td>2484</td>\n",
       "      <td>0.370370</td>\n",
       "    </tr>\n",
       "    <tr>\n",
       "      <th>12</th>\n",
       "      <td>013</td>\n",
       "      <td>269</td>\n",
       "      <td>0.200743</td>\n",
       "    </tr>\n",
       "  </tbody>\n",
       "</table>\n",
       "</div>"
      ],
      "text/plain": [
       "   num_in_test  userID  answerCode\n",
       "0          001  371755    0.749916\n",
       "1          002  370972    0.720062\n",
       "2          003  371640    0.687773\n",
       "3          004  369705    0.663364\n",
       "4          005  360607    0.599134\n",
       "5          006  197772    0.555685\n",
       "6          007  127121    0.515399\n",
       "7          008   67150    0.457156\n",
       "8          009   18417    0.481729\n",
       "9          010    5342    0.527892\n",
       "10         011    3352    0.480609\n",
       "11         012    2484    0.370370\n",
       "12         013     269    0.200743"
      ]
     },
     "execution_count": 387,
     "metadata": {},
     "output_type": "execute_result"
    }
   ],
   "source": [
    "ttt"
   ]
  },
  {
   "cell_type": "code",
   "execution_count": 388,
   "id": "044e3b3c-c511-4eb9-99d1-31512c4f953f",
   "metadata": {},
   "outputs": [
    {
     "data": {
      "text/plain": [
       "<AxesSubplot: xlabel='num_in_test', ylabel='answerCode'>"
      ]
     },
     "execution_count": 388,
     "metadata": {},
     "output_type": "execute_result"
    },
    {
     "data": {
      "image/png": "[encoded data removed]",
      "text/plain": [
       "<Figure size 640x480 with 1 Axes>"
      ]
     },
     "metadata": {},
     "output_type": "display_data"
    }
   ],
   "source": [
    "sns.set_style('whitegrid')\n",
    "sns.scatterplot(x=ttt[\"num_in_test\"], y=t[\"answerCode\"])"
   ]
  },
  {
   "cell_type": "code",
   "execution_count": 389,
   "id": "7fff55c8-fef4-40bc-8c02-76dc3c9e81b9",
   "metadata": {},
   "outputs": [
    {
     "data": {
      "text/html": [
       "<div>\n",
       "<style scoped>\n",
       "    .dataframe tbody tr th:only-of-type {\n",
       "        vertical-align: middle;\n",
       "    }\n",
       "\n",
       "    .dataframe tbody tr th {\n",
       "        vertical-align: top;\n",
       "    }\n",
       "\n",
       "    .dataframe thead th {\n",
       "        text-align: right;\n",
       "    }\n",
       "</style>\n",
       "<table border=\"1\" class=\"dataframe\">\n",
       "  <thead>\n",
       "    <tr style=\"text-align: right;\">\n",
       "      <th></th>\n",
       "      <th>userID</th>\n",
       "      <th>assessmentItemID</th>\n",
       "      <th>testId</th>\n",
       "      <th>answerCode</th>\n",
       "      <th>Timestamp</th>\n",
       "      <th>KnowledgeTag</th>\n",
       "      <th>test_category</th>\n",
       "      <th>test_seq_id</th>\n",
       "      <th>num_in_test</th>\n",
       "    </tr>\n",
       "  </thead>\n",
       "  <tbody>\n",
       "    <tr>\n",
       "      <th>0</th>\n",
       "      <td>0</td>\n",
       "      <td>A060001001</td>\n",
       "      <td>A060000001</td>\n",
       "      <td>1</td>\n",
       "      <td>2020-03-24 00:17:11</td>\n",
       "      <td>7224</td>\n",
       "      <td>6</td>\n",
       "      <td>001</td>\n",
       "      <td>001</td>\n",
       "    </tr>\n",
       "    <tr>\n",
       "      <th>1</th>\n",
       "      <td>0</td>\n",
       "      <td>A060001002</td>\n",
       "      <td>A060000001</td>\n",
       "      <td>1</td>\n",
       "      <td>2020-03-24 00:17:14</td>\n",
       "      <td>7225</td>\n",
       "      <td>6</td>\n",
       "      <td>001</td>\n",
       "      <td>002</td>\n",
       "    </tr>\n",
       "    <tr>\n",
       "      <th>2</th>\n",
       "      <td>0</td>\n",
       "      <td>A060001003</td>\n",
       "      <td>A060000001</td>\n",
       "      <td>1</td>\n",
       "      <td>2020-03-24 00:17:22</td>\n",
       "      <td>7225</td>\n",
       "      <td>6</td>\n",
       "      <td>001</td>\n",
       "      <td>003</td>\n",
       "    </tr>\n",
       "    <tr>\n",
       "      <th>3</th>\n",
       "      <td>0</td>\n",
       "      <td>A060001004</td>\n",
       "      <td>A060000001</td>\n",
       "      <td>1</td>\n",
       "      <td>2020-03-24 00:17:29</td>\n",
       "      <td>7225</td>\n",
       "      <td>6</td>\n",
       "      <td>001</td>\n",
       "      <td>004</td>\n",
       "    </tr>\n",
       "    <tr>\n",
       "      <th>4</th>\n",
       "      <td>0</td>\n",
       "      <td>A060001005</td>\n",
       "      <td>A060000001</td>\n",
       "      <td>1</td>\n",
       "      <td>2020-03-24 00:17:36</td>\n",
       "      <td>7225</td>\n",
       "      <td>6</td>\n",
       "      <td>001</td>\n",
       "      <td>005</td>\n",
       "    </tr>\n",
       "    <tr>\n",
       "      <th>...</th>\n",
       "      <td>...</td>\n",
       "      <td>...</td>\n",
       "      <td>...</td>\n",
       "      <td>...</td>\n",
       "      <td>...</td>\n",
       "      <td>...</td>\n",
       "      <td>...</td>\n",
       "      <td>...</td>\n",
       "      <td>...</td>\n",
       "    </tr>\n",
       "    <tr>\n",
       "      <th>2266581</th>\n",
       "      <td>7441</td>\n",
       "      <td>A030071005</td>\n",
       "      <td>A030000071</td>\n",
       "      <td>0</td>\n",
       "      <td>2020-06-05 06:50:21</td>\n",
       "      <td>438</td>\n",
       "      <td>3</td>\n",
       "      <td>071</td>\n",
       "      <td>005</td>\n",
       "    </tr>\n",
       "    <tr>\n",
       "      <th>2266582</th>\n",
       "      <td>7441</td>\n",
       "      <td>A040165001</td>\n",
       "      <td>A040000165</td>\n",
       "      <td>1</td>\n",
       "      <td>2020-08-21 01:06:39</td>\n",
       "      <td>8836</td>\n",
       "      <td>4</td>\n",
       "      <td>165</td>\n",
       "      <td>001</td>\n",
       "    </tr>\n",
       "    <tr>\n",
       "      <th>2266583</th>\n",
       "      <td>7441</td>\n",
       "      <td>A040165002</td>\n",
       "      <td>A040000165</td>\n",
       "      <td>1</td>\n",
       "      <td>2020-08-21 01:06:50</td>\n",
       "      <td>8836</td>\n",
       "      <td>4</td>\n",
       "      <td>165</td>\n",
       "      <td>002</td>\n",
       "    </tr>\n",
       "    <tr>\n",
       "      <th>2266584</th>\n",
       "      <td>7441</td>\n",
       "      <td>A040165003</td>\n",
       "      <td>A040000165</td>\n",
       "      <td>1</td>\n",
       "      <td>2020-08-21 01:07:36</td>\n",
       "      <td>8836</td>\n",
       "      <td>4</td>\n",
       "      <td>165</td>\n",
       "      <td>003</td>\n",
       "    </tr>\n",
       "    <tr>\n",
       "      <th>2266585</th>\n",
       "      <td>7441</td>\n",
       "      <td>A040165004</td>\n",
       "      <td>A040000165</td>\n",
       "      <td>1</td>\n",
       "      <td>2020-08-21 01:08:49</td>\n",
       "      <td>8836</td>\n",
       "      <td>4</td>\n",
       "      <td>165</td>\n",
       "      <td>004</td>\n",
       "    </tr>\n",
       "  </tbody>\n",
       "</table>\n",
       "<p>2266586 rows × 9 columns</p>\n",
       "</div>"
      ],
      "text/plain": [
       "         userID assessmentItemID      testId  answerCode            Timestamp  \\\n",
       "0             0       A060001001  A060000001           1  2020-03-24 00:17:11   \n",
       "1             0       A060001002  A060000001           1  2020-03-24 00:17:14   \n",
       "2             0       A060001003  A060000001           1  2020-03-24 00:17:22   \n",
       "3             0       A060001004  A060000001           1  2020-03-24 00:17:29   \n",
       "4             0       A060001005  A060000001           1  2020-03-24 00:17:36   \n",
       "...         ...              ...         ...         ...                  ...   \n",
       "2266581    7441       A030071005  A030000071           0  2020-06-05 06:50:21   \n",
       "2266582    7441       A040165001  A040000165           1  2020-08-21 01:06:39   \n",
       "2266583    7441       A040165002  A040000165           1  2020-08-21 01:06:50   \n",
       "2266584    7441       A040165003  A040000165           1  2020-08-21 01:07:36   \n",
       "2266585    7441       A040165004  A040000165           1  2020-08-21 01:08:49   \n",
       "\n",
       "         KnowledgeTag test_category test_seq_id num_in_test  \n",
       "0                7224             6         001         001  \n",
       "1                7225             6         001         002  \n",
       "2                7225             6         001         003  \n",
       "3                7225             6         001         004  \n",
       "4                7225             6         001         005  \n",
       "...               ...           ...         ...         ...  \n",
       "2266581           438             3         071         005  \n",
       "2266582          8836             4         165         001  \n",
       "2266583          8836             4         165         002  \n",
       "2266584          8836             4         165         003  \n",
       "2266585          8836             4         165         004  \n",
       "\n",
       "[2266586 rows x 9 columns]"
      ]
     },
     "execution_count": 389,
     "metadata": {},
     "output_type": "execute_result"
    }
   ],
   "source": [
    "ana_assessmentItemID"
   ]
  },
  {
   "cell_type": "markdown",
   "id": "b9f45b92-eb8d-4db8-a85a-afbfba010958",
   "metadata": {},
   "source": [
    "## 4. TimeStamp 처리 "
   ]
  },
  {
   "cell_type": "markdown",
   "id": "9682e9f4-97e7-4489-b565-ce146bbe44e2",
   "metadata": {},
   "source": [
    "#### 4 - 1 . 문제 풀이 시간 "
   ]
  },
  {
   "cell_type": "code",
   "execution_count": 390,
   "id": "ae14d478-b6c5-4b1e-8a68-4849501813e9",
   "metadata": {},
   "outputs": [
    {
     "data": {
      "text/html": [
       "<div>\n",
       "<style scoped>\n",
       "    .dataframe tbody tr th:only-of-type {\n",
       "        vertical-align: middle;\n",
       "    }\n",
       "\n",
       "    .dataframe tbody tr th {\n",
       "        vertical-align: top;\n",
       "    }\n",
       "\n",
       "    .dataframe thead th {\n",
       "        text-align: right;\n",
       "    }\n",
       "</style>\n",
       "<table border=\"1\" class=\"dataframe\">\n",
       "  <thead>\n",
       "    <tr style=\"text-align: right;\">\n",
       "      <th></th>\n",
       "      <th>testId</th>\n",
       "      <th>userID</th>\n",
       "      <th>answerCode</th>\n",
       "    </tr>\n",
       "  </thead>\n",
       "  <tbody>\n",
       "    <tr>\n",
       "      <th>0</th>\n",
       "      <td>A010000001</td>\n",
       "      <td>1585</td>\n",
       "      <td>0.926183</td>\n",
       "    </tr>\n",
       "    <tr>\n",
       "      <th>1</th>\n",
       "      <td>A010000002</td>\n",
       "      <td>1550</td>\n",
       "      <td>0.931613</td>\n",
       "    </tr>\n",
       "    <tr>\n",
       "      <th>2</th>\n",
       "      <td>A010000003</td>\n",
       "      <td>1615</td>\n",
       "      <td>0.846440</td>\n",
       "    </tr>\n",
       "    <tr>\n",
       "      <th>3</th>\n",
       "      <td>A010000004</td>\n",
       "      <td>1540</td>\n",
       "      <td>0.883117</td>\n",
       "    </tr>\n",
       "    <tr>\n",
       "      <th>4</th>\n",
       "      <td>A010000005</td>\n",
       "      <td>1595</td>\n",
       "      <td>0.855172</td>\n",
       "    </tr>\n",
       "    <tr>\n",
       "      <th>...</th>\n",
       "      <td>...</td>\n",
       "      <td>...</td>\n",
       "      <td>...</td>\n",
       "    </tr>\n",
       "    <tr>\n",
       "      <th>1532</th>\n",
       "      <td>A090000070</td>\n",
       "      <td>344</td>\n",
       "      <td>0.418605</td>\n",
       "    </tr>\n",
       "    <tr>\n",
       "      <th>1533</th>\n",
       "      <td>A090000071</td>\n",
       "      <td>360</td>\n",
       "      <td>0.336111</td>\n",
       "    </tr>\n",
       "    <tr>\n",
       "      <th>1534</th>\n",
       "      <td>A090000072</td>\n",
       "      <td>270</td>\n",
       "      <td>0.418519</td>\n",
       "    </tr>\n",
       "    <tr>\n",
       "      <th>1535</th>\n",
       "      <td>A090000073</td>\n",
       "      <td>270</td>\n",
       "      <td>0.529630</td>\n",
       "    </tr>\n",
       "    <tr>\n",
       "      <th>1536</th>\n",
       "      <td>A090000074</td>\n",
       "      <td>270</td>\n",
       "      <td>0.425926</td>\n",
       "    </tr>\n",
       "  </tbody>\n",
       "</table>\n",
       "<p>1537 rows × 3 columns</p>\n",
       "</div>"
      ],
      "text/plain": [
       "          testId  userID  answerCode\n",
       "0     A010000001    1585    0.926183\n",
       "1     A010000002    1550    0.931613\n",
       "2     A010000003    1615    0.846440\n",
       "3     A010000004    1540    0.883117\n",
       "4     A010000005    1595    0.855172\n",
       "...          ...     ...         ...\n",
       "1532  A090000070     344    0.418605\n",
       "1533  A090000071     360    0.336111\n",
       "1534  A090000072     270    0.418519\n",
       "1535  A090000073     270    0.529630\n",
       "1536  A090000074     270    0.425926\n",
       "\n",
       "[1537 rows x 3 columns]"
      ]
     },
     "execution_count": 390,
     "metadata": {},
     "output_type": "execute_result"
    }
   ],
   "source": [
    "train.groupby(['testId']).agg({ 'userID' : 'count' , 'answerCode' : percentile}).reset_index()"
   ]
  },
  {
   "cell_type": "code",
   "execution_count": 391,
   "id": "13c98fb5-257a-4d35-9961-b9eaf6f30b6d",
   "metadata": {},
   "outputs": [],
   "source": [
    "ana_assessmentItemID_with_time = ana_assessmentItemID.copy()"
   ]
  },
  {
   "cell_type": "code",
   "execution_count": 392,
   "id": "b7e72bde-ed77-4cbb-a043-347daaee6674",
   "metadata": {},
   "outputs": [],
   "source": [
    "ana_assessmentItemID_with_time[\"Timestamp\"] = pd.to_datetime(ana_assessmentItemID_with_time[\"Timestamp\"])"
   ]
  },
  {
   "cell_type": "code",
   "execution_count": 393,
   "id": "7bf85b84-4943-4e55-bc77-ec65b8ded5cc",
   "metadata": {},
   "outputs": [],
   "source": [
    "ana_assessmentItemID_with_time[\"ex_solve_time\"] = ana_assessmentItemID_with_time[\"Timestamp\"].shift(1).fillna(0)"
   ]
  },
  {
   "cell_type": "code",
   "execution_count": 394,
   "id": "b2eadb0c-9da5-4ae9-8271-92f31a243edd",
   "metadata": {},
   "outputs": [
    {
     "data": {
      "text/plain": [
       "0         2020-03-24 00:17:14\n",
       "1         2020-03-24 00:17:22\n",
       "2         2020-03-24 00:17:29\n",
       "3         2020-03-24 00:17:36\n",
       "4         2020-03-24 00:17:47\n",
       "                  ...        \n",
       "2266581   2020-08-21 01:06:39\n",
       "2266582   2020-08-21 01:06:50\n",
       "2266583   2020-08-21 01:07:36\n",
       "2266584   2020-08-21 01:08:49\n",
       "2266585                   NaT\n",
       "Name: Timestamp, Length: 2266586, dtype: datetime64[ns]"
      ]
     },
     "execution_count": 394,
     "metadata": {},
     "output_type": "execute_result"
    }
   ],
   "source": [
    "ana_assessmentItemID_with_time[\"Timestamp\"].shift(-1)"
   ]
  },
  {
   "cell_type": "code",
   "execution_count": 395,
   "id": "ab29b1e8-d64d-441b-a240-5c227451109f",
   "metadata": {},
   "outputs": [],
   "source": [
    "ana_assessmentItemID_with_time[\"Timestamp\"] = ana_assessmentItemID[\"Timestamp\"]"
   ]
  },
  {
   "cell_type": "code",
   "execution_count": 396,
   "id": "904f4741-8079-4963-94f0-1394468fec66",
   "metadata": {},
   "outputs": [],
   "source": [
    "ana_assessmentItemID_with_time[\"Timestamp\"] = pd.to_datetime( ana_assessmentItemID_with_time[\"Timestamp\"] )"
   ]
  },
  {
   "cell_type": "code",
   "execution_count": 397,
   "id": "328c4eeb-154c-41ea-8115-148e100d14a5",
   "metadata": {},
   "outputs": [],
   "source": [
    "ana_assessmentItemID_with_time[\"solved_time\"] = ana_assessmentItemID_with_time.groupby('userID')[\"Timestamp\"].diff().shift(-1)"
   ]
  },
  {
   "cell_type": "code",
   "execution_count": 398,
   "id": "372675b8-e6f1-4f60-9a68-66cba110cb84",
   "metadata": {},
   "outputs": [
    {
     "data": {
      "text/plain": [
       "0          0 days 00:00:03\n",
       "1          0 days 00:00:08\n",
       "2          0 days 00:00:07\n",
       "3          0 days 00:00:07\n",
       "4          0 days 00:00:11\n",
       "                ...       \n",
       "2266581   76 days 18:16:18\n",
       "2266582    0 days 00:00:11\n",
       "2266583    0 days 00:00:46\n",
       "2266584    0 days 00:01:13\n",
       "2266585                NaT\n",
       "Name: solved_time, Length: 2266586, dtype: timedelta64[ns]"
      ]
     },
     "execution_count": 398,
     "metadata": {},
     "output_type": "execute_result"
    }
   ],
   "source": [
    "ana_assessmentItemID_with_time[\"solved_time\"]"
   ]
  },
  {
   "cell_type": "code",
   "execution_count": 399,
   "id": "84099870-49fd-491c-b683-4223f0bb2e5c",
   "metadata": {},
   "outputs": [],
   "source": [
    "ana_assessmentItemID_with_time[\"solved_time(s)\"]= ana_assessmentItemID_with_time[\"solved_time\"].dt.seconds"
   ]
  },
  {
   "cell_type": "code",
   "execution_count": 400,
   "id": "539ef305-73a0-4989-803a-54876e7dccf3",
   "metadata": {},
   "outputs": [
    {
     "data": {
      "text/plain": [
       "count                        226046\n",
       "mean      4 days 10:28:31.303203772\n",
       "std      12 days 04:46:52.282485080\n",
       "min                 0 days 04:00:01\n",
       "25%                 0 days 21:43:13\n",
       "50%          1 days 22:05:45.500000\n",
       "75%          3 days 22:44:19.750000\n",
       "max               296 days 07:44:55\n",
       "Name: solved_time, dtype: object"
      ]
     },
     "execution_count": 400,
     "metadata": {},
     "output_type": "execute_result"
    }
   ],
   "source": [
    "ana_assessmentItemID_with_time[ ana_assessmentItemID_with_time[\"solved_time(s)\"] > 14400 ][\"solved_time\"].describe()"
   ]
  },
  {
   "cell_type": "code",
   "execution_count": 401,
   "id": "a7fc4328-7c7f-4cf5-8844-f300bfc1967e",
   "metadata": {},
   "outputs": [],
   "source": [
    "ana_assessmentItemID_with_time[\"year\"] = ana_assessmentItemID_with_time['Timestamp'].dt.year"
   ]
  },
  {
   "cell_type": "code",
   "execution_count": 402,
   "id": "5da54727-6a48-407a-8094-845899d26c46",
   "metadata": {},
   "outputs": [],
   "source": [
    "ana_assessmentItemID_with_time[\"month\"] = ana_assessmentItemID_with_time['Timestamp'].dt.month"
   ]
  },
  {
   "cell_type": "code",
   "execution_count": 403,
   "id": "80bc154f-8dc5-4794-96bb-37b8632fe8c7",
   "metadata": {},
   "outputs": [],
   "source": [
    "ana_assessmentItemID_with_time[\"day\"] = ana_assessmentItemID_with_time['Timestamp'].dt.day"
   ]
  },
  {
   "cell_type": "code",
   "execution_count": 404,
   "id": "8f622b2e-b908-4626-9b25-f9dc90970092",
   "metadata": {},
   "outputs": [],
   "source": [
    "ana_assessmentItemID_with_time[\"hour\"] = ana_assessmentItemID_with_time['Timestamp'].dt.hour"
   ]
  },
  {
   "cell_type": "code",
   "execution_count": 405,
   "id": "b2e2d3fc-b9c9-40a0-a20a-c717e45c3d2c",
   "metadata": {},
   "outputs": [
    {
     "data": {
      "text/html": [
       "<div>\n",
       "<style scoped>\n",
       "    .dataframe tbody tr th:only-of-type {\n",
       "        vertical-align: middle;\n",
       "    }\n",
       "\n",
       "    .dataframe tbody tr th {\n",
       "        vertical-align: top;\n",
       "    }\n",
       "\n",
       "    .dataframe thead th {\n",
       "        text-align: right;\n",
       "    }\n",
       "</style>\n",
       "<table border=\"1\" class=\"dataframe\">\n",
       "  <thead>\n",
       "    <tr style=\"text-align: right;\">\n",
       "      <th></th>\n",
       "      <th>userID</th>\n",
       "      <th>assessmentItemID</th>\n",
       "      <th>testId</th>\n",
       "      <th>answerCode</th>\n",
       "      <th>Timestamp</th>\n",
       "      <th>KnowledgeTag</th>\n",
       "      <th>test_category</th>\n",
       "      <th>test_seq_id</th>\n",
       "      <th>num_in_test</th>\n",
       "      <th>ex_solve_time</th>\n",
       "      <th>solved_time</th>\n",
       "      <th>solved_time(s)</th>\n",
       "      <th>year</th>\n",
       "      <th>month</th>\n",
       "      <th>day</th>\n",
       "      <th>hour</th>\n",
       "    </tr>\n",
       "  </thead>\n",
       "  <tbody>\n",
       "    <tr>\n",
       "      <th>0</th>\n",
       "      <td>0</td>\n",
       "      <td>A060001001</td>\n",
       "      <td>A060000001</td>\n",
       "      <td>1</td>\n",
       "      <td>2020-03-24 00:17:11</td>\n",
       "      <td>7224</td>\n",
       "      <td>6</td>\n",
       "      <td>001</td>\n",
       "      <td>001</td>\n",
       "      <td>0</td>\n",
       "      <td>0 days 00:00:03</td>\n",
       "      <td>3.0</td>\n",
       "      <td>2020</td>\n",
       "      <td>3</td>\n",
       "      <td>24</td>\n",
       "      <td>0</td>\n",
       "    </tr>\n",
       "    <tr>\n",
       "      <th>1</th>\n",
       "      <td>0</td>\n",
       "      <td>A060001002</td>\n",
       "      <td>A060000001</td>\n",
       "      <td>1</td>\n",
       "      <td>2020-03-24 00:17:14</td>\n",
       "      <td>7225</td>\n",
       "      <td>6</td>\n",
       "      <td>001</td>\n",
       "      <td>002</td>\n",
       "      <td>2020-03-24 00:17:11</td>\n",
       "      <td>0 days 00:00:08</td>\n",
       "      <td>8.0</td>\n",
       "      <td>2020</td>\n",
       "      <td>3</td>\n",
       "      <td>24</td>\n",
       "      <td>0</td>\n",
       "    </tr>\n",
       "    <tr>\n",
       "      <th>2</th>\n",
       "      <td>0</td>\n",
       "      <td>A060001003</td>\n",
       "      <td>A060000001</td>\n",
       "      <td>1</td>\n",
       "      <td>2020-03-24 00:17:22</td>\n",
       "      <td>7225</td>\n",
       "      <td>6</td>\n",
       "      <td>001</td>\n",
       "      <td>003</td>\n",
       "      <td>2020-03-24 00:17:14</td>\n",
       "      <td>0 days 00:00:07</td>\n",
       "      <td>7.0</td>\n",
       "      <td>2020</td>\n",
       "      <td>3</td>\n",
       "      <td>24</td>\n",
       "      <td>0</td>\n",
       "    </tr>\n",
       "    <tr>\n",
       "      <th>3</th>\n",
       "      <td>0</td>\n",
       "      <td>A060001004</td>\n",
       "      <td>A060000001</td>\n",
       "      <td>1</td>\n",
       "      <td>2020-03-24 00:17:29</td>\n",
       "      <td>7225</td>\n",
       "      <td>6</td>\n",
       "      <td>001</td>\n",
       "      <td>004</td>\n",
       "      <td>2020-03-24 00:17:22</td>\n",
       "      <td>0 days 00:00:07</td>\n",
       "      <td>7.0</td>\n",
       "      <td>2020</td>\n",
       "      <td>3</td>\n",
       "      <td>24</td>\n",
       "      <td>0</td>\n",
       "    </tr>\n",
       "    <tr>\n",
       "      <th>4</th>\n",
       "      <td>0</td>\n",
       "      <td>A060001005</td>\n",
       "      <td>A060000001</td>\n",
       "      <td>1</td>\n",
       "      <td>2020-03-24 00:17:36</td>\n",
       "      <td>7225</td>\n",
       "      <td>6</td>\n",
       "      <td>001</td>\n",
       "      <td>005</td>\n",
       "      <td>2020-03-24 00:17:29</td>\n",
       "      <td>0 days 00:00:11</td>\n",
       "      <td>11.0</td>\n",
       "      <td>2020</td>\n",
       "      <td>3</td>\n",
       "      <td>24</td>\n",
       "      <td>0</td>\n",
       "    </tr>\n",
       "    <tr>\n",
       "      <th>...</th>\n",
       "      <td>...</td>\n",
       "      <td>...</td>\n",
       "      <td>...</td>\n",
       "      <td>...</td>\n",
       "      <td>...</td>\n",
       "      <td>...</td>\n",
       "      <td>...</td>\n",
       "      <td>...</td>\n",
       "      <td>...</td>\n",
       "      <td>...</td>\n",
       "      <td>...</td>\n",
       "      <td>...</td>\n",
       "      <td>...</td>\n",
       "      <td>...</td>\n",
       "      <td>...</td>\n",
       "      <td>...</td>\n",
       "    </tr>\n",
       "    <tr>\n",
       "      <th>2266581</th>\n",
       "      <td>7441</td>\n",
       "      <td>A030071005</td>\n",
       "      <td>A030000071</td>\n",
       "      <td>0</td>\n",
       "      <td>2020-06-05 06:50:21</td>\n",
       "      <td>438</td>\n",
       "      <td>3</td>\n",
       "      <td>071</td>\n",
       "      <td>005</td>\n",
       "      <td>2020-06-05 06:49:57</td>\n",
       "      <td>76 days 18:16:18</td>\n",
       "      <td>65778.0</td>\n",
       "      <td>2020</td>\n",
       "      <td>6</td>\n",
       "      <td>5</td>\n",
       "      <td>6</td>\n",
       "    </tr>\n",
       "    <tr>\n",
       "      <th>2266582</th>\n",
       "      <td>7441</td>\n",
       "      <td>A040165001</td>\n",
       "      <td>A040000165</td>\n",
       "      <td>1</td>\n",
       "      <td>2020-08-21 01:06:39</td>\n",
       "      <td>8836</td>\n",
       "      <td>4</td>\n",
       "      <td>165</td>\n",
       "      <td>001</td>\n",
       "      <td>2020-06-05 06:50:21</td>\n",
       "      <td>0 days 00:00:11</td>\n",
       "      <td>11.0</td>\n",
       "      <td>2020</td>\n",
       "      <td>8</td>\n",
       "      <td>21</td>\n",
       "      <td>1</td>\n",
       "    </tr>\n",
       "    <tr>\n",
       "      <th>2266583</th>\n",
       "      <td>7441</td>\n",
       "      <td>A040165002</td>\n",
       "      <td>A040000165</td>\n",
       "      <td>1</td>\n",
       "      <td>2020-08-21 01:06:50</td>\n",
       "      <td>8836</td>\n",
       "      <td>4</td>\n",
       "      <td>165</td>\n",
       "      <td>002</td>\n",
       "      <td>2020-08-21 01:06:39</td>\n",
       "      <td>0 days 00:00:46</td>\n",
       "      <td>46.0</td>\n",
       "      <td>2020</td>\n",
       "      <td>8</td>\n",
       "      <td>21</td>\n",
       "      <td>1</td>\n",
       "    </tr>\n",
       "    <tr>\n",
       "      <th>2266584</th>\n",
       "      <td>7441</td>\n",
       "      <td>A040165003</td>\n",
       "      <td>A040000165</td>\n",
       "      <td>1</td>\n",
       "      <td>2020-08-21 01:07:36</td>\n",
       "      <td>8836</td>\n",
       "      <td>4</td>\n",
       "      <td>165</td>\n",
       "      <td>003</td>\n",
       "      <td>2020-08-21 01:06:50</td>\n",
       "      <td>0 days 00:01:13</td>\n",
       "      <td>73.0</td>\n",
       "      <td>2020</td>\n",
       "      <td>8</td>\n",
       "      <td>21</td>\n",
       "      <td>1</td>\n",
       "    </tr>\n",
       "    <tr>\n",
       "      <th>2266585</th>\n",
       "      <td>7441</td>\n",
       "      <td>A040165004</td>\n",
       "      <td>A040000165</td>\n",
       "      <td>1</td>\n",
       "      <td>2020-08-21 01:08:49</td>\n",
       "      <td>8836</td>\n",
       "      <td>4</td>\n",
       "      <td>165</td>\n",
       "      <td>004</td>\n",
       "      <td>2020-08-21 01:07:36</td>\n",
       "      <td>NaT</td>\n",
       "      <td>NaN</td>\n",
       "      <td>2020</td>\n",
       "      <td>8</td>\n",
       "      <td>21</td>\n",
       "      <td>1</td>\n",
       "    </tr>\n",
       "  </tbody>\n",
       "</table>\n",
       "<p>2266586 rows × 16 columns</p>\n",
       "</div>"
      ],
      "text/plain": [
       "         userID assessmentItemID      testId  answerCode           Timestamp  \\\n",
       "0             0       A060001001  A060000001           1 2020-03-24 00:17:11   \n",
       "1             0       A060001002  A060000001           1 2020-03-24 00:17:14   \n",
       "2             0       A060001003  A060000001           1 2020-03-24 00:17:22   \n",
       "3             0       A060001004  A060000001           1 2020-03-24 00:17:29   \n",
       "4             0       A060001005  A060000001           1 2020-03-24 00:17:36   \n",
       "...         ...              ...         ...         ...                 ...   \n",
       "2266581    7441       A030071005  A030000071           0 2020-06-05 06:50:21   \n",
       "2266582    7441       A040165001  A040000165           1 2020-08-21 01:06:39   \n",
       "2266583    7441       A040165002  A040000165           1 2020-08-21 01:06:50   \n",
       "2266584    7441       A040165003  A040000165           1 2020-08-21 01:07:36   \n",
       "2266585    7441       A040165004  A040000165           1 2020-08-21 01:08:49   \n",
       "\n",
       "         KnowledgeTag test_category test_seq_id num_in_test  \\\n",
       "0                7224             6         001         001   \n",
       "1                7225             6         001         002   \n",
       "2                7225             6         001         003   \n",
       "3                7225             6         001         004   \n",
       "4                7225             6         001         005   \n",
       "...               ...           ...         ...         ...   \n",
       "2266581           438             3         071         005   \n",
       "2266582          8836             4         165         001   \n",
       "2266583          8836             4         165         002   \n",
       "2266584          8836             4         165         003   \n",
       "2266585          8836             4         165         004   \n",
       "\n",
       "               ex_solve_time      solved_time  solved_time(s)  year  month  \\\n",
       "0                          0  0 days 00:00:03             3.0  2020      3   \n",
       "1        2020-03-24 00:17:11  0 days 00:00:08             8.0  2020      3   \n",
       "2        2020-03-24 00:17:14  0 days 00:00:07             7.0  2020      3   \n",
       "3        2020-03-24 00:17:22  0 days 00:00:07             7.0  2020      3   \n",
       "4        2020-03-24 00:17:29  0 days 00:00:11            11.0  2020      3   \n",
       "...                      ...              ...             ...   ...    ...   \n",
       "2266581  2020-06-05 06:49:57 76 days 18:16:18         65778.0  2020      6   \n",
       "2266582  2020-06-05 06:50:21  0 days 00:00:11            11.0  2020      8   \n",
       "2266583  2020-08-21 01:06:39  0 days 00:00:46            46.0  2020      8   \n",
       "2266584  2020-08-21 01:06:50  0 days 00:01:13            73.0  2020      8   \n",
       "2266585  2020-08-21 01:07:36              NaT             NaN  2020      8   \n",
       "\n",
       "         day  hour  \n",
       "0         24     0  \n",
       "1         24     0  \n",
       "2         24     0  \n",
       "3         24     0  \n",
       "4         24     0  \n",
       "...      ...   ...  \n",
       "2266581    5     6  \n",
       "2266582   21     1  \n",
       "2266583   21     1  \n",
       "2266584   21     1  \n",
       "2266585   21     1  \n",
       "\n",
       "[2266586 rows x 16 columns]"
      ]
     },
     "execution_count": 405,
     "metadata": {},
     "output_type": "execute_result"
    }
   ],
   "source": [
    "ana_assessmentItemID_with_time"
   ]
  },
  {
   "cell_type": "code",
   "execution_count": 406,
   "id": "56f04f80-c923-4a8d-bed6-1049e7cf6ec2",
   "metadata": {},
   "outputs": [],
   "source": [
    "ana_assessmentItemID_with_time.loc[ ana_assessmentItemID_with_time[\"solved_time(s)\"] > 14400,\"solved_time(s)\"] = np.NaN"
   ]
  },
  {
   "cell_type": "code",
   "execution_count": 410,
   "id": "7a09b891-ffba-4a9d-9a1a-cc3aa3ba2e86",
   "metadata": {},
   "outputs": [],
   "source": [
    "fill_mean_func = lambda g: g[\"solved_time(s)\"].fillna(g[\"solved_time(s)\"].median())"
   ]
  },
  {
   "cell_type": "code",
   "execution_count": 411,
   "id": "95f5a178-c4f2-4551-920a-f3350a45dc43",
   "metadata": {},
   "outputs": [],
   "source": [
    "ana_assessmentItemID_with_time[\"solved_time(s)\"] = ana_assessmentItemID_with_time.groupby('userID').apply(fill_mean_func).reset_index()[\"solved_time(s)\"]"
   ]
  },
  {
   "cell_type": "code",
   "execution_count": 412,
   "id": "662d00fe-529d-4460-ad4a-35bdc7ddf386",
   "metadata": {},
   "outputs": [],
   "source": [
    "tttt = ana_assessmentItemID_with_time.groupby('userID').agg({ 'testId' : 'count' , 'solved_time(s)' : 'mean', 'answerCode' : percentile}).reset_index()"
   ]
  },
  {
   "cell_type": "markdown",
   "id": "a16f819e-065b-42b8-b228-b14e86eb3352",
   "metadata": {},
   "source": [
    "#### 문제 풀이 시간의 평균과 정답률은 크게 관계없어 보인다. "
   ]
  },
  {
   "cell_type": "code",
   "execution_count": 413,
   "id": "dddc6590-83ad-4b0a-8243-4a83e43800a0",
   "metadata": {},
   "outputs": [
    {
     "data": {
      "text/plain": [
       "<AxesSubplot: xlabel='solved_time(s)', ylabel='answerCode'>"
      ]
     },
     "execution_count": 413,
     "metadata": {},
     "output_type": "execute_result"
    },
    {
     "data": {
      "image/png": "[encoded data removed]",
      "text/plain": [
       "<Figure size 640x480 with 1 Axes>"
      ]
     },
     "metadata": {},
     "output_type": "display_data"
    }
   ],
   "source": [
    "sns.set_style('whitegrid')\n",
    "sns.scatterplot(x=tttt[\"solved_time(s)\"], y=tttt[\"answerCode\"])"
   ]
  },
  {
   "cell_type": "markdown",
   "id": "7bf894ba-24cb-4a9e-8bbb-33af80268fe7",
   "metadata": {},
   "source": [
    "#### 4 - 2 . 시간 대 별 정답률\n",
    "- 크게 관계 없어 보인다 "
   ]
  },
  {
   "cell_type": "code",
   "execution_count": 414,
   "id": "db6b21ac-e8cc-4e41-881c-bfb825d31647",
   "metadata": {},
   "outputs": [],
   "source": [
    "edu_time_df = ana_assessmentItemID_with_time.copy()\n",
    "\n",
    "# 시간대별 정답률\n",
    "hour_dict = edu_time_df.groupby(['hour'])['answerCode'].mean().to_dict()\n",
    "edu_time_df['correct_per_hour'] = edu_time_df['hour'].map(hour_dict)\n",
    "\n",
    "ttttt = edu_time_df.groupby(['hour'])[['answerCode', 'correct_per_hour']].mean().reset_index()\n"
   ]
  },
  {
   "cell_type": "code",
   "execution_count": 415,
   "id": "c211486d-ea63-4514-8ce5-e10c00f2ee18",
   "metadata": {},
   "outputs": [
    {
     "data": {
      "text/plain": [
       "<AxesSubplot: xlabel='hour', ylabel='answerCode'>"
      ]
     },
     "execution_count": 415,
     "metadata": {},
     "output_type": "execute_result"
    },
    {
     "data": {
      "image/png": "[encoded data removed]",
      "text/plain": [
       "<Figure size 640x480 with 1 Axes>"
      ]
     },
     "metadata": {},
     "output_type": "display_data"
    }
   ],
   "source": [
    "sns.set_style('whitegrid')\n",
    "sns.scatterplot(x=ttttt[\"hour\"], y=tttt[\"answerCode\"])"
   ]
  },
  {
   "cell_type": "markdown",
   "id": "3b9574b7-9399-4f31-b894-87a0e037a331",
   "metadata": {},
   "source": [
    "#### 4 - 2 . 사용자가 야행성인지에 대한 여부 "
   ]
  },
  {
   "cell_type": "code",
   "execution_count": 416,
   "id": "bca84d58-d5e1-4ad1-a3d9-3fabfa36b1f9",
   "metadata": {},
   "outputs": [
    {
     "data": {
      "text/html": [
       "<div>\n",
       "<style scoped>\n",
       "    .dataframe tbody tr th:only-of-type {\n",
       "        vertical-align: middle;\n",
       "    }\n",
       "\n",
       "    .dataframe tbody tr th {\n",
       "        vertical-align: top;\n",
       "    }\n",
       "\n",
       "    .dataframe thead th {\n",
       "        text-align: right;\n",
       "    }\n",
       "</style>\n",
       "<table border=\"1\" class=\"dataframe\">\n",
       "  <thead>\n",
       "    <tr style=\"text-align: right;\">\n",
       "      <th></th>\n",
       "      <th>userID</th>\n",
       "      <th>hour</th>\n",
       "      <th>hour_mode</th>\n",
       "      <th>is_night</th>\n",
       "    </tr>\n",
       "  </thead>\n",
       "  <tbody>\n",
       "    <tr>\n",
       "      <th>0</th>\n",
       "      <td>0</td>\n",
       "      <td>0</td>\n",
       "      <td>1</td>\n",
       "      <td>True</td>\n",
       "    </tr>\n",
       "    <tr>\n",
       "      <th>1</th>\n",
       "      <td>0</td>\n",
       "      <td>0</td>\n",
       "      <td>1</td>\n",
       "      <td>True</td>\n",
       "    </tr>\n",
       "    <tr>\n",
       "      <th>2</th>\n",
       "      <td>0</td>\n",
       "      <td>0</td>\n",
       "      <td>1</td>\n",
       "      <td>True</td>\n",
       "    </tr>\n",
       "    <tr>\n",
       "      <th>3</th>\n",
       "      <td>0</td>\n",
       "      <td>0</td>\n",
       "      <td>1</td>\n",
       "      <td>True</td>\n",
       "    </tr>\n",
       "    <tr>\n",
       "      <th>4</th>\n",
       "      <td>0</td>\n",
       "      <td>0</td>\n",
       "      <td>1</td>\n",
       "      <td>True</td>\n",
       "    </tr>\n",
       "    <tr>\n",
       "      <th>...</th>\n",
       "      <td>...</td>\n",
       "      <td>...</td>\n",
       "      <td>...</td>\n",
       "      <td>...</td>\n",
       "    </tr>\n",
       "    <tr>\n",
       "      <th>2266581</th>\n",
       "      <td>7441</td>\n",
       "      <td>6</td>\n",
       "      <td>6</td>\n",
       "      <td>False</td>\n",
       "    </tr>\n",
       "    <tr>\n",
       "      <th>2266582</th>\n",
       "      <td>7441</td>\n",
       "      <td>1</td>\n",
       "      <td>6</td>\n",
       "      <td>False</td>\n",
       "    </tr>\n",
       "    <tr>\n",
       "      <th>2266583</th>\n",
       "      <td>7441</td>\n",
       "      <td>1</td>\n",
       "      <td>6</td>\n",
       "      <td>False</td>\n",
       "    </tr>\n",
       "    <tr>\n",
       "      <th>2266584</th>\n",
       "      <td>7441</td>\n",
       "      <td>1</td>\n",
       "      <td>6</td>\n",
       "      <td>False</td>\n",
       "    </tr>\n",
       "    <tr>\n",
       "      <th>2266585</th>\n",
       "      <td>7441</td>\n",
       "      <td>1</td>\n",
       "      <td>6</td>\n",
       "      <td>False</td>\n",
       "    </tr>\n",
       "  </tbody>\n",
       "</table>\n",
       "<p>2266586 rows × 4 columns</p>\n",
       "</div>"
      ],
      "text/plain": [
       "         userID  hour  hour_mode  is_night\n",
       "0             0     0          1      True\n",
       "1             0     0          1      True\n",
       "2             0     0          1      True\n",
       "3             0     0          1      True\n",
       "4             0     0          1      True\n",
       "...         ...   ...        ...       ...\n",
       "2266581    7441     6          6     False\n",
       "2266582    7441     1          6     False\n",
       "2266583    7441     1          6     False\n",
       "2266584    7441     1          6     False\n",
       "2266585    7441     1          6     False\n",
       "\n",
       "[2266586 rows x 4 columns]"
      ]
     },
     "execution_count": 416,
     "metadata": {},
     "output_type": "execute_result"
    }
   ],
   "source": [
    "edu_time_df = ana_assessmentItemID_with_time.copy()\n",
    "\n",
    "# 사용자의 주 활동 시간\n",
    "mode_dict = edu_time_df.groupby(['userID'])['hour'].agg(lambda x : pd.Series.mode(x)[0]).to_dict()\n",
    "edu_time_df['hour_mode'] = edu_time_df['userID'].map(mode_dict)\n",
    "\n",
    "# 사용자의 야행성 여부\n",
    "edu_time_df['is_night'] = edu_time_df['hour_mode'] > 22\n",
    "edu_time_df['is_night'] = edu_time_df['hour_mode'] < 5\n",
    "\n",
    "edu_time_df[['userID', 'hour', 'hour_mode', 'is_night']]\n"
   ]
  },
  {
   "cell_type": "code",
   "execution_count": 417,
   "id": "9af6543c-f8c4-4a06-8e72-980407838a61",
   "metadata": {},
   "outputs": [
    {
     "data": {
      "text/html": [
       "<div>\n",
       "<style scoped>\n",
       "    .dataframe tbody tr th:only-of-type {\n",
       "        vertical-align: middle;\n",
       "    }\n",
       "\n",
       "    .dataframe tbody tr th {\n",
       "        vertical-align: top;\n",
       "    }\n",
       "\n",
       "    .dataframe thead th {\n",
       "        text-align: right;\n",
       "    }\n",
       "</style>\n",
       "<table border=\"1\" class=\"dataframe\">\n",
       "  <thead>\n",
       "    <tr style=\"text-align: right;\">\n",
       "      <th></th>\n",
       "      <th>userID</th>\n",
       "      <th>answerCode</th>\n",
       "    </tr>\n",
       "    <tr>\n",
       "      <th>is_night</th>\n",
       "      <th></th>\n",
       "      <th></th>\n",
       "    </tr>\n",
       "  </thead>\n",
       "  <tbody>\n",
       "    <tr>\n",
       "      <th>False</th>\n",
       "      <td>1611374</td>\n",
       "      <td>0.660598</td>\n",
       "    </tr>\n",
       "    <tr>\n",
       "      <th>True</th>\n",
       "      <td>655212</td>\n",
       "      <td>0.639082</td>\n",
       "    </tr>\n",
       "  </tbody>\n",
       "</table>\n",
       "</div>"
      ],
      "text/plain": [
       "           userID  answerCode\n",
       "is_night                     \n",
       "False     1611374    0.660598\n",
       "True       655212    0.639082"
      ]
     },
     "execution_count": 417,
     "metadata": {},
     "output_type": "execute_result"
    }
   ],
   "source": [
    "edu_time_df.groupby('is_night').agg({'userID':'count','answerCode':percentile})"
   ]
  },
  {
   "cell_type": "code",
   "execution_count": 418,
   "id": "a28a3c8c-328d-4def-b688-3603919e310d",
   "metadata": {},
   "outputs": [],
   "source": [
    "#### 4 - 3 . 문제풀이시간 정규화"
   ]
  },
  {
   "cell_type": "code",
   "execution_count": 419,
   "id": "83e93552-60a2-44f1-971e-34b1efa68781",
   "metadata": {},
   "outputs": [
    {
     "data": {
      "text/html": [
       "<div>\n",
       "<style scoped>\n",
       "    .dataframe tbody tr th:only-of-type {\n",
       "        vertical-align: middle;\n",
       "    }\n",
       "\n",
       "    .dataframe tbody tr th {\n",
       "        vertical-align: top;\n",
       "    }\n",
       "\n",
       "    .dataframe thead th {\n",
       "        text-align: right;\n",
       "    }\n",
       "</style>\n",
       "<table border=\"1\" class=\"dataframe\">\n",
       "  <thead>\n",
       "    <tr style=\"text-align: right;\">\n",
       "      <th></th>\n",
       "      <th>userID</th>\n",
       "      <th>solved_time(s)</th>\n",
       "      <th>normalized_time</th>\n",
       "    </tr>\n",
       "  </thead>\n",
       "  <tbody>\n",
       "    <tr>\n",
       "      <th>0</th>\n",
       "      <td>0</td>\n",
       "      <td>3.0</td>\n",
       "      <td>-0.211533</td>\n",
       "    </tr>\n",
       "    <tr>\n",
       "      <th>1</th>\n",
       "      <td>0</td>\n",
       "      <td>8.0</td>\n",
       "      <td>-0.207310</td>\n",
       "    </tr>\n",
       "    <tr>\n",
       "      <th>2</th>\n",
       "      <td>0</td>\n",
       "      <td>7.0</td>\n",
       "      <td>-0.208155</td>\n",
       "    </tr>\n",
       "    <tr>\n",
       "      <th>3</th>\n",
       "      <td>0</td>\n",
       "      <td>7.0</td>\n",
       "      <td>-0.208155</td>\n",
       "    </tr>\n",
       "    <tr>\n",
       "      <th>4</th>\n",
       "      <td>0</td>\n",
       "      <td>11.0</td>\n",
       "      <td>-0.204777</td>\n",
       "    </tr>\n",
       "    <tr>\n",
       "      <th>...</th>\n",
       "      <td>...</td>\n",
       "      <td>...</td>\n",
       "      <td>...</td>\n",
       "    </tr>\n",
       "    <tr>\n",
       "      <th>2266581</th>\n",
       "      <td>7441</td>\n",
       "      <td>40.0</td>\n",
       "      <td>-0.239493</td>\n",
       "    </tr>\n",
       "    <tr>\n",
       "      <th>2266582</th>\n",
       "      <td>7441</td>\n",
       "      <td>11.0</td>\n",
       "      <td>-1.132458</td>\n",
       "    </tr>\n",
       "    <tr>\n",
       "      <th>2266583</th>\n",
       "      <td>7441</td>\n",
       "      <td>46.0</td>\n",
       "      <td>-0.054741</td>\n",
       "    </tr>\n",
       "    <tr>\n",
       "      <th>2266584</th>\n",
       "      <td>7441</td>\n",
       "      <td>73.0</td>\n",
       "      <td>0.776640</td>\n",
       "    </tr>\n",
       "    <tr>\n",
       "      <th>2266585</th>\n",
       "      <td>7441</td>\n",
       "      <td>40.0</td>\n",
       "      <td>-0.239493</td>\n",
       "    </tr>\n",
       "  </tbody>\n",
       "</table>\n",
       "<p>2266586 rows × 3 columns</p>\n",
       "</div>"
      ],
      "text/plain": [
       "         userID  solved_time(s)  normalized_time\n",
       "0             0             3.0        -0.211533\n",
       "1             0             8.0        -0.207310\n",
       "2             0             7.0        -0.208155\n",
       "3             0             7.0        -0.208155\n",
       "4             0            11.0        -0.204777\n",
       "...         ...             ...              ...\n",
       "2266581    7441            40.0        -0.239493\n",
       "2266582    7441            11.0        -1.132458\n",
       "2266583    7441            46.0        -0.054741\n",
       "2266584    7441            73.0         0.776640\n",
       "2266585    7441            40.0        -0.239493\n",
       "\n",
       "[2266586 rows x 3 columns]"
      ]
     },
     "execution_count": 419,
     "metadata": {},
     "output_type": "execute_result"
    }
   ],
   "source": [
    "edu_custom_df = ana_assessmentItemID_with_time.copy()\n",
    "\n",
    "# custom 함수 적용\n",
    "# time 만 transform \n",
    "edu_custom_df['normalized_time'] = edu_custom_df.groupby('userID')['solved_time(s)'].transform(lambda x : ( x - x.mean() ) / x.std())\n",
    "\n",
    "edu_custom_df[['userID', 'solved_time(s)', 'normalized_time']]\n",
    "\n"
   ]
  },
  {
   "cell_type": "code",
   "execution_count": 428,
   "id": "ae683ea6-1cdd-4745-b46c-ae15033f6167",
   "metadata": {},
   "outputs": [
    {
     "name": "stdout",
     "output_type": "stream",
     "text": [
      "userID         \n",
      "0       0         -250.467114\n",
      "        1         -245.467114\n",
      "        2         -246.467114\n",
      "        3         -246.467114\n",
      "        4         -242.467114\n",
      "                      ...    \n",
      "7441    2266581     -7.777778\n",
      "        2266582    -36.777778\n",
      "        2266583     -1.777778\n",
      "        2266584     25.222222\n",
      "        2266585     -7.777778\n",
      "Name: solved_time(s), Length: 2266586, dtype: float64\n"
     ]
    },
    {
     "data": {
      "text/html": [
       "<div>\n",
       "<style scoped>\n",
       "    .dataframe tbody tr th:only-of-type {\n",
       "        vertical-align: middle;\n",
       "    }\n",
       "\n",
       "    .dataframe tbody tr th {\n",
       "        vertical-align: top;\n",
       "    }\n",
       "\n",
       "    .dataframe thead th {\n",
       "        text-align: right;\n",
       "    }\n",
       "</style>\n",
       "<table border=\"1\" class=\"dataframe\">\n",
       "  <thead>\n",
       "    <tr style=\"text-align: right;\">\n",
       "      <th></th>\n",
       "      <th>userID</th>\n",
       "      <th>solved_time(s)</th>\n",
       "      <th>relative_time</th>\n",
       "    </tr>\n",
       "  </thead>\n",
       "  <tbody>\n",
       "    <tr>\n",
       "      <th>0</th>\n",
       "      <td>0</td>\n",
       "      <td>3.0</td>\n",
       "      <td>-250.467114</td>\n",
       "    </tr>\n",
       "    <tr>\n",
       "      <th>1</th>\n",
       "      <td>0</td>\n",
       "      <td>8.0</td>\n",
       "      <td>-245.467114</td>\n",
       "    </tr>\n",
       "    <tr>\n",
       "      <th>2</th>\n",
       "      <td>0</td>\n",
       "      <td>7.0</td>\n",
       "      <td>-246.467114</td>\n",
       "    </tr>\n",
       "    <tr>\n",
       "      <th>3</th>\n",
       "      <td>0</td>\n",
       "      <td>7.0</td>\n",
       "      <td>-246.467114</td>\n",
       "    </tr>\n",
       "    <tr>\n",
       "      <th>4</th>\n",
       "      <td>0</td>\n",
       "      <td>11.0</td>\n",
       "      <td>-242.467114</td>\n",
       "    </tr>\n",
       "    <tr>\n",
       "      <th>...</th>\n",
       "      <td>...</td>\n",
       "      <td>...</td>\n",
       "      <td>...</td>\n",
       "    </tr>\n",
       "    <tr>\n",
       "      <th>2266581</th>\n",
       "      <td>7441</td>\n",
       "      <td>40.0</td>\n",
       "      <td>-7.777778</td>\n",
       "    </tr>\n",
       "    <tr>\n",
       "      <th>2266582</th>\n",
       "      <td>7441</td>\n",
       "      <td>11.0</td>\n",
       "      <td>-36.777778</td>\n",
       "    </tr>\n",
       "    <tr>\n",
       "      <th>2266583</th>\n",
       "      <td>7441</td>\n",
       "      <td>46.0</td>\n",
       "      <td>-1.777778</td>\n",
       "    </tr>\n",
       "    <tr>\n",
       "      <th>2266584</th>\n",
       "      <td>7441</td>\n",
       "      <td>73.0</td>\n",
       "      <td>25.222222</td>\n",
       "    </tr>\n",
       "    <tr>\n",
       "      <th>2266585</th>\n",
       "      <td>7441</td>\n",
       "      <td>40.0</td>\n",
       "      <td>-7.777778</td>\n",
       "    </tr>\n",
       "  </tbody>\n",
       "</table>\n",
       "<p>2266586 rows × 3 columns</p>\n",
       "</div>"
      ],
      "text/plain": [
       "         userID  solved_time(s)  relative_time\n",
       "0             0             3.0    -250.467114\n",
       "1             0             8.0    -245.467114\n",
       "2             0             7.0    -246.467114\n",
       "3             0             7.0    -246.467114\n",
       "4             0            11.0    -242.467114\n",
       "...         ...             ...            ...\n",
       "2266581    7441            40.0      -7.777778\n",
       "2266582    7441            11.0     -36.777778\n",
       "2266583    7441            46.0      -1.777778\n",
       "2266584    7441            73.0      25.222222\n",
       "2266585    7441            40.0      -7.777778\n",
       "\n",
       "[2266586 rows x 3 columns]"
      ]
     },
     "execution_count": 428,
     "metadata": {},
     "output_type": "execute_result"
    }
   ],
   "source": [
    "edu_custom_df = ana_assessmentItemID_with_time.copy()\n",
    "\n",
    "# custom 함수 적용\n",
    "# apply 를 이용하여 time column 을 직접 지정할 수 있다.\n",
    "print(edu_custom_df.groupby('userID').apply(lambda x : x['solved_time(s)'] - x['solved_time(s)'].mean()))\n",
    "edu_custom_df['relative_time'] = edu_custom_df.groupby('userID').apply(lambda x : x['solved_time(s)'] - x['solved_time(s)'].mean()).values\n",
    "\n",
    "edu_custom_df[['userID', 'solved_time(s)', 'relative_time']]\n"
   ]
  },
  {
   "cell_type": "markdown",
   "id": "c6e44b52-9bba-47da-8d08-ade9aef10d87",
   "metadata": {},
   "source": [
    "----"
   ]
  }
 ],
 "metadata": {
  "kernelspec": {
   "display_name": "dkt",
   "language": "python",
   "name": "dkt"
  },
  "language_info": {
   "codemirror_mode": {
    "name": "ipython",
    "version": 3
   },
   "file_extension": ".py",
   "mimetype": "text/x-python",
   "name": "python",
   "nbconvert_exporter": "python",
   "pygments_lexer": "ipython3",
   "version": "3.8.5"
  }
 },
 "nbformat": 4,
 "nbformat_minor": 5
}
